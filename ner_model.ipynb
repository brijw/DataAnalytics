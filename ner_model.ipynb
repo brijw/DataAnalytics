{
  "nbformat": 4,
  "nbformat_minor": 0,
  "metadata": {
    "colab": {
      "name": "ner_model.ipynb",
      "provenance": [],
      "collapsed_sections": [],
      "authorship_tag": "ABX9TyO/XjlnehECpcJCROVQqAKq",
      "include_colab_link": true
    },
    "kernelspec": {
      "name": "python3",
      "display_name": "Python 3"
    },
    "language_info": {
      "name": "python"
    }
  },
  "cells": [
    {
      "cell_type": "markdown",
      "metadata": {
        "id": "view-in-github",
        "colab_type": "text"
      },
      "source": [
        "<a href=\"https://colab.research.google.com/github/brijw/DataAnalytics/blob/main/ner_model.ipynb\" target=\"_parent\"><img src=\"https://colab.research.google.com/assets/colab-badge.svg\" alt=\"Open In Colab\"/></a>"
      ]
    },
    {
      "cell_type": "code",
      "execution_count": 1,
      "metadata": {
        "colab": {
          "base_uri": "https://localhost:8080/"
        },
        "id": "2ypmp0tEIoaI",
        "outputId": "edc52fb0-8863-468e-9174-078e7df0b350"
      },
      "outputs": [
        {
          "output_type": "stream",
          "name": "stdout",
          "text": [
            "Drive already mounted at /content/drive; to attempt to forcibly remount, call drive.mount(\"/content/drive\", force_remount=True).\n"
          ]
        }
      ],
      "source": [
        "#os is used to change the directory\n",
        "import os\n",
        "#spacy is used for the NER\n",
        "import spacy\n",
        "#pandas is used to read, edit, and write tabular data\n",
        "import pandas as pd\n",
        "\n",
        "\n",
        "from google.colab import drive\n",
        "\n",
        "# Accessing My Google Drive\n",
        "drive.mount('/content/drive')"
      ]
    },
    {
      "cell_type": "code",
      "source": [
        "data = pd.read_excel('/content/drive/MyDrive/Colab Notebooks/MSC/Analytics/Comments.xlsx')\n",
        "#docs = data['Comment']"
      ],
      "metadata": {
        "id": "NPYeXoX8T7H9"
      },
      "execution_count": 2,
      "outputs": []
    },
    {
      "cell_type": "code",
      "source": [
        "from spacy import displacy\n",
        "from collections import Counter\n",
        "import en_core_web_sm\n",
        "nlp = en_core_web_sm.load()"
      ],
      "metadata": {
        "id": "01ymzJJLUN_k"
      },
      "execution_count": 3,
      "outputs": []
    },
    {
      "cell_type": "code",
      "source": [
        "sourcefiledirectory = '/content/drive/MyDrive/Colab Notebooks/MSC/Analytics/'\n",
        "#changes the working directory to the directory specified above\n",
        "os.chdir(sourcefiledirectory)\n",
        "infilename = 'Copy of corpus.csv'"
      ],
      "metadata": {
        "id": "d3LhcBVuUWP6"
      },
      "execution_count": 4,
      "outputs": []
    },
    {
      "cell_type": "code",
      "source": [
        "\n",
        "\n",
        "#creates pandas dataframe with your specified input file, using the first row as a header\n",
        "df = pd.read_csv(infilename, header=0)\n",
        "#creates a new column, ner_text, with entities extracted from a column titled 'text'\n",
        "df['ner_text'] = df['Comment'].astype(str).apply(lambda x: list(nlp(x).ents))\n",
        "#prints the values from ner_text\n",
        "print(df['ner_text'])\n",
        "#creates a new column, ner_comments, with entities extracted from a column titled 'comments'\n",
        "df['ner_comments'] = df['Comment'].astype(str).apply(lambda x: list(nlp(x).ents))\n",
        "#prints the values from ner_comments\n",
        "print(df['ner_comments'])\n",
        "\n"
      ],
      "metadata": {
        "colab": {
          "base_uri": "https://localhost:8080/"
        },
        "id": "zd4JGsp2UoNC",
        "outputId": "bf08fab6-a914-4b20-b67a-1556b4f2eefa"
      },
      "execution_count": 5,
      "outputs": [
        {
          "output_type": "stream",
          "name": "stdout",
          "text": [
            "0                []\n",
            "1                []\n",
            "2                []\n",
            "3                []\n",
            "4       [(4, week)]\n",
            "           ...     \n",
            "3869             []\n",
            "3870             []\n",
            "3871             []\n",
            "3872             []\n",
            "3873             []\n",
            "Name: ner_text, Length: 3874, dtype: object\n",
            "0                []\n",
            "1                []\n",
            "2                []\n",
            "3                []\n",
            "4       [(4, week)]\n",
            "           ...     \n",
            "3869             []\n",
            "3870             []\n",
            "3871             []\n",
            "3872             []\n",
            "3873             []\n",
            "Name: ner_comments, Length: 3874, dtype: object\n"
          ]
        }
      ]
    },
    {
      "cell_type": "code",
      "source": [
        "df.head()"
      ],
      "metadata": {
        "colab": {
          "base_uri": "https://localhost:8080/",
          "height": 206
        },
        "id": "ngysj2WNW38F",
        "outputId": "79faefe1-48e4-4df3-cb15-ae879740a2dd"
      },
      "execution_count": 6,
      "outputs": [
        {
          "output_type": "execute_result",
          "data": {
            "text/plain": [
              "                                             Comment    Classes     ner_text  \\\n",
              "0                            djfjkdfjkjkffdk edited   Very Poor           []   \n",
              "1  faith exhibited enthusiasm taking project hand...  Very Poor           []   \n",
              "2  understood structure grail different component...  Very Poor           []   \n",
              "3  intern oriented ict setup infrastructure sorot...  Very Poor           []   \n",
              "4  student oriented organization structure develo...  Very Poor  [(4, week)]   \n",
              "\n",
              "  ner_comments  \n",
              "0           []  \n",
              "1           []  \n",
              "2           []  \n",
              "3           []  \n",
              "4  [(4, week)]  "
            ],
            "text/html": [
              "\n",
              "  <div id=\"df-18b5d5c7-3e06-442a-bb7f-f2276d21a7b2\">\n",
              "    <div class=\"colab-df-container\">\n",
              "      <div>\n",
              "<style scoped>\n",
              "    .dataframe tbody tr th:only-of-type {\n",
              "        vertical-align: middle;\n",
              "    }\n",
              "\n",
              "    .dataframe tbody tr th {\n",
              "        vertical-align: top;\n",
              "    }\n",
              "\n",
              "    .dataframe thead th {\n",
              "        text-align: right;\n",
              "    }\n",
              "</style>\n",
              "<table border=\"1\" class=\"dataframe\">\n",
              "  <thead>\n",
              "    <tr style=\"text-align: right;\">\n",
              "      <th></th>\n",
              "      <th>Comment</th>\n",
              "      <th>Classes</th>\n",
              "      <th>ner_text</th>\n",
              "      <th>ner_comments</th>\n",
              "    </tr>\n",
              "  </thead>\n",
              "  <tbody>\n",
              "    <tr>\n",
              "      <th>0</th>\n",
              "      <td>djfjkdfjkjkffdk edited</td>\n",
              "      <td>Very Poor</td>\n",
              "      <td>[]</td>\n",
              "      <td>[]</td>\n",
              "    </tr>\n",
              "    <tr>\n",
              "      <th>1</th>\n",
              "      <td>faith exhibited enthusiasm taking project hand...</td>\n",
              "      <td>Very Poor</td>\n",
              "      <td>[]</td>\n",
              "      <td>[]</td>\n",
              "    </tr>\n",
              "    <tr>\n",
              "      <th>2</th>\n",
              "      <td>understood structure grail different component...</td>\n",
              "      <td>Very Poor</td>\n",
              "      <td>[]</td>\n",
              "      <td>[]</td>\n",
              "    </tr>\n",
              "    <tr>\n",
              "      <th>3</th>\n",
              "      <td>intern oriented ict setup infrastructure sorot...</td>\n",
              "      <td>Very Poor</td>\n",
              "      <td>[]</td>\n",
              "      <td>[]</td>\n",
              "    </tr>\n",
              "    <tr>\n",
              "      <th>4</th>\n",
              "      <td>student oriented organization structure develo...</td>\n",
              "      <td>Very Poor</td>\n",
              "      <td>[(4, week)]</td>\n",
              "      <td>[(4, week)]</td>\n",
              "    </tr>\n",
              "  </tbody>\n",
              "</table>\n",
              "</div>\n",
              "      <button class=\"colab-df-convert\" onclick=\"convertToInteractive('df-18b5d5c7-3e06-442a-bb7f-f2276d21a7b2')\"\n",
              "              title=\"Convert this dataframe to an interactive table.\"\n",
              "              style=\"display:none;\">\n",
              "        \n",
              "  <svg xmlns=\"http://www.w3.org/2000/svg\" height=\"24px\"viewBox=\"0 0 24 24\"\n",
              "       width=\"24px\">\n",
              "    <path d=\"M0 0h24v24H0V0z\" fill=\"none\"/>\n",
              "    <path d=\"M18.56 5.44l.94 2.06.94-2.06 2.06-.94-2.06-.94-.94-2.06-.94 2.06-2.06.94zm-11 1L8.5 8.5l.94-2.06 2.06-.94-2.06-.94L8.5 2.5l-.94 2.06-2.06.94zm10 10l.94 2.06.94-2.06 2.06-.94-2.06-.94-.94-2.06-.94 2.06-2.06.94z\"/><path d=\"M17.41 7.96l-1.37-1.37c-.4-.4-.92-.59-1.43-.59-.52 0-1.04.2-1.43.59L10.3 9.45l-7.72 7.72c-.78.78-.78 2.05 0 2.83L4 21.41c.39.39.9.59 1.41.59.51 0 1.02-.2 1.41-.59l7.78-7.78 2.81-2.81c.8-.78.8-2.07 0-2.86zM5.41 20L4 18.59l7.72-7.72 1.47 1.35L5.41 20z\"/>\n",
              "  </svg>\n",
              "      </button>\n",
              "      \n",
              "  <style>\n",
              "    .colab-df-container {\n",
              "      display:flex;\n",
              "      flex-wrap:wrap;\n",
              "      gap: 12px;\n",
              "    }\n",
              "\n",
              "    .colab-df-convert {\n",
              "      background-color: #E8F0FE;\n",
              "      border: none;\n",
              "      border-radius: 50%;\n",
              "      cursor: pointer;\n",
              "      display: none;\n",
              "      fill: #1967D2;\n",
              "      height: 32px;\n",
              "      padding: 0 0 0 0;\n",
              "      width: 32px;\n",
              "    }\n",
              "\n",
              "    .colab-df-convert:hover {\n",
              "      background-color: #E2EBFA;\n",
              "      box-shadow: 0px 1px 2px rgba(60, 64, 67, 0.3), 0px 1px 3px 1px rgba(60, 64, 67, 0.15);\n",
              "      fill: #174EA6;\n",
              "    }\n",
              "\n",
              "    [theme=dark] .colab-df-convert {\n",
              "      background-color: #3B4455;\n",
              "      fill: #D2E3FC;\n",
              "    }\n",
              "\n",
              "    [theme=dark] .colab-df-convert:hover {\n",
              "      background-color: #434B5C;\n",
              "      box-shadow: 0px 1px 3px 1px rgba(0, 0, 0, 0.15);\n",
              "      filter: drop-shadow(0px 1px 2px rgba(0, 0, 0, 0.3));\n",
              "      fill: #FFFFFF;\n",
              "    }\n",
              "  </style>\n",
              "\n",
              "      <script>\n",
              "        const buttonEl =\n",
              "          document.querySelector('#df-18b5d5c7-3e06-442a-bb7f-f2276d21a7b2 button.colab-df-convert');\n",
              "        buttonEl.style.display =\n",
              "          google.colab.kernel.accessAllowed ? 'block' : 'none';\n",
              "\n",
              "        async function convertToInteractive(key) {\n",
              "          const element = document.querySelector('#df-18b5d5c7-3e06-442a-bb7f-f2276d21a7b2');\n",
              "          const dataTable =\n",
              "            await google.colab.kernel.invokeFunction('convertToInteractive',\n",
              "                                                     [key], {});\n",
              "          if (!dataTable) return;\n",
              "\n",
              "          const docLinkHtml = 'Like what you see? Visit the ' +\n",
              "            '<a target=\"_blank\" href=https://colab.research.google.com/notebooks/data_table.ipynb>data table notebook</a>'\n",
              "            + ' to learn more about interactive tables.';\n",
              "          element.innerHTML = '';\n",
              "          dataTable['output_type'] = 'display_data';\n",
              "          await google.colab.output.renderOutput(dataTable, element);\n",
              "          const docLink = document.createElement('div');\n",
              "          docLink.innerHTML = docLinkHtml;\n",
              "          element.appendChild(docLink);\n",
              "        }\n",
              "      </script>\n",
              "    </div>\n",
              "  </div>\n",
              "  "
            ]
          },
          "metadata": {},
          "execution_count": 6
        }
      ]
    },
    {
      "cell_type": "code",
      "source": [
        "outfilename = 'ner_'+infilename\n",
        "df.to_csv(outfilename)"
      ],
      "metadata": {
        "id": "v5A8d9l6W9GU"
      },
      "execution_count": 7,
      "outputs": []
    }
  ]
}