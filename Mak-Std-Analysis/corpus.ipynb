{
  "nbformat": 4,
  "nbformat_minor": 0,
  "metadata": {
    "colab": {
      "name": "corpus.ipynb",
      "provenance": [],
      "mount_file_id": "1So507g8rcTNrISZU79MammsNESrYOtkK",
      "authorship_tag": "ABX9TyOcLlPK9WlvH+44m7d9FgAw",
      "include_colab_link": true
    },
    "kernelspec": {
      "name": "python3",
      "display_name": "Python 3"
    },
    "language_info": {
      "name": "python"
    }
  },
  "cells": [
    {
      "cell_type": "markdown",
      "metadata": {
        "id": "view-in-github",
        "colab_type": "text"
      },
      "source": [
        "<a href=\"https://colab.research.google.com/github/brijw/DataAnalytics/blob/main/Mak-Std-Analysis/corpus.ipynb\" target=\"_parent\"><img src=\"https://colab.research.google.com/assets/colab-badge.svg\" alt=\"Open In Colab\"/></a>"
      ]
    },
    {
      "cell_type": "code",
      "execution_count": 4,
      "metadata": {
        "colab": {
          "base_uri": "https://localhost:8080/"
        },
        "id": "kC9wbrwK2UjU",
        "outputId": "d0e72126-feda-45b6-d31e-077c2f477f29"
      },
      "outputs": [
        {
          "output_type": "stream",
          "name": "stdout",
          "text": [
            "Drive already mounted at /content/drive; to attempt to forcibly remount, call drive.mount(\"/content/drive\", force_remount=True).\n"
          ]
        }
      ],
      "source": [
        "import numpy as np\n",
        "\n",
        "import os\n",
        "import pickle\n",
        "import time\n",
        "import pandas as pd\n",
        "\n",
        "\n",
        "\n",
        "from google.colab import drive\n",
        "\n",
        "# Accessing My Google Drive\n",
        "drive.mount('/content/drive')"
      ]
    },
    {
      "cell_type": "code",
      "source": [
        "os.chdir('/content/drive/MyDrive/Colab Notebooks/MSC/Analytics')"
      ],
      "metadata": {
        "id": "dEEWIhx12WDF"
      },
      "execution_count": 5,
      "outputs": []
    },
    {
      "cell_type": "code",
      "source": [
        "data = pd.read_excel('/content/drive/MyDrive/Colab Notebooks/MSC/Analytics/Comments.xlsx')\n",
        "docs = data['Comment']"
      ],
      "metadata": {
        "id": "MKcH_axq6Kuu"
      },
      "execution_count": 9,
      "outputs": []
    },
    {
      "cell_type": "code",
      "source": [
        "docs.head()"
      ],
      "metadata": {
        "colab": {
          "base_uri": "https://localhost:8080/"
        },
        "id": "J2GKBITZ6tA0",
        "outputId": "bdbaf9fb-58d9-45eb-9cfe-213ea252a130"
      },
      "execution_count": 10,
      "outputs": [
        {
          "output_type": "execute_result",
          "data": {
            "text/plain": [
              "0                               djfjkdfjkjkffdk edited\n",
              "1    Faith has exhibited enthusiasm in taking on th...\n",
              "2    He now has now understood the structure of gra...\n",
              "3    The Intern was oriented on ICT setup and Infra...\n",
              "4    The student was oriented on the organization s...\n",
              "Name: Comment, dtype: object"
            ]
          },
          "metadata": {},
          "execution_count": 10
        }
      ]
    },
    {
      "cell_type": "code",
      "source": [
        "SENTENCE_LENGTH_MAX = 32\n",
        "EMBEDDING_DIM=50"
      ],
      "metadata": {
        "id": "yyJP_VxO2WVn"
      },
      "execution_count": null,
      "outputs": []
    }
  ]
}