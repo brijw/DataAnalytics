{
  "nbformat": 4,
  "nbformat_minor": 0,
  "metadata": {
    "colab": {
      "name": "final_kmeans_corpus_v1.ipynb",
      "provenance": [],
      "collapsed_sections": [],
      "authorship_tag": "ABX9TyOrOyZzmlfwoimfuS5chZ/P",
      "include_colab_link": true
    },
    "kernelspec": {
      "name": "python3",
      "display_name": "Python 3"
    },
    "language_info": {
      "name": "python"
    }
  },
  "cells": [
    {
      "cell_type": "markdown",
      "metadata": {
        "id": "view-in-github",
        "colab_type": "text"
      },
      "source": [
        "<a href=\"https://colab.research.google.com/github/brijw/DataAnalytics/blob/main/final_kmeans_corpus_v1.ipynb\" target=\"_parent\"><img src=\"https://colab.research.google.com/assets/colab-badge.svg\" alt=\"Open In Colab\"/></a>"
      ]
    },
    {
      "cell_type": "code",
      "execution_count": 1,
      "metadata": {
        "id": "cVyJX7z6T560",
        "colab": {
          "base_uri": "https://localhost:8080/"
        },
        "outputId": "ed6b1188-cbbb-4975-b1fc-e5fef14f7eed"
      },
      "outputs": [
        {
          "output_type": "stream",
          "name": "stderr",
          "text": [
            "[nltk_data] Downloading package vader_lexicon to /root/nltk_data...\n"
          ]
        },
        {
          "output_type": "stream",
          "name": "stdout",
          "text": [
            "Mounted at /content/drive\n"
          ]
        }
      ],
      "source": [
        "import pandas as pd\n",
        "import numpy as np\n",
        "import re\n",
        "import plotly.graph_objects as go\n",
        "import pandas as pd\n",
        "import nltk\n",
        "import textblob\n",
        "import plotly.express as px\n",
        "from nltk.stem import WordNetLemmatizer\n",
        "from nltk.corpus import stopwords \n",
        "from nltk.tokenize import word_tokenize \n",
        "from sklearn.cluster import MiniBatchKMeans\n",
        "import seaborn as sns\n",
        "nltk.download('vader_lexicon')\n",
        "from sklearn.feature_extraction.text import TfidfVectorizer\n",
        "from sklearn.decomposition import PCA\n",
        "from sklearn.manifold import TSNE\n",
        "import matplotlib.pyplot as plt\n",
        "import matplotlib.cm as cm\n",
        "from nltk.sentiment.vader import SentimentIntensityAnalyzer as vad\n",
        "import plotly\n",
        "#plotly.offline.init_notebook_mode (connected = True)\n",
        "\n",
        "from google.colab import drive\n",
        "\n",
        "# Accessing My Google Drive\n",
        "drive.mount('/content/drive')"
      ]
    },
    {
      "cell_type": "code",
      "source": [
        "data = pd.read_excel('/content/drive/MyDrive/Colab Notebooks/MSC/Analytics/Comments.xlsx')\n",
        "#docs = data['Comment']"
      ],
      "metadata": {
        "id": "SuEdwEuuq0vv"
      },
      "execution_count": 2,
      "outputs": []
    },
    {
      "cell_type": "code",
      "source": [
        "data.head()"
      ],
      "metadata": {
        "colab": {
          "base_uri": "https://localhost:8080/",
          "height": 206
        },
        "id": "FP35Tkdaq0VR",
        "outputId": "00bb2665-b086-4d9c-e56e-d4c91e677f43"
      },
      "execution_count": 3,
      "outputs": [
        {
          "output_type": "execute_result",
          "data": {
            "text/plain": [
              "   comment_id                                            Comment\n",
              "0           5                             djfjkdfjkjkffdk edited\n",
              "1          41  Faith has exhibited enthusiasm in taking on th...\n",
              "2          49  He now has now understood the structure of gra...\n",
              "3          50  The Intern was oriented on ICT setup and Infra...\n",
              "4          52  The student was oriented on the organization s..."
            ],
            "text/html": [
              "\n",
              "  <div id=\"df-19ceb3fd-bc44-407a-aed8-6569964346a0\">\n",
              "    <div class=\"colab-df-container\">\n",
              "      <div>\n",
              "<style scoped>\n",
              "    .dataframe tbody tr th:only-of-type {\n",
              "        vertical-align: middle;\n",
              "    }\n",
              "\n",
              "    .dataframe tbody tr th {\n",
              "        vertical-align: top;\n",
              "    }\n",
              "\n",
              "    .dataframe thead th {\n",
              "        text-align: right;\n",
              "    }\n",
              "</style>\n",
              "<table border=\"1\" class=\"dataframe\">\n",
              "  <thead>\n",
              "    <tr style=\"text-align: right;\">\n",
              "      <th></th>\n",
              "      <th>comment_id</th>\n",
              "      <th>Comment</th>\n",
              "    </tr>\n",
              "  </thead>\n",
              "  <tbody>\n",
              "    <tr>\n",
              "      <th>0</th>\n",
              "      <td>5</td>\n",
              "      <td>djfjkdfjkjkffdk edited</td>\n",
              "    </tr>\n",
              "    <tr>\n",
              "      <th>1</th>\n",
              "      <td>41</td>\n",
              "      <td>Faith has exhibited enthusiasm in taking on th...</td>\n",
              "    </tr>\n",
              "    <tr>\n",
              "      <th>2</th>\n",
              "      <td>49</td>\n",
              "      <td>He now has now understood the structure of gra...</td>\n",
              "    </tr>\n",
              "    <tr>\n",
              "      <th>3</th>\n",
              "      <td>50</td>\n",
              "      <td>The Intern was oriented on ICT setup and Infra...</td>\n",
              "    </tr>\n",
              "    <tr>\n",
              "      <th>4</th>\n",
              "      <td>52</td>\n",
              "      <td>The student was oriented on the organization s...</td>\n",
              "    </tr>\n",
              "  </tbody>\n",
              "</table>\n",
              "</div>\n",
              "      <button class=\"colab-df-convert\" onclick=\"convertToInteractive('df-19ceb3fd-bc44-407a-aed8-6569964346a0')\"\n",
              "              title=\"Convert this dataframe to an interactive table.\"\n",
              "              style=\"display:none;\">\n",
              "        \n",
              "  <svg xmlns=\"http://www.w3.org/2000/svg\" height=\"24px\"viewBox=\"0 0 24 24\"\n",
              "       width=\"24px\">\n",
              "    <path d=\"M0 0h24v24H0V0z\" fill=\"none\"/>\n",
              "    <path d=\"M18.56 5.44l.94 2.06.94-2.06 2.06-.94-2.06-.94-.94-2.06-.94 2.06-2.06.94zm-11 1L8.5 8.5l.94-2.06 2.06-.94-2.06-.94L8.5 2.5l-.94 2.06-2.06.94zm10 10l.94 2.06.94-2.06 2.06-.94-2.06-.94-.94-2.06-.94 2.06-2.06.94z\"/><path d=\"M17.41 7.96l-1.37-1.37c-.4-.4-.92-.59-1.43-.59-.52 0-1.04.2-1.43.59L10.3 9.45l-7.72 7.72c-.78.78-.78 2.05 0 2.83L4 21.41c.39.39.9.59 1.41.59.51 0 1.02-.2 1.41-.59l7.78-7.78 2.81-2.81c.8-.78.8-2.07 0-2.86zM5.41 20L4 18.59l7.72-7.72 1.47 1.35L5.41 20z\"/>\n",
              "  </svg>\n",
              "      </button>\n",
              "      \n",
              "  <style>\n",
              "    .colab-df-container {\n",
              "      display:flex;\n",
              "      flex-wrap:wrap;\n",
              "      gap: 12px;\n",
              "    }\n",
              "\n",
              "    .colab-df-convert {\n",
              "      background-color: #E8F0FE;\n",
              "      border: none;\n",
              "      border-radius: 50%;\n",
              "      cursor: pointer;\n",
              "      display: none;\n",
              "      fill: #1967D2;\n",
              "      height: 32px;\n",
              "      padding: 0 0 0 0;\n",
              "      width: 32px;\n",
              "    }\n",
              "\n",
              "    .colab-df-convert:hover {\n",
              "      background-color: #E2EBFA;\n",
              "      box-shadow: 0px 1px 2px rgba(60, 64, 67, 0.3), 0px 1px 3px 1px rgba(60, 64, 67, 0.15);\n",
              "      fill: #174EA6;\n",
              "    }\n",
              "\n",
              "    [theme=dark] .colab-df-convert {\n",
              "      background-color: #3B4455;\n",
              "      fill: #D2E3FC;\n",
              "    }\n",
              "\n",
              "    [theme=dark] .colab-df-convert:hover {\n",
              "      background-color: #434B5C;\n",
              "      box-shadow: 0px 1px 3px 1px rgba(0, 0, 0, 0.15);\n",
              "      filter: drop-shadow(0px 1px 2px rgba(0, 0, 0, 0.3));\n",
              "      fill: #FFFFFF;\n",
              "    }\n",
              "  </style>\n",
              "\n",
              "      <script>\n",
              "        const buttonEl =\n",
              "          document.querySelector('#df-19ceb3fd-bc44-407a-aed8-6569964346a0 button.colab-df-convert');\n",
              "        buttonEl.style.display =\n",
              "          google.colab.kernel.accessAllowed ? 'block' : 'none';\n",
              "\n",
              "        async function convertToInteractive(key) {\n",
              "          const element = document.querySelector('#df-19ceb3fd-bc44-407a-aed8-6569964346a0');\n",
              "          const dataTable =\n",
              "            await google.colab.kernel.invokeFunction('convertToInteractive',\n",
              "                                                     [key], {});\n",
              "          if (!dataTable) return;\n",
              "\n",
              "          const docLinkHtml = 'Like what you see? Visit the ' +\n",
              "            '<a target=\"_blank\" href=https://colab.research.google.com/notebooks/data_table.ipynb>data table notebook</a>'\n",
              "            + ' to learn more about interactive tables.';\n",
              "          element.innerHTML = '';\n",
              "          dataTable['output_type'] = 'display_data';\n",
              "          await google.colab.output.renderOutput(dataTable, element);\n",
              "          const docLink = document.createElement('div');\n",
              "          docLink.innerHTML = docLinkHtml;\n",
              "          element.appendChild(docLink);\n",
              "        }\n",
              "      </script>\n",
              "    </div>\n",
              "  </div>\n",
              "  "
            ]
          },
          "metadata": {},
          "execution_count": 3
        }
      ]
    },
    {
      "cell_type": "code",
      "source": [
        "data.shape"
      ],
      "metadata": {
        "colab": {
          "base_uri": "https://localhost:8080/"
        },
        "id": "6ncNq5kntr95",
        "outputId": "75bef6c5-1cbc-4a08-add3-0115e91ae0ac"
      },
      "execution_count": 4,
      "outputs": [
        {
          "output_type": "execute_result",
          "data": {
            "text/plain": [
              "(3874, 2)"
            ]
          },
          "metadata": {},
          "execution_count": 4
        }
      ]
    },
    {
      "cell_type": "code",
      "source": [
        "data.describe()"
      ],
      "metadata": {
        "colab": {
          "base_uri": "https://localhost:8080/",
          "height": 300
        },
        "id": "puRBB2wntw6p",
        "outputId": "c0a71704-f13b-4ef8-8c4c-c9c053b74b6d"
      },
      "execution_count": 5,
      "outputs": [
        {
          "output_type": "execute_result",
          "data": {
            "text/plain": [
              "        comment_id\n",
              "count  3874.000000\n",
              "mean   3621.646618\n",
              "std    1969.848443\n",
              "min       5.000000\n",
              "25%    2022.250000\n",
              "50%    3358.000000\n",
              "75%    5129.500000\n",
              "max    7942.000000"
            ],
            "text/html": [
              "\n",
              "  <div id=\"df-a8bd8ce8-9434-4c58-a37c-a77a2110f6fc\">\n",
              "    <div class=\"colab-df-container\">\n",
              "      <div>\n",
              "<style scoped>\n",
              "    .dataframe tbody tr th:only-of-type {\n",
              "        vertical-align: middle;\n",
              "    }\n",
              "\n",
              "    .dataframe tbody tr th {\n",
              "        vertical-align: top;\n",
              "    }\n",
              "\n",
              "    .dataframe thead th {\n",
              "        text-align: right;\n",
              "    }\n",
              "</style>\n",
              "<table border=\"1\" class=\"dataframe\">\n",
              "  <thead>\n",
              "    <tr style=\"text-align: right;\">\n",
              "      <th></th>\n",
              "      <th>comment_id</th>\n",
              "    </tr>\n",
              "  </thead>\n",
              "  <tbody>\n",
              "    <tr>\n",
              "      <th>count</th>\n",
              "      <td>3874.000000</td>\n",
              "    </tr>\n",
              "    <tr>\n",
              "      <th>mean</th>\n",
              "      <td>3621.646618</td>\n",
              "    </tr>\n",
              "    <tr>\n",
              "      <th>std</th>\n",
              "      <td>1969.848443</td>\n",
              "    </tr>\n",
              "    <tr>\n",
              "      <th>min</th>\n",
              "      <td>5.000000</td>\n",
              "    </tr>\n",
              "    <tr>\n",
              "      <th>25%</th>\n",
              "      <td>2022.250000</td>\n",
              "    </tr>\n",
              "    <tr>\n",
              "      <th>50%</th>\n",
              "      <td>3358.000000</td>\n",
              "    </tr>\n",
              "    <tr>\n",
              "      <th>75%</th>\n",
              "      <td>5129.500000</td>\n",
              "    </tr>\n",
              "    <tr>\n",
              "      <th>max</th>\n",
              "      <td>7942.000000</td>\n",
              "    </tr>\n",
              "  </tbody>\n",
              "</table>\n",
              "</div>\n",
              "      <button class=\"colab-df-convert\" onclick=\"convertToInteractive('df-a8bd8ce8-9434-4c58-a37c-a77a2110f6fc')\"\n",
              "              title=\"Convert this dataframe to an interactive table.\"\n",
              "              style=\"display:none;\">\n",
              "        \n",
              "  <svg xmlns=\"http://www.w3.org/2000/svg\" height=\"24px\"viewBox=\"0 0 24 24\"\n",
              "       width=\"24px\">\n",
              "    <path d=\"M0 0h24v24H0V0z\" fill=\"none\"/>\n",
              "    <path d=\"M18.56 5.44l.94 2.06.94-2.06 2.06-.94-2.06-.94-.94-2.06-.94 2.06-2.06.94zm-11 1L8.5 8.5l.94-2.06 2.06-.94-2.06-.94L8.5 2.5l-.94 2.06-2.06.94zm10 10l.94 2.06.94-2.06 2.06-.94-2.06-.94-.94-2.06-.94 2.06-2.06.94z\"/><path d=\"M17.41 7.96l-1.37-1.37c-.4-.4-.92-.59-1.43-.59-.52 0-1.04.2-1.43.59L10.3 9.45l-7.72 7.72c-.78.78-.78 2.05 0 2.83L4 21.41c.39.39.9.59 1.41.59.51 0 1.02-.2 1.41-.59l7.78-7.78 2.81-2.81c.8-.78.8-2.07 0-2.86zM5.41 20L4 18.59l7.72-7.72 1.47 1.35L5.41 20z\"/>\n",
              "  </svg>\n",
              "      </button>\n",
              "      \n",
              "  <style>\n",
              "    .colab-df-container {\n",
              "      display:flex;\n",
              "      flex-wrap:wrap;\n",
              "      gap: 12px;\n",
              "    }\n",
              "\n",
              "    .colab-df-convert {\n",
              "      background-color: #E8F0FE;\n",
              "      border: none;\n",
              "      border-radius: 50%;\n",
              "      cursor: pointer;\n",
              "      display: none;\n",
              "      fill: #1967D2;\n",
              "      height: 32px;\n",
              "      padding: 0 0 0 0;\n",
              "      width: 32px;\n",
              "    }\n",
              "\n",
              "    .colab-df-convert:hover {\n",
              "      background-color: #E2EBFA;\n",
              "      box-shadow: 0px 1px 2px rgba(60, 64, 67, 0.3), 0px 1px 3px 1px rgba(60, 64, 67, 0.15);\n",
              "      fill: #174EA6;\n",
              "    }\n",
              "\n",
              "    [theme=dark] .colab-df-convert {\n",
              "      background-color: #3B4455;\n",
              "      fill: #D2E3FC;\n",
              "    }\n",
              "\n",
              "    [theme=dark] .colab-df-convert:hover {\n",
              "      background-color: #434B5C;\n",
              "      box-shadow: 0px 1px 3px 1px rgba(0, 0, 0, 0.15);\n",
              "      filter: drop-shadow(0px 1px 2px rgba(0, 0, 0, 0.3));\n",
              "      fill: #FFFFFF;\n",
              "    }\n",
              "  </style>\n",
              "\n",
              "      <script>\n",
              "        const buttonEl =\n",
              "          document.querySelector('#df-a8bd8ce8-9434-4c58-a37c-a77a2110f6fc button.colab-df-convert');\n",
              "        buttonEl.style.display =\n",
              "          google.colab.kernel.accessAllowed ? 'block' : 'none';\n",
              "\n",
              "        async function convertToInteractive(key) {\n",
              "          const element = document.querySelector('#df-a8bd8ce8-9434-4c58-a37c-a77a2110f6fc');\n",
              "          const dataTable =\n",
              "            await google.colab.kernel.invokeFunction('convertToInteractive',\n",
              "                                                     [key], {});\n",
              "          if (!dataTable) return;\n",
              "\n",
              "          const docLinkHtml = 'Like what you see? Visit the ' +\n",
              "            '<a target=\"_blank\" href=https://colab.research.google.com/notebooks/data_table.ipynb>data table notebook</a>'\n",
              "            + ' to learn more about interactive tables.';\n",
              "          element.innerHTML = '';\n",
              "          dataTable['output_type'] = 'display_data';\n",
              "          await google.colab.output.renderOutput(dataTable, element);\n",
              "          const docLink = document.createElement('div');\n",
              "          docLink.innerHTML = docLinkHtml;\n",
              "          element.appendChild(docLink);\n",
              "        }\n",
              "      </script>\n",
              "    </div>\n",
              "  </div>\n",
              "  "
            ]
          },
          "metadata": {},
          "execution_count": 5
        }
      ]
    },
    {
      "cell_type": "code",
      "source": [
        "data['Comment']=data['Comment'].apply(str)\n",
        "# Proprocessing the data\n",
        "data['Comment']=data['Comment'].str.lower()\n",
        "# Code to remove the Hashtags from the text\n",
        "data['Comment']=data['Comment'].apply(lambda x:re.sub(r'\\B#\\S+','',x))\n",
        "# Code to remove the links from the text\n",
        "data['Comment']=data['Comment'].apply(lambda x:re.sub(r\"http\\S+\", \"\", x))\n",
        "# Code to remove the Special characters from the text \n",
        "data['Comment']=data['Comment'].apply(lambda x:' '.join(re.findall(r'\\w+', x)))\n",
        "# Code to substitute the multiple spaces with single spaces\n",
        "data['Comment']=data['Comment'].apply(lambda x:re.sub(r'\\s+', ' ', x, flags=re.I))\n",
        "# Code to remove all the single characters in the text\n",
        "data['Comment']=data['Comment'].apply(lambda x:re.sub(r'\\s+[a-zA-Z]\\s+', '', x))\n",
        "# Remove the twitter handlers\n",
        "data['Comment']=data['Comment'].apply(lambda x:re.sub('@[^\\s]+','',x))"
      ],
      "metadata": {
        "id": "8ue3o-tKzeNl"
      },
      "execution_count": 6,
      "outputs": []
    },
    {
      "cell_type": "code",
      "source": [
        "data=data[['Comment']]"
      ],
      "metadata": {
        "id": "1_VcrC490m2u"
      },
      "execution_count": 7,
      "outputs": []
    },
    {
      "cell_type": "code",
      "source": [
        "data.head()"
      ],
      "metadata": {
        "colab": {
          "base_uri": "https://localhost:8080/",
          "height": 206
        },
        "id": "Kb1KrREK0qjt",
        "outputId": "f5d92fa7-2c0a-423a-cd2f-3e4d331adcfe"
      },
      "execution_count": 8,
      "outputs": [
        {
          "output_type": "execute_result",
          "data": {
            "text/plain": [
              "                                             Comment\n",
              "0                             djfjkdfjkjkffdk edited\n",
              "1  faith has exhibited enthusiasm in taking on th...\n",
              "2  he now has now understood the structure of gra...\n",
              "3  the intern was oriented on ict setup and infra...\n",
              "4  the student was oriented on the organization s..."
            ],
            "text/html": [
              "\n",
              "  <div id=\"df-f79419d9-3a0c-467e-96bc-c83ca1a16ab4\">\n",
              "    <div class=\"colab-df-container\">\n",
              "      <div>\n",
              "<style scoped>\n",
              "    .dataframe tbody tr th:only-of-type {\n",
              "        vertical-align: middle;\n",
              "    }\n",
              "\n",
              "    .dataframe tbody tr th {\n",
              "        vertical-align: top;\n",
              "    }\n",
              "\n",
              "    .dataframe thead th {\n",
              "        text-align: right;\n",
              "    }\n",
              "</style>\n",
              "<table border=\"1\" class=\"dataframe\">\n",
              "  <thead>\n",
              "    <tr style=\"text-align: right;\">\n",
              "      <th></th>\n",
              "      <th>Comment</th>\n",
              "    </tr>\n",
              "  </thead>\n",
              "  <tbody>\n",
              "    <tr>\n",
              "      <th>0</th>\n",
              "      <td>djfjkdfjkjkffdk edited</td>\n",
              "    </tr>\n",
              "    <tr>\n",
              "      <th>1</th>\n",
              "      <td>faith has exhibited enthusiasm in taking on th...</td>\n",
              "    </tr>\n",
              "    <tr>\n",
              "      <th>2</th>\n",
              "      <td>he now has now understood the structure of gra...</td>\n",
              "    </tr>\n",
              "    <tr>\n",
              "      <th>3</th>\n",
              "      <td>the intern was oriented on ict setup and infra...</td>\n",
              "    </tr>\n",
              "    <tr>\n",
              "      <th>4</th>\n",
              "      <td>the student was oriented on the organization s...</td>\n",
              "    </tr>\n",
              "  </tbody>\n",
              "</table>\n",
              "</div>\n",
              "      <button class=\"colab-df-convert\" onclick=\"convertToInteractive('df-f79419d9-3a0c-467e-96bc-c83ca1a16ab4')\"\n",
              "              title=\"Convert this dataframe to an interactive table.\"\n",
              "              style=\"display:none;\">\n",
              "        \n",
              "  <svg xmlns=\"http://www.w3.org/2000/svg\" height=\"24px\"viewBox=\"0 0 24 24\"\n",
              "       width=\"24px\">\n",
              "    <path d=\"M0 0h24v24H0V0z\" fill=\"none\"/>\n",
              "    <path d=\"M18.56 5.44l.94 2.06.94-2.06 2.06-.94-2.06-.94-.94-2.06-.94 2.06-2.06.94zm-11 1L8.5 8.5l.94-2.06 2.06-.94-2.06-.94L8.5 2.5l-.94 2.06-2.06.94zm10 10l.94 2.06.94-2.06 2.06-.94-2.06-.94-.94-2.06-.94 2.06-2.06.94z\"/><path d=\"M17.41 7.96l-1.37-1.37c-.4-.4-.92-.59-1.43-.59-.52 0-1.04.2-1.43.59L10.3 9.45l-7.72 7.72c-.78.78-.78 2.05 0 2.83L4 21.41c.39.39.9.59 1.41.59.51 0 1.02-.2 1.41-.59l7.78-7.78 2.81-2.81c.8-.78.8-2.07 0-2.86zM5.41 20L4 18.59l7.72-7.72 1.47 1.35L5.41 20z\"/>\n",
              "  </svg>\n",
              "      </button>\n",
              "      \n",
              "  <style>\n",
              "    .colab-df-container {\n",
              "      display:flex;\n",
              "      flex-wrap:wrap;\n",
              "      gap: 12px;\n",
              "    }\n",
              "\n",
              "    .colab-df-convert {\n",
              "      background-color: #E8F0FE;\n",
              "      border: none;\n",
              "      border-radius: 50%;\n",
              "      cursor: pointer;\n",
              "      display: none;\n",
              "      fill: #1967D2;\n",
              "      height: 32px;\n",
              "      padding: 0 0 0 0;\n",
              "      width: 32px;\n",
              "    }\n",
              "\n",
              "    .colab-df-convert:hover {\n",
              "      background-color: #E2EBFA;\n",
              "      box-shadow: 0px 1px 2px rgba(60, 64, 67, 0.3), 0px 1px 3px 1px rgba(60, 64, 67, 0.15);\n",
              "      fill: #174EA6;\n",
              "    }\n",
              "\n",
              "    [theme=dark] .colab-df-convert {\n",
              "      background-color: #3B4455;\n",
              "      fill: #D2E3FC;\n",
              "    }\n",
              "\n",
              "    [theme=dark] .colab-df-convert:hover {\n",
              "      background-color: #434B5C;\n",
              "      box-shadow: 0px 1px 3px 1px rgba(0, 0, 0, 0.15);\n",
              "      filter: drop-shadow(0px 1px 2px rgba(0, 0, 0, 0.3));\n",
              "      fill: #FFFFFF;\n",
              "    }\n",
              "  </style>\n",
              "\n",
              "      <script>\n",
              "        const buttonEl =\n",
              "          document.querySelector('#df-f79419d9-3a0c-467e-96bc-c83ca1a16ab4 button.colab-df-convert');\n",
              "        buttonEl.style.display =\n",
              "          google.colab.kernel.accessAllowed ? 'block' : 'none';\n",
              "\n",
              "        async function convertToInteractive(key) {\n",
              "          const element = document.querySelector('#df-f79419d9-3a0c-467e-96bc-c83ca1a16ab4');\n",
              "          const dataTable =\n",
              "            await google.colab.kernel.invokeFunction('convertToInteractive',\n",
              "                                                     [key], {});\n",
              "          if (!dataTable) return;\n",
              "\n",
              "          const docLinkHtml = 'Like what you see? Visit the ' +\n",
              "            '<a target=\"_blank\" href=https://colab.research.google.com/notebooks/data_table.ipynb>data table notebook</a>'\n",
              "            + ' to learn more about interactive tables.';\n",
              "          element.innerHTML = '';\n",
              "          dataTable['output_type'] = 'display_data';\n",
              "          await google.colab.output.renderOutput(dataTable, element);\n",
              "          const docLink = document.createElement('div');\n",
              "          docLink.innerHTML = docLinkHtml;\n",
              "          element.appendChild(docLink);\n",
              "        }\n",
              "      </script>\n",
              "    </div>\n",
              "  </div>\n",
              "  "
            ]
          },
          "metadata": {},
          "execution_count": 8
        }
      ]
    },
    {
      "cell_type": "code",
      "source": [
        "# data.to_csv(r'/content/drive/MyDrive/Colab Notebooks/MSC/Analytics/Corpus_Files/corpustext_cleaned.csv', index = False)"
      ],
      "metadata": {
        "id": "NuVZ7eXTspkz"
      },
      "execution_count": 9,
      "outputs": []
    },
    {
      "cell_type": "code",
      "source": [
        "# Making the copy of th data\n",
        "km=data.copy()\n",
        "\n",
        "def rem_stopwords_tokenize(data,name):\n",
        "      \n",
        "    def getting(sen):\n",
        "        example_sent = sen\n",
        "\n",
        "        stop_words = set(stopwords.words('english')) \n",
        "\n",
        "        word_tokens = word_tokenize(example_sent) \n",
        "\n",
        "        filtered_sentence = [w for w in word_tokens if not w in stop_words] \n",
        "\n",
        "        filtered_sentence = [] \n",
        "\n",
        "        for w in word_tokens: \n",
        "            if w not in stop_words: \n",
        "                filtered_sentence.append(w.lower()) \n",
        "        return filtered_sentence\n",
        "    x=[]\n",
        "    for i in data[name].values:\n",
        "        x.append(getting(i))\n",
        "    data[name]=x\n",
        "\n",
        "# Making a function to lemmatize all the words\n",
        "lemmatizer = WordNetLemmatizer() \n",
        "def lemmatize_all(data,name):\n",
        "    arr=data[name]\n",
        "    a=[]\n",
        "    for i in arr:\n",
        "        b=[]\n",
        "        for j in i:\n",
        "            x=lemmatizer.lemmatize(j,pos='a')\n",
        "            x=lemmatizer.lemmatize(x)\n",
        "            b.append(x)\n",
        "        a.append(b)\n",
        "    data[name]=a"
      ],
      "metadata": {
        "id": "ljsNwthLtxMk"
      },
      "execution_count": 10,
      "outputs": []
    },
    {
      "cell_type": "code",
      "source": [
        "km['Comment']=km['Comment'].apply(str)"
      ],
      "metadata": {
        "id": "rkBr0xnYtxnd"
      },
      "execution_count": 11,
      "outputs": []
    },
    {
      "cell_type": "code",
      "source": [
        "km.head()"
      ],
      "metadata": {
        "colab": {
          "base_uri": "https://localhost:8080/",
          "height": 206
        },
        "id": "4yQwvnq36HpW",
        "outputId": "a4190306-4eb6-4fd5-c795-b65cbaa74aa8"
      },
      "execution_count": 12,
      "outputs": [
        {
          "output_type": "execute_result",
          "data": {
            "text/plain": [
              "                                             Comment\n",
              "0                             djfjkdfjkjkffdk edited\n",
              "1  faith has exhibited enthusiasm in taking on th...\n",
              "2  he now has now understood the structure of gra...\n",
              "3  the intern was oriented on ict setup and infra...\n",
              "4  the student was oriented on the organization s..."
            ],
            "text/html": [
              "\n",
              "  <div id=\"df-5080cffe-23bb-490b-88e0-6c53a0b56747\">\n",
              "    <div class=\"colab-df-container\">\n",
              "      <div>\n",
              "<style scoped>\n",
              "    .dataframe tbody tr th:only-of-type {\n",
              "        vertical-align: middle;\n",
              "    }\n",
              "\n",
              "    .dataframe tbody tr th {\n",
              "        vertical-align: top;\n",
              "    }\n",
              "\n",
              "    .dataframe thead th {\n",
              "        text-align: right;\n",
              "    }\n",
              "</style>\n",
              "<table border=\"1\" class=\"dataframe\">\n",
              "  <thead>\n",
              "    <tr style=\"text-align: right;\">\n",
              "      <th></th>\n",
              "      <th>Comment</th>\n",
              "    </tr>\n",
              "  </thead>\n",
              "  <tbody>\n",
              "    <tr>\n",
              "      <th>0</th>\n",
              "      <td>djfjkdfjkjkffdk edited</td>\n",
              "    </tr>\n",
              "    <tr>\n",
              "      <th>1</th>\n",
              "      <td>faith has exhibited enthusiasm in taking on th...</td>\n",
              "    </tr>\n",
              "    <tr>\n",
              "      <th>2</th>\n",
              "      <td>he now has now understood the structure of gra...</td>\n",
              "    </tr>\n",
              "    <tr>\n",
              "      <th>3</th>\n",
              "      <td>the intern was oriented on ict setup and infra...</td>\n",
              "    </tr>\n",
              "    <tr>\n",
              "      <th>4</th>\n",
              "      <td>the student was oriented on the organization s...</td>\n",
              "    </tr>\n",
              "  </tbody>\n",
              "</table>\n",
              "</div>\n",
              "      <button class=\"colab-df-convert\" onclick=\"convertToInteractive('df-5080cffe-23bb-490b-88e0-6c53a0b56747')\"\n",
              "              title=\"Convert this dataframe to an interactive table.\"\n",
              "              style=\"display:none;\">\n",
              "        \n",
              "  <svg xmlns=\"http://www.w3.org/2000/svg\" height=\"24px\"viewBox=\"0 0 24 24\"\n",
              "       width=\"24px\">\n",
              "    <path d=\"M0 0h24v24H0V0z\" fill=\"none\"/>\n",
              "    <path d=\"M18.56 5.44l.94 2.06.94-2.06 2.06-.94-2.06-.94-.94-2.06-.94 2.06-2.06.94zm-11 1L8.5 8.5l.94-2.06 2.06-.94-2.06-.94L8.5 2.5l-.94 2.06-2.06.94zm10 10l.94 2.06.94-2.06 2.06-.94-2.06-.94-.94-2.06-.94 2.06-2.06.94z\"/><path d=\"M17.41 7.96l-1.37-1.37c-.4-.4-.92-.59-1.43-.59-.52 0-1.04.2-1.43.59L10.3 9.45l-7.72 7.72c-.78.78-.78 2.05 0 2.83L4 21.41c.39.39.9.59 1.41.59.51 0 1.02-.2 1.41-.59l7.78-7.78 2.81-2.81c.8-.78.8-2.07 0-2.86zM5.41 20L4 18.59l7.72-7.72 1.47 1.35L5.41 20z\"/>\n",
              "  </svg>\n",
              "      </button>\n",
              "      \n",
              "  <style>\n",
              "    .colab-df-container {\n",
              "      display:flex;\n",
              "      flex-wrap:wrap;\n",
              "      gap: 12px;\n",
              "    }\n",
              "\n",
              "    .colab-df-convert {\n",
              "      background-color: #E8F0FE;\n",
              "      border: none;\n",
              "      border-radius: 50%;\n",
              "      cursor: pointer;\n",
              "      display: none;\n",
              "      fill: #1967D2;\n",
              "      height: 32px;\n",
              "      padding: 0 0 0 0;\n",
              "      width: 32px;\n",
              "    }\n",
              "\n",
              "    .colab-df-convert:hover {\n",
              "      background-color: #E2EBFA;\n",
              "      box-shadow: 0px 1px 2px rgba(60, 64, 67, 0.3), 0px 1px 3px 1px rgba(60, 64, 67, 0.15);\n",
              "      fill: #174EA6;\n",
              "    }\n",
              "\n",
              "    [theme=dark] .colab-df-convert {\n",
              "      background-color: #3B4455;\n",
              "      fill: #D2E3FC;\n",
              "    }\n",
              "\n",
              "    [theme=dark] .colab-df-convert:hover {\n",
              "      background-color: #434B5C;\n",
              "      box-shadow: 0px 1px 3px 1px rgba(0, 0, 0, 0.15);\n",
              "      filter: drop-shadow(0px 1px 2px rgba(0, 0, 0, 0.3));\n",
              "      fill: #FFFFFF;\n",
              "    }\n",
              "  </style>\n",
              "\n",
              "      <script>\n",
              "        const buttonEl =\n",
              "          document.querySelector('#df-5080cffe-23bb-490b-88e0-6c53a0b56747 button.colab-df-convert');\n",
              "        buttonEl.style.display =\n",
              "          google.colab.kernel.accessAllowed ? 'block' : 'none';\n",
              "\n",
              "        async function convertToInteractive(key) {\n",
              "          const element = document.querySelector('#df-5080cffe-23bb-490b-88e0-6c53a0b56747');\n",
              "          const dataTable =\n",
              "            await google.colab.kernel.invokeFunction('convertToInteractive',\n",
              "                                                     [key], {});\n",
              "          if (!dataTable) return;\n",
              "\n",
              "          const docLinkHtml = 'Like what you see? Visit the ' +\n",
              "            '<a target=\"_blank\" href=https://colab.research.google.com/notebooks/data_table.ipynb>data table notebook</a>'\n",
              "            + ' to learn more about interactive tables.';\n",
              "          element.innerHTML = '';\n",
              "          dataTable['output_type'] = 'display_data';\n",
              "          await google.colab.output.renderOutput(dataTable, element);\n",
              "          const docLink = document.createElement('div');\n",
              "          docLink.innerHTML = docLinkHtml;\n",
              "          element.appendChild(docLink);\n",
              "        }\n",
              "      </script>\n",
              "    </div>\n",
              "  </div>\n",
              "  "
            ]
          },
          "metadata": {},
          "execution_count": 12
        }
      ]
    },
    {
      "cell_type": "code",
      "source": [
        "# km.to_csv(r'/content/drive/MyDrive/Colab Notebooks/MSC/Analytics/Corpus_Files/corpuscollection.csv', index = False)"
      ],
      "metadata": {
        "id": "9uBP7_41sWvZ"
      },
      "execution_count": 13,
      "outputs": []
    },
    {
      "cell_type": "code",
      "source": [
        "nltk.download('stopwords')\n",
        "nltk.download('punkt')\n",
        "nltk.download('wordnet')\n",
        "nltk.download('omw-1.4')\n",
        "\n",
        "rem_stopwords_tokenize(km,'Comment')\n",
        "lemmatize_all(km,'Comment')\n",
        "\n",
        "km['Comment']=km['Comment'].apply(lambda x:' '.join([i+' ' for i in x]))\n",
        "# Removing double spaces if created\n",
        "km['Comment']=km['Comment'].apply(lambda x:re.sub(r'\\s+', ' ', x, flags=re.I))"
      ],
      "metadata": {
        "colab": {
          "base_uri": "https://localhost:8080/"
        },
        "id": "hdeOUNW6q1GG",
        "outputId": "aef96251-2b54-4f5e-e45e-1e3f9fa514a3"
      },
      "execution_count": 14,
      "outputs": [
        {
          "output_type": "stream",
          "name": "stderr",
          "text": [
            "[nltk_data] Downloading package stopwords to /root/nltk_data...\n",
            "[nltk_data]   Unzipping corpora/stopwords.zip.\n",
            "[nltk_data] Downloading package punkt to /root/nltk_data...\n",
            "[nltk_data]   Unzipping tokenizers/punkt.zip.\n",
            "[nltk_data] Downloading package wordnet to /root/nltk_data...\n",
            "[nltk_data] Downloading package omw-1.4 to /root/nltk_data...\n"
          ]
        }
      ]
    },
    {
      "cell_type": "code",
      "source": [
        "km.head()"
      ],
      "metadata": {
        "colab": {
          "base_uri": "https://localhost:8080/",
          "height": 206
        },
        "id": "1TEJ_xk26X-L",
        "outputId": "77be1b3d-5198-44cf-a8bc-6aaf05744e88"
      },
      "execution_count": 15,
      "outputs": [
        {
          "output_type": "execute_result",
          "data": {
            "text/plain": [
              "                                             Comment\n",
              "0                            djfjkdfjkjkffdk edited \n",
              "1  faith exhibited enthusiasm taking project hand...\n",
              "2  understood structure grail different component...\n",
              "3  intern oriented ict setup infrastructure sorot...\n",
              "4  student oriented organization structure develo..."
            ],
            "text/html": [
              "\n",
              "  <div id=\"df-7c2916b1-c54a-4d03-95e4-47178e8b2ad8\">\n",
              "    <div class=\"colab-df-container\">\n",
              "      <div>\n",
              "<style scoped>\n",
              "    .dataframe tbody tr th:only-of-type {\n",
              "        vertical-align: middle;\n",
              "    }\n",
              "\n",
              "    .dataframe tbody tr th {\n",
              "        vertical-align: top;\n",
              "    }\n",
              "\n",
              "    .dataframe thead th {\n",
              "        text-align: right;\n",
              "    }\n",
              "</style>\n",
              "<table border=\"1\" class=\"dataframe\">\n",
              "  <thead>\n",
              "    <tr style=\"text-align: right;\">\n",
              "      <th></th>\n",
              "      <th>Comment</th>\n",
              "    </tr>\n",
              "  </thead>\n",
              "  <tbody>\n",
              "    <tr>\n",
              "      <th>0</th>\n",
              "      <td>djfjkdfjkjkffdk edited</td>\n",
              "    </tr>\n",
              "    <tr>\n",
              "      <th>1</th>\n",
              "      <td>faith exhibited enthusiasm taking project hand...</td>\n",
              "    </tr>\n",
              "    <tr>\n",
              "      <th>2</th>\n",
              "      <td>understood structure grail different component...</td>\n",
              "    </tr>\n",
              "    <tr>\n",
              "      <th>3</th>\n",
              "      <td>intern oriented ict setup infrastructure sorot...</td>\n",
              "    </tr>\n",
              "    <tr>\n",
              "      <th>4</th>\n",
              "      <td>student oriented organization structure develo...</td>\n",
              "    </tr>\n",
              "  </tbody>\n",
              "</table>\n",
              "</div>\n",
              "      <button class=\"colab-df-convert\" onclick=\"convertToInteractive('df-7c2916b1-c54a-4d03-95e4-47178e8b2ad8')\"\n",
              "              title=\"Convert this dataframe to an interactive table.\"\n",
              "              style=\"display:none;\">\n",
              "        \n",
              "  <svg xmlns=\"http://www.w3.org/2000/svg\" height=\"24px\"viewBox=\"0 0 24 24\"\n",
              "       width=\"24px\">\n",
              "    <path d=\"M0 0h24v24H0V0z\" fill=\"none\"/>\n",
              "    <path d=\"M18.56 5.44l.94 2.06.94-2.06 2.06-.94-2.06-.94-.94-2.06-.94 2.06-2.06.94zm-11 1L8.5 8.5l.94-2.06 2.06-.94-2.06-.94L8.5 2.5l-.94 2.06-2.06.94zm10 10l.94 2.06.94-2.06 2.06-.94-2.06-.94-.94-2.06-.94 2.06-2.06.94z\"/><path d=\"M17.41 7.96l-1.37-1.37c-.4-.4-.92-.59-1.43-.59-.52 0-1.04.2-1.43.59L10.3 9.45l-7.72 7.72c-.78.78-.78 2.05 0 2.83L4 21.41c.39.39.9.59 1.41.59.51 0 1.02-.2 1.41-.59l7.78-7.78 2.81-2.81c.8-.78.8-2.07 0-2.86zM5.41 20L4 18.59l7.72-7.72 1.47 1.35L5.41 20z\"/>\n",
              "  </svg>\n",
              "      </button>\n",
              "      \n",
              "  <style>\n",
              "    .colab-df-container {\n",
              "      display:flex;\n",
              "      flex-wrap:wrap;\n",
              "      gap: 12px;\n",
              "    }\n",
              "\n",
              "    .colab-df-convert {\n",
              "      background-color: #E8F0FE;\n",
              "      border: none;\n",
              "      border-radius: 50%;\n",
              "      cursor: pointer;\n",
              "      display: none;\n",
              "      fill: #1967D2;\n",
              "      height: 32px;\n",
              "      padding: 0 0 0 0;\n",
              "      width: 32px;\n",
              "    }\n",
              "\n",
              "    .colab-df-convert:hover {\n",
              "      background-color: #E2EBFA;\n",
              "      box-shadow: 0px 1px 2px rgba(60, 64, 67, 0.3), 0px 1px 3px 1px rgba(60, 64, 67, 0.15);\n",
              "      fill: #174EA6;\n",
              "    }\n",
              "\n",
              "    [theme=dark] .colab-df-convert {\n",
              "      background-color: #3B4455;\n",
              "      fill: #D2E3FC;\n",
              "    }\n",
              "\n",
              "    [theme=dark] .colab-df-convert:hover {\n",
              "      background-color: #434B5C;\n",
              "      box-shadow: 0px 1px 3px 1px rgba(0, 0, 0, 0.15);\n",
              "      filter: drop-shadow(0px 1px 2px rgba(0, 0, 0, 0.3));\n",
              "      fill: #FFFFFF;\n",
              "    }\n",
              "  </style>\n",
              "\n",
              "      <script>\n",
              "        const buttonEl =\n",
              "          document.querySelector('#df-7c2916b1-c54a-4d03-95e4-47178e8b2ad8 button.colab-df-convert');\n",
              "        buttonEl.style.display =\n",
              "          google.colab.kernel.accessAllowed ? 'block' : 'none';\n",
              "\n",
              "        async function convertToInteractive(key) {\n",
              "          const element = document.querySelector('#df-7c2916b1-c54a-4d03-95e4-47178e8b2ad8');\n",
              "          const dataTable =\n",
              "            await google.colab.kernel.invokeFunction('convertToInteractive',\n",
              "                                                     [key], {});\n",
              "          if (!dataTable) return;\n",
              "\n",
              "          const docLinkHtml = 'Like what you see? Visit the ' +\n",
              "            '<a target=\"_blank\" href=https://colab.research.google.com/notebooks/data_table.ipynb>data table notebook</a>'\n",
              "            + ' to learn more about interactive tables.';\n",
              "          element.innerHTML = '';\n",
              "          dataTable['output_type'] = 'display_data';\n",
              "          await google.colab.output.renderOutput(dataTable, element);\n",
              "          const docLink = document.createElement('div');\n",
              "          docLink.innerHTML = docLinkHtml;\n",
              "          element.appendChild(docLink);\n",
              "        }\n",
              "      </script>\n",
              "    </div>\n",
              "  </div>\n",
              "  "
            ]
          },
          "metadata": {},
          "execution_count": 15
        }
      ]
    },
    {
      "cell_type": "markdown",
      "source": [
        "Converting the text into vectors using TdidfVectorizer"
      ],
      "metadata": {
        "id": "WKwBrVmhvFx3"
      }
    },
    {
      "cell_type": "code",
      "source": [
        "#pd.DataFrame(X).to_csv('corpustfid.csv') "
      ],
      "metadata": {
        "id": "xea7FRdf3Q3j"
      },
      "execution_count": 16,
      "outputs": []
    },
    {
      "cell_type": "code",
      "source": [
        "# pd.DataFrame(X).to_csv(r'/content/drive/MyDrive/Colab Notebooks/MSC/Analytics/Corpus_Files/corpustfid.csv', index = False)"
      ],
      "metadata": {
        "id": "2j-lCOuD6q4Z"
      },
      "execution_count": 17,
      "outputs": []
    },
    {
      "cell_type": "code",
      "source": [
        "#print(X)"
      ],
      "metadata": {
        "id": "t9--Dfd8nTWG"
      },
      "execution_count": 18,
      "outputs": []
    },
    {
      "cell_type": "code",
      "source": [
        "# Tfidf Vectorizer\n",
        "tf=TfidfVectorizer(    max_df=0.5,\n",
        "    min_df=5,\n",
        "    stop_words=\"english\",)\n",
        "# Fit transform the data\n",
        "X=tf.fit_transform(km['Comment'].values)"
      ],
      "metadata": {
        "id": "5ntKOvEBoXr4"
      },
      "execution_count": 19,
      "outputs": []
    },
    {
      "cell_type": "code",
      "source": [
        "for i, feature in enumerate(tf.get_feature_names_out()[:20]):\n",
        "    print(i, feature)"
      ],
      "metadata": {
        "colab": {
          "base_uri": "https://localhost:8080/"
        },
        "id": "eJ4lKXuq3ZTJ",
        "outputId": "2362b96f-ce0e-4cbd-a53b-ddb305c04510"
      },
      "execution_count": 20,
      "outputs": [
        {
          "output_type": "stream",
          "name": "stdout",
          "text": [
            "0 10\n",
            "1 20\n",
            "2 2019\n",
            "3 aaron\n",
            "4 ability\n",
            "5 abit\n",
            "6 able\n",
            "7 absence\n",
            "8 acceptable\n",
            "9 acceptance\n",
            "10 access\n",
            "11 accessed\n",
            "12 accomplish\n",
            "13 accomplished\n",
            "14 accomplishing\n",
            "15 according\n",
            "16 account\n",
            "17 accountability\n",
            "18 achieved\n",
            "19 acknowledged\n"
          ]
        }
      ]
    },
    {
      "cell_type": "code",
      "source": [
        "tf"
      ],
      "metadata": {
        "colab": {
          "base_uri": "https://localhost:8080/"
        },
        "id": "wrf5boQT8HB0",
        "outputId": "e7b0da53-f31e-446d-f0d9-fa5c3d35cfcf"
      },
      "execution_count": 21,
      "outputs": [
        {
          "output_type": "execute_result",
          "data": {
            "text/plain": [
              "TfidfVectorizer(max_df=0.5, min_df=5, stop_words='english')"
            ]
          },
          "metadata": {},
          "execution_count": 21
        }
      ]
    },
    {
      "cell_type": "code",
      "source": [
        "def find_optimal_clusters(data, max_k):\n",
        "    iters = range(1, max_k+1, 2)\n",
        "    \n",
        "    sse = []\n",
        "    for k in iters:\n",
        "        sse.append(MiniBatchKMeans(n_clusters=k,  batch_size=2048, random_state=20).fit(data).inertia_)\n",
        "        print('Fit {} clusters'.format(k))\n",
        "        \n",
        "    f, ax = plt.subplots(1, 1)\n",
        "    ax.plot(iters, sse, marker='o')\n",
        "    ax.set_xlabel('Cluster Centers')\n",
        "    ax.set_xticks(iters)\n",
        "    ax.set_xticklabels(iters)\n",
        "    ax.set_ylabel('SSE')\n",
        "    ax.set_title('SSE by Cluster Center Plot')"
      ],
      "metadata": {
        "id": "nG3QUp0E3nGG"
      },
      "execution_count": 22,
      "outputs": []
    },
    {
      "cell_type": "code",
      "source": [
        "find_optimal_clusters(X, 20)"
      ],
      "metadata": {
        "colab": {
          "base_uri": "https://localhost:8080/",
          "height": 469
        },
        "id": "nSr9W5MX3rCd",
        "outputId": "58023f2d-bb81-4768-d283-bf54affe99bc"
      },
      "execution_count": 23,
      "outputs": [
        {
          "output_type": "stream",
          "name": "stdout",
          "text": [
            "Fit 1 clusters\n",
            "Fit 3 clusters\n",
            "Fit 5 clusters\n",
            "Fit 7 clusters\n",
            "Fit 9 clusters\n",
            "Fit 11 clusters\n",
            "Fit 13 clusters\n",
            "Fit 15 clusters\n",
            "Fit 17 clusters\n",
            "Fit 19 clusters\n"
          ]
        },
        {
          "output_type": "display_data",
          "data": {
            "text/plain": [
              "<Figure size 432x288 with 1 Axes>"
            ],
            "image/png": "[encoded data removed]"
          },
          "metadata": {
            "needs_background": "light"
          }
        }
      ]
    },
    {
      "cell_type": "code",
      "source": [
        "from sklearn.metrics import silhouette_samples\n",
        "\n",
        "def find_silhoute_clusters_km_mini_batch_2(data, k):\n",
        "    \n",
        "    \n",
        "\n",
        "    km = MiniBatchKMeans(n_clusters=k,  batch_size=2048, random_state=20)\n",
        "    y_km = km.fit_predict(data)\n",
        "\n",
        "    cluster_labels = np.unique(y_km)\n",
        "    n_clusters = cluster_labels.shape[0]\n",
        "    silhouette_vals = silhouette_samples(data, y_km, metric='euclidean'    )\n",
        "    y_ax_lower, y_ax_upper = 0, 0\n",
        "    yticks = []\n",
        "    for i, c in enumerate(cluster_labels):\n",
        "      c_silhouette_vals = silhouette_vals[y_km == c]\n",
        "      c_silhouette_vals.sort()\n",
        "      y_ax_upper += len(c_silhouette_vals)\n",
        "      color = cm.jet(float(i) / n_clusters)\n",
        "      plt.barh(range(y_ax_lower, y_ax_upper),\n",
        "      c_silhouette_vals,\n",
        "      height=1.0,\n",
        "      edgecolor='none',\n",
        "      color=color)\n",
        "      yticks.append((y_ax_lower + y_ax_upper) / 2.)\n",
        "      y_ax_lower += len(c_silhouette_vals)\n",
        "\n",
        "    silhouette_avg = np.mean(silhouette_vals)\n",
        "    plt.axvline(silhouette_avg,\n",
        "    color=\"red\",\n",
        "    linestyle=\"--\")\n",
        "    plt.yticks(yticks, cluster_labels + 1)\n",
        "    plt.ylabel('Cluster')\n",
        "    plt.xlabel('Silhouette coefficient')\n",
        "    plt.tight_layout()\n",
        "    plt.show()"
      ],
      "metadata": {
        "id": "dgOwaggFJKnU"
      },
      "execution_count": 24,
      "outputs": []
    },
    {
      "cell_type": "code",
      "source": [
        "find_silhoute_clusters_km_mini_batch_2(X, 5)"
      ],
      "metadata": {
        "colab": {
          "base_uri": "https://localhost:8080/",
          "height": 297
        },
        "id": "VPtZOigWJRFh",
        "outputId": "920f74d9-7a50-4274-dafc-e5d071cf4050"
      },
      "execution_count": 25,
      "outputs": [
        {
          "output_type": "display_data",
          "data": {
            "text/plain": [
              "<Figure size 432x288 with 1 Axes>"
            ],
            "image/png": "[encoded data removed]"
          },
          "metadata": {
            "needs_background": "light"
          }
        }
      ]
    },
    {
      "cell_type": "code",
      "source": [
        "from collections import defaultdict\n",
        "from sklearn import metrics\n",
        "from time import time\n",
        "\n",
        "evaluations = []\n",
        "evaluations_std = []\n",
        "\n",
        "\n",
        "def fit_and_evaluate(km, X, name=None, n_runs=5):\n",
        "    name = km.__class__.__name__ if name is None else name\n",
        "\n",
        "    train_times = []\n",
        "    scores = defaultdict(list)\n",
        "    for seed in range(n_runs):\n",
        "        km.set_params(random_state=seed)\n",
        "        t0 = time()\n",
        "        km.fit(X)\n",
        "        train_times.append(time() - t0)\n",
        "        scores[\"Homogeneity\"].append(metrics.homogeneity_score(labels, km.labels_))\n",
        "        scores[\"Completeness\"].append(metrics.completeness_score(labels, km.labels_))\n",
        "        scores[\"V-measure\"].append(metrics.v_measure_score(labels, km.labels_))\n",
        "        scores[\"Adjusted Rand-Index\"].append(\n",
        "            metrics.adjusted_rand_score(labels, km.labels_)\n",
        "        )\n",
        "        scores[\"Silhouette Coefficient\"].append(\n",
        "            metrics.silhouette_score(X, km.labels_, sample_size=2000)\n",
        "        )\n",
        "    train_times = np.asarray(train_times)\n",
        "\n",
        "    print(f\"clustering done in {train_times.mean():.2f} ± {train_times.std():.2f} s \")\n",
        "    evaluation = {\n",
        "        \"estimator\": name,\n",
        "        \"train_time\": train_times.mean(),\n",
        "    }\n",
        "    evaluation_std = {\n",
        "        \"estimator\": name,\n",
        "        \"train_time\": train_times.std(),\n",
        "    }\n",
        "    for score_name, score_values in scores.items():\n",
        "        mean_score, std_score = np.mean(score_values), np.std(score_values)\n",
        "        print(f\"{score_name}: {mean_score:.3f} ± {std_score:.3f}\")\n",
        "        evaluation[score_name] = mean_score\n",
        "        evaluation_std[score_name] = std_score\n",
        "    evaluations.append(evaluation)\n",
        "    evaluations_std.append(evaluation_std)"
      ],
      "metadata": {
        "id": "E8bAAoduNV_o"
      },
      "execution_count": 26,
      "outputs": []
    },
    {
      "cell_type": "code",
      "source": [
        "kmeans_model = MiniBatchKMeans(n_clusters=5,  batch_size=2048, random_state=20).fit(X)\n",
        "labels = kmeans_model.labels_\n",
        "metrics.silhouette_score(X, labels, metric='euclidean')"
      ],
      "metadata": {
        "colab": {
          "base_uri": "https://localhost:8080/"
        },
        "id": "zy68s3H3OzWd",
        "outputId": "54097eea-66b3-486a-b018-e19fab63a806"
      },
      "execution_count": 27,
      "outputs": [
        {
          "output_type": "execute_result",
          "data": {
            "text/plain": [
              "0.050123790700506245"
            ]
          },
          "metadata": {},
          "execution_count": 27
        }
      ]
    },
    {
      "cell_type": "code",
      "source": [
        "kmeans = MiniBatchKMeans(n_clusters=5,  batch_size=256, random_state=20)\n",
        "labels = kmeans_model.labels_\n",
        "\n",
        "fit_and_evaluate(kmeans, X, name=\"MiniBatchKMeans\")"
      ],
      "metadata": {
        "colab": {
          "base_uri": "https://localhost:8080/"
        },
        "id": "b8EwyUafNfs5",
        "outputId": "41094f4f-ff72-4738-ff80-876c194e9c63"
      },
      "execution_count": 28,
      "outputs": [
        {
          "output_type": "stream",
          "name": "stdout",
          "text": [
            "clustering done in 0.03 ± 0.01 s \n",
            "Homogeneity: 0.269 ± 0.127\n",
            "Completeness: 0.345 ± 0.029\n",
            "V-measure: 0.278 ± 0.121\n",
            "Adjusted Rand-Index: 0.239 ± 0.124\n",
            "Silhouette Coefficient: 0.036 ± 0.024\n"
          ]
        }
      ]
    },
    {
      "cell_type": "code",
      "source": [
        "clusters = MiniBatchKMeans(n_clusters=5,  batch_size=256, random_state=20).fit_predict(X)"
      ],
      "metadata": {
        "id": "_n6tjyZR3ygv"
      },
      "execution_count": 29,
      "outputs": []
    },
    {
      "cell_type": "code",
      "source": [
        "def plot_tsne_pca(data, labels):\n",
        "    max_label = max(labels)+1\n",
        "    max_items = np.random.choice(range(data.shape[0]), size=100, replace=False)\n",
        "    \n",
        "    pca = PCA(n_components=2).fit_transform(data[max_items,:].todense())\n",
        "    tsne = TSNE().fit_transform(PCA(n_components=50).fit_transform(data[max_items,:].todense()))\n",
        "    \n",
        "    \n",
        "    idx = np.random.choice(range(pca.shape[0]), size=100, replace=False)\n",
        "    label_subset = labels[max_items]\n",
        "    label_subset = [cm.hsv(i/max_label) for i in label_subset[idx]]\n",
        "    \n",
        "    f, ax = plt.subplots(1, 2, figsize=(14, 6))\n",
        "    \n",
        "    ax[0].scatter(pca[idx, 0], pca[idx, 1], c=label_subset)\n",
        "    ax[0].set_title('PCA Cluster Plot')\n",
        "    \n",
        "    ax[1].scatter(tsne[idx, 0], tsne[idx, 1], c=label_subset)\n",
        "    ax[1].set_title('TSNE Cluster Plot')\n",
        "    \n",
        "plot_tsne_pca(X, clusters)"
      ],
      "metadata": {
        "colab": {
          "base_uri": "https://localhost:8080/",
          "height": 549
        },
        "id": "qtXk0kFy33is",
        "outputId": "4c2bd37c-b486-41fa-cc4a-1b874d405342"
      },
      "execution_count": 30,
      "outputs": [
        {
          "output_type": "stream",
          "name": "stderr",
          "text": [
            "/usr/local/lib/python3.7/dist-packages/sklearn/utils/validation.py:598: FutureWarning: np.matrix usage is deprecated in 1.0 and will raise a TypeError in 1.2. Please convert to a numpy array with np.asarray. For more information see: https://numpy.org/doc/stable/reference/generated/numpy.matrix.html\n",
            "  FutureWarning,\n",
            "/usr/local/lib/python3.7/dist-packages/sklearn/utils/validation.py:598: FutureWarning: np.matrix usage is deprecated in 1.0 and will raise a TypeError in 1.2. Please convert to a numpy array with np.asarray. For more information see: https://numpy.org/doc/stable/reference/generated/numpy.matrix.html\n",
            "  FutureWarning,\n",
            "/usr/local/lib/python3.7/dist-packages/sklearn/manifold/_t_sne.py:783: FutureWarning: The default initialization in TSNE will change from 'random' to 'pca' in 1.2.\n",
            "  FutureWarning,\n",
            "/usr/local/lib/python3.7/dist-packages/sklearn/manifold/_t_sne.py:793: FutureWarning: The default learning rate in TSNE will change from 200.0 to 'auto' in 1.2.\n",
            "  FutureWarning,\n"
          ]
        },
        {
          "output_type": "display_data",
          "data": {
            "text/plain": [
              "<Figure size 1008x432 with 2 Axes>"
            ],
            "image/png": "[encoded data removed]"
          },
          "metadata": {
            "needs_background": "light"
          }
        }
      ]
    },
    {
      "cell_type": "code",
      "source": [
        "clusters = MiniBatchKMeans(n_clusters=5, init_size=128, batch_size=256, random_state=20).fit_predict(X)"
      ],
      "metadata": {
        "id": "5uTCVUyI4Pj_"
      },
      "execution_count": 31,
      "outputs": []
    },
    {
      "cell_type": "code",
      "source": [
        "def plot_tsne_pca(data, labels):\n",
        "    max_label = max(labels)+1\n",
        "    max_items = np.random.choice(range(data.shape[0]), size=300, replace=False)\n",
        "    \n",
        "    pca = PCA(n_components=2).fit_transform(data[max_items,:].todense())\n",
        "    tsne = TSNE().fit_transform(PCA(n_components=50).fit_transform(data[max_items,:].todense()))\n",
        "    \n",
        "    \n",
        "    idx = np.random.choice(range(pca.shape[0]), size=110, replace=False)\n",
        "    label_subset = labels[max_items]\n",
        "    label_subset = [cm.hsv(i/max_label) for i in label_subset[idx]]\n",
        "    \n",
        "    f, ax = plt.subplots(1, 2, figsize=(14, 6))\n",
        "    \n",
        "    ax[0].scatter(pca[idx, 0], pca[idx, 1], c=label_subset)\n",
        "    ax[0].set_title('PCA Cluster Plot')\n",
        "    \n",
        "    ax[1].scatter(tsne[idx, 0], tsne[idx, 1], c=label_subset)\n",
        "    ax[1].set_title('TSNE Cluster Plot')\n",
        "    \n",
        "plot_tsne_pca(X, clusters)"
      ],
      "metadata": {
        "colab": {
          "base_uri": "https://localhost:8080/",
          "height": 549
        },
        "id": "vcZO2pP36quJ",
        "outputId": "1437b136-4396-4d9c-bdd7-9867db9c2818"
      },
      "execution_count": 32,
      "outputs": [
        {
          "output_type": "stream",
          "name": "stderr",
          "text": [
            "/usr/local/lib/python3.7/dist-packages/sklearn/utils/validation.py:598: FutureWarning: np.matrix usage is deprecated in 1.0 and will raise a TypeError in 1.2. Please convert to a numpy array with np.asarray. For more information see: https://numpy.org/doc/stable/reference/generated/numpy.matrix.html\n",
            "  FutureWarning,\n",
            "/usr/local/lib/python3.7/dist-packages/sklearn/utils/validation.py:598: FutureWarning: np.matrix usage is deprecated in 1.0 and will raise a TypeError in 1.2. Please convert to a numpy array with np.asarray. For more information see: https://numpy.org/doc/stable/reference/generated/numpy.matrix.html\n",
            "  FutureWarning,\n",
            "/usr/local/lib/python3.7/dist-packages/sklearn/manifold/_t_sne.py:783: FutureWarning: The default initialization in TSNE will change from 'random' to 'pca' in 1.2.\n",
            "  FutureWarning,\n",
            "/usr/local/lib/python3.7/dist-packages/sklearn/manifold/_t_sne.py:793: FutureWarning: The default learning rate in TSNE will change from 200.0 to 'auto' in 1.2.\n",
            "  FutureWarning,\n"
          ]
        },
        {
          "output_type": "display_data",
          "data": {
            "text/plain": [
              "<Figure size 1008x432 with 2 Axes>"
            ],
            "image/png": "[encoded data removed]"
          },
          "metadata": {
            "needs_background": "light"
          }
        }
      ]
    },
    {
      "cell_type": "code",
      "source": [
        "# Function  to get the top keywords\n",
        "def get_top_keywords(data, clusters, labels, n_terms):\n",
        "    df = pd.DataFrame(data.todense()).groupby(clusters).mean()\n",
        "    \n",
        "    for i,r in df.iterrows():\n",
        "        print('\\nCluster {}'.format(i))\n",
        "        print(','.join([labels[t] for t in np.argsort(r)[-n_terms:]]))\n",
        "            \n",
        "get_top_keywords(X, clusters, tf.get_feature_names(), 10)"
      ],
      "metadata": {
        "colab": {
          "base_uri": "https://localhost:8080/"
        },
        "id": "27wl9sme66dB",
        "outputId": "97fcdb83-752b-4f77-c6ce-d0c3921d3bee"
      },
      "execution_count": 33,
      "outputs": [
        {
          "output_type": "stream",
          "name": "stdout",
          "text": [
            "\n",
            "Cluster 0\n",
            "app,learn,task,server,time,managed,week,student,internship,challenge\n",
            "\n",
            "Cluster 1\n",
            "term,team,operating,coworkers,week,linux,working,relationship,progress,good\n",
            "\n",
            "Cluster 2\n",
            "week,able,student,task,progress,time,team,good,great,work\n",
            "\n",
            "Cluster 3\n",
            "installation,recording,achieved,technically,website,hand,week,development,task,progressive\n",
            "\n",
            "Cluster 4\n",
            "supposed,explaining,skill,end,weekmain,weektasks,internship,successfully,task,completed\n"
          ]
        },
        {
          "output_type": "stream",
          "name": "stderr",
          "text": [
            "/usr/local/lib/python3.7/dist-packages/sklearn/utils/deprecation.py:87: FutureWarning: Function get_feature_names is deprecated; get_feature_names is deprecated in 1.0 and will be removed in 1.2. Please use get_feature_names_out instead.\n",
            "  warnings.warn(msg, category=FutureWarning)\n"
          ]
        }
      ]
    },
    {
      "cell_type": "code",
      "source": [
        "# Making a Categories column and putting the values there\n",
        "km['Categories']=clusters\n",
        "# Having a look at the data"
      ],
      "metadata": {
        "id": "8tXupeiWVQQ8"
      },
      "execution_count": 34,
      "outputs": []
    },
    {
      "cell_type": "code",
      "source": [
        "km[km['Categories']==0].head()"
      ],
      "metadata": {
        "colab": {
          "base_uri": "https://localhost:8080/",
          "height": 206
        },
        "id": "xa9nk8IsrSNj",
        "outputId": "13c332b4-76c9-4cb8-f4fe-87fff544645c"
      },
      "execution_count": 35,
      "outputs": [
        {
          "output_type": "execute_result",
          "data": {
            "text/plain": [
              "                                             Comment  Categories\n",
              "0                            djfjkdfjkjkffdk edited            0\n",
              "1  faith exhibited enthusiasm taking project hand...           0\n",
              "2  understood structure grail different component...           0\n",
              "3  intern oriented ict setup infrastructure sorot...           0\n",
              "4  student oriented organization structure develo...           0"
            ],
            "text/html": [
              "\n",
              "  <div id=\"df-6481a11d-7a1b-4057-bb63-998807f66289\">\n",
              "    <div class=\"colab-df-container\">\n",
              "      <div>\n",
              "<style scoped>\n",
              "    .dataframe tbody tr th:only-of-type {\n",
              "        vertical-align: middle;\n",
              "    }\n",
              "\n",
              "    .dataframe tbody tr th {\n",
              "        vertical-align: top;\n",
              "    }\n",
              "\n",
              "    .dataframe thead th {\n",
              "        text-align: right;\n",
              "    }\n",
              "</style>\n",
              "<table border=\"1\" class=\"dataframe\">\n",
              "  <thead>\n",
              "    <tr style=\"text-align: right;\">\n",
              "      <th></th>\n",
              "      <th>Comment</th>\n",
              "      <th>Categories</th>\n",
              "    </tr>\n",
              "  </thead>\n",
              "  <tbody>\n",
              "    <tr>\n",
              "      <th>0</th>\n",
              "      <td>djfjkdfjkjkffdk edited</td>\n",
              "      <td>0</td>\n",
              "    </tr>\n",
              "    <tr>\n",
              "      <th>1</th>\n",
              "      <td>faith exhibited enthusiasm taking project hand...</td>\n",
              "      <td>0</td>\n",
              "    </tr>\n",
              "    <tr>\n",
              "      <th>2</th>\n",
              "      <td>understood structure grail different component...</td>\n",
              "      <td>0</td>\n",
              "    </tr>\n",
              "    <tr>\n",
              "      <th>3</th>\n",
              "      <td>intern oriented ict setup infrastructure sorot...</td>\n",
              "      <td>0</td>\n",
              "    </tr>\n",
              "    <tr>\n",
              "      <th>4</th>\n",
              "      <td>student oriented organization structure develo...</td>\n",
              "      <td>0</td>\n",
              "    </tr>\n",
              "  </tbody>\n",
              "</table>\n",
              "</div>\n",
              "      <button class=\"colab-df-convert\" onclick=\"convertToInteractive('df-6481a11d-7a1b-4057-bb63-998807f66289')\"\n",
              "              title=\"Convert this dataframe to an interactive table.\"\n",
              "              style=\"display:none;\">\n",
              "        \n",
              "  <svg xmlns=\"http://www.w3.org/2000/svg\" height=\"24px\"viewBox=\"0 0 24 24\"\n",
              "       width=\"24px\">\n",
              "    <path d=\"M0 0h24v24H0V0z\" fill=\"none\"/>\n",
              "    <path d=\"M18.56 5.44l.94 2.06.94-2.06 2.06-.94-2.06-.94-.94-2.06-.94 2.06-2.06.94zm-11 1L8.5 8.5l.94-2.06 2.06-.94-2.06-.94L8.5 2.5l-.94 2.06-2.06.94zm10 10l.94 2.06.94-2.06 2.06-.94-2.06-.94-.94-2.06-.94 2.06-2.06.94z\"/><path d=\"M17.41 7.96l-1.37-1.37c-.4-.4-.92-.59-1.43-.59-.52 0-1.04.2-1.43.59L10.3 9.45l-7.72 7.72c-.78.78-.78 2.05 0 2.83L4 21.41c.39.39.9.59 1.41.59.51 0 1.02-.2 1.41-.59l7.78-7.78 2.81-2.81c.8-.78.8-2.07 0-2.86zM5.41 20L4 18.59l7.72-7.72 1.47 1.35L5.41 20z\"/>\n",
              "  </svg>\n",
              "      </button>\n",
              "      \n",
              "  <style>\n",
              "    .colab-df-container {\n",
              "      display:flex;\n",
              "      flex-wrap:wrap;\n",
              "      gap: 12px;\n",
              "    }\n",
              "\n",
              "    .colab-df-convert {\n",
              "      background-color: #E8F0FE;\n",
              "      border: none;\n",
              "      border-radius: 50%;\n",
              "      cursor: pointer;\n",
              "      display: none;\n",
              "      fill: #1967D2;\n",
              "      height: 32px;\n",
              "      padding: 0 0 0 0;\n",
              "      width: 32px;\n",
              "    }\n",
              "\n",
              "    .colab-df-convert:hover {\n",
              "      background-color: #E2EBFA;\n",
              "      box-shadow: 0px 1px 2px rgba(60, 64, 67, 0.3), 0px 1px 3px 1px rgba(60, 64, 67, 0.15);\n",
              "      fill: #174EA6;\n",
              "    }\n",
              "\n",
              "    [theme=dark] .colab-df-convert {\n",
              "      background-color: #3B4455;\n",
              "      fill: #D2E3FC;\n",
              "    }\n",
              "\n",
              "    [theme=dark] .colab-df-convert:hover {\n",
              "      background-color: #434B5C;\n",
              "      box-shadow: 0px 1px 3px 1px rgba(0, 0, 0, 0.15);\n",
              "      filter: drop-shadow(0px 1px 2px rgba(0, 0, 0, 0.3));\n",
              "      fill: #FFFFFF;\n",
              "    }\n",
              "  </style>\n",
              "\n",
              "      <script>\n",
              "        const buttonEl =\n",
              "          document.querySelector('#df-6481a11d-7a1b-4057-bb63-998807f66289 button.colab-df-convert');\n",
              "        buttonEl.style.display =\n",
              "          google.colab.kernel.accessAllowed ? 'block' : 'none';\n",
              "\n",
              "        async function convertToInteractive(key) {\n",
              "          const element = document.querySelector('#df-6481a11d-7a1b-4057-bb63-998807f66289');\n",
              "          const dataTable =\n",
              "            await google.colab.kernel.invokeFunction('convertToInteractive',\n",
              "                                                     [key], {});\n",
              "          if (!dataTable) return;\n",
              "\n",
              "          const docLinkHtml = 'Like what you see? Visit the ' +\n",
              "            '<a target=\"_blank\" href=https://colab.research.google.com/notebooks/data_table.ipynb>data table notebook</a>'\n",
              "            + ' to learn more about interactive tables.';\n",
              "          element.innerHTML = '';\n",
              "          dataTable['output_type'] = 'display_data';\n",
              "          await google.colab.output.renderOutput(dataTable, element);\n",
              "          const docLink = document.createElement('div');\n",
              "          docLink.innerHTML = docLinkHtml;\n",
              "          element.appendChild(docLink);\n",
              "        }\n",
              "      </script>\n",
              "    </div>\n",
              "  </div>\n",
              "  "
            ]
          },
          "metadata": {},
          "execution_count": 35
        }
      ]
    },
    {
      "cell_type": "code",
      "source": [
        "km[km['Categories']==1].head()"
      ],
      "metadata": {
        "colab": {
          "base_uri": "https://localhost:8080/",
          "height": 206
        },
        "id": "cumoXrqMrrRc",
        "outputId": "d37f2723-53a7-4b69-8f81-580d5b9f1d55"
      },
      "execution_count": 36,
      "outputs": [
        {
          "output_type": "execute_result",
          "data": {
            "text/plain": [
              "                                              Comment  Categories\n",
              "7   studentweekly progress justifiably good charac...           1\n",
              "13  faced problem identifying symbol part asked qu...           1\n",
              "16  little delay constant supervision task finally...           1\n",
              "22         good knowledge whole process installation            1\n",
              "28             good attitude resilience isgood start            1"
            ],
            "text/html": [
              "\n",
              "  <div id=\"df-894fcce7-3710-4009-ba31-11b26b772117\">\n",
              "    <div class=\"colab-df-container\">\n",
              "      <div>\n",
              "<style scoped>\n",
              "    .dataframe tbody tr th:only-of-type {\n",
              "        vertical-align: middle;\n",
              "    }\n",
              "\n",
              "    .dataframe tbody tr th {\n",
              "        vertical-align: top;\n",
              "    }\n",
              "\n",
              "    .dataframe thead th {\n",
              "        text-align: right;\n",
              "    }\n",
              "</style>\n",
              "<table border=\"1\" class=\"dataframe\">\n",
              "  <thead>\n",
              "    <tr style=\"text-align: right;\">\n",
              "      <th></th>\n",
              "      <th>Comment</th>\n",
              "      <th>Categories</th>\n",
              "    </tr>\n",
              "  </thead>\n",
              "  <tbody>\n",
              "    <tr>\n",
              "      <th>7</th>\n",
              "      <td>studentweekly progress justifiably good charac...</td>\n",
              "      <td>1</td>\n",
              "    </tr>\n",
              "    <tr>\n",
              "      <th>13</th>\n",
              "      <td>faced problem identifying symbol part asked qu...</td>\n",
              "      <td>1</td>\n",
              "    </tr>\n",
              "    <tr>\n",
              "      <th>16</th>\n",
              "      <td>little delay constant supervision task finally...</td>\n",
              "      <td>1</td>\n",
              "    </tr>\n",
              "    <tr>\n",
              "      <th>22</th>\n",
              "      <td>good knowledge whole process installation</td>\n",
              "      <td>1</td>\n",
              "    </tr>\n",
              "    <tr>\n",
              "      <th>28</th>\n",
              "      <td>good attitude resilience isgood start</td>\n",
              "      <td>1</td>\n",
              "    </tr>\n",
              "  </tbody>\n",
              "</table>\n",
              "</div>\n",
              "      <button class=\"colab-df-convert\" onclick=\"convertToInteractive('df-894fcce7-3710-4009-ba31-11b26b772117')\"\n",
              "              title=\"Convert this dataframe to an interactive table.\"\n",
              "              style=\"display:none;\">\n",
              "        \n",
              "  <svg xmlns=\"http://www.w3.org/2000/svg\" height=\"24px\"viewBox=\"0 0 24 24\"\n",
              "       width=\"24px\">\n",
              "    <path d=\"M0 0h24v24H0V0z\" fill=\"none\"/>\n",
              "    <path d=\"M18.56 5.44l.94 2.06.94-2.06 2.06-.94-2.06-.94-.94-2.06-.94 2.06-2.06.94zm-11 1L8.5 8.5l.94-2.06 2.06-.94-2.06-.94L8.5 2.5l-.94 2.06-2.06.94zm10 10l.94 2.06.94-2.06 2.06-.94-2.06-.94-.94-2.06-.94 2.06-2.06.94z\"/><path d=\"M17.41 7.96l-1.37-1.37c-.4-.4-.92-.59-1.43-.59-.52 0-1.04.2-1.43.59L10.3 9.45l-7.72 7.72c-.78.78-.78 2.05 0 2.83L4 21.41c.39.39.9.59 1.41.59.51 0 1.02-.2 1.41-.59l7.78-7.78 2.81-2.81c.8-.78.8-2.07 0-2.86zM5.41 20L4 18.59l7.72-7.72 1.47 1.35L5.41 20z\"/>\n",
              "  </svg>\n",
              "      </button>\n",
              "      \n",
              "  <style>\n",
              "    .colab-df-container {\n",
              "      display:flex;\n",
              "      flex-wrap:wrap;\n",
              "      gap: 12px;\n",
              "    }\n",
              "\n",
              "    .colab-df-convert {\n",
              "      background-color: #E8F0FE;\n",
              "      border: none;\n",
              "      border-radius: 50%;\n",
              "      cursor: pointer;\n",
              "      display: none;\n",
              "      fill: #1967D2;\n",
              "      height: 32px;\n",
              "      padding: 0 0 0 0;\n",
              "      width: 32px;\n",
              "    }\n",
              "\n",
              "    .colab-df-convert:hover {\n",
              "      background-color: #E2EBFA;\n",
              "      box-shadow: 0px 1px 2px rgba(60, 64, 67, 0.3), 0px 1px 3px 1px rgba(60, 64, 67, 0.15);\n",
              "      fill: #174EA6;\n",
              "    }\n",
              "\n",
              "    [theme=dark] .colab-df-convert {\n",
              "      background-color: #3B4455;\n",
              "      fill: #D2E3FC;\n",
              "    }\n",
              "\n",
              "    [theme=dark] .colab-df-convert:hover {\n",
              "      background-color: #434B5C;\n",
              "      box-shadow: 0px 1px 3px 1px rgba(0, 0, 0, 0.15);\n",
              "      filter: drop-shadow(0px 1px 2px rgba(0, 0, 0, 0.3));\n",
              "      fill: #FFFFFF;\n",
              "    }\n",
              "  </style>\n",
              "\n",
              "      <script>\n",
              "        const buttonEl =\n",
              "          document.querySelector('#df-894fcce7-3710-4009-ba31-11b26b772117 button.colab-df-convert');\n",
              "        buttonEl.style.display =\n",
              "          google.colab.kernel.accessAllowed ? 'block' : 'none';\n",
              "\n",
              "        async function convertToInteractive(key) {\n",
              "          const element = document.querySelector('#df-894fcce7-3710-4009-ba31-11b26b772117');\n",
              "          const dataTable =\n",
              "            await google.colab.kernel.invokeFunction('convertToInteractive',\n",
              "                                                     [key], {});\n",
              "          if (!dataTable) return;\n",
              "\n",
              "          const docLinkHtml = 'Like what you see? Visit the ' +\n",
              "            '<a target=\"_blank\" href=https://colab.research.google.com/notebooks/data_table.ipynb>data table notebook</a>'\n",
              "            + ' to learn more about interactive tables.';\n",
              "          element.innerHTML = '';\n",
              "          dataTable['output_type'] = 'display_data';\n",
              "          await google.colab.output.renderOutput(dataTable, element);\n",
              "          const docLink = document.createElement('div');\n",
              "          docLink.innerHTML = docLinkHtml;\n",
              "          element.appendChild(docLink);\n",
              "        }\n",
              "      </script>\n",
              "    </div>\n",
              "  </div>\n",
              "  "
            ]
          },
          "metadata": {},
          "execution_count": 36
        }
      ]
    },
    {
      "cell_type": "code",
      "source": [
        "km[km['Categories']==2].head()"
      ],
      "metadata": {
        "colab": {
          "base_uri": "https://localhost:8080/",
          "height": 206
        },
        "id": "8_ielv6VrzKq",
        "outputId": "6e9e41ce-5717-417f-c610-ea888ddab87b"
      },
      "execution_count": 37,
      "outputs": [
        {
          "output_type": "execute_result",
          "data": {
            "text/plain": [
              "                                              Comment  Categories\n",
              "20  stephen diligent work made effort resolve issu...           2\n",
              "30  good progressexpect student work together period            2\n",
              "41  part challenging especially configuration term...           2\n",
              "68  learnt aspect wireless network work put practice            2\n",
              "87  given assignment work personal website wordpre...           2"
            ],
            "text/html": [
              "\n",
              "  <div id=\"df-221fc0e9-b544-436e-8c00-5581f51cf9f1\">\n",
              "    <div class=\"colab-df-container\">\n",
              "      <div>\n",
              "<style scoped>\n",
              "    .dataframe tbody tr th:only-of-type {\n",
              "        vertical-align: middle;\n",
              "    }\n",
              "\n",
              "    .dataframe tbody tr th {\n",
              "        vertical-align: top;\n",
              "    }\n",
              "\n",
              "    .dataframe thead th {\n",
              "        text-align: right;\n",
              "    }\n",
              "</style>\n",
              "<table border=\"1\" class=\"dataframe\">\n",
              "  <thead>\n",
              "    <tr style=\"text-align: right;\">\n",
              "      <th></th>\n",
              "      <th>Comment</th>\n",
              "      <th>Categories</th>\n",
              "    </tr>\n",
              "  </thead>\n",
              "  <tbody>\n",
              "    <tr>\n",
              "      <th>20</th>\n",
              "      <td>stephen diligent work made effort resolve issu...</td>\n",
              "      <td>2</td>\n",
              "    </tr>\n",
              "    <tr>\n",
              "      <th>30</th>\n",
              "      <td>good progressexpect student work together period</td>\n",
              "      <td>2</td>\n",
              "    </tr>\n",
              "    <tr>\n",
              "      <th>41</th>\n",
              "      <td>part challenging especially configuration term...</td>\n",
              "      <td>2</td>\n",
              "    </tr>\n",
              "    <tr>\n",
              "      <th>68</th>\n",
              "      <td>learnt aspect wireless network work put practice</td>\n",
              "      <td>2</td>\n",
              "    </tr>\n",
              "    <tr>\n",
              "      <th>87</th>\n",
              "      <td>given assignment work personal website wordpre...</td>\n",
              "      <td>2</td>\n",
              "    </tr>\n",
              "  </tbody>\n",
              "</table>\n",
              "</div>\n",
              "      <button class=\"colab-df-convert\" onclick=\"convertToInteractive('df-221fc0e9-b544-436e-8c00-5581f51cf9f1')\"\n",
              "              title=\"Convert this dataframe to an interactive table.\"\n",
              "              style=\"display:none;\">\n",
              "        \n",
              "  <svg xmlns=\"http://www.w3.org/2000/svg\" height=\"24px\"viewBox=\"0 0 24 24\"\n",
              "       width=\"24px\">\n",
              "    <path d=\"M0 0h24v24H0V0z\" fill=\"none\"/>\n",
              "    <path d=\"M18.56 5.44l.94 2.06.94-2.06 2.06-.94-2.06-.94-.94-2.06-.94 2.06-2.06.94zm-11 1L8.5 8.5l.94-2.06 2.06-.94-2.06-.94L8.5 2.5l-.94 2.06-2.06.94zm10 10l.94 2.06.94-2.06 2.06-.94-2.06-.94-.94-2.06-.94 2.06-2.06.94z\"/><path d=\"M17.41 7.96l-1.37-1.37c-.4-.4-.92-.59-1.43-.59-.52 0-1.04.2-1.43.59L10.3 9.45l-7.72 7.72c-.78.78-.78 2.05 0 2.83L4 21.41c.39.39.9.59 1.41.59.51 0 1.02-.2 1.41-.59l7.78-7.78 2.81-2.81c.8-.78.8-2.07 0-2.86zM5.41 20L4 18.59l7.72-7.72 1.47 1.35L5.41 20z\"/>\n",
              "  </svg>\n",
              "      </button>\n",
              "      \n",
              "  <style>\n",
              "    .colab-df-container {\n",
              "      display:flex;\n",
              "      flex-wrap:wrap;\n",
              "      gap: 12px;\n",
              "    }\n",
              "\n",
              "    .colab-df-convert {\n",
              "      background-color: #E8F0FE;\n",
              "      border: none;\n",
              "      border-radius: 50%;\n",
              "      cursor: pointer;\n",
              "      display: none;\n",
              "      fill: #1967D2;\n",
              "      height: 32px;\n",
              "      padding: 0 0 0 0;\n",
              "      width: 32px;\n",
              "    }\n",
              "\n",
              "    .colab-df-convert:hover {\n",
              "      background-color: #E2EBFA;\n",
              "      box-shadow: 0px 1px 2px rgba(60, 64, 67, 0.3), 0px 1px 3px 1px rgba(60, 64, 67, 0.15);\n",
              "      fill: #174EA6;\n",
              "    }\n",
              "\n",
              "    [theme=dark] .colab-df-convert {\n",
              "      background-color: #3B4455;\n",
              "      fill: #D2E3FC;\n",
              "    }\n",
              "\n",
              "    [theme=dark] .colab-df-convert:hover {\n",
              "      background-color: #434B5C;\n",
              "      box-shadow: 0px 1px 3px 1px rgba(0, 0, 0, 0.15);\n",
              "      filter: drop-shadow(0px 1px 2px rgba(0, 0, 0, 0.3));\n",
              "      fill: #FFFFFF;\n",
              "    }\n",
              "  </style>\n",
              "\n",
              "      <script>\n",
              "        const buttonEl =\n",
              "          document.querySelector('#df-221fc0e9-b544-436e-8c00-5581f51cf9f1 button.colab-df-convert');\n",
              "        buttonEl.style.display =\n",
              "          google.colab.kernel.accessAllowed ? 'block' : 'none';\n",
              "\n",
              "        async function convertToInteractive(key) {\n",
              "          const element = document.querySelector('#df-221fc0e9-b544-436e-8c00-5581f51cf9f1');\n",
              "          const dataTable =\n",
              "            await google.colab.kernel.invokeFunction('convertToInteractive',\n",
              "                                                     [key], {});\n",
              "          if (!dataTable) return;\n",
              "\n",
              "          const docLinkHtml = 'Like what you see? Visit the ' +\n",
              "            '<a target=\"_blank\" href=https://colab.research.google.com/notebooks/data_table.ipynb>data table notebook</a>'\n",
              "            + ' to learn more about interactive tables.';\n",
              "          element.innerHTML = '';\n",
              "          dataTable['output_type'] = 'display_data';\n",
              "          await google.colab.output.renderOutput(dataTable, element);\n",
              "          const docLink = document.createElement('div');\n",
              "          docLink.innerHTML = docLinkHtml;\n",
              "          element.appendChild(docLink);\n",
              "        }\n",
              "      </script>\n",
              "    </div>\n",
              "  </div>\n",
              "  "
            ]
          },
          "metadata": {},
          "execution_count": 37
        }
      ]
    },
    {
      "cell_type": "code",
      "source": [
        "km[km['Categories']==3].head()"
      ],
      "metadata": {
        "colab": {
          "base_uri": "https://localhost:8080/",
          "height": 206
        },
        "id": "1_fPsMtAr25H",
        "outputId": "b7e2e3b6-a6b5-4a01-9eb5-df617d6a5e73"
      },
      "execution_count": 38,
      "outputs": [
        {
          "output_type": "execute_result",
          "data": {
            "text/plain": [
              "          Comment  Categories\n",
              "326  progressive            3\n",
              "329  progressive            3\n",
              "330  progressive            3\n",
              "334  progressive            3\n",
              "335  progressive            3"
            ],
            "text/html": [
              "\n",
              "  <div id=\"df-de403acb-891e-4e5c-ac83-31f70974d61c\">\n",
              "    <div class=\"colab-df-container\">\n",
              "      <div>\n",
              "<style scoped>\n",
              "    .dataframe tbody tr th:only-of-type {\n",
              "        vertical-align: middle;\n",
              "    }\n",
              "\n",
              "    .dataframe tbody tr th {\n",
              "        vertical-align: top;\n",
              "    }\n",
              "\n",
              "    .dataframe thead th {\n",
              "        text-align: right;\n",
              "    }\n",
              "</style>\n",
              "<table border=\"1\" class=\"dataframe\">\n",
              "  <thead>\n",
              "    <tr style=\"text-align: right;\">\n",
              "      <th></th>\n",
              "      <th>Comment</th>\n",
              "      <th>Categories</th>\n",
              "    </tr>\n",
              "  </thead>\n",
              "  <tbody>\n",
              "    <tr>\n",
              "      <th>326</th>\n",
              "      <td>progressive</td>\n",
              "      <td>3</td>\n",
              "    </tr>\n",
              "    <tr>\n",
              "      <th>329</th>\n",
              "      <td>progressive</td>\n",
              "      <td>3</td>\n",
              "    </tr>\n",
              "    <tr>\n",
              "      <th>330</th>\n",
              "      <td>progressive</td>\n",
              "      <td>3</td>\n",
              "    </tr>\n",
              "    <tr>\n",
              "      <th>334</th>\n",
              "      <td>progressive</td>\n",
              "      <td>3</td>\n",
              "    </tr>\n",
              "    <tr>\n",
              "      <th>335</th>\n",
              "      <td>progressive</td>\n",
              "      <td>3</td>\n",
              "    </tr>\n",
              "  </tbody>\n",
              "</table>\n",
              "</div>\n",
              "      <button class=\"colab-df-convert\" onclick=\"convertToInteractive('df-de403acb-891e-4e5c-ac83-31f70974d61c')\"\n",
              "              title=\"Convert this dataframe to an interactive table.\"\n",
              "              style=\"display:none;\">\n",
              "        \n",
              "  <svg xmlns=\"http://www.w3.org/2000/svg\" height=\"24px\"viewBox=\"0 0 24 24\"\n",
              "       width=\"24px\">\n",
              "    <path d=\"M0 0h24v24H0V0z\" fill=\"none\"/>\n",
              "    <path d=\"M18.56 5.44l.94 2.06.94-2.06 2.06-.94-2.06-.94-.94-2.06-.94 2.06-2.06.94zm-11 1L8.5 8.5l.94-2.06 2.06-.94-2.06-.94L8.5 2.5l-.94 2.06-2.06.94zm10 10l.94 2.06.94-2.06 2.06-.94-2.06-.94-.94-2.06-.94 2.06-2.06.94z\"/><path d=\"M17.41 7.96l-1.37-1.37c-.4-.4-.92-.59-1.43-.59-.52 0-1.04.2-1.43.59L10.3 9.45l-7.72 7.72c-.78.78-.78 2.05 0 2.83L4 21.41c.39.39.9.59 1.41.59.51 0 1.02-.2 1.41-.59l7.78-7.78 2.81-2.81c.8-.78.8-2.07 0-2.86zM5.41 20L4 18.59l7.72-7.72 1.47 1.35L5.41 20z\"/>\n",
              "  </svg>\n",
              "      </button>\n",
              "      \n",
              "  <style>\n",
              "    .colab-df-container {\n",
              "      display:flex;\n",
              "      flex-wrap:wrap;\n",
              "      gap: 12px;\n",
              "    }\n",
              "\n",
              "    .colab-df-convert {\n",
              "      background-color: #E8F0FE;\n",
              "      border: none;\n",
              "      border-radius: 50%;\n",
              "      cursor: pointer;\n",
              "      display: none;\n",
              "      fill: #1967D2;\n",
              "      height: 32px;\n",
              "      padding: 0 0 0 0;\n",
              "      width: 32px;\n",
              "    }\n",
              "\n",
              "    .colab-df-convert:hover {\n",
              "      background-color: #E2EBFA;\n",
              "      box-shadow: 0px 1px 2px rgba(60, 64, 67, 0.3), 0px 1px 3px 1px rgba(60, 64, 67, 0.15);\n",
              "      fill: #174EA6;\n",
              "    }\n",
              "\n",
              "    [theme=dark] .colab-df-convert {\n",
              "      background-color: #3B4455;\n",
              "      fill: #D2E3FC;\n",
              "    }\n",
              "\n",
              "    [theme=dark] .colab-df-convert:hover {\n",
              "      background-color: #434B5C;\n",
              "      box-shadow: 0px 1px 3px 1px rgba(0, 0, 0, 0.15);\n",
              "      filter: drop-shadow(0px 1px 2px rgba(0, 0, 0, 0.3));\n",
              "      fill: #FFFFFF;\n",
              "    }\n",
              "  </style>\n",
              "\n",
              "      <script>\n",
              "        const buttonEl =\n",
              "          document.querySelector('#df-de403acb-891e-4e5c-ac83-31f70974d61c button.colab-df-convert');\n",
              "        buttonEl.style.display =\n",
              "          google.colab.kernel.accessAllowed ? 'block' : 'none';\n",
              "\n",
              "        async function convertToInteractive(key) {\n",
              "          const element = document.querySelector('#df-de403acb-891e-4e5c-ac83-31f70974d61c');\n",
              "          const dataTable =\n",
              "            await google.colab.kernel.invokeFunction('convertToInteractive',\n",
              "                                                     [key], {});\n",
              "          if (!dataTable) return;\n",
              "\n",
              "          const docLinkHtml = 'Like what you see? Visit the ' +\n",
              "            '<a target=\"_blank\" href=https://colab.research.google.com/notebooks/data_table.ipynb>data table notebook</a>'\n",
              "            + ' to learn more about interactive tables.';\n",
              "          element.innerHTML = '';\n",
              "          dataTable['output_type'] = 'display_data';\n",
              "          await google.colab.output.renderOutput(dataTable, element);\n",
              "          const docLink = document.createElement('div');\n",
              "          docLink.innerHTML = docLinkHtml;\n",
              "          element.appendChild(docLink);\n",
              "        }\n",
              "      </script>\n",
              "    </div>\n",
              "  </div>\n",
              "  "
            ]
          },
          "metadata": {},
          "execution_count": 38
        }
      ]
    },
    {
      "cell_type": "code",
      "source": [
        "# Making a Categories column and putting the values there\n",
        "# Having a look at the data\n",
        "km[km['Categories']==4].head()"
      ],
      "metadata": {
        "colab": {
          "base_uri": "https://localhost:8080/",
          "height": 206
        },
        "id": "FMdngIsLK44l",
        "outputId": "0158805d-8ac4-41f8-8e42-bfb14f07b6b6"
      },
      "execution_count": 39,
      "outputs": [
        {
          "output_type": "execute_result",
          "data": {
            "text/plain": [
              "                                               Comment  Categories\n",
              "5                             activity well completed            4\n",
              "14   activity took time completed completed satisfa...           4\n",
              "19                               noted task completed            4\n",
              "101                            completed satisfaction            4\n",
              "111                            completed satisfaction            4"
            ],
            "text/html": [
              "\n",
              "  <div id=\"df-e19d2726-c404-4b09-a7f2-e5df4eb4039a\">\n",
              "    <div class=\"colab-df-container\">\n",
              "      <div>\n",
              "<style scoped>\n",
              "    .dataframe tbody tr th:only-of-type {\n",
              "        vertical-align: middle;\n",
              "    }\n",
              "\n",
              "    .dataframe tbody tr th {\n",
              "        vertical-align: top;\n",
              "    }\n",
              "\n",
              "    .dataframe thead th {\n",
              "        text-align: right;\n",
              "    }\n",
              "</style>\n",
              "<table border=\"1\" class=\"dataframe\">\n",
              "  <thead>\n",
              "    <tr style=\"text-align: right;\">\n",
              "      <th></th>\n",
              "      <th>Comment</th>\n",
              "      <th>Categories</th>\n",
              "    </tr>\n",
              "  </thead>\n",
              "  <tbody>\n",
              "    <tr>\n",
              "      <th>5</th>\n",
              "      <td>activity well completed</td>\n",
              "      <td>4</td>\n",
              "    </tr>\n",
              "    <tr>\n",
              "      <th>14</th>\n",
              "      <td>activity took time completed completed satisfa...</td>\n",
              "      <td>4</td>\n",
              "    </tr>\n",
              "    <tr>\n",
              "      <th>19</th>\n",
              "      <td>noted task completed</td>\n",
              "      <td>4</td>\n",
              "    </tr>\n",
              "    <tr>\n",
              "      <th>101</th>\n",
              "      <td>completed satisfaction</td>\n",
              "      <td>4</td>\n",
              "    </tr>\n",
              "    <tr>\n",
              "      <th>111</th>\n",
              "      <td>completed satisfaction</td>\n",
              "      <td>4</td>\n",
              "    </tr>\n",
              "  </tbody>\n",
              "</table>\n",
              "</div>\n",
              "      <button class=\"colab-df-convert\" onclick=\"convertToInteractive('df-e19d2726-c404-4b09-a7f2-e5df4eb4039a')\"\n",
              "              title=\"Convert this dataframe to an interactive table.\"\n",
              "              style=\"display:none;\">\n",
              "        \n",
              "  <svg xmlns=\"http://www.w3.org/2000/svg\" height=\"24px\"viewBox=\"0 0 24 24\"\n",
              "       width=\"24px\">\n",
              "    <path d=\"M0 0h24v24H0V0z\" fill=\"none\"/>\n",
              "    <path d=\"M18.56 5.44l.94 2.06.94-2.06 2.06-.94-2.06-.94-.94-2.06-.94 2.06-2.06.94zm-11 1L8.5 8.5l.94-2.06 2.06-.94-2.06-.94L8.5 2.5l-.94 2.06-2.06.94zm10 10l.94 2.06.94-2.06 2.06-.94-2.06-.94-.94-2.06-.94 2.06-2.06.94z\"/><path d=\"M17.41 7.96l-1.37-1.37c-.4-.4-.92-.59-1.43-.59-.52 0-1.04.2-1.43.59L10.3 9.45l-7.72 7.72c-.78.78-.78 2.05 0 2.83L4 21.41c.39.39.9.59 1.41.59.51 0 1.02-.2 1.41-.59l7.78-7.78 2.81-2.81c.8-.78.8-2.07 0-2.86zM5.41 20L4 18.59l7.72-7.72 1.47 1.35L5.41 20z\"/>\n",
              "  </svg>\n",
              "      </button>\n",
              "      \n",
              "  <style>\n",
              "    .colab-df-container {\n",
              "      display:flex;\n",
              "      flex-wrap:wrap;\n",
              "      gap: 12px;\n",
              "    }\n",
              "\n",
              "    .colab-df-convert {\n",
              "      background-color: #E8F0FE;\n",
              "      border: none;\n",
              "      border-radius: 50%;\n",
              "      cursor: pointer;\n",
              "      display: none;\n",
              "      fill: #1967D2;\n",
              "      height: 32px;\n",
              "      padding: 0 0 0 0;\n",
              "      width: 32px;\n",
              "    }\n",
              "\n",
              "    .colab-df-convert:hover {\n",
              "      background-color: #E2EBFA;\n",
              "      box-shadow: 0px 1px 2px rgba(60, 64, 67, 0.3), 0px 1px 3px 1px rgba(60, 64, 67, 0.15);\n",
              "      fill: #174EA6;\n",
              "    }\n",
              "\n",
              "    [theme=dark] .colab-df-convert {\n",
              "      background-color: #3B4455;\n",
              "      fill: #D2E3FC;\n",
              "    }\n",
              "\n",
              "    [theme=dark] .colab-df-convert:hover {\n",
              "      background-color: #434B5C;\n",
              "      box-shadow: 0px 1px 3px 1px rgba(0, 0, 0, 0.15);\n",
              "      filter: drop-shadow(0px 1px 2px rgba(0, 0, 0, 0.3));\n",
              "      fill: #FFFFFF;\n",
              "    }\n",
              "  </style>\n",
              "\n",
              "      <script>\n",
              "        const buttonEl =\n",
              "          document.querySelector('#df-e19d2726-c404-4b09-a7f2-e5df4eb4039a button.colab-df-convert');\n",
              "        buttonEl.style.display =\n",
              "          google.colab.kernel.accessAllowed ? 'block' : 'none';\n",
              "\n",
              "        async function convertToInteractive(key) {\n",
              "          const element = document.querySelector('#df-e19d2726-c404-4b09-a7f2-e5df4eb4039a');\n",
              "          const dataTable =\n",
              "            await google.colab.kernel.invokeFunction('convertToInteractive',\n",
              "                                                     [key], {});\n",
              "          if (!dataTable) return;\n",
              "\n",
              "          const docLinkHtml = 'Like what you see? Visit the ' +\n",
              "            '<a target=\"_blank\" href=https://colab.research.google.com/notebooks/data_table.ipynb>data table notebook</a>'\n",
              "            + ' to learn more about interactive tables.';\n",
              "          element.innerHTML = '';\n",
              "          dataTable['output_type'] = 'display_data';\n",
              "          await google.colab.output.renderOutput(dataTable, element);\n",
              "          const docLink = document.createElement('div');\n",
              "          docLink.innerHTML = docLinkHtml;\n",
              "          element.appendChild(docLink);\n",
              "        }\n",
              "      </script>\n",
              "    </div>\n",
              "  </div>\n",
              "  "
            ]
          },
          "metadata": {},
          "execution_count": 39
        }
      ]
    },
    {
      "cell_type": "code",
      "source": [
        "# km['Categories'].replace({0:'Very Poor',1:'Poor',2:'Good',3:'Neutral',4:'Excellent'},inplace=True)\n",
        "\n",
        "km['Categories'].replace({0:'Poor',1:'Good',2:'Very Poor',3:'Neutral',4:'Excellent'},inplace=True)"
      ],
      "metadata": {
        "id": "tDg1j76zr6V9"
      },
      "execution_count": 40,
      "outputs": []
    },
    {
      "cell_type": "code",
      "source": [
        "kmeans_vector=tf.fit_transform(km['Comment'].values)\n",
        "pca3 = PCA(n_components=3).fit_transform(kmeans_vector.todense())\n",
        "px.scatter_3d(x=pca3[:,0],y=pca3[:,1],z=pca3[:,2],color=km['Categories'].values)"
      ],
      "metadata": {
        "colab": {
          "base_uri": "https://localhost:8080/",
          "height": 597
        },
        "id": "ktT9V5uTYWnV",
        "outputId": "6ed44d78-7d6f-4ff2-b0b7-f71b106aee3f"
      },
      "execution_count": 41,
      "outputs": [
        {
          "output_type": "stream",
          "name": "stderr",
          "text": [
            "/usr/local/lib/python3.7/dist-packages/sklearn/utils/validation.py:598: FutureWarning: np.matrix usage is deprecated in 1.0 and will raise a TypeError in 1.2. Please convert to a numpy array with np.asarray. For more information see: https://numpy.org/doc/stable/reference/generated/numpy.matrix.html\n",
            "  FutureWarning,\n"
          ]
        },
        {
          "output_type": "display_data",
          "data": {
            "text/html": [
              "<html>\n",
              "<head><meta charset=\"utf-8\" /></head>\n",
              "<body>\n",
              "    <div>            <script src=\"https://cdnjs.cloudflare.com/ajax/libs/mathjax/2.7.5/MathJax.js?config=TeX-AMS-MML_SVG\"></script><script type=\"text/javascript\">if (window.MathJax) {MathJax.Hub.Config({SVG: {font: \"STIX-Web\"}});}</script>                <script type=\"text/javascript\">window.PlotlyConfig = {MathJaxConfig: 'local'};</script>\n",
              "        <script src=\"https://cdn.plot.ly/plotly-2.8.3.min.js\"></script>                <div id=\"d711e9aa-ee48-4f45-ac83-62396e1c1ba2\" class=\"plotly-graph-div\" style=\"height:525px; width:100%;\"></div>            <script type=\"text/javascript\">                                    window.PLOTLYENV=window.PLOTLYENV || {};                                    if (document.getElementById(\"d711e9aa-ee48-4f45-ac83-62396e1c1ba2\")) {                    Plotly.newPlot(                        \"d711e9aa-ee48-4f45-ac83-62396e1c1ba2\",                        [{\"hovertemplate\":\"color=Poor<br>x=%{x}<br>y=%{y}<br>z=%{z}<extra></extra>\",\"legendgroup\":\"Poor\",\"marker\":{\"color\":\"#636efa\",\"symbol\":\"circle\"},\"mode\":\"markers\",\"name\":\"Poor\",\"scene\":\"scene\",\"showlegend\":true,\"x\":[-0.02428448724360086,-0.04069945441615498,-0.029564595967583308,-0.04474046579403405,-0.04820583216019304,-0.046425985376817615,-0.026297395067553294,-0.0309654497641368,-0.030183237126188825,-0.030832269929606974,-0.02489852182663451,-0.032566874037314494,-0.033915806981433996,-0.03995551070159257,-0.026297395067553294,-0.023432521918541917,-0.0351552330196962,-0.049260864157979256,-0.049260864157979256,-0.04155935016033563,-0.038724204427468614,-0.04209561473852376,-0.03639139116382974,-0.038639862314677524,-0.031748886501529454,-0.030129107559193437,-0.03918515848457745,-0.040115559295798534,-0.040015292302869036,-0.0411166778301505,-0.0347964284753612,-0.02673719472705215,-0.03091594637014257,-0.04574132166637134,-0.03331240407820068,-0.03785718507058003,-0.03610690895532845,-0.031047696468591165,-0.025752895233119875,-0.031047696468591165,-0.035292222564423235,-0.04942047373881335,-0.028076218990350257,-0.045306524103159995,-0.028853433097608093,-0.026633131145023962,-0.028495653963873564,-0.03002756133516939,-0.026834455101212074,-0.029551153121859516,-0.03478383154485676,-0.032425023090974885,-0.02909914235283198,-0.04378072392131684,-0.05305827311124725,-0.04227486690460354,-0.036478254789618164,-0.048007407254747274,-0.028217322458466115,-0.024284487243601365,-0.028398810487793975,-0.031325852223148064,-0.025752895233119875,-0.04030501285109415,-0.04060824527925119,-0.036332227058058233,-0.043689133290817826,-0.03437074788406206,-0.027785989254550895,-0.03154385383485432,-0.03986750597420285,-0.0279847395101146,-0.026297395067553294,-0.033272183690206826,-0.024284487243601365,-0.030691178680334382,-0.024284487243601365,-0.034636808927919774,-0.028332798295220025,-0.03363137436628553,-0.03438759628069096,-0.03610618792730559,-0.03874659649359365,-0.05546217381415649,-0.026868413712549537,-0.03839502198649194,-0.03890687883131268,-0.04439705960203789,-0.035371619173310775,-0.045353871805718864,-0.03626735608458288,-0.026349684167638766,-0.03767524727871915,-0.02920756929449601,-0.03161696069667491,-0.025752895233119875,-0.025752895233119875,-0.025752895233119875,-0.033940267147105664,-0.025752895233119875,-0.033479197745568214,-0.03665099124271246,-0.03381450796233187,-0.030652938226456036,-0.05322280626453724,-0.027733447353652917,-0.03245711388763745,-0.052637695586760694,-0.06273037584564904,-0.033518897811803575,-0.040714332989982005,-0.04267064140105815,-0.0359291318766155,-0.03816496820776073,-0.050457699376969485,-0.029782609265410105,-0.02555546539212607,-0.03211381947121368,-0.047538563320959404,-0.040322424084959084,-0.04295558421534532,-0.03538783431764574,-0.034501913806508716,-0.032054123686579075,-0.03609152797173296,-0.03559898208457787,-0.051561130813216484,-0.028575991673214635,-0.04445162792158127,-0.04712897420029667,-0.03547254522009087,-0.037007762534513225,-0.034561375240765996,-0.04010751571187203,-0.037007762534513225,-0.046192054552170084,-0.03720954330250139,-0.04190495896653461,-0.03866190122736642,-0.034732316956256254,-0.028575991673214635,-0.04179277177197609,-0.025072099779698726,-0.0373472665255419,-0.0317525452208619,-0.05177066741601387,-0.043137146011623384,-0.0487748673625733,-0.041697308771313,-0.038557610188624525,-0.029782609265410105,-0.04496643974681839,-0.03490061420059318,-0.028575991673214635,-0.034361058317665415,-0.047245419555445,-0.04726516299753836,-0.03268248827640684,-0.04001080861301749,-0.03337665217023783,-0.0387417372734804,-0.0453004842577346,-0.045379046144254746,-0.04580854466963562,-0.039029524122204874,-0.024284487243601365,-0.05321285489505718,-0.04291530771797005,-0.04319505196451623,-0.03319156893822728,-0.03909373408675303,-0.04709131857784083,-0.0313673874511314,-0.03925538160812882,-0.03430841867651739,-0.03430841867651739,-0.028240405446282656,-0.03171955531101501,-0.06006608745204272,-0.038161121780225925,-0.02916065039361371,-0.03313011384794927,-0.047027503509726086,-0.026282190638709714,-0.038916599880458924,-0.03249188493803553,-0.02776404512380391,-0.038503411977431394,-0.03234353292445835,-0.02514733484001322,-0.03507261820732114,-0.03563624541200276,-0.03402984018511822,-0.04554973533293104,-0.04578120141948746,-0.04616715422682493,-0.04286394028262114,-0.039570769412225516,-0.03968790162745838,-0.0359995807957095,-0.03535148336698271,-0.035299017012089436,-0.02673983376027492,-0.037838632957581504,-0.0317615411574377,-0.04099186589657649,-0.030603817067626465,-0.03673413225073355,-0.04055758797825753,-0.03340407770121524,-0.033446339705681644,-0.0434728673264132,-0.03612141599349269,-0.029740753649003443,-0.030172763024042686,-0.03424096803434648,-0.03546021717698111,-0.030407480460846816,-0.044682951711686014,-0.04109266154269618,-0.03162708378828901,-0.04395872089973348,-0.04188362238064929,-0.0474169549667128,-0.03596877031780248,0.35901235799671966,-0.05128210488118859,-0.03968736340218001,-0.039678619152930465,-0.03291859741176472,-0.032493741259952566,0.2972455317902345,-0.0418061838551357,-0.038937881956751304,-0.021574917854131143,0.20756020131557018,-0.025139029083403323,-0.02723197257388638,-0.023082139393273044,0.2819077733944428,-0.040973733113714474,-0.04194369114387341,0.2431690739291374,-0.03694228100908931,-0.04288403497725174,-0.050798436775739246,-0.05143268093053198,-0.05083407137733969,-0.04159308864941002,0.34071773726208227,-0.025260386440775353,-0.024284487243601365,-0.03228993607647854,-0.03160899217926396,-0.05160420182908577,-0.05138571794374697,-0.04758776196241065,-0.03692242732856403,-0.03192540293776566,-0.028713961806547054,-0.03123458391679124,-0.034972716999910204,-0.0405591097347058,-0.05108108838541765,-0.04217513662393248,-0.0403340125830507,-0.03821475768450636,-0.04000029228092907,-0.042436440312176416,-0.055896218412215655,-0.041428712651200815,-0.04749466535121342,-0.03816891688613403,-0.04614901654966111,-0.02745131939954516,-0.052847734566212,-0.028398900382354958,-0.027312948750362588,-0.04787224272816826,-0.029379513311764277,-0.05004330797763578,-0.03914387903620341,-0.036280550838674604,-0.044251501773764045,-0.03387742157040831,-0.04752225530732699,-0.047174874942349496,-0.036746607355236806,-0.04384179213506342,-0.03819041359801706,-0.03960262020451945,-0.029199071184974168,-0.031650993870999684,-0.03356122037827941,-0.04221868466035886,-0.04492597211656504,-0.049716735474322704,-0.03952813862655891,-0.051510764789360675,-0.042590242455631803,-0.03402780507340124,-0.04632746283404036,-0.03874624135403117,-0.0461097547932472,-0.04048774733618822,-0.04606521675827309,-0.034868722519213816,-0.044168968251292566,-0.03291859741176472,-0.04313123908078744,-0.038958911175505616,-0.04473182661357339,-0.02705540187962912,-0.03838552354919116,-0.03623748767893887,-0.04465238759067409,-0.04254070770859112,-0.037615522288224616,-0.03925739827310727,-0.03925739827310727,-0.02989012470346692,-0.03996857335197809,-0.040999818468512104,-0.04084072321360825,-0.03824107072161866,-0.030960169254927967,-0.03729657079303991,-0.040142372058764225,-0.035862072501536134,-0.03683997111155839,-0.03719109686114424,-0.025706442664417364,-0.03900561969851401,-0.043603710185980374,-0.04080215696040408,-0.032382213537417666,-0.027159656440756793,-0.05412078559024387,-0.05625218001782096,-0.03127649056200384,-0.03919356764221055,-0.03710125733773973,-0.03451094222477545,-0.04919028385464552,-0.04008095448683518,-0.02670726957615597,-0.044670781734675244,-0.043284483782100806,0.3991491409910115,-0.03879238229679852,-0.025752895233119875,-0.04130821826551775,-0.04283820486180117,-0.04552902572634124,-0.04442944736050668,-0.03945815691376464,-0.04157654412802519,-0.0460276976437617,-0.056828220585103714,-0.029237126513313713,-0.03662127606783613,-0.056485206409756336,-0.03834448280952861,-0.05702952117338055,-0.051127794929000873,-0.04138715445980703,-0.034969342323785124,-0.024284487243601365,-0.03961533247119248,-0.031105628142429214,-0.039611350943775984,-0.05630192754454356,-0.04347752272520029,-0.04624595002212706,-0.036827097281997394,-0.040520312339371665,-0.03365647297435094,-0.03092121459551594,-0.04849303028101111,-0.03846722444075996,-0.046460629582026576,-0.03664915899904625,-0.0380922164623247,-0.04427095126085512,-0.04384892686352474,-0.04358270719422655,-0.032375005520233875,-0.036759826846905076,-0.04591397076947796,-0.05128361170777696,-0.04651575267277482,-0.041469168931691655,-0.03450054471911388,-0.04608406187999351,-0.03547817446856873,-0.04303412399116353,-0.04270162340203969,-0.044068475513055594,-0.044153686099738944,-0.043178506602415054,-0.05483570393739819,-0.04145656829110795,-0.049979151777684507,-0.04716691470963583,-0.02884007599472884,-0.05483570393739819,-0.0477050855164493,-0.025031913726665602,-0.030829574331886992,-0.03611856860957143,-0.02817053863640756,-0.04735707770032931,-0.05595685764717566,-0.036991817994052184,-0.04418060980090707,-0.03879853627560979,-0.036280550838674604,-0.03343189043151081,-0.03771886753828293,-0.02851088478646904,-0.03829893254180081,-0.04586755720845277,-0.042548299597029014,-0.031003036585266805,-0.028694097750179278,-0.03996460133197315,-0.03446853825138645,-0.04514669574181492,-0.03945578626726028,-0.05467028883642384,-0.04647414385739023,-0.0379736775662666,-0.03609099900400423,-0.040028500257097185,-0.03796749209717856,-0.03712987474424231,-0.03698725537994763,-0.04064685520057137,-0.03521667774865885,-0.042823557283832914,-0.03148886556842012,-0.04027901284084121,-0.03833117486135215,-0.05025083444574292,-0.03889706134549029,0.28766559631411337,-0.036819928921179704,-0.04060976174520834,-0.026791617778407422,-0.050942426248348355,-0.04585283485046945,-0.044220644131871246,-0.03688549051588684,-0.052806284337158005,-0.03761579374190306,0.22725635770387773,-0.03876037136781558,-0.03670706793431624,-0.03201115240281368,-0.03426766753791876,-0.04091589463143339,-0.034768046208106765,-0.03937749433593112,-0.04972718847027888,-0.044349785409336075,-0.04288649384564182,-0.029348376790193392,-0.043182594154377224,-0.04383735450725482,-0.04139939558229633,-0.04858489324606417,-0.02898744722662299,-0.04275823566186612,-0.048221028706154044,-0.03220497700385822,0.2657524610311137,-0.04012259680194679,-0.028581045504517243,-0.04775524524542611,-0.04491501450433893,-0.027373347821763334,-0.03846204875441079,-0.045296680934888076,-0.04762414824947563,-0.053435816550746494,-0.046053597137804686,-0.045393382220192756,-0.031753295141909436,-0.03385433723256409,-0.0460350256096494,-0.04209159412086674,-0.04501988096567211,-0.04503970117751275,-0.045569334008404655,-0.03647206460738461,-0.03909363232855818,-0.049860716779625724,-0.045074498245099986,-0.037085922678948086,-0.050554486627430464,-0.04294191061319781,-0.04042787491868538,-0.04623276614020496,-0.04288649384564182,-0.04524388530706549,-0.048094958316150224,-0.060255809234331346,-0.032924493263024365,0.38865701168429895,-0.03991960946681548,-0.04032560699793402,-0.042190510592237954,-0.04573681548679436,-0.0468222913868738,-0.03951674484373278,-0.04666813078755149,-0.04435342628711106,-0.03592013765636555,-0.045423818633956746,-0.03673384385395764,-0.0521638855949488,-0.02794937043836327,-0.04130977552791414,-0.03410596322440571,-0.04327269504308287,-0.043203874411001535,-0.054198514143365094,-0.037044451557857835,-0.04507784878720592,-0.0425673955590279,-0.04533863285492171,-0.03538972419292723,-0.03665182174257616,-0.054041217481676,-0.039852756250084956,-0.037617240531080044,-0.03731237000891417,-0.05766137909049807,-0.04486564223437884,-0.034764035490193614,-0.04592986335119725,-0.04251889147199574,-0.04576213683086706,-0.055962849995597606,-0.033058361680393826,-0.037987846780192396,-0.042387825215329106,-0.03802790587334193,-0.039595990941359786,-0.045106925993206134,0.3583260388346369,-0.03697459873951285,-0.02606584034516306,-0.048229729042418325,-0.02974848571208885,-0.03760134432538816,-0.037754292596958186,-0.03864540906792761,-0.04026106016338996,-0.03363651888316488,-0.03878693110582383,-0.034387296393033374,0.23279345661635883,-0.04332731169825876,-0.04640407524709603,-0.04721407155379068,-0.04364936478878192,-0.044335337680352575,-0.03429348989985445,-0.030537311089034413,-0.04188657323985931,-0.04124732947029783,-0.04180933907155193,-0.044167970935204866,-0.03165938219988683,-0.03251715210934079,-0.03126611703601464,-0.037596969130506544,-0.046671486080001635,-0.04068605883349041,-0.029412196587736708,-0.036044511060803856,-0.02673254019129373,-0.046131476482977156,-0.038633112758165285,-0.04426587357075027,-0.0388416909087409,0.29452980869231016,-0.04298698093055385,-0.04826608201864881,-0.03866334802260521,-0.048709343716723974,-0.056467826289387915,-0.031088557083958933,-0.042407731920334,-0.030492453957168743,-0.036655371600115054,-0.02373324535855428,-0.03678861900096932,-0.04348232822308876,-0.0331667049561812,-0.05211297651413051,-0.04723349891777281,0.365986738568135,-0.03802852628886677,-0.036697958382430305,-0.026462804144611888,-0.04723349891777281,-0.031980329025854466,-0.027103142811164587,-0.031535682839036495,-0.05659894149835327,-0.03299891112601759,-0.025555034883192308,-0.051029330310355996,-0.03598593477152365,-0.033462802026415925,-0.038756124356913425,-0.035196796603890114,-0.035214057787082254,-0.042204305179633965,-0.03379240240826153,-0.05662684995768703,-0.0597636707995971,-0.042389154417996275,-0.03916153958579574,-0.034681112610970934,-0.059104438569834244,-0.03483659583299997,-0.05219421638881481,-0.049969067124714474,-0.04192243061586095,-0.05565603208298633,-0.040083151855340775,-0.026874034863795495,-0.03481724916918323,-0.041294595033869806,-0.03707561923140084,-0.04246141072406764,-0.032322466144869715,-0.05611212644436213,-0.02708001709899168,-0.03650932072306058,-0.040491077683426614,-0.028278033767097574,-0.04723349891777281,-0.032415933929898576,-0.029016899892739312,-0.052648352846857205,-0.041119360880494026,-0.049860716779625724,-0.04202568609355089,-0.056038811327684325,-0.04632810494277624,-0.028578415969839926,-0.037976848236687115,-0.03334424948981891,-0.0363772950204572,-0.035143835171487024,-0.04081098476230499,-0.03803538490381832,-0.033703173111284186,-0.04108220201166417,-0.05525003904149195,-0.03858994215533906,-0.030537429210497978,-0.025752895233119875,-0.044191297750685546,-0.03859768325624807,0.32016483340712143,-0.0343825453116739,-0.0371220905962386,-0.028575991673214635,-0.04111634747981049,-0.032649535859575536,-0.0440800414566011,-0.030228801876186227,-0.039417918741158346,-0.04138303116089814,-0.03388063206382558,-0.04103019513939756,-0.03902100393019245,-0.05118461803906072,-0.037024948318522655,-0.023082139393273044,-0.02746384144440038,-0.03865853342317191,-0.03873001610557483,-0.03314902297245622,-0.051038773203195525,-0.041517342520682884,-0.043562374921035006,-0.027033920680020376,-0.03440897474548054,-0.04846672378650463,-0.02995330582642715,-0.0390731095282156,-0.028515406798722737,-0.047805671909248136,-0.026540448918648773,-0.030343646229365428,-0.03961809060793377,-0.04413863831794027,-0.023863709342182706,-0.062307901190183694,-0.030839867868684874,-0.02260020185438383,-0.028265183603029195,-0.03487011762074945,-0.034298652700150395,-0.038425579666823875,-0.045377986763819184,-0.04415083336488669,-0.0367797733276321,-0.033180390041854434,-0.026540448918648773,-0.04246937782167192,-0.038060578580392884,-0.03415209345146871,-0.04988729095885947,-0.045113511077473425,-0.05530461472598519,-0.0427804600734515,-0.030682179521650737,-0.04807686806869266,-0.028885659193207708,-0.03951112187977466,-0.03523534202771096,-0.03979011337965009,-0.03859411513367136,-0.043201519657182004,-0.047844948259696915,-0.05090654821532667,-0.05055987176919043,-0.03938012564247046,-0.033570083099010925,-0.03511521177375828,-0.034438107624568254,-0.039917892017251246,-0.03650545262683647,-0.06340856610194784,-0.037277139245271644,-0.04585172532371177,-0.039065578524008646,-0.04765052819492602,-0.04386886314036703,-0.0381490386571235,-0.031535682839036495,-0.029949020448417137,-0.04173948056936962,-0.03376607792348162,-0.055395448545296586,-0.05208138485811217,-0.036996433886461434,-0.03311157187936655,-0.036666733805475346,-0.035525842586626735,-0.03129132102791033,-0.02789685028188618,-0.04996302628063347,-0.03291123302142632,-0.05575957875369138,-0.039821723085678974,-0.03758649135257169,-0.030131826351088044,-0.03491890547771418,-0.03800076148898835,-0.034950657609591464,-0.05066406107287296,-0.03210491009177995,-0.04611563886524712,-0.03708078280941972,-0.04177972450362596,-0.03964802071598794,-0.039611141619144655,-0.03312814177949428,-0.033885347845213055,-0.041118294773227544,-0.03548459211379639,-0.0337487446337795,-0.04442485006739185,-0.04350922126160781,-0.03568412363023615,-0.04563583803527061,-0.03382067215528811,-0.04202475829966522,-0.03006672861876279,-0.027377662480153296,-0.0384762428403951,-0.04573259889088166,-0.03024544613219673,-0.029060601488054564,-0.039904501543148785,-0.03790790779285023,-0.04846672378650463,-0.04846672378650463,-0.024284487243601365,-0.03337294126316695,-0.039278846541767554,-0.04931710289535275,-0.03921011489113775,-0.050979351446080234,-0.03485620118668924,-0.033382074912375326,-0.03043861944433866,-0.024284487243601365,-0.026540448918648773,-0.05017249581881246,-0.032048206298412825,0.32450101517637664,-0.037722891713410436,-0.030994727811563264,-0.04391502686342011,-0.04630427648591272,-0.03648306206495032,-0.02237991926044559,-0.04390603429303184,-0.0369380372235758,-0.036763529160555836,-0.03600665924052743,-0.024284487243601365,-0.024521244367277407,-0.043736180352760175,0.27224480593948996,-0.0353515850350258,-0.045740491595398294,-0.04174995575232074,-0.03616269234996839,-0.03618728305950574,-0.03975948026994748,-0.03426857094206749,-0.039612919624553274,-0.04094618048851486,-0.03901906411618226,-0.04570514152866145,-0.039076388304320746,-0.03776952733687922,-0.04220647119255598,-0.03700336729000793,-0.0369061882758737,-0.04533877867928337,-0.04165051297477718,-0.03570968216510093,-0.039548546052082634,-0.03667273744501192,-0.03231104423196735,-0.04403428916332381,-0.03993636518782781,-0.06595311144062037,-0.04132351210114746,-0.03264067388500099,-0.037387313322698255,-0.038701494272545704,-0.032592201303361955,-0.03489534578350837,-0.06254492790711753,-0.029654173683322,-0.038657799112554354,-0.06301292806237446,-0.06296170516598826,-0.041525263079460514,-0.046386182908646816,-0.031535682839036495,-0.035734006493442085,-0.0381017628326758,-0.06490853402217082,-0.04191009419621065,-0.06591104900344687,-0.06606675935020173,-0.042999389842470356,-0.07096112464244636,-0.0718878139231253,-0.0692562062386819,-0.06620198574117517,-0.0557679685649775,-0.034844974388445346,-0.03595390510115558,-0.05058078710595498,-0.03259960156996189,-0.026540448918648773,-0.06656009707741199,-0.0335572101072222,-0.05640192180366239,-0.026943169425518335,-0.05639465661643733,-0.06788555848699111,-0.06593008172268039,-0.06609059504922844,-0.06704386674399017,-0.06666997400910282,-0.07076597966449605,-0.07275269726319167,-0.048273676378027555,-0.027813767674743497,-0.06631611022351798,-0.06600862849333199,-0.06443445056848149,-0.06260580983761996,-0.03680698087917301,-0.06592183204711094,-0.05037424038985542,-0.034943907658171236,-0.07004445546491217,-0.06961803476810541,-0.06691936376676023,-0.06558727073601267,-0.03577210677551794,-0.03006062460012003,-0.06309834355654553,-0.03633491594410625,-0.062685328491753,-0.06725211224519835,-0.03392129151800214,-0.06372437503585686,-0.06676001404802505,0.08698259183886327,-0.03241502832089611,-0.03733010500179947,-0.04453790046732225,-0.042461483835410804,-0.03206920804785119,-0.02957337460669056,-0.036751167015310095,-0.06671874406974236,-0.04846672378650463,-0.06621118631001646,-0.026721070797662873,-0.05936210032135,-0.05936210032135,-0.05936210032135,-0.027449682621428766,-0.026540448918648773,-0.034979203117008785,-0.03429836690804666,-0.03010284904257049,-0.024284487243601365,-0.033783866899863124,-0.04022928741197474,-0.06953212288522957,-0.05142951819277375,-0.04846672378650463,-0.04830273428128523,-0.03336798963602965,-0.027227603615556616,-0.03862919385004146,-0.034359782659326064,-0.03432983061979856,-0.03797925199113865,-0.03990441365642362,-0.03312315837118552,-0.03153606078889609,-0.0383590412342252,-0.04040953539574048,-0.029869348348817895,-0.02846479516362155,-0.03637265379836638,-0.039492130740725814,-0.04505258984767275,-0.041277214264363364,-0.02833775149645955,0.31878379706620574,-0.036844887041036126,-0.03899373218453716,-0.0370577683703015,-0.032050593415122994,-0.03805194084048808,-0.036706839173389946,-0.030367949303411388,-0.034943907658171236,-0.03195657765693026,-0.05743133974941425,-0.03534106486313514,-0.04086232663544415,-0.045914667760433556,-0.039707832244208076,-0.03732138828740445,-0.05164072925778398,-0.04351760299158766,-0.05572801804441074,-0.05015768635703588,-0.039950966373507465,-0.04511521486046463,-0.02873814110145634,-0.028828603736602832,-0.04591397076947796,-0.034811450429760936,-0.04455745813138273,-0.031535682839036495,-0.032027392240055075,-0.03125201726082775,-0.05038459230367959,-0.024284487243601365,-0.03550844770227536,-0.05412223085854629,-0.05659636298502454,-0.05807578751276835,-0.029495720093202296,-0.03727966668420082,-0.05153742376898354,-0.0364616089146941,-0.05113351605775496,-0.043871144127765764,-0.05613237205992026,-0.04619350150506198,-0.03787320541184302,-0.05934135653008464,-0.04176052101083147,-0.05251779113595561,-0.05157247763242255,-0.053843418947722786,-0.046206324532176005,-0.03912008733179089,-0.04860705142525403,-0.0486626910302802,-0.040387086071902986,-0.03806506955369914,-0.034784414473137265,-0.029751011248598306,-0.049665526112009695,-0.053629100311698465,-0.05270923964529945,-0.04853680224626841,-0.05001570260588314,-0.055300297979292326,-0.042104417538555414,-0.049970852356944644,-0.040063274810448336,-0.05728983983727394,-0.03874957401471528,-0.06618562118376492,-0.04225214689745542,-0.050064366845371945,-0.05745425608657893,-0.06161787984503804,-0.044007604649788534,-0.04218643003176573,-0.059097580620183776,-0.030009453703056067,-0.027676478946814343,-0.04146343844682942,-0.04995384781560427,-0.05155311897696546,-0.05919609148189684,-0.04361869009179147,-0.05162648915737074,-0.03714148173961257,-0.06416859312619384,-0.037064319799940106,-0.03808094314137262,-0.026775459924604672,-0.04241374349044278,-0.05084101309234994,-0.06595262130020534,-0.028943915391028155,-0.04550959796984965,-0.03388396661980822,-0.0455090461574407,-0.024284487243601365,-0.043802354672829946,-0.03330750717874103,-0.04841988982494066,-0.02924270801073456,-0.03228894186021765,-0.025721029029573676,-0.029545572218731317,-0.037862706781433816,-0.03421812685991599,-0.026714427380036803,-0.0568941849386217,-0.03781593396860553,-0.03645175157265196,-0.027284256773960562,-0.03438024852609012,-0.03003595827774562,-0.04846672378650463,-0.03964971586526426,-0.035172153792075715,-0.031935193864592516,-0.02499910678775874,-0.05199279616312979,-0.030722831707240623,-0.040085940868602184,-0.03037975279126749,-0.04412768388769243,-0.03132927526789183,-0.03048487548084172,-0.031569943374927155,-0.03488505189476337,-0.03958624381022368,-0.03375686265262589,-0.02870935619947494,0.31619586512678804,-0.039487832031059523,-0.04026460816523082,-0.04860071524967102,-0.045529857833449365,-0.023082139393273044,-0.04887623424396329,-0.036118067096215345,-0.03719341866014142,-0.06563859682926264,-0.03622557231263672,-0.05587400827489585,-0.06869124841040722,-0.026371288491832963,-0.03589012688537465,-0.034202760730025664,-0.03172610549963587,-0.049521527365377745,-0.034943907658171236,-0.057622855579569976,-0.03958899923120054,-0.03483183063686823,-0.041741933714091045,-0.05799265865131907,-0.04370569190083452,-0.05098948786474578,-0.06473356570057402,-0.04174742378088599,-0.04509616476452159,-0.051890011646562643,-0.038150500140517934,-0.06130664149900799,-0.053794092072452906,-0.06656327089222257,-0.03763962621217701,-0.05414762607898487,-0.049101495693684764,-0.04235124352378641,-0.035256067435850726,-0.02943077758258091,-0.04943730746672228,-0.025858042295414805,-0.03268949337067585,-0.051890011646562643,-0.05188270083620178,-0.04469194868209873,-0.05640239889818379,-0.06804897717485454,-0.04460388395625734,-0.03180939809863004,-0.04032230154651303,-0.06190933086833763,-0.05994556783352949,-0.06450436211304576,-0.05720256263590944,-0.039203619562304295,-0.051834627782127905,-0.04446498069362426,-0.031312133823163966,-0.07057447125832704,-0.043462963050010975,-0.03719041014704146,-0.03448950975707192,-0.04969506973027021,-0.03985711842104032,-0.03056987768666762,-0.02832019754371431,-0.03421812685991599,-0.03231791329692602,-0.05037703862107979,-0.05447259511108827,-0.046064987998588235,-0.044087063999318624,-0.05927263588099221,-0.06661148465551511,-0.04156593574339048,-0.06607567209889051,-0.03327473151687555,-0.038869476035580726,-0.04309265884176856,-0.04809726978263077,-0.04240236588285257,-0.0291205974799443,-0.03975325223631771,-0.03771039392264309,-0.032417689216755204,-0.04764977350577883,-0.04846672378650463,-0.030431972261028704,-0.032035937643701454,-0.03070725599761926,-0.032480408964956464,-0.04206249678898049,-0.03477687262085918,-0.04819073294170476,-0.040878089289034525,-0.026768545691170632,-0.033306792631069955,0.31333307171742203,-0.028480794913313876,-0.04629351448375116,-0.04224666346102101,-0.028069026133677868,-0.04767322943058398,-0.037774232052023356,-0.04789363913616525,-0.051064946297330736,0.39503196981503147,-0.04448547608745366,-0.035967357611315226,-0.026094291224787795,-0.040505592631914965,-0.026152353147477582,-0.06272881363841172,-0.03397829214589716,-0.03593454107117414,-0.024284487243601365,0.19913445634116808,-0.021172098122536103,-0.043168134757477994,-0.02415248222286352,-0.04026966685014789,-0.04670913661182987,0.23028603682628962,0.17812840793069387,-0.03666632367888492,-0.03055654851487607,-0.042119538058595224,-0.03680907821541382,-0.03482408351411279,-0.05079926649307559,-0.03059418409369587,-0.040405781540161875,-0.04809782795994251,-0.03335668816974084,-0.03523478821308829,-0.046540660279907275,-0.03567675380924929,-0.03821754379383028,-0.05007090945324062,-0.040511878121678106,-0.03779040884457173,-0.03815640258956596,-0.03102863843960302,-0.03441514270314111,-0.05460223361543491,-0.036383283826482066,-0.03494176938991309,-0.02622114306322995,-0.04429758408587893,-0.035469478958955726,-0.039453739201662424,-0.026540448918648773,-0.026540448918648773,-0.026540448918648773,-0.0296278280394205,-0.029123113558891463,-0.04860781183159996,-0.028876199908153672,-0.046086109271505686,-0.031956965217127854,-0.035212839309964925,-0.04160426929068453,-0.04022083157395561,-0.04220815215485273,-0.03616444768602228,-0.04306893570986277,-0.04688076214484711,-0.029289147097673537,-0.026011607975846455,-0.03557653950222077,0.3210145053515815,-0.03542743840781142,-0.029902167611765795,-0.049708276448240565,-0.03338297992500813,-0.030085365753612724,-0.059388051353830844,-0.031568271596902946,-0.07057447125832704,-0.041637340467652335,-0.043215053516988615,-0.036281112733516994,-0.03990326482511221,-0.03433581560284668,-0.0470549796580437,-0.033940151657364505,-0.035882326398024945,-0.03222105347307676,-0.027335058723725107,-0.03836295985483093,-0.02553347850842389,-0.05117792560313116,-0.02616110622794931,-0.026041246225288184,-0.029348376790193392,-0.03976859778064868,-0.026970471994683016,0.34111014882773977,0.40595711637003357,-0.03137946479060869,-0.036415725396927966,-0.04282833770047237,-0.04110305708115925,-0.03817011102491474,-0.037755060148278945,-0.042844160640559736,-0.03428316703188257,-0.046353284816315794,0.24347111893043535,-0.03946468625297712,-0.03584302642283527,-0.024284487243601365,-0.03450805805197175,-0.043835493509640125,-0.049824394469422065,-0.03716326929670421,-0.03163525955248949,-0.03676510595572595,-0.03192472847097035,-0.04036716986871855,-0.033907734654522126,-0.03318064619461394,-0.043677119466259295,-0.028692242772386346,-0.037052055870173475,-0.04868530679710242,-0.05688494827009848,0.3186137950762875,-0.03751985425422149,-0.042686279802822705,-0.05056921025614984,-0.03360058728548703,-0.03981323116614292,-0.03558798626171928,-0.0502198656439157,-0.03878952500995144,-0.04519487385089434,-0.03552882460650219,-0.03496385829486754,-0.03109315405218092,-0.03147673231782558,-0.043554159458926024,-0.044815571491250705,-0.03154751820000497,-0.040655529238763734,-0.029522856134800372,-0.03740907044514976,0.29289271418069157,-0.041554545052089165,-0.03179558657567598,-0.03154751820000497,-0.03960689367472485,-0.03685714751225167,-0.04732891183974923,-0.04532327942213255,-0.03329358873182932,-0.028392761283326955,0.2754600935163516,-0.03518664654240196,-0.031838056717121616,-0.03196352906100462,-0.04038807332057582,-0.03953007298704654,-0.05107528700590017,-0.0330782484941801,-0.032418976872734546,-0.04924106892679606,-0.031888942881525925,-0.03354597903940935,-0.03171993448247502,-0.03880267287685996,-0.058242257071866005,-0.033783866899863124,-0.03279022086960082,-0.05306880238321236,-0.04846672378650463,-0.04846672378650463,-0.04846672378650463,-0.032189758172996255,-0.026540448918648773,-0.026540448918648773,-0.026540448918648773,-0.026540448918648773,-0.02968040876234372,-0.04398093694111888,-0.039309261819504386,-0.04097442584265036,-0.030684020385328713,-0.023082139393273044,-0.0350234296955341,-0.0446731805401479,-0.023082139393273044,-0.034313653419536176,-0.031682098387398175,-0.031128304479044064,-0.03906728898337667,-0.04795394797117567,-0.04474904261524629,-0.03921199703848294,-0.033974516700696185,-0.026943647208311283,-0.0396399163245246,-0.04338867234378763,-0.04193493726849018,-0.04561605114454987,-0.04117490846975208,-0.03729336633470853,-0.04063691113761554,-0.03699739436115441,-0.047214777444640775,-0.039514837299689014,-0.05033010150278265,-0.03864374757081134,-0.04259784392892939,-0.04704312493540321,-0.0371984866100833,-0.03687200871977301,-0.03956370793622874,-0.050029784323020715,-0.037085684359518215,-0.03292837236270652,-0.024284487243601365,-0.027114278696479508,-0.039199063776207,-0.04605887936853109,-0.044540629196577954,-0.03556899971775797,-0.03184668112930487,-0.03814584454550109,-0.04521463828232306,-0.03921199703848294,-0.05468297912070661,-0.055343525704356494,-0.04075359174982784,-0.03131774874515121,-0.042980950393597894,-0.037435738939883,-0.031165592467519775,-0.03081669330189521,-0.03390480207256139,-0.03369018716069425,-0.03171443684073945,-0.03869036051714734,-0.039496911635675834,-0.037103332686223976,-0.04094261812620468,-0.033821829659487435,-0.027614769036259607,-0.0509739662219435,-0.035882326398024945,-0.05368414171302309,0.2787119861061823,-0.037489654172277544,-0.044566126495566655,-0.04570933511076552,-0.028211283270758475,-0.03874258891214052,-0.03882738910297645,-0.04845465636207725,-0.032189758172996255,-0.031935193864592516,-0.03882738910297645,-0.044407207858010965,-0.041680062302944826,-0.041065288458992724,-0.03905210250227948,-0.05260892410646879,-0.03330049355596593,-0.03789589498954721,-0.04180961437069235,-0.03843899146988593,-0.027370940379206815,-0.03377165532059849,-0.034945277414795445,-0.03681581523660841,-0.04731587612466753,-0.046880091288260664,-0.03260532045157491,-0.06059601987133608,-0.04077190409920622,-0.03371721718570761,-0.046863700232212084,-0.03381001662720282,-0.0337069017674841,-0.03142121142010289,-0.043935727905063136,-0.04109485240760303,-0.03331064354799512,-0.028650524111291615,-0.037473564718897956,-0.0470086762617218,-0.024686245016176108,-0.04316295426215481,-0.02560376137212139,-0.024284487243601365,0.2970851389777933,-0.03857872268859167,-0.0343066174816261,-0.0416741608043264,-0.04513057309908746,-0.024284487243601365,-0.043826405420214015,-0.03215155101444269,-0.03293306009255293,-0.03310289040706311,-0.031132644572853987,-0.028530241311656303,-0.031044000612658863,-0.04532035887224626,-0.05689587892683867,-0.04896494625635124,-0.048824077004163836,-0.034885135647286826,-0.034898753437545525,-0.04117935188709401,-0.034677434062494614,-0.03960689367472485,-0.0340030230954844,-0.04608867367523245,-0.04317418454563799,-0.04055629479796298,-0.048129175591105,-0.03240875287229589,-0.027143214757012105,-0.035039441774145225,-0.0392455433322836,-0.04067663424767948,-0.03251493176065063,-0.029271756319762473,-0.033337084902762666,-0.03496805064484255,-0.040391679393389425,-0.03332174101556864,-0.024284487243601365,-0.05250557805804745,-0.034885135647286826,-0.025959088262359896,-0.04692245708868388,-0.036113373148923295,-0.042040541206678814,-0.024284487243601365,-0.04092569549793609,-0.024284487243601365,-0.032405875384908016,-0.030647556339427697,-0.052229472007115925,-0.04145321135205908,-0.04131548772622878,-0.03356769720577572,-0.04798260880493208,-0.04646915960496292,-0.04085902576102092,-0.04231869995574322,-0.0344723537943254,-0.028168379318662198,-0.03116472370432165,-0.03068558914798099,-0.0594555773981528,-0.030759139340984874,-0.029864940053997875,-0.03280672394367985,-0.039684045964351884,-0.03447825143144084,-0.024284487243601365,-0.03754123681033889,-0.028374493189908638,-0.028915479466436553,-0.04113844449098174,-0.03085071722866658,-0.02729575132615054,-0.03368116273338302,-0.044443992704197785,-0.04111100183945865,-0.04902792192046003,-0.024284487243601365,-0.040813539856950104,-0.035882326398024945,-0.039146242815009134,-0.038628239033570815,-0.03740529116179919,-0.04657408966347941,-0.03932632964223457,-0.03743923649774054,-0.030267909222859147,-0.030175412317826462,-0.03190420379486659,-0.038799765992214706,-0.04842442718866449,-0.033214726688372324,-0.028152142315506966,-0.03240547245347618,-0.03754327412923593,-0.03727627519035527,-0.024284487243601365,-0.0288676999526151,-0.02647047163993087,-0.024686245016176108,-0.024686245016176108,-0.025913269365235806,-0.02707009858822542,-0.03217658705333012,-0.025995236797665463,-0.03558554868233842,-0.03371915796628636,-0.033142162289674246,-0.04386687251562528,-0.03598836500753306,0.3434966038798857,-0.029289188986773615,-0.038565931099577205,-0.040291359077723556,-0.03884501000720379,-0.03514222673178366,-0.028482754779160485,-0.051377989766621376,-0.027641020914626106,-0.035882326398024945,-0.04192655611470106,-0.04546553819414378,-0.04805317573940269,-0.03384544939594955,-0.0276734385256302,-0.02995714712616713,-0.03950120469239152,-0.03103171515452419,-0.03328368517199561,-0.024284487243601365,-0.0424593096848916,-0.031002561008678698,-0.028669722114713095,-0.03684681141588038,-0.027858423804557532,-0.045970706166106524,-0.0501345119792478,-0.03611998690433045,-0.037060616742883426,-0.040622474259453,-0.04327450971098005,-0.02562317891638392,-0.05816328163681252,-0.030561868268527383,-0.024284487243601365,-0.027068807525480694,-0.030165948079876354,-0.04901564089859635,-0.04814653775980793,-0.045109465064557236,-0.03775512363998953,-0.03476369403132325,-0.03438818583295686,-0.038558210129198224,-0.02566050750134917,-0.030395539281545175,-0.03538437339893413,-0.029624631293612144,-0.049170959688369154,-0.03784946486017466,-0.04067312335136422,-0.05056933565313053,-0.04147222974483297,-0.03489538385383627,-0.0322460136397218,-0.037572104477518624,-0.026137929451234637,-0.03531744704004722,-0.033795791870634376,-0.03598935675873495,-0.028149198033446614,-0.048114140093499326,-0.03285353956586582,-0.026546311981168677,-0.03835639937851641,-0.031775415623651056,-0.04420319630001421,-0.03333087941346322,-0.039395357891480624,-0.032550548030507935,-0.048192996166194026,-0.04011718286400158,-0.03511428765868063,-0.026983774012884567,-0.06577071598622945,-0.04766774089470754,-0.031552999803782025,-0.03068662612943747,-0.036349623084727965,-0.05209418393381154,-0.035605355919109356,-0.044366002038395684,-0.056560843933973884,-0.0658272187342335,-0.04767386772060772,-0.045687324440062994,-0.06523054069922289,-0.0424296294132054,-0.05086760362031328,-0.029162296926472066,-0.04140253286360048,-0.04793304119676059,-0.05591424758328494,-0.051169885570241276,-0.05140406013012862,-0.04470836988080892,-0.03689297182216964,-0.03922515699443612,-0.05086760362031328,-0.04733614677740577,-0.04709393883644149,-0.032077177595117246,-0.03631280428079358,-0.03691328852303969,-0.04162667288562864,-0.05086760362031328,-0.042431604355140616,-0.0323498096467174,-0.03802510502473159,-0.03563893007855129,-0.04171403696468567,-0.03428153424484957,-0.054506662050183,-0.04311269998052026,-0.04756631587159142,-0.05086760362031328,-0.035726807085721894,-0.03458181756837662,-0.03370618538847293,-0.06407899943542411,-0.04626919009744204,-0.04420314499091694,-0.030633685655753064,-0.04252818064968137,-0.036298036831219974,-0.03135629766039771,-0.04980995776041295,-0.03536377655151222,-0.03860547226836492,-0.040032434506999136,-0.05357670341789813,-0.05242703660073529,-0.05893244954952217,-0.028911867834743973,-0.04624790140059665,-0.029491461932260567,-0.026676907149160593,-0.02772226357858668,-0.03291079607486085,-0.03540120350630547,-0.05187284098256966,-0.03732966666973835,-0.040620190839810284,-0.03567611553542416,-0.03860121169510847,-0.038678040856124106,-0.04231869995574322,-0.056392235422591426,-0.04721277918967867,-0.059388051353830844,-0.03989237064161029,-0.03234743304944674,-0.03345453569932166,-0.05051271378708966,-0.03510373171286555,-0.047664879817691325,-0.03714447109170855,-0.05605619492264478,-0.04421849282554956,-0.05635811688876313,-0.032182446395446956,-0.048712021657463155,-0.02783501769713542,-0.03927098063202674,-0.0357202105577442,-0.0430880095631337,-0.027610977981005255,-0.025031913726665602,-0.03226921508386746,-0.04072619001374978,-0.03433173819056514,-0.03723966143611637,-0.03512141645585868,-0.02526946540901922,-0.03734008494556854,-0.04856126523017707,-0.043423399210844094,-0.0408569642214127,-0.034951393393910055,-0.04004997689583743,-0.0531508673902435,-0.04924635043531408,-0.03723966143611637,-0.0445469283776491,-0.03700482725772712,-0.03806851367136325,-0.03999037175326907,-0.03518534700294835,-0.037080617930673784,-0.05721421852195796,-0.04434236240038011,-0.023082139393273044,-0.04160884637109529,-0.025439778788595685,-0.03742575090147488,-0.033306387735300674,-0.03332457913566972,-0.03383303455559462,-0.04993572285135602,-0.03734008494556854,-0.04608059354261798,-0.05594078577850976,-0.03870080544969304,-0.04260835111379924,-0.03995251659181986,-0.04381560614430561,-0.04285393486383801,-0.036465480879075036,-0.04430052984686028,-0.03180936101880914,-0.04023290973104181,-0.04442219685599335,-0.043842027023992945,0.2465620609344865,-0.03429306021128483,-0.0441634887824863,-0.0256386479390848,-0.03744009450988963,-0.04608059354261798,-0.03943084564660158,-0.04508381392508134,-0.044206877733759836,-0.02634925186215328,-0.04013646645979417,-0.040346117561186993,-0.052174422550996344,-0.04608059354261798,-0.04129973561298452,-0.04002413932506431,-0.05529894636098924,-0.03702194235588961,-0.03806951132321151,-0.03710698367173097,-0.049228715338214005,-0.04608059354261798,-0.046408248126219284,-0.024284487243601365,-0.04608059354261798,-0.03134247082181264,-0.049257958313948025,-0.04937256914834742,-0.0400784134310611,-0.05159799044913903,-0.04608059354261798,-0.04608059354261798,-0.042096750272677744,-0.04608059354261798,-0.03815221594594168,-0.04608059354261798,-0.032763690756341494,-0.028100627585317006,-0.04608059354261798,-0.030329405882253167,-0.04608059354261798,-0.03794795176101915,-0.058103957772322065,-0.04023755964344718,-0.03778832464774217,-0.04683315865565998,-0.04580392357258474,-0.041213595834056524,-0.04517694266775721,-0.03271525699654819,-0.04215135327874193,-0.03230236047102155,-0.04154981423693844,-0.04672680883352144,-0.04608059354261798,-0.041213595834056524,-0.03834532204597133,-0.029826202543500883,-0.04608059354261798,-0.034469019302840985,-0.03159781402485675,-0.04226415699656141,-0.04517694266775721,-0.04236982832300599,-0.021728262626683564,-0.04608059354261798,-0.0371189398435843,-0.045786500873284494,-0.03332195518972025,-0.032354915155877136,-0.041793223678076565,-0.05036484515414381,-0.030366543726218678,-0.05616512697041886,-0.04517694266775721,-0.04266603274726869,-0.035594368840784284,-0.03362640425851218,-0.04075286527795784,-0.05219621322980341,-0.05486287451489719,-0.031883238454474924,-0.030872220411897685,-0.04608059354261798,-0.040867046670086234,-0.03666875726858165,-0.048901868539122324,-0.04676785722192766,-0.046934595415620964,-0.038047657376929084,-0.028650530251689534,-0.0422871990169806,-0.04608059354261798,-0.044809718446489115,-0.03519013662978295,-0.02677962981487604,-0.047378871563846896,-0.032902218604373056,-0.03367467420092168,-0.031115570149201043,-0.03169819421262481,-0.043669503135407,-0.032512310458513397,-0.03611402390521126,-0.03505982729744202,-0.031883238454474924,-0.03216956289657928,-0.033766073790035454,-0.03769960650807409,-0.033932411431711856,-0.03264040769388478,-0.033134081877311705,-0.044257744240533824,-0.035873183299606065,-0.027844635526413745,-0.038352902980121444,-0.024814375560803178,-0.03568659431157763,-0.027482640426792538,-0.03833399295073598,0.3511390289347305,-0.02820955719445425,-0.02820955719445425,-0.04135622237299322,-0.031566915561957384,-0.03719055717230014,-0.04746709445903568,-0.03026440849111597,-0.05201913238312583,-0.03385758995231977,-0.03207168971749138,-0.035601180547208774,-0.03571571190974329,-0.03621872068652572,-0.04372073891472576,-0.039168177660543604,-0.024284487243601365,-0.04596387084985386,-0.040154164608178056,-0.031654248938186816,-0.027322931437211703,-0.049946399845796095,-0.03906828431501466,-0.04622677968447208,-0.04471907203255391,-0.037092350590444086,-0.04802040818851071,-0.045003118914525034,-0.03396753413201132,-0.0326429157133567,-0.031883238454474924,-0.03938736902687541,-0.02979022523113937,-0.04567769803368153,-0.04906621820679133,-0.04906621820679133,-0.03452226954426835,-0.0562837130411421,-0.03407566586191912,-0.041213595834056524,-0.04022583360364828,-0.03219275988072251,-0.03206205253812962,-0.03506844473126117,-0.03830014176863856,-0.03786382880982588,-0.029072005632538783,-0.02932158586090259,-0.04256037008729128,-0.027471333131212416,-0.04622677968447208,-0.037555974277962874,-0.034747938483381036,-0.03115082772082098,-0.033778062855750295,-0.028058265956303834,-0.055348445056622245,-0.03261634328166331,-0.03908553334566363,-0.048657700494168635,-0.03491930093232742,-0.04042224640596799,-0.03974431151989788,-0.0324240559973571,-0.04622677968447208,-0.04196564444342167,-0.027311907904659503,-0.036919672527004385,-0.028921000785087355,-0.0377739251172518,-0.02981734185605847,-0.04153711360432208,-0.0374870444709169,-0.031883238454474924,-0.035219359782747615,-0.04638957413131505,-0.04032511590546618,-0.04622677968447208,-0.031566915561957384,-0.031883238454474924,-0.03872309000302482,-0.0376263105370265,-0.05814852402188831,-0.042191883364219814,-0.031440251360819814,-0.047168175084753336,-0.06089394937096875,-0.04172851437044367,-0.041771127935811496,-0.05042845692037377,-0.05331376402267847,-0.030972017614832644,-0.03133298545456203,-0.02981734185605847,-0.038918885596859236,-0.040677047079384694,-0.03975568592128216,-0.04610671047097666,-0.03718458413196972,-0.049107259915756686,-0.0406149863717905,-0.05239396085315136,-0.03405387837354744,-0.03732873667243972,-0.0321045415709554,-0.042579813650483,-0.03371883774269373,0.28488293265739856,-0.031209541844445795,-0.035078688339205785,-0.041694318218571405,-0.03437337267850817,-0.03226150380688466,-0.03463210863689527,-0.04143857515024378,-0.024284487243601365,-0.046943511668680715,-0.03418085036368603,-0.028048626453220062,-0.039168177660543604,-0.028058265956303834,-0.037609729437652194,-0.04108570340455383,-0.024284487243601365,-0.025132705435519126,-0.024284487243601365,-0.030852266148421865,-0.04615562927395044,-0.027988205627233788,-0.03616538404395688,-0.026469151004551158,-0.04249557289180773,-0.04098789473123134,-0.04597113249194769,-0.039702392009803494,-0.03486363752222152,-0.033666152540738584,-0.04503521521227753,-0.055788450014413404,-0.03411157261253055,-0.056397052170158696,-0.044492757150069936,-0.04197688770476998,-0.03710887406000917,-0.048944973921189905,-0.03952463652205782,-0.04098789473123134,-0.03950082100912125,-0.04297165195694004,-0.026050143136012453,-0.051422505174684364,-0.048177583957405436,-0.033953998193597346,-0.028612317528013367,-0.03952463652205782,-0.04295681234069876,-0.042858565762048904,-0.04118895442256931,-0.028937810960236378,-0.04597113249194769,-0.04118895442256931,-0.03448347742153905,-0.03860107963306697,-0.04472843201396538,-0.027510793303415288,-0.03621064314088992,-0.024284487243601365,-0.03291687607266129,-0.04098789473123134,-0.034867412125267644,-0.024284487243601365,-0.035352874174133825,-0.028001241732899484,-0.040375915726305354,-0.03668900869188752,-0.04581708979116069,-0.045871768939404534,-0.04258403707001275,-0.03950082100912125,-0.05471465463944983,-0.04098789473123134,-0.038332756342071964,-0.03488278611440351,-0.052001046226706996,-0.04043506872740115,-0.04159252959826793,-0.042183072960109425,-0.02599007072391379,-0.032382954191612405,-0.035729512193331335,-0.026101640265858917,-0.042404569315651626,-0.03192974538581555,-0.03679682228729924,-0.033180390041854434,-0.047021027413356516,-0.034214817210232826,-0.024284487243601365,-0.04164441212761867,-0.031673050149327316,-0.046741281759514565,-0.03675223576977693,-0.03725026434643581,-0.026135073073530423,-0.03784295775293786,-0.026737836221874173,-0.03802362887946673,-0.037735891805621244,-0.033087149284187385,-0.03008373043250488,-0.03343912052594889,0.3344957134978147,-0.03930058475897666,-0.03659972170500615,-0.03296656142789622,-0.033991124650005825,-0.03304264706440217,-0.02952767811167548,-0.036885096921830694,-0.03047033792593445,-0.03595787765304749,0.4101526732521479,-0.030935801481782054,-0.04569767501594651,-0.03759735771340003,-0.047269115743472756,-0.04609523729285854,-0.044532762003299114,-0.03217140995171007,-0.04412074122299223,-0.04622026206972668,-0.034187284169021524,-0.03833744175062718,-0.04597113249194769,-0.051422586005663344,-0.04080374702349825,-0.02637850166156087,-0.04348074101918811,-0.05372404975450607,-0.03717760923068401,-0.05592341610536464,-0.03577085284907902,-0.04657123916735109,-0.0351816873822113,-0.04208519326042726,-0.03233966489282272,-0.03529872291140883,-0.029174606750650176,-0.039142073432124995,0.3639963502706833,-0.031922772800854024,-0.04979971450051597,-0.03185344038271988,-0.0427327585256638,-0.0427327585256638,-0.032947715536674436,-0.03551847151907861,-0.047976972113211405,-0.04497808641956658,-0.04497808641956658,-0.02678634641941979,-0.025128639158899988,-0.03935236204082408,-0.04475995533051798,-0.024284487243601365,-0.026050143136012453,-0.04108515671489875,-0.030761516810629986,-0.03550415313067253,-0.03619145890140687,-0.04060701896523113,-0.042834558234777435,-0.03540433677944389,-0.04599660597931004,-0.04018755382394748,-0.03957248173916159,-0.04412074122299223,-0.027973104418925795,-0.04497808641956658,-0.03917495526771333,-0.04412074122299223,-0.046962586770490804,-0.04497808641956658,-0.03120774716001289,-0.04497808641956658,-0.046372701551008005,-0.026050143136012453,-0.0396400158222418,-0.03723966143611637,-0.03144974014061427,-0.04412074122299223,-0.04204100928481666,-0.02941982819096392,-0.03794623901019185,-0.04000424692987717,-0.04497808641956658,-0.030638266814927612,-0.033938193974028814,-0.02862166577683923,-0.03851842488503279,-0.04412074122299223,-0.04497808641956658,-0.04417237321846637,-0.036813501677918546,-0.04827729812718895,-0.05266462224591469,-0.02850234453690912,-0.04245051229207494,-0.04532035887224626,-0.028625384827863008,-0.031264685633013996,-0.030725612349034405,-0.03691312890062919,-0.046188058772106966,-0.03555427753979193,-0.03717540869280656,-0.027303823222105623,-0.044301466734852385,-0.03128776533554728,-0.0420304140816834,-0.039663463823234206,-0.04219951673065601,-0.02799936994422703,-0.03592939686451744,-0.033069421877572155,-0.02808184635697307,-0.04301690384406124,-0.037113734789830925,-0.04017948491698801,-0.028292892099698954,-0.04910928223073925,-0.041449437578541214,-0.058153410467648645,-0.045091560099654614,-0.035673678027047614,-0.03298131665403379,-0.03315087088361694,-0.029504442333873712,-0.03379049911916082,-0.0429441293809095,-0.04697038173032882,-0.03270544950643793,-0.025084109564113645,-0.02826636527740486,-0.02826636527740486,-0.038400522979991386,-0.042558345869029256,-0.04371788946343336,-0.036631223516528,-0.04444896970964077,-0.03544299734429943,-0.031539910775732566,-0.03387242729469473,-0.031539910775732566,-0.03572561725880998,-0.03960824768092983,-0.03222105347307676,-0.03182868976589262,-0.042958559141696134,-0.04851317948673902,-0.028795882522205895,-0.04611400290883861,-0.04324003996161265,-0.032872895719519346,-0.03776028190361094,-0.03776028190361094,-0.032906197552626755,-0.048341884633990695,-0.047503455860052356,-0.03425858639813236,-0.029158437572335053,-0.024284487243601365,-0.02705423919685049,-0.027513414082914845,-0.029500869304050017,-0.0387282144422235,-0.03144974014061427,-0.04549834964105772,-0.027231717317691154,-0.033179658091889226,-0.03150136968345682,-0.038445091727825245,-0.037792450494633055,-0.04417484628647766,-0.04963088334046204,-0.03481746979473996,-0.02771155897729467,-0.024284487243601365,-0.03710644218987298,-0.04611400290883861,-0.03776028190361094,-0.03867729317824036,-0.05029374704461288,-0.03752288279358016,-0.04007389158540408,-0.03872538790791209,-0.03443139460638521,-0.03232557786890169,-0.04239922567366115,-0.03561909532801559,-0.03378604500383756,-0.031271704711289275,-0.03384877036276771,-0.0357454684104874,0.3262003283833874,-0.0267920217716428,-0.03396878284801054,-0.03196572978632845,-0.033180390041854434,-0.024284487243601365,-0.031271704711289275,-0.03489968719644495,-0.025040969635313,-0.03259045051997613,-0.035421303845413796,-0.0321172715438626,-0.026231928328512306,-0.0382529964814345,-0.03196063226295763,-0.03301103726238799,-0.0428887790135683,-0.039668294760752516,-0.03305990031920979,-0.03851842488503279,-0.0406115863958176,-0.04158254259387664,-0.036813501677918546,-0.039278967880895466,-0.03926877796935963,-0.024284487243601365,-0.03185160458338961,-0.03984348552839694,-0.03474099429681747,-0.059388051353830844,-0.03035302238481814,-0.04980046314180685,-0.030175135385781836,-0.03704781723476269,-0.03924356169422573,-0.03213000972538532,-0.03782779684270406,-0.056334370231151856,-0.03599966699530043,-0.04265164002273433,-0.03189535348557438,-0.03667504148021986,-0.045658358993821,-0.03254856716823331,-0.031911927135545345,-0.042857736319835235,-0.04533076555289326,-0.035912476716756896,-0.03132045899643072,-0.045867723860305847,-0.03360655093728974,-0.03927366499349038,-0.03824913291375616,-0.03454725407936552,-0.027524938178276958,-0.03917735049258169,-0.038062554701695284,-0.024469937946134952,-0.04245476230566621,-0.0263285212927947,-0.04747483783688973,-0.03234163702998789,-0.04419557370059161,-0.02809733059786172,-0.03817310423273666,-0.03628112341344214,-0.03947462958687956,-0.03703530019195225,-0.04111425514329054,-0.02873208233033055,-0.021692929760493314,-0.04448646034416021,-0.047244448216077393,-0.02613315000653188,-0.03762996480422228,-0.04842147201900161,-0.03594588164596859,-0.03682972386406206,-0.04597113249194769,-0.03316733365978143,-0.03410740094828623,-0.02910948626557759,-0.024284487243601365,-0.031328012511198405,-0.03755337728490742,-0.048924837751002745,-0.028988877746732755,-0.035486272768982995,-0.03712871275228908,0.29991902510585294,0.3775409908940359,-0.04519547365354366,-0.038062554701695284,-0.03445548800387193,-0.04028579145652195,-0.027766484891875845,-0.03811556668200121,-0.036813501677918546,-0.036813501677918546,-0.03581109977858697,-0.037600924008501437,-0.03561822984212742,-0.03618277153981947,-0.030147238063346175,-0.029984073863060675,-0.03491797403080738,-0.04719398166222045,-0.0543944914709007,-0.039368758000395125,-0.031097908846738753,-0.024284487243601365,-0.029340198885763967,-0.026103131962940437,-0.028103163483381093,-0.0321714542149888,-0.02844472647643232,-0.03277655225520211,-0.038643508518403945,-0.027311907904659503,-0.04160089920849664,-0.043540879356117446,-0.025919106807675105,-0.036788736466046794,-0.03128574785551932,-0.04279358199310793,-0.057068521051263886,-0.038062554701695284,-0.050085270089314536,-0.04465565985399766,-0.056230203056894065,-0.05247872628946844,-0.034780539663248115,-0.03544182433170583,-0.041791758832223865,-0.038544820305777716,-0.03989705490174149,-0.03655837830127536,-0.0455633554003693,-0.0459622600424125,-0.059388051353830844,-0.028552900871957287,-0.02526946540901922,-0.03986052389287388,-0.042891442515756134,-0.031846909178881395,-0.041218112909457476,-0.03341909846663119,-0.036765181114089045,-0.031970002832827187,-0.036308374858295016,-0.024284487243601365,-0.031230039597963343,-0.03336221359787294,-0.043836801179918845,-0.03621751606119026,-0.048058705377036055,-0.024284487243601365,-0.042891442515756134,-0.04361345829089705,-0.02826636527740486,-0.02826636527740486,-0.02826636527740486,-0.04202281282173482,-0.030160314970535375,-0.04328480342084107,-0.04335253266381048,-0.024284487243601365],\"y\":[-0.013130507225164779,-0.0206464459602747,-0.008699797279600794,-0.0695557156990797,-0.06676271989840796,-0.04334397179388826,-0.015750379119638544,-0.013859154061522575,-0.010987205291055466,-0.016713257906418137,-0.013916152996982954,-0.024092657484311553,-0.030399245509784956,-0.02071021178431217,-0.015750379119638547,-0.011234433302090533,-0.022516536826846116,-0.017185554249652273,-0.017185554249652273,0.0018471695986601638,-0.026872910990456345,0.008334204280469456,-0.029135333906358602,-0.01868381231825671,-0.01062365691869159,-0.012170455184528254,-0.005022339561605049,0.03827238593635239,-0.028320673019605058,-0.009069813388099314,-0.010161224038521304,-0.01412922314329214,-0.021974602502538496,0.1211085832781478,-0.02509686893894288,0.021498650216735273,-0.02815089743743003,-0.03101557379047125,-0.014783821301799586,-0.03101557379047125,-0.04393514321178361,-0.045757379102301717,-0.011406938253546207,-0.06146176617028668,-0.009893810166559493,-0.014193486866354986,-0.01403838679176069,-0.009171055522704702,-0.015419186254884629,-0.018449971258910514,-0.016465764490094147,-0.03302434418222065,-0.016853006775494526,-0.009037693048874864,0.07721014737044185,-0.017103300053764155,-0.02002888961252525,0.09236480760696536,-0.015952608632511012,-0.013130507225164933,-0.01594051788213719,-0.007965078025934555,-0.014783821301799586,-0.006706219715859893,-0.02876111586830424,-0.04022989008267059,-0.04398858980890011,-0.029813089100249525,-0.01183943285355411,-0.025757156945177287,-0.015342678653876875,-0.01340318757360446,-0.015750379119638547,-0.02672894994608285,-0.013130507225164933,-0.01658460837721869,-0.013130507225164933,-0.024801922179506882,-0.013394281450032776,-0.01193958974940948,-0.036475885592959535,-0.0051971301252499305,-0.008296365537437875,0.13635141308341955,-0.019532115175615216,-0.0024548193506740523,-0.025450465703257014,-0.061436005439850554,-0.03640281219442851,-0.03349428452055772,-0.002879691834917112,-0.014639861148631469,-0.008930245671375885,-0.017422087664208472,-0.0263478492097448,-0.014783821301799586,-0.014783821301799586,-0.014783821301799586,-0.011986264106466337,-0.014783821301799586,-0.015312500491505171,-0.0073160762640720085,-0.009659387621673999,-0.013670157425007384,0.12611826655530287,-0.014416641966593358,-0.008155505583094934,-0.029800531141810718,0.1004385313382896,-0.010696479677380355,0.0009508602671715855,-0.03435270195535571,-0.022729483378055554,-0.04391713199243345,-0.018154884972278445,-0.007471005997087568,-0.012952147774044244,-0.022832244224362277,-0.031587294319013505,-0.046657805965361454,-0.05553546768954838,-0.031956325016398876,-0.004683803408258284,-0.021774857947099147,-0.018256049311515803,-0.02305767902481953,-0.042790118682770106,-0.015070490808616116,-0.023070494866740923,-0.002967177478832048,-0.049507880141115554,-0.04949849616127646,-0.024602851259508993,-0.04293326696613705,-0.04949849616127646,-0.044532396147471516,-0.0027714001589774465,-0.03371892435990313,-0.0213806367595372,-0.01104687408624618,-0.015070490808616116,-0.013200046561261924,-0.014175117639628565,-0.012643331987633863,-0.014416628653864368,0.08012904957553832,-0.010179263084843966,0.11465077221324942,-0.02206524617166417,-0.04853893255501682,-0.007471005997087568,-0.032810204052370076,-0.021036208544335112,-0.015070490808616116,-0.017134095138182863,-0.019070608233088482,-0.01888349788243591,-0.014056878265026138,-0.004229328457808648,-0.010157260576590091,-0.022910631299617415,0.009144905790984856,0.009815751355545518,-0.04864062054092406,-0.011495059574693562,-0.013130507225164933,-0.03412609561756347,-0.016789459722863373,-0.024168732416676306,-0.006780339639398703,-0.04138085749394525,0.13915202740329227,-0.010253786523499172,-0.005138118120829963,-0.03500549992030837,-0.03500549992030837,0.0033599041503595364,-0.00807132491577445,-0.03834388147783802,-0.054623425824326576,-0.014986096299471785,-0.013631709081227147,-0.030691935598521323,-0.014637093189583485,-0.038411558400244065,-0.0031539160350357582,-0.012202276726107183,0.006888796586115382,-0.005274212700372648,-0.012476582981007242,-0.010454061572915412,-0.044986091360293225,-0.003600541007941735,0.018298596456031376,-0.0292251176378877,-0.018496136472300712,-0.036368607032064564,-0.016119796995827017,-0.01692278934296696,-0.0332114749268853,-0.01858242380159906,-0.025776330470097274,-0.014070906598909621,-0.029300474623560276,-0.02683007953251385,-0.007821642897872712,-0.010611684112569951,0.00024542326726162216,-0.02514606635318227,-0.03539645817223151,-0.004024710213220565,-0.05395727905541752,-0.05607346694843069,-0.016491204642516282,-0.010746746206655519,-0.021104582328065145,-0.025358770600058516,-0.022363259343625576,-0.03170712953870667,-0.04071674893527961,-0.016697983566479994,-0.048150868221502975,-0.05364590534143643,-0.09852004717390969,-0.027722992540648746,-0.004269718308929307,-0.04265775422649633,-0.041624235011281055,-0.02121334531623488,-0.022322879629837266,-0.022435915388443944,-0.029567007374564767,-0.04975081173781154,-0.03847508155011782,-0.01580775756756118,-0.018035150594192306,-0.017196049774179926,-0.015040352239091948,-0.019394455385309418,-0.03568529702371557,-0.055872960301630546,-0.048262663887493895,-0.01008578269706646,-0.05329927006086505,-0.05694514339235595,-0.04609191455960681,-0.03481238191449887,-0.04062734835511475,-0.0022227847697538924,-0.014341118507499266,-0.012890320311529549,-0.013130507225164933,-0.030939567047199558,-0.012436367907551918,-0.033155783968992665,0.048780121690201496,-0.03903122632326528,-0.06960221903594963,-0.019507531672535633,-0.0174988712314944,-0.031310602174167784,-0.027732969164046956,-0.03469090764258407,-0.10587445600937267,-0.025183553862988997,-0.03869673618387625,-0.033144044778307825,-0.05188097653951341,-0.07075041746923139,-0.1168899273542551,-0.035121633632091025,-0.06405803438413962,-0.02988161446181199,-0.003569690112455818,-0.022640873015052812,-0.11107720810277295,-0.009124887416110531,-0.01510715976866095,-0.016219560897177878,-0.02605864178836005,0.045843049827329216,-0.015380312835951355,-0.027355675866099237,-0.05851862038178436,-0.03501164434424802,-0.0858817569032062,-0.09445451283280665,-0.05496811310561087,-0.047103467018527335,-0.04097812996991166,-0.06631766259197755,-0.020677459728117527,-0.0239676190175226,-0.010825985529677652,-0.04284179936229311,-0.08189105682013785,-0.10013072376929995,-0.035964496684747334,-0.11246561237244904,-0.04683324336084304,-0.014138119744964197,-0.005387639469355638,-0.03235498445343427,-0.08332266141969685,-0.037551297355219,-0.09349222987761856,-0.01767910156106946,-0.08351626235351618,-0.022322879629837266,-0.06438098773364415,-0.036019518828890165,-0.04703111354471099,-0.010726862681995714,-0.011389402955077245,0.003366792164711337,-0.056306659403218356,-0.03356546624321857,-0.03113453439498599,-0.039477857262661814,-0.039477857262661814,-0.01908599696826817,-0.06486304311289182,-0.04073669178745184,-0.03816599257677345,-0.03243502638111664,-0.02147718847495455,-0.032121396963724916,-0.04012182571490559,-0.05893475569855411,-0.013854245957389792,-0.03797743641575082,-0.018457305466882443,-0.04656543103872987,-0.060315700303810935,-0.048177939462230646,-0.018703251960854497,-0.014053599232021955,-0.1166943028141886,-0.13629199626388672,-0.0038232530812464124,-0.03998178315644385,-0.028266857903116747,-0.035935850710050524,-0.10467757459019278,-0.02498440681811108,-0.015543158065413547,-0.012356071383298329,-0.06467452644556533,-0.0024726145526815005,-0.05344692702447286,-0.014783821301799586,-0.062312246962898575,-0.08974131864597347,-0.07980465410845418,-0.06028392959607222,-0.038621047824029614,-0.009347558063583646,-0.0945954793205289,-0.12152292596034672,-0.012247582875417285,-0.03206309661771089,-0.11815401706990511,0.019960495104458034,-0.12675076690972858,-0.11204618899637918,-0.05786637245382067,-0.011819044418975964,-0.013130507225164933,-0.051279483428193925,-0.008248930648586445,-0.02563320686099924,-0.06548251212627032,-0.06502989469316148,-0.0888360112641465,-0.05533976955269552,-0.07967615776203579,-0.005856842829550096,-0.042280138364992906,-0.10524285549009592,-0.013551851082706541,-0.08682752659153088,-0.013513146489207144,-0.06376072466067612,-0.06426181551809955,-0.07668066151087943,-0.07400968696001348,-0.01637914829385825,-0.022513638472813277,-0.0776269776707771,-0.10276625512824189,0.01027600322349132,-0.023053542015731808,-0.012162389812078159,0.0967887600595961,-0.011385266285885575,-0.07042925756081006,-0.02644645475274833,-0.06920148088132645,-0.023993838547000396,-0.06381666334692636,-0.04190110753691428,-0.025882733615345183,-0.10820400897201542,-0.09134599637051691,-0.021238679326687042,-0.04190110753691428,-0.09321335987337577,-0.012310967846629049,-0.022671232221475546,-0.02478205775215924,-0.00838421885218231,0.08971768092179212,-0.033267162762424314,-0.020386697577583584,-0.0799027730742291,-0.017506345910139325,-0.027355675866099237,-0.010529758788404332,-0.021886615432156878,-0.029770425097722816,-0.03158871167802333,-0.07545438504802224,-0.008424389060940281,-0.011633907510725874,-0.009802288175515416,-0.052295370863700764,-0.027098415986838438,-0.005541690914537648,-0.041970473680346614,-0.11008509844934003,-0.016883385246307128,-0.021264596569138712,-0.01579504083685292,-0.02097987329352515,-0.03067169315848794,-0.029020962224740505,-0.03110956580908408,-0.035123331945273895,-0.030313099729405615,-0.05890685412207022,-0.013149689761982686,-0.06758675855562751,-0.05791132270986277,-0.09126686438293732,-0.034341562745396466,-0.002446615926960136,-0.018135237220394673,-0.022840214691501656,-0.01749041194648473,0.09047616789264502,0.01714257378701006,-0.028515456978828825,-0.011593233502532364,-0.0842965290048511,-0.06460036865806426,-0.005946202880845041,-0.05284534882011515,-0.0013720798833299329,-0.016769363941372017,-0.003831850097009242,-0.07214415847284694,-0.005689982537403889,-0.017323309046061122,-0.0012887681094610412,-0.002493290219010209,-0.08345944242888603,-0.030578143023691162,0.09129932034482488,-0.018478908678335026,-0.056649882539754726,-0.09417894019268568,-0.020406107021693275,-0.07660685250115638,-0.03587331666268353,-0.01570043273001351,-0.0014840691324330567,-0.019178913514591982,-0.023694098317285518,-0.0011370508688715805,-0.07974175275243,-0.02097300399632513,-0.054868817165047365,-0.08102587340246949,-0.07620400650037296,-0.11696879890817537,-0.08254911367243407,-0.08183413767413593,-0.02768145367764801,-0.009706303851994145,-0.08355778603067729,0.13072519127823506,-0.08069234652274712,-0.08070983846962522,-0.08021833958251509,-0.03510475516165045,-0.03365933596192368,-0.011216954719957846,-0.0806631143805572,-0.05839798676476807,-0.10369164820039924,-0.07416896845634097,-0.030340342197633645,-0.08384859248322628,-0.08345944242888603,-0.08125284954640345,-0.09403203165663322,-0.13256203821559362,-0.03204999283032053,-0.038703486576612635,-0.041040790951575715,-0.027526131567061945,-0.01285395957452356,-0.082786448680126,0.01275643932711802,-0.008521338239218237,-0.09022521672717469,-0.04035034632227137,-0.03534423703123616,-0.04026204358084088,-0.02182316093543529,-0.03865926838899473,-0.014957367954325342,0.07696946366191545,-0.028364157190381684,-0.05543066168773563,-0.06250471745783383,-0.046447661631162374,-0.03290614809791709,-0.08067537759630297,-0.07663809911577543,-0.0814734204414272,-0.005134843626920631,-0.0034017227558197885,-0.11388424082913777,0.010646222886170122,-0.0009862549659162992,-0.029325325893876063,-0.1259788394522459,-0.07992362248620799,-0.02686007154309027,-0.013478646856703762,-0.02757348117246826,-0.08198946607488716,0.06998296919303106,-0.024929616319938258,-0.011866708021806043,-0.05468690405957719,-0.024817299201648893,-0.025330005307138213,-0.08097304428061522,-0.03387408605827822,-0.0227728002761341,-0.01078518411853502,-0.10110557430983722,-0.011973973450624202,-0.035908628397324865,-0.02985275667421744,-0.02213842641616367,-0.03671163087322339,-0.014060870518518984,-0.02939293911675076,-0.018306232405575076,-0.02181477501734346,-0.020884368207644124,-0.09817798499484522,-0.0935807342746596,-0.06978699548128171,-0.09029300649613296,-0.035373360292301405,-0.012811562322028522,-0.07986945826836545,-0.03523699769601137,-0.04452271076843937,-0.030313849439417662,0.021689336273997422,-0.02637766373049608,-0.015101985132749138,-0.01383822976881242,-0.021928218431470865,-0.03161204960685867,-0.021241151541908847,-0.004717458975394643,-0.012955460808364657,0.08801003926250782,-0.01628173776893485,-0.0937808503750181,-0.037993548647499285,-0.046265798175299556,-0.01419307163517403,-0.04794536589938113,-0.040423117964666876,-0.0897590584197382,-0.1354561408100318,-0.024303168510560007,0.11571895016699375,-0.01890123016997597,-0.049476797090781996,-0.016133324444438293,0.008938040288829522,-0.03738973522752816,-0.014771660173849588,-0.0386383748440815,-0.05013238729793333,-0.03863208326132838,-0.012228877167864987,-0.009090760490478501,-0.012544652794681695,-0.05013238729793333,-0.025345715507021922,-0.015934692155325763,-0.030763981129104747,-0.1302331848445051,-0.014964842724127812,-0.012889383770517864,-0.10625343303428954,-0.00490855083934846,-0.0076233953985100295,0.003486142497671577,-0.012376972464739653,-0.03855161402770286,-0.08086760866498924,-0.015535140246675733,-0.13090278722919285,0.07214712474267342,-0.04035005570335107,-0.02831308452102327,-0.02559445529222055,0.07197929815322872,-0.040045740423037254,-0.11743754594873192,-0.11001796593581986,0.019076941067334582,-0.1179554102624126,-0.03254228899231246,-0.011942924650010091,-0.01427330635185618,0.009888280952087507,-0.01782346667832316,0.035598549964672654,-0.028052401897994513,-0.11763211719207196,-0.012649904795987014,-0.018242729513744213,-0.02376496166476232,-0.018215073682563785,-0.05013238729793333,-0.01102671696568564,-0.008106981113934757,-0.10561957297586334,-0.07408369896803377,-0.011216954719957846,-0.040163808521399065,-0.13397436908023286,-0.08057756696912016,-0.016024134356860568,-0.049002539305222775,-0.02603728496097853,-0.004921786267815024,-0.03779377210828578,-0.03319638766534237,-0.026170961051754496,-0.021108802348256687,-0.04204838276214287,-0.12158075400628252,-0.03536866694861279,-0.019796356850811825,-0.014783821301799586,-0.006511328936737824,-0.03610004397295997,-0.006220791047898053,-0.024181874416232863,-0.024426244795208548,-0.015070490808616116,-0.04974469085716497,-0.05357985459036445,-0.033771635762544494,-0.018319242743399983,-0.005088903461748373,-0.028411003103419277,-0.021245017286066384,-0.03235388681984385,-0.02437906632580074,-0.10629725243268143,-0.047167478852205125,-0.019394455385309418,-0.02268255425547127,-0.01596552115036739,-0.015523390565552835,-0.011504939458448464,-0.04985869132015331,-0.020443233226656147,0.1389948419461087,-0.01753782102339661,-0.018139022420217085,-0.011884870144406222,-0.02437071690373129,-0.0148793058996309,-0.005258919147012125,-0.0547276219892022,-0.015497203577875904,-0.009631712401001354,-0.013393120350299078,0.07725024664066278,-0.035025466784375396,-0.03791337028161682,-0.008084433160157788,-0.017069075256454787,-0.013531948464985507,-0.019493341462236996,-0.012827108038536116,-0.028293137017334758,-0.08706437805591793,-0.04177310259137703,-0.031159526682659245,-0.008161470091520096,-0.015497203577875904,0.01955431903814867,-0.05265992772692088,-0.03930211962849329,-0.08384862741405535,-0.04730284802827563,-0.10290125190811543,-0.005497414835160438,-0.008261498856589795,-0.07864901819152954,-0.009806873851345925,-0.037618830531000305,-0.01681631627052102,-0.03488221722591117,-0.04579133409542089,-0.04738662751721225,-0.07258889877623753,-0.10396693672277518,-0.10638662561792488,-0.02998699302053082,-0.03786498497508207,-0.03992466896358283,-0.015992004564316667,-0.04446266841543087,-0.002578577752924564,-0.15900856329137292,-0.03958893920446184,-0.0807120196202906,-0.03595373459249641,-0.09901422123933287,-0.013490595288915852,-0.04259098996349158,-0.030763981129104747,-0.006275978618394417,-0.07921736570953039,-0.03655814458613942,-0.11544446842540498,-0.08625547160599613,-0.0483871157197391,-0.006512161451968289,-0.03254360041489189,-0.02896418791566564,-0.02015675439465708,-0.008307792392381682,-0.0501097191298869,-0.028355304323485778,-0.11910625783740642,-0.015033017918063994,-0.015479540550836656,-0.010322214491737147,-0.03370483444829299,-0.029118614851289484,-0.020731233728184178,-0.06819239061300655,-0.009326535287365876,-0.0879090667267799,-0.029791560412413595,-0.0284032977445794,-0.07068137639896302,-0.012975695750743614,-0.01759162028336961,-0.025059894883359836,-0.05250501808527576,-0.014246068558641588,-0.01619930740021696,-0.013241471296892803,-0.010866009687363412,-0.027924748356684747,-0.04620268340896658,-0.024303718668140708,-0.04265108852617778,-0.0068405760681434485,-0.013602744339190165,-0.02360492812555331,-0.06553758748055276,-0.00777157389812868,-0.013515664095397329,0.0007025968149810461,-0.03367943166766279,-0.011884870144406222,-0.011884870144406222,-0.013130507225164933,-0.030970424361967418,-0.0074010102398972015,-0.032914022665515935,-0.004257714808734278,0.11910000662439316,-0.029752843665297842,-0.029871464762921004,-0.0337954444260948,-0.013130507225164933,-0.015497203577875904,0.09560726243711445,-0.018267939274937684,-0.03448806840093151,0.006730600532634094,-0.0042218359364511494,0.13005851989390455,0.09487875828493003,-0.03544060860948738,-0.017719606042583543,-0.036743024497046015,-0.046884191606329235,-0.014979831056233557,-0.02357075013657027,-0.013130507225164933,-0.024948310027809655,-0.010549940571551451,-0.017867438338029954,-0.030402850337600054,0.12270336742989153,-0.018216039345274656,-0.03637420024166684,-0.02654265540440456,-0.03608432571966956,-0.011291866109552816,-0.032768048049879796,-0.025214698820638634,-0.03953521568971176,-0.03638983874611783,-0.02884441338507216,-0.0388273772537375,-0.021045360732560577,-0.0321892024911541,-0.017244736929641496,-0.051270116919040966,-0.040905751261436356,-0.016575962208945506,-0.035686542670156,-0.020199235501755876,-0.022869121270859143,-0.025817972365398168,-0.028995628821451094,-0.18068650311398649,-0.006998333402117487,-0.007155103129404884,-0.010402203479103951,-0.02818668085400444,-0.011099951465865981,-0.028639875873201878,-0.1670476450627366,-0.02267084134497549,-0.03566998464432618,-0.1684669024689676,-0.167261029248354,-0.03440123280232972,-0.06473353635259385,-0.030763981129104747,-0.018430549656401424,-0.039173324453982944,-0.16627290572452144,-0.0367035505222398,-0.18108689860403437,-0.18160205478319008,-0.04250872847132255,-0.21000984046046905,-0.21515854969882722,-0.20450790656200524,-0.18056654687515947,-0.09218344405264056,-0.045601621044238996,-0.038441165708857215,0.11490716079872955,-0.016388387106724963,-0.015497203577875904,-0.18109029148855688,-0.007698179914658934,-0.1347294984506646,-0.014527385344132341,-0.11744439091227572,-0.1952754780953802,-0.18034719625782925,-0.1816320787075646,-0.19028752281826372,-0.18665767749999249,-0.20926303618125677,-0.20016616115822472,0.14539874567397498,-0.008561401301199376,-0.188593708119193,-0.18169104523017574,-0.1745044724835339,-0.16731667098998373,-0.0435897066247713,-0.18038411910099053,-0.10683783537920193,-0.01072756853933366,-0.20109700071558226,-0.20560910212190658,-0.19108850621085122,-0.1793199682335894,-0.050902443317914096,-0.019746285977465142,-0.16946853747105559,-0.02842229622342489,-0.167592534307949,-0.19514906789341674,-0.016973820691921323,-0.17173493910974794,-0.18273736486378456,-0.026127619019128644,-0.014178500985473566,-0.014759586676727,-0.04624562717370542,-0.05019492241710441,-0.01717433179295246,-0.00962710400044077,-0.05121271632093402,-0.1904463688601985,-0.011884870144406222,-0.18849097215248134,-0.01054837386355409,-0.05723167815430157,-0.05723167815430157,-0.05723167815430157,-0.013711434589838884,-0.015497203577875904,-0.04784182355367972,-0.035865361319729644,-0.009433903905620157,-0.013130507225164933,-0.011027542971662313,-0.05375029939140273,-0.20537734966949797,-0.08387391677754366,-0.011884870144406222,0.10877287423835731,-0.0081360913520654,-0.012204113307982725,-0.03208927986580659,0.03552405004053624,-0.012031345700856715,-0.031302757329345066,-0.047914782321307595,-0.010690258095248076,-0.014502103587306449,-0.024074135888860378,-0.028934202213909407,-0.004754961828576244,-0.013202253979747695,-0.02788064191611792,-0.05551824879041508,-0.03927963625970109,-0.03475224582227408,-0.014044264944423342,-0.011665103899028513,-0.005525061442595048,-0.04662321440247771,-0.03899881006198236,-0.016741793349383402,-0.032537664131627037,-0.0033237899366047774,-0.008188756287228052,-0.01072756853933366,-0.014703247122618031,-0.09385863112184567,-0.03353561665555965,-0.05599755098331903,-0.007318952929035323,-0.031276298083747114,-0.013013293436887256,-0.10005694757656863,-0.09171163176654407,-0.1490789473988579,-0.0900711485284459,-0.045457227095122926,0.0298106219392759,-0.007867917103723698,-0.0014451116798736123,-0.0776269776707771,-0.040236857578564045,-0.07894058477877886,-0.030763981129104747,-0.011224822795967933,-0.02315274387853109,-0.10383144119545751,-0.013130507225164933,-0.050972781848689946,-0.09905714869721464,-0.1372437061947789,-0.12001297229895495,-0.019784855912861637,-0.04809340865040435,-0.12530820183076377,-0.004505519137336702,-0.12734965835973272,-0.08576411397127086,-0.11880062819192597,-0.09984680185512455,-0.03967750611025162,-0.15160139721946303,-0.07612175026004103,-0.13239758552846426,-0.1269941270116261,-0.11382098027073481,-0.082443770946376,-0.039722990676122394,-0.11318902754026763,-0.09172052125275137,-0.07344244132607902,-0.051775055524423005,-0.018422616300675626,-0.00907734478287593,-0.12116657489761239,-0.13470929277220958,-0.11319848047226898,-0.09030316754385319,-0.09493233571775761,-0.10786880675837969,-0.05368192909612816,-0.12256345302803498,-0.051745964625489096,-0.13362885803021562,-0.02638831465010272,-0.17857431916690453,-0.08985753006790911,-0.11730365276322374,-0.1532254149011284,-0.1415052976399572,-0.080145095137794,-0.01155092480394646,-0.12520732782265792,-0.01597758270764088,-0.014470514261767296,-0.03708365329450722,-0.12263955978007107,0.10824627249056666,-0.15329450144260007,-0.023450673473782536,-0.1152165916198011,-0.06433466012450086,-0.16470681774169885,-0.03443255914893512,-0.023421441787438074,-0.017428909797502765,-0.04199680612611637,-0.09432177203484826,-0.1636590041066271,-0.009682432509912471,-0.08114337204873026,-0.014122013727053418,-0.07592342718252704,-0.013130507225164933,-0.046553019963938506,-0.026533105057497623,-0.10256855927033787,-0.006327693581235439,-0.014822111956427688,-0.012045699523203541,-0.016117180841312646,-0.023759212116994263,0.029449557227664954,-0.015613333546362577,-0.13097190759724125,-0.07106499752114506,-0.02710408514829315,-0.01364567886397698,0.011593293121460577,-0.017099005149284,-0.011884870144406222,-0.02734096358082719,-0.02622362731425767,-0.031191578099308198,-0.019483857936839592,-0.1169002213425574,-0.011161586103287864,-0.05858061773059541,-0.012999887395550951,-0.07762099654244567,-0.007413189751749809,-0.010311040206435097,-0.004320124157574488,-0.013436072548488734,-0.04097160647795373,-0.034520357977019224,0.006714274968426131,-0.07243139394311009,-0.04529713628211176,-0.049639785834263914,-0.029159175253124666,-0.020703029950150935,-0.019394455385309418,-0.06278844070530755,-0.035048914962156605,-0.03903766535741929,0.061472646443793424,-0.024330333679817906,-0.14917951080958214,-0.20638583291972126,-0.005053143124347972,-0.040085784701348964,-0.04612013268346122,-0.02106427401157276,-0.022316172150673063,-0.01072756853933366,-0.15648322736754858,-0.03586172176948649,-0.0325752936809344,-0.05471049847701888,-0.15309033017080256,-0.0931125224604687,-0.11884519403698224,-0.16660779269188636,-0.046489115002227216,-0.05722813057534027,-0.12026162981033164,-0.039545093318351855,-0.17154467005190174,-0.12992313432163713,-0.1845809996876996,-0.0076574791358246545,-0.1395378953724358,-0.026372604114441374,-0.07961565394336913,-0.035245591637688464,-0.010633947305388768,-0.10431711638821277,-0.014166697580420147,-0.022486371974933483,-0.12026162981033164,-0.10442269109446364,-0.07884561116115771,-0.15146685432810186,-0.1746397143720432,-0.06727422265885656,-0.025035708715473694,-0.022762322810123796,-0.14136217431775486,-0.1653527514067826,-0.1593723108804696,-0.15497142606787126,-0.022938729622607276,-0.11604647547246388,0.14469353078286964,-0.03499036512790154,-0.2070455182554452,-0.0990354456899954,0.005939119428301466,-0.004255387041831897,-0.06217079240444996,-0.05259522275882332,-0.011847910131047504,-0.014155623959509861,0.029449557227664954,-0.030792177995554847,-0.06278110101339952,-0.11319028872944413,0.013589431066465716,0.087528965027965,-0.1555008056276729,-0.16185033134394464,-0.01585578136885269,-0.16458556167005137,-0.01860834639487583,-0.027090103991055117,-0.015473726328662906,-0.05400573108283575,-0.032559824621804984,-0.014166389427855449,0.002570267133120068,-0.009536153633657491,-0.02228219039038198,-0.024994967058880383,-0.011884870144406222,-0.014764471022005411,-0.0045257460021752155,-0.011701118406578384,-0.004048439629053439,-0.04540135637929755,-0.0132969067330955,-0.05140207650234846,-0.01844027044951401,-0.011623630543029504,-0.023122148092122367,-0.01686311336785822,-0.02883645200880015,-0.020333234122769786,-0.03637177418836563,-0.01292840040098464,-0.08290747762299898,-0.009755499157092912,-0.023017837956645536,-0.10088715960322979,-0.027445795195730573,-0.07229015598247304,-0.006683730751913985,-0.013802681391386297,-0.03218929719400107,-0.02018915228888876,-0.16621605644861176,-0.0313237647741213,-0.027314143669376626,-0.013130507225164933,-0.029924997957975628,-0.016960984644333255,-0.04478531415513256,-0.013809755554353539,-0.02957250216651998,-0.08804909269422458,-0.04255529001975112,-0.018307874625982674,-0.03613691434890925,-0.034420024203286124,-0.0403401850866527,-0.032669925202703766,-0.04131121386228769,-0.0692194889391847,-0.02821879190325411,-0.05923163025389591,-0.024631955231842126,-0.024833287394208543,-0.03295522872292007,-0.09435055254171142,-0.046094957184378504,-0.037818567606131094,-0.09382887969487157,-0.018725291226748368,-0.026301621724718886,-0.06233763617246329,-0.015726258313887454,-0.014860912791421868,-0.09199037533712022,-0.005728026078867639,-0.022688619521044964,-0.011304294184811974,-0.08117901392705268,0.02768421513057404,-0.07264796108596647,-0.015497203577875904,-0.015497203577875904,-0.015497203577875904,-0.023618909060878584,-0.017812364794929595,-0.02353354978998572,-0.015820055375177156,-0.07232377460041414,-0.017755043782962922,-0.028489768438565793,-0.06123792271385055,-0.016921516756566144,-0.010145907491753172,-0.022703118751225836,-0.058144430411620415,-0.07318999217849782,-0.014961815529083067,-0.01501967194411332,-0.0448099055338017,-0.028676860773033632,-0.04014910900197071,0.01038939576811219,-0.10051069088498897,-0.006652570656514697,-0.016218537980611732,-0.17857374329881387,0.015932019681074605,-0.2070455182554452,0.0023470159135576016,-0.04299857099154526,-0.017381873362951876,-0.037889238164907545,-0.035352003761386155,0.11852552080024581,-0.018009437390541706,-0.01729965825879084,-0.03153325617326614,-0.014739567773880847,-0.04253758328036626,-0.009996018922373805,-0.05871139436588282,-0.014256652176026804,-0.017780209338671502,-0.030578143023691162,-0.01444960447405952,-0.01474231674681014,-0.0012019909351298358,0.013589709228517132,-0.02814867943624131,-0.034734591571165464,-0.03979399647600642,-0.06866649092640147,-0.039905802105744945,-0.043927498739427744,0.018207756280986108,-0.005177859297291326,-0.04809664232770248,-0.011224771770076882,-0.037177164286139514,-0.017590923338724706,-0.013130507225164933,-0.025866029798105896,-0.0652923307863657,-0.10956196972801877,-0.05155230778627183,-0.01658822619901683,-0.046895039013875116,-0.025057896639995154,-0.04662651513958381,-0.03579450541185655,-0.03305183256697986,-0.07989200624316548,-0.027889394553367322,-0.03366638088272192,-0.09597031276788796,-0.058226180653894566,-0.016906090064432087,-0.039627027229939764,-0.07563143661906116,-0.10797585035593085,-0.04504720681605148,-0.02313239074761008,-0.03520539197088034,0.1066961300415454,-0.04498117119185979,-0.03836525468318023,-0.03684436249970092,-0.025166400483641417,-0.02413700471662296,-0.00661200000237341,-0.06068617196081035,-0.07823273909857764,-0.03745669174895551,-0.02759821506816031,-0.017409022143298893,-0.06301075691890774,-9.424148299636131e-05,-0.06874417231799085,-0.012902596110848643,-0.03745669174895551,-0.03246030906273231,-0.010573427911999356,0.0676708916324297,-0.04985755099148348,-0.05046464690112276,-0.02677405738867375,-0.022628387742770782,-0.03096557299408925,-0.016844662508859538,-0.016623897790863013,-0.014846859516934142,-0.04084791765768817,0.13022581709825531,-0.03625564080473122,-0.013649114316973927,-0.01681052033512045,-0.018862869583235953,0.010844082804770854,-0.0316891454752011,-0.06104694600517062,0.10797288353098851,-0.011027542971662313,-0.007694561140138271,0.11779329165910978,-0.011884870144406222,-0.011884870144406222,-0.011884870144406222,-0.00909599935540225,-0.015497203577875904,-0.015497203577875904,-0.015497203577875904,-0.015497203577875904,-0.006826979868991477,-0.00797432468877081,-0.020289471761929866,-0.007077512828178437,-0.025474270327745737,-0.019394455385309418,-0.03707089760526772,-0.032962140315322075,-0.019394455385309418,-0.007857603560134966,-0.004628780767163233,-0.017691575282985646,0.09665072478060455,-0.07706884207343877,-0.0433233702259047,-0.055095865542154045,-0.03425738766490151,-0.015556530306131177,-0.035757814775605586,-0.08079334532149293,-0.005002321217144797,-0.06839549734744164,-0.06908101178259078,-0.04911738817081559,-0.06842331468833564,-0.03888869292946688,-0.09358712381182953,-0.06180804467636119,-0.09021968376598756,-0.040198462515048314,-0.015320813984700522,-0.08432680515340263,-0.04711428762546308,-0.045018976714969315,-0.054135834837534834,-0.0823379754124142,-0.059060498646463254,-0.00971846672796528,-0.013130507225164933,-0.013723357857004837,-0.05326435659122057,-0.07476797871208854,-0.07657970229974925,-0.04194364347237761,-0.018828413495619947,-0.04713685342248776,-0.047145251185134664,-0.055095865542154045,-0.1253022913494919,-0.11518357575126822,-0.04513839667222862,-0.036884552885647556,-0.06485902593071012,-0.0480711771192432,-0.01901858059629002,-0.007389160013441816,-0.03692718465869863,-0.023769868257457364,-0.01248247579232061,-0.0028247892969632277,-0.012567803205753661,-0.01408219075232692,-0.066456554119529,-0.02104508505803449,-0.01266699087830768,-0.06606316172569407,-0.01729965825879084,-0.12864844770519693,-0.003302046840931888,0.006333039862031515,-0.07527871087896791,-0.023074723161276862,-0.014138300820425102,-0.02268931986354716,-0.011886132373565705,0.11179642154523982,-0.00909599935540225,-0.031191578099308198,-0.011886132373565705,-0.07310656976335946,0.0022580219564946203,-0.032564586021712735,-0.00856061298203316,0.012918821349803745,-0.015190065127493583,-0.005397658671550858,-0.028656054452762578,-0.06361660318728612,-0.008092106632483527,-0.01941453815186523,-0.02472995852295284,-0.028012317630024756,-0.05053591850472409,-0.009235039615621075,-0.001787934432407294,-0.11101368075789284,-0.04106356471990427,-0.007911953927888012,-0.07940905804183454,-0.002884717765711522,-0.02153894133139251,-0.01148775028360996,-0.060874897128862106,-0.06317942951159174,-0.01209836145456634,-0.016289558782192612,-0.048432603203448804,-0.04630954947300652,-0.014734027270905968,-0.010385448180362964,-0.011294058322525455,-0.013130507225164933,-0.018331633722358208,-0.05881237965302294,-0.033893508090335166,-0.031723687296520316,-0.016902265020649645,-0.013130507225164933,-0.03616331441533143,-0.023510362462459886,-0.013347613265743291,-0.026418459955786854,-0.008780881697907186,-0.011073376590252877,-0.01100276956720638,-0.02668448350110045,-0.05931635402723171,-0.036938284374633416,-0.06340316306624742,-0.004926955871574166,-0.03830706428079721,-0.02547451186026629,-0.02754323035476861,-0.03246030906273231,-0.006519897793445542,-0.06454996897612546,-0.07090355824949426,-0.04472236259819901,-0.07600004510984937,-0.0019013463727354917,-0.012986651823551212,-0.019036495790719782,-0.0243569177643164,-0.05318381935825139,-0.025877025290820335,-0.008698064269222034,-0.0354374365208902,-0.034489327875902684,-0.005599709260104394,-0.026385080092055486,-0.013130507225164933,-0.042828728590788616,-0.004926955871574166,-0.015782076845766765,-0.09190597602289172,-0.027626982801792474,-0.06203800369611589,-0.013130507225164933,-0.04103470120913895,-0.013130507225164933,-0.022109414110072893,-0.009695532427208262,-0.08176385902864934,-0.046950834874569206,-0.04643663017989659,0.00469802445182645,-0.025570383498795902,-0.02189661660302919,-0.05751372346064731,0.08226117056139376,-0.04397364785007648,-0.018211867279315112,-0.01767138047717617,-0.01883159570894074,0.06452903128836478,-0.028452332498766178,-0.018988829304999955,-0.0023920150203948164,-0.055324680208655774,-0.01345949273195602,-0.013130507225164933,-0.04697348674962933,1.1577378488544682e-05,-0.006838904594226769,-0.029348160981177488,-0.028340707245386926,-0.014735479333678652,-0.0188673171181049,-0.036224415804058975,-0.010269555210245727,0.11817252544978618,-0.013130507225164933,-0.011650495061890106,-0.01729965825879084,-0.03528159029024819,-0.054094373398092616,-0.044210004000646,-0.05898237970447987,0.10717452113462983,-0.0017094577689755644,-0.0322791361912062,-0.012716743135204295,-0.014599812510862537,-0.04942951251072549,-0.030473888308862294,-0.046631279724980074,-0.026992020318078788,-0.0202901386950761,-0.057084974679181805,-0.0009344954059074564,-0.013130507225164933,-0.013936059995977957,-0.013388140473448043,-0.014734027270905968,-0.014734027270905968,-0.016676195913361978,-0.013400431027932954,-0.013504241946767071,-0.022950681073951533,-0.023058806313808265,-0.006579824521938755,-0.02803066509341717,-0.025086965316281927,-0.0072951457801272756,0.0007004743551813368,-0.009394749321362342,0.009547367659845898,-0.003180117283101695,-0.027287334557587997,-0.005674579886342779,-0.01599338039038983,-0.10082539497456029,-0.01484065172541899,-0.01729965825879084,0.10970432197790665,-0.051086512057764225,-0.06081207412047871,-0.018442820203801547,-0.01874182310092693,-0.023359668818345277,-0.024378018314342012,-0.01774649027630333,-0.022371013406976194,-0.013130507225164933,-0.031954363390364685,-0.015451963775554755,-0.014921816081164255,-0.018452885708723585,-0.013659606434416088,-0.09765328779285422,-0.055346408418502135,-0.03279948575793423,-0.018857261781893463,-0.05229052716789566,-0.021116402313411255,-0.014115281409341783,0.058088895131101485,-0.009899982866223334,-0.013130507225164933,-0.017011135634972453,-0.021604271547344924,-0.022392001687443156,-0.05747941549152732,-0.09855366552830343,-0.03468115646326041,-0.035876417071939434,-0.03591490931634223,-0.027737078831904106,-0.01464558809189252,-0.015457800597468487,-0.039459563944963846,-0.012938217199479728,-0.012572810880719312,-0.05175991328497235,-0.04276251313197971,-0.0018285551582095567,-0.021774238071130658,-0.0008792701322053743,-0.026990893661811816,-0.04622534133619897,-0.01755516317574175,-0.04492837034634352,0.007120957734117123,-0.022572589717265765,-0.006588106427434808,-0.0438117840724022,-0.020785302004061954,-0.013625441804876355,-0.06308970391148797,-0.034351504244280975,-0.08809761863677082,-0.03779464099849172,-0.03279460810354422,-0.01894772170633954,-0.02518855889426559,-0.045969113451982985,-0.047256722920911584,-0.018845243560719448,-0.1674898416509389,-0.050556110241709924,-0.02039941368381226,-0.018075055318755404,-0.014205046280070856,-0.01425591464628198,-0.033197727405673144,-0.08118681798898353,-0.12842361215753598,-0.15963036632751068,-0.08277209624739064,-0.09503136512785366,-0.15616151799953817,-0.057749347688719595,-0.12174166079782675,-0.015336994042745591,-0.013718895374464947,-0.03877591704264824,-0.13408225642031135,-0.11238017798815576,-0.11442129548508573,-0.0323057272933682,-0.059896381444566604,-0.053240109536642294,-0.12174166079782675,-0.018656074071706857,-0.08992178796098695,-0.008441674888156135,-0.03240818140193109,-0.0348306971715804,-0.02519990700341066,-0.12174166079782675,-0.0737238994462853,-0.034622858666813354,-0.03122747103671197,-0.025790534239245533,-0.031529915918415634,-0.034757399736089,-0.1265165831068332,-0.023078393441178555,-0.015840249513646616,-0.12174166079782675,0.03941566653481142,-0.026913711019929735,-0.02885742154104742,-0.15871957448200094,-0.08429767344527554,-0.026470659614625875,-0.010554591627571221,-0.03622060842274646,-0.015213301552199257,-0.009792142060543782,-0.021047971428062157,-0.010219979029391901,-0.022567490854701854,-0.008862177485934916,-0.1133457094171368,-0.11360572105870098,-0.12274920703017121,-0.0046074640751962125,-0.007560045330772332,-0.010938157232674257,-0.016231033278372744,-0.01449901836276518,-0.027444518306151976,-0.009493350075560422,-0.07675827707916066,-0.0338745342181518,-0.010357960970654955,-0.054985970251402165,-0.061694302440624786,-0.014825509309915483,0.08226117056139376,0.12212929837629426,-0.045799734794908675,-0.17857374329881387,-0.02185549977801211,-0.03540125919667716,-0.02089558177908555,-0.050498686288169864,-0.0158397375203574,-0.012912512872997316,-0.011736429714240468,0.10770143146405456,-0.021945930001416217,-0.07394520056819263,-0.005829479377375688,-0.0702727142885689,-0.014005974046169914,-0.05567761219986377,-0.020598601565825103,-0.025502907196303333,-0.018896053468167327,-0.012310967846629049,-0.008454891744831376,-0.04758515751775098,-0.02586003125472597,-0.03401002696925102,-0.034836603446579455,-0.013419306918167775,-0.060743984974247225,0.11449502806444561,-0.07280953360709774,-0.04065992806366811,-0.013434398561109784,-0.01724585614247445,-0.0208061230556784,0.11169444339797742,-0.03401002696925102,-0.02298940957547608,-0.0292522614834745,-0.02779829180748089,-0.01862064783341871,-0.0029643122649240143,-0.014658260110002147,0.10779700655128067,-0.038905595125988464,-0.019394455385309418,-0.007096111823254635,-0.014337999541645162,-0.023732411322165133,-0.01116949413317526,-0.007541915268608243,-0.03565563208388138,-0.04960306972590541,-0.060743984974247225,-0.07676304415273509,-0.01245182303519022,-0.03425477058261631,-0.028461426281575043,-0.048625273656519544,-0.010778528862906037,-0.02168889670676907,-0.02013846729522758,-0.0101543388324896,-0.013458278255056098,-0.035160869399878045,-0.03601783067339102,-0.010263733632272084,-0.027665699879712832,-0.012084011282533226,-0.061173155239435555,-0.013335180228575997,-0.025505900540628196,-0.07676304415273509,0.00784486550902959,-0.030552947129316367,-0.05179402345953798,-0.012264054077009137,-0.04041866441003825,-0.04698329940471933,0.12596161097779698,-0.07676304415273509,-0.011704544871611452,-0.022336811313705286,0.0954149117709617,-0.02611578480206026,-0.034240152223921135,-0.018057044072061382,-0.04767144220312358,-0.07676304415273509,-0.03167468882838089,-0.013130507225164933,-0.07676304415273509,-0.029432007472344913,0.0031550124537229876,-0.059914446987213967,-0.027511576210728868,-0.07017082109738115,-0.07676304415273509,-0.07676304415273509,-0.016154091181066418,-0.07676304415273509,-0.035032129538557576,-0.07676304415273509,0.008937113017221604,-0.012234024408521112,-0.07676304415273509,-0.008360665963100606,-0.07676304415273509,-0.038861914786063635,-0.011940479665492866,-0.026173718661962126,-0.006113862076201795,-0.05628603223113355,-0.04565430882228067,-0.06934422841378846,-0.02826953804441635,-0.02153147922565486,-0.020476555344249477,-0.011302937275986157,-0.03888054704931711,-0.05476065736658122,-0.07676304415273509,-0.06934422841378846,0.000831281574511944,-0.00857648494774289,-0.07676304415273509,-0.00980227043959322,-0.021163552682002797,-0.03166898898010835,-0.02826953804441635,-0.04958682670399395,-0.010576813334740587,-0.07676304415273509,-0.017017993312406596,0.111807375559879,-0.01368927385079502,-0.014315458280334738,-0.027781633500767372,0.1278524063089645,-0.021877515894181996,-0.012124993456739659,-0.02826953804441635,0.005784414243726346,-0.008636431110317607,-0.02457416749404494,-0.05597387087535855,0.147455940487413,-0.1172304562636108,-0.017239670005334974,-0.014802348916768482,-0.07676304415273509,-0.012609467565579274,-0.0067217836264519505,-0.058834488075839665,-0.07867607874991527,-0.006888846981214989,-0.03462679432142329,-0.016698152852852755,-0.05168415214150125,-0.07676304415273509,-0.06279441525154587,-0.030883149773583075,-0.012862717603315853,-0.06652767229685828,-0.02431329544405137,-0.023823643338901974,-0.011333157880671177,-0.0048320469378409356,-0.05218378145808483,-0.012677868541382949,-0.017215438561850767,-0.010550583323970956,-0.017239670005334974,-0.012401172475789195,-0.025228667798297317,-0.021543422523009947,-0.010705714466811789,-0.012649064862298958,-0.012442523735377483,-0.030039107749776615,-0.0465635365843874,-0.005430315288902816,-0.0213118777907624,-0.012489821566387576,-0.011995622158550052,-0.010686007293719236,-0.04750328760730613,0.0007632114688943404,-0.014212714170792706,-0.014212714170792706,-0.05647005208528355,-0.012661633666019028,-0.015759451989274524,-0.0150515986093573,-0.012683515420450533,-0.036827709430523825,-0.03458812606871882,-0.024071084513398143,-0.038365808514225344,-0.017784027270653126,-0.009176751812951994,-0.016817394278823394,-0.03080760898860048,-0.013130507225164933,0.0693364404232702,-0.02837454266232071,-0.007264368228513108,-0.012000103977692734,-0.05631035630141555,-0.03660868098307961,-0.06469023004596361,-0.03670221528489651,-0.03338632260335156,-0.013647168484086508,-0.024248167308029592,-0.004357780506773846,-0.0024689853161216596,-0.017239670005334974,-0.035722647506396296,-0.01850015767515145,-0.024402711605847713,-0.025412559896900964,-0.025412559896900964,-0.01899319458098644,-0.04082153980914557,-0.012721503564916322,-0.06934422841378846,-0.05237760425016628,-0.005607592358978149,-0.0052658656839126095,-0.007963472263870081,-0.0029290139156938817,-0.021181350647826166,-0.006369230841184004,-0.009551272671761164,0.0012123206033798177,-0.016516914345239327,-0.06469023004596361,-0.006435101066487514,-0.05163283791132387,-0.013927178115946608,-0.007279994012897171,-0.01839108342853453,-0.04995534954832738,-0.007338773106701711,-0.03963476672031759,-0.013935726598073397,0.023549281529429283,0.09351894359469104,-0.004805697655878242,-0.003919604300354434,-0.06469023004596361,-0.06506143270404814,-0.011283334303830361,-0.01583649660086119,-0.02499781791424895,-0.0418872335353287,-0.023121916089517757,-0.007655401463363575,0.009380901606193398,-0.017239670005334974,-0.008658178410067356,-0.09453647751206858,-0.010240686212767908,-0.06469023004596361,-0.012661633666019028,-0.017239670005334974,-0.009599520877913869,-0.019691054332118665,-0.022045405083255844,-0.020894214186966256,-0.007217074813884827,-0.015067700590113406,0.05187731559554901,-0.052905072924138055,-0.051605720478035834,0.07027725268400296,0.02759407375078631,-0.016916347088805128,-0.024039525168920668,-0.023121916089517757,-0.04770166462288791,-0.0253547930758952,-0.019308420080208968,0.04075981429117253,-0.017386388470929257,-0.028624511890778467,-0.0070575316032638535,-0.0655410135900844,-0.005297305791698891,-0.009819617327996953,-0.030166862409683477,-0.053384370780842655,-0.007510483638042587,-0.04006253138579692,-0.009052550085385157,-0.019665221154524612,-0.013401491086879585,0.0011893798946407174,-0.014347511936189898,-0.01805690719093576,-0.024517973942524862,-0.013130507225164933,-0.02976213578199885,-0.022767663922012682,-0.01794425759872596,-0.03080760898860048,-0.01839108342853453,-0.013163272343782317,-0.021113513157733695,-0.013130507225164933,-0.01380614873540456,-0.013130507225164933,-0.004591522186939372,-0.02449044445817441,-0.016368645114260217,-0.0024377745138516073,-0.014605526407495616,-0.013237867250193056,-0.0294267648489018,-0.05575512471716956,-0.030624533092709662,-0.008553902042299352,-0.019464292850897603,-0.038970672593144816,0.11641926222400965,-0.005580574392686008,-0.08081071617513227,-0.04203396882242814,-0.0536850160596097,-0.03980686378231048,-0.07614353470149315,-0.026146671307904778,-0.0294267648489018,-0.025684102016601512,-6.719989999519201e-05,-0.011759492142621291,0.1507587469164385,-0.0725449743198766,-0.020074173323686308,-0.013706544125839158,-0.026146671307904778,-0.0332126804682589,0.00046410998980307575,-0.02894546498620172,-0.017010008107293438,-0.05575512471716956,-0.02894546498620172,-0.015719071627640278,-0.021689061269263878,-0.03982612861081864,-0.01716885878581331,0.002934733404356623,-0.013130507225164933,-0.02434899835891479,-0.0294267648489018,-0.010686942260973518,-0.013130507225164933,-0.021236234120073902,-0.01336720395609163,-0.05533981174799273,-0.04495004059308538,-0.016223442263764307,-0.0710270809901142,-0.033192948623001456,-0.025684102016601512,0.12451799879219153,-0.0294267648489018,-0.019032363281001233,-0.0372626899416771,-0.028867562096311937,-0.0306325491726777,-0.03236077133965015,0.0008334408800208017,-0.013155756620584663,-0.032588817034995284,-0.015865910316077484,-0.009405799730436367,-0.0038327910147609233,-0.030108562175306268,-0.03209693578822159,-0.008161470091520096,-0.06871184722224816,-0.01585682444138779,-0.013130507225164933,-0.026883816579269734,-0.00828267443869148,0.004543563233303053,-0.01475665443283433,-0.021058617449956806,-0.01592842822084251,-0.006564111323947536,-0.011229180630257742,-0.01037417597730154,-0.026158399943101228,-0.015703305119744358,-0.015874015849225983,-0.013538806934285112,-0.010025928966915947,-0.03221338831554299,-0.03996875704598792,-0.020388687198361094,-0.02375206882591285,-0.016519535201208767,-0.01147649992741025,-0.015703425002319436,-0.01134750589483481,-0.033531298390352564,0.00673866788414617,-0.013069419803781998,0.09311892503617601,-0.0428912780576903,-0.040380221479403865,-0.05060605883684771,-0.04224836815608547,-0.014344376765058965,-0.045552591299694405,0.11553128636523875,-0.03071904703123048,-0.03841488413860098,-0.05575512471716956,-0.06555284670813546,-0.0256509984817812,-0.01695446254720253,-0.033295684445704084,-0.02427800126335872,-0.00968804672583353,-0.07071108426278337,-0.009699219287730322,-0.028800759931066015,-0.01791642113827795,-0.024448239942453598,-0.007757759607673758,-0.010192492533156022,-0.017306974444725585,-0.015373146535492016,-0.009660974870412167,-0.028506096866564128,0.10131542108021792,-0.028704081060294945,-0.04465627594683556,-0.04465627594683556,-0.020903448816897985,-0.022712553121599262,-0.03638996140399406,-0.0475276115045404,-0.0475276115045404,-0.01391607836663912,-0.012865241697339104,-0.005058643236323746,-0.06311944681446038,-0.013130507225164933,-0.011759492142621291,-0.00695985142196016,-0.013262863854607468,-0.002992971754135241,-0.06250862621994352,-0.050351006696116876,-0.03311290606387658,-0.04611357500855231,-0.008023513653658717,-0.023847659790590458,-0.035567904848739576,-0.045552591299694405,-0.01525288743095424,-0.0475276115045404,-0.032257090453892946,-0.045552591299694405,-0.012907015735523532,-0.0475276115045404,-0.019648158898564316,-0.0475276115045404,-0.049566470909633696,-0.011759492142621291,-0.04939646304708385,-0.03401002696925102,-0.020623174386234816,-0.045552591299694405,-0.04313491519681166,-0.011381162202643248,-0.055845368954204555,-0.0316907041162269,-0.0475276115045404,-0.009365383151897212,-0.02879557181003925,-0.01306817567971461,-0.011075566095128529,-0.045552591299694405,-0.0475276115045404,-0.05377356381265181,-0.013788349289548836,-0.04729991169984593,-0.04990081698242606,-0.017696091919545538,-0.046133603865236184,-0.02668448350110045,-0.016467191933737767,-0.02255099450118532,-0.01237606888954717,-0.011784633900135979,-0.02546560973888028,-0.024983458809376385,-0.04847890140946478,-0.01601801730146455,-0.04569975182487491,-0.023042051176459518,-0.053999893340874495,-0.03217901322067924,-0.023949562783161914,-0.009213003907579124,-0.049435626100558176,-0.020060407642700926,-0.012654258886143306,-0.003006452873286078,0.025184685414693236,-0.018404075822396976,-0.015162575572924412,0.08499874745373609,-0.05607234240263304,-0.04047268337344935,-0.008939810094417524,-0.02082142973093398,-0.022282537169262033,-0.02390315726405645,-0.013420656814552267,-0.03001278491518998,-0.027605037954614355,-0.01783151976417099,-0.03257196718413191,-0.015102634798001835,-0.0158313583126922,-0.0158313583126922,-0.02914023991922204,-0.03924317293178226,-0.016235604159724203,-0.022072372246547445,-0.004332850899889728,-0.02101146178355199,-0.018096640551079377,-0.013962585019716714,-0.018096640551079377,-0.007637526301291934,-0.016709016917363304,-0.03153325617326614,-0.010262227820794402,-0.029083628321774423,-0.04253876201620557,-0.01667709126931983,-0.05127536802916386,-0.018465779952344677,-0.023715235292909465,-0.03331774693313139,-0.03331774693313139,-0.02038340466902445,0.06736848116690584,-0.015400120456243758,-0.015006704138572285,-0.01782875140171597,-0.013130507225164933,-0.012338558651080345,-0.013021497604106043,-0.023134419643035444,-0.024109949308537368,-0.020623174386234816,-0.042178588658990226,-0.012233180796703814,-0.025479616265786324,-0.028109491279921957,0.034275073375019706,-0.03333545818163828,-0.022797505724044962,-0.08401849144250986,-0.01038231582030908,-0.017333212404074386,-0.013130507225164933,-0.0330282368743436,-0.05127536802916386,-0.03331774693313139,-0.020981710430727905,-0.015148297802469126,0.007611642459225296,-0.02937872092053698,0.015824987637927564,-0.03211483648116759,-0.010163607729317086,-0.040133158461356344,-0.029592895264067984,-0.0190956939644953,-0.007505992681521285,-0.029484106168621613,-0.03333660380872852,-0.00045607177159234677,-0.013460731502603997,-0.03165873392788878,-0.007028847075501871,-0.008161470091520096,-0.013130507225164933,-0.007505992681521285,-0.00295195987003385,-0.012894326151612732,-0.0247386261691001,-0.02281238880536758,-0.009103021329873411,-0.01096502916986078,-0.0515918548044778,-0.012202281200570434,-0.03567288920152302,-0.01160762982262417,0.008400853947763855,-0.019891187864221387,-0.011075566095128529,-0.0007138794519975567,-0.02860464793943437,-0.013788349289548836,-0.03611880967837879,-0.02461106775624242,-0.013130507225164933,-0.015398876579711517,-0.03011053358287331,-0.023709172380516817,-0.17857374329881387,-0.004555822300536365,-0.0623681710836686,-0.012007232574333138,-0.01822787949834704,-0.013703148002133615,-0.03616157859356209,-0.010773574006335105,-0.060466672969637834,-0.027720903444973372,-0.061425714392988905,-0.019564866048476966,-0.02928566246596399,-0.020009163527754493,-0.020123156470448343,-0.01180249517073734,-0.05919946455575202,-0.0076278315971317935,-0.009195692346870475,-0.010712963179351113,-0.10169497477887902,-0.013661394690000588,-0.01657897520437864,-0.04578474266931973,-0.016635916363004658,-0.02333608243594557,-0.028689695763869618,-0.045364875420103416,-0.008290538389939945,0.006240715093383616,-0.01421114514892364,-0.03260238929480862,-0.028595754271550203,-0.042034905881358164,-0.01805046729919723,-0.0662947801891244,-0.040589965275571675,-0.057115739372846405,-0.05124441245521988,-0.06574033347475276,-0.013296601633239593,-0.013381665424351225,0.11267797795852671,-0.03375639185075185,-0.011538783610846122,-0.02895194053216625,0.0919922165904881,-0.013752558331965408,-0.013917197746468922,-0.05575512471716956,-0.013347250257334676,-0.0327952436255192,-0.027137848437997623,-0.013130507225164933,-0.019487751321825814,-0.014032476819004646,-0.06400214083158068,-0.004176231654466312,-0.02930327213002944,-0.0355869178910061,-0.007733805810065011,-0.0037466590510478633,-0.045574243363099266,-0.045364875420103416,-0.031125843050741966,-0.011581424128086977,-0.011964138016942322,-0.03230195619379021,-0.013788349289548836,-0.013788349289548836,-0.011169092375972087,-0.00475280765486449,-0.048650447731454924,0.014599576531625082,-0.00808677187914784,-0.007310918927202503,-0.004119615443479806,-0.06621164638705403,0.04899114078548521,-0.011776808860445213,-0.007732008970393074,-0.013130507225164933,-0.005425128863774034,-0.013217487290169147,-0.01107521855520468,-0.014604106422294847,-0.013443120751801345,-0.025164642582338262,-0.008600235393396,-0.011283334303830361,-0.039154015425876584,-0.0384546533781498,-0.013708389907650172,0.008255152215557338,-0.015480099539305913,0.005841828805434228,-0.061947837152451724,-0.045364875420103416,-0.06665908470965354,0.11766489848188598,0.0802399842906703,0.003255140819339297,-0.016967313308902086,-0.01796162043215949,-0.06947099182649444,-0.019747868104152192,-0.014058654884920365,-0.009835658421647589,-0.03392551021686923,-0.035559433497013446,-0.17857374329881387,-0.006819774335156022,-0.013419306918167775,-0.045474328970955706,-0.05733989033973778,-0.016183090284279254,0.019093397780449384,-0.02300774099231028,-0.0064877330804394865,-0.024430456098711965,-0.0062865277601672825,-0.013130507225164933,-0.015843939495632394,-0.017904800955866534,-0.06098626081086549,-0.04145884748332217,-0.011951267460448006,-0.013130507225164933,-0.05733989033973778,-0.059139694130384966,-0.015831358312692202,-0.015831358312692202,-0.015831358312692202,-0.034380817553121695,-0.021871989448376098,-0.027113612897526396,-0.049848388193553514,-0.013130507225164933],\"z\":[-0.004980105669196905,-0.00044176188736810563,-0.005283158894544566,-0.13020506261886544,-0.13537219334462994,-0.033761232288404094,-0.00039322742870180795,-0.004519921435161386,-0.0038464708853669554,0.0021811147919857704,-0.002081204689944001,0.007074713154466833,0.01621062648364269,-0.035850928004858,-0.00039322742870180204,-0.008239494207748497,-0.016984079492746797,0.05407406035739216,0.05407406035739216,-0.011638680682845244,-0.044130184244202245,0.035229864929850606,0.11398808117092596,-0.0005102500832194651,-0.00808435149379068,-0.008245532489147084,-0.01347116122863591,0.013383892493642687,0.0625931978610402,-0.03740944442070864,-0.014412581232039692,-0.004577820188007341,0.00761894254506645,-0.01376605903698836,0.0173554527016568,0.006338668584889523,0.09229478847138373,0.08999149625870624,-0.005699977194054996,0.08999149625870624,-0.04371382879039391,-0.1204323008228777,-0.008749608056400689,-0.1032567778306964,-0.003259614415239248,-0.0058989354173549155,-0.0023248873707225224,-0.01313942232760753,0.0018494438723338556,-0.014809441228777509,-0.0191757673855197,-0.07246961573995588,-0.0003566700227724784,-0.04736448061639531,-0.04650094066204203,-0.010508910341897075,-0.005164956333380431,-0.026187894173783397,-0.003253161796893707,-0.004980105669196721,-0.0003785277133169285,-0.012440826606448938,-0.005699977194054996,0.0029645865130809826,-0.019687852966260824,-0.08614833007443941,-0.12978866949311801,-0.06832189332777067,-0.004607642080846493,0.007630976908330341,-0.006490372756880856,-0.00495532350386029,-0.00039322742870180204,0.0032918806952712426,-0.004980105669196721,-0.0022341745812346036,-0.004980105669196721,-0.00979780271353349,-0.005335310858775033,-0.004882749383460134,0.13156399713697517,0.0033492786727696306,0.003589722589046143,-0.04385277076380597,0.013714632624286805,0.019638425273914975,-0.044966906936936876,-0.10079778151197123,-0.015062215324853061,-0.08178679846381691,-0.005071779794835281,-0.006047721936629532,0.051679095621240075,-0.010316645949253828,-0.004538999890186004,-0.005699977194054996,-0.005699977194054996,-0.005699977194054996,-0.0057511408295109175,-0.005699977194054996,-0.012125784228817021,-0.0017304231176094682,-0.008568145296377979,-0.010407772775056747,-0.0845576661922875,-0.005521398887515291,-0.01003461631173226,0.18413078702374003,0.10850672711319774,0.008408256343214791,-0.006148352010141824,-0.11097921667457185,-0.03168830488016211,-0.028421777603848498,-0.03004344269295723,0.004398677507604451,-0.00434198430825566,-0.010112026542669213,-0.036542802958256605,-0.06362354814354397,-0.06681228991303509,0.12718589121114507,-0.0038154113264584847,-0.0015630030101288711,-0.04680805880735786,-0.006759518767642678,-0.006601698070022319,-0.001796117191677745,-0.04371789609032203,-0.016808445391722705,0.0064071740787212065,0.0035288898229330584,-0.04938511505671942,0.0072852602122144006,0.0035288898229330584,-0.09561811605351776,0.0002873936282719093,-0.01472238451669981,-0.05653018954322862,-0.013885194467775579,-0.001796117191677745,-0.01844120953509128,-0.0052055473753552465,-0.015445699755950072,-0.008752912220037523,0.01863945527430391,0.026542355257322965,-0.02276296676730874,-0.04471645498987929,0.011248730786388725,0.004398677507604451,0.1450855051310795,-0.0013510220578886744,-0.001796117191677745,-0.013289603956577389,0.11848165343966362,-0.04194036782529748,-0.007462246963035876,-0.014494440717780787,-0.007586385664871586,-0.0473073699657238,0.004256098128979144,0.010639176038721762,0.04308367082670268,0.031675676865737586,-0.004980105669196721,0.06063143928667957,0.07109892336639671,0.0904540251024785,-0.008653761042129232,0.0929617700067459,-0.01642154827049745,-0.005786789589904049,-0.0022068435152653616,-0.06990699331853938,-0.06990699331853938,-0.011105824470794279,-0.005804885919951764,-0.03383621938213622,-0.046814474851846075,-0.005283482793402012,0.020507975632966784,0.13560929473665678,-0.0026882463461155356,0.10534378987634961,-0.0005886133696730579,-0.0030841261330518946,0.04410376108719207,-0.007655845200189555,-0.00536856268984097,-0.006619732790936231,0.15809682478320772,0.0012221549235361146,0.005215936987366685,-0.007339878135233787,-0.045051962324892905,-0.10906870945008298,0.0017224286674588402,-0.011208767826675438,-0.007990700734992882,0.008165339981898162,-0.017316500414447013,-0.003761124870197705,-0.015384101697140107,0.005059285154626465,0.026685157426762196,0.0015106016797639603,-0.0018827794894577933,0.11650660137240858,0.1208514687520261,-0.0032794861245727435,-0.10657899676738437,0.013152071163207097,-0.0026306126228636704,-0.010747126394644988,-0.005916250417647955,-0.047397015866160845,-0.005800442653111839,0.17543603868929594,-0.03116131157715938,-0.011165748631289546,0.011414607692754363,-0.07811829383021998,-0.15310919971684714,-0.05323428043310016,-0.014680791311255513,0.10219722091211282,-0.04129481695003743,0.007631012994517533,-0.041207244814718096,-0.03972848073674262,0.122196263644649,-0.12260014217335015,0.10569832791522346,-0.005909512752540092,-0.0851211584788592,-0.0025679636787166267,-0.007939492908941085,-0.005077468553707748,-0.029937845467017714,-0.10038776689013691,-0.0024680432365382526,-0.06595568660200513,-0.03773270461771562,-0.10770045015547978,0.14795281025054585,-0.04146909709232192,0.049218886887076825,0.005222801922840615,-0.0694862491889865,-0.0051393559321359665,-0.004980105669196721,0.010884589570571247,-0.01032940253895976,-0.02448068410570738,-0.01534502389315895,-0.10429095753424461,-0.1295550526395005,0.0012550818421596345,-0.006213444912239645,-0.03709913573201788,-0.04138387352041461,-0.012253641315021728,-0.14177162263738538,-0.06331160288301006,-0.01951040576627674,-0.07101355904656353,-0.0941093854310854,-0.046798808023941596,0.07003924296438742,-0.012149854741473235,-0.011283324424254724,-0.04879184832749579,0.08408994567909998,-0.008472408916871711,-0.10435240410569664,-0.006641921106877594,-0.00717242385975924,-0.02755824152688313,-0.0020702080199417605,-0.009131728545355603,0.02754521104019299,-0.02914894000739411,0.0015157517859288765,-0.0315353512159695,-0.07794366940703304,-0.03846362823107144,-0.08896166712486178,-0.020936076734042127,-0.050212325769757454,-0.055001621454032625,-0.007287008167376093,-0.008602359566497702,0.002086085103185343,-0.017578971598430578,0.044769340012644813,-0.04303143173969355,-0.0033998554479804663,-0.042593018289253534,-0.0924432684204605,0.02264748832487064,0.04828941763548099,-0.05259043670016402,-0.10603315700001184,0.0015899768148314882,-0.025946795029022085,0.010802954824108068,0.015252442675288351,-0.041207244814718096,-0.0324107280612169,-0.011115249463311636,-0.017249599309407435,-0.004392897878102057,-0.041109851796798574,0.006064682276755399,-0.0028245362001206604,-0.018243080238572268,-0.01606566726576909,-0.00347203509581441,-0.00347203509581441,0.009086227583597348,-0.06260060841190318,-0.013522340423451866,-0.014109925168149573,-0.009231400346944862,-0.007240869242127197,-0.012111097548617177,-0.07927215942917185,-0.03887433061696171,-0.007802538077503404,0.0010908245842393307,-0.009632732199392618,-0.03176399998869796,-0.038759983809961776,0.037640062001437026,0.004640655914346035,0.00290127021894068,-0.17821982120479343,-0.15207462228095078,-0.013314859349280247,-0.07392477548366927,-0.03955819461925896,-0.023312107046293516,-0.019116661535944404,-0.014956119901616504,-0.007011782778467322,-0.0027079642169351797,-0.05549719936390479,-0.004681468737113541,-0.04222178809685557,-0.005699977194054996,-0.01906943844597538,-0.13621544080816708,-0.00022924516591520935,-0.05639094396308371,-0.034518945666073775,-0.006525683357612574,-0.02013810904111159,-0.170518746856412,-0.004285437370959188,-0.0172393225116253,0.05299702427098021,-0.0012234929803943062,-0.008812205341111939,-0.023494206857242145,-0.07766859824777457,-0.014749193599334557,-0.004980105669196721,0.08826004449709554,-0.006730418473238943,-0.00819062145171897,0.14180335944170797,-0.05650349162489155,-0.01737504829831534,0.01784519835828885,0.10981770331462756,-0.0017321951705711394,-0.09077873731019798,-0.01931591095586131,-0.007550975063337652,-0.03115547152533556,-0.0035239647400594205,-0.0384456163882226,-0.057093805410213354,0.0005955687378689463,-0.020618447766381557,0.006176132702549543,-0.005937569485296691,-0.024003808066276108,-0.016859243850765235,-0.0002978267210928497,-0.00823262545581595,-0.01110586540878774,-0.007737830028755668,-0.0073033082529650965,-0.01930947979437985,-0.02791257320654151,-0.0829574117474189,-0.04228573436110142,-0.05468129169438143,0.11008697626519112,-0.006195911026217396,-0.015282277274781889,-0.037491828062168484,-0.008021370752450066,0.11008697626519112,-0.03977182483293938,-0.005247630893403094,-0.012461711805348101,-0.0215387901535094,-0.003211876538996263,-0.0515407584932687,-0.007314104759692667,-0.005859361874325448,0.004399392399188703,-0.008258787219765527,-0.02914894000739411,-0.009277261412162908,-0.0048284874087109134,-0.001677776353383361,-0.032911156692255965,-0.1330662443761949,-0.01305023912241165,-0.007420650168824319,-0.001315272229181583,-0.034144792863586626,-0.017183167690465736,0.01301790750893183,-0.04548617916568194,-0.14040477945353852,0.003493208086370226,-0.007306560232385216,-0.013328300112664043,-0.00740020284717267,-0.0424227445569715,-0.016090326060453432,-0.042759333548908325,-0.03593084078089241,-0.04376104639803915,-0.0498901956429172,-0.014966456909663526,-0.014606767344238143,-0.04900659150491537,-0.13724010614473672,-0.012195348497755519,-0.002044901846761414,-0.02553437608517328,-0.0240787246989962,-0.005597273666533373,-0.0776295075530678,0.010311635415681033,-0.08111782462526455,-0.008735713003186908,-0.014199104228759045,0.09932459933889266,0.012975784790143361,0.007930496782103108,-0.006978649834648024,-0.010120791674766517,-0.007609454563762956,-0.037380053758003906,-0.009719269787987712,-0.011739168181324906,0.08793550503338143,0.045625624514882716,-0.0037067199270649346,-0.003245982182576441,-0.00981125454382517,0.1046457397410141,0.0020140028809918905,-0.04024395317740133,-0.015099553284821503,-0.02770372732427814,0.06573636651715302,-0.006154313213196585,-0.003113987637768083,-0.01371309866476075,0.004669485118125675,0.050055658600729094,-0.006148855619786047,-0.006657545408583909,-0.04053142586209784,-0.007027338540170273,-0.01628634455017999,-0.04454266090059721,-0.007147580972281963,-0.00783772661405028,-0.0014243961366258529,-0.00877423664810224,-0.004986645340364022,-0.005127789349226861,-0.005312299791251467,-0.005863248283913654,-0.007406125497237064,-0.041209099452665626,-0.05490669932665659,0.1665597341872201,-0.006621245736025285,0.006253696598643798,-0.01585679773260981,-0.02725048278791959,-0.044924420398303994,-0.039097712063340714,-0.0037067199270649346,-0.007750878267858816,-0.01686895926942817,-0.186128496879083,-0.03179064612835244,-0.08052489484511553,-0.011550230066632642,0.12482985574137186,-0.012654060286619011,-0.005645887225528755,-0.002631996307791637,-0.010038441802185296,-0.05142560293998617,0.0120097224283857,-0.03810640883597633,-0.05051183779123019,-0.04873813441962313,-0.055743621266053284,-0.005708623955282564,0.052759487762024104,-0.03075153427603453,-0.048502451282517706,-0.05636425324651438,0.04186247801552509,-0.06881853139437255,-0.005552799035578716,-0.03161170468110697,-0.006334483005803553,0.0004039400000131128,-0.0031568984440276614,-0.16097917284963675,0.007706171504647163,0.0021128426673821124,-0.02057932881010061,-0.1842385989395382,-0.004692296271178989,-0.05331836749953877,-0.04218616369938258,-0.02193315236978856,-0.0053799845748982176,-0.05046643130957196,-0.012394523741378572,-0.0067352919304864665,-0.061383068785525914,-0.016753246712320237,-0.020209106744647848,-0.007185626707527683,-0.03262974765299535,-0.009314467402603067,-0.003659699565191175,-0.01994763385526519,-0.00471997179530549,-0.036277314285313035,-0.04276914968950558,-0.007196106006501013,-0.04812568548730276,-0.01271220221733814,-0.05084739745204331,-0.020582807084429125,-0.05303627795360452,-0.015444790349147744,-0.002509311233625154,-0.045649266984660056,-0.06497454191172287,-0.0047825640160943155,0.015298896159454097,-0.017714352954400363,-0.003142701156941288,-0.05343074381466799,-0.08633622012253607,0.06250758495006863,0.0030954533406907284,-0.00011759940767051168,0.017114269631488276,0.0015699914502706575,-0.010873965140427683,0.07209543953057043,-0.005405091881474749,0.002655619541295015,-0.002248370953587165,0.05367601467706482,-0.01067433915562793,-0.17129436946747584,0.013402150654398187,0.12209030233829289,0.014788195140327474,0.12076820038628448,-0.05100822440020267,-0.14022094112624572,-0.05557483052574814,0.01079345846906689,-0.013482851583333183,-0.009284417722862384,0.007976935297508566,-0.006876629706707668,-0.0027482388371174817,0.04777083820683213,0.004055380555796463,0.16864426751185477,-0.06952865590452856,-0.031181332364502982,0.027948752457218576,-0.0029793653132987805,-0.006980253537217429,-0.06952865590452856,-0.004195587998138777,-0.01073665425575425,0.01185813671379209,-0.05498157962045557,-0.008926946183136743,-0.004350072809229156,-0.06660778596830272,-0.008162435283203295,-0.019604090900239728,-0.0069316720496001615,-0.020220286943562756,-0.020613911864769244,-0.006670215686498435,-0.016965146605284247,-0.031055620196866307,-0.03872291052833492,-0.05826113724334886,-0.041273024401001196,-0.011048285618265404,-0.010654113804642262,-0.04321406668848789,-0.04347891343549372,-0.03537986360945828,0.01047879487784191,-0.1635430162349675,-0.03965377769778929,-0.0017927823466785413,-0.023027676682405223,-0.004975004831655799,-0.02043273895763375,0.019133641199237404,-0.01448400076414969,-0.1515004887636607,2.2366809104003793e-05,-0.006875284306331288,0.07423107907585917,-0.009566508597122016,-0.06952865590452856,-0.004832252836576767,-0.004494605089387487,-0.043811042559586164,-0.045387402038257085,0.1665597341872201,0.14053041482938042,-0.05017034731927272,0.10671559305358119,-0.008195069111906718,-0.055899020575212004,-0.05521219358225048,0.0008830058494793837,-0.06371886129518378,-0.020857877560049358,-0.019318318031441573,-0.017790503093312447,-0.08356485867267253,-0.04404022103786251,-0.021487030912740426,0.00498460963630192,-0.005699977194054996,0.04956253548908384,-0.012682333871175136,-0.0034379791843265144,-0.015822327175855983,-0.01776228822403083,-0.001796117191677745,-0.04036474025381209,0.1372904163973458,-0.05023124373472807,-0.0058332549616296955,-0.005792191099315865,-0.06393252354896602,-0.019702978517067,-0.017207446599559934,-0.019322413867858865,-0.03221505328186671,-0.02912157819367316,-0.005077468553707748,-0.009189664744385583,0.024994766713630753,-0.04948042406160059,-0.0064908052038004024,0.09079760295547337,-0.027261407521400237,-0.01047445556160502,-0.004633538465210606,0.0053212283342704576,0.15685442489457738,-0.004453268102882245,-0.019775033748249463,-0.004693725592815379,-0.026407319364096946,-0.006159570059972637,-0.009757210881808275,-0.004176419142688972,-0.03947672815574829,-0.0038850515495860386,0.01606132690926856,-0.001822280718121908,-0.006175235524252483,-0.00341593524560175,-0.0020806324035978993,-0.017403975261089936,-0.015267004460331551,-0.1256441948205091,0.010071087408576521,-0.03849650493515988,0.005675972798471142,-0.006159570059972637,0.019029101353780668,-0.031133166676985024,0.009646574449373824,0.004617835277536199,-0.011304406150976228,-0.04846031210484854,-0.0077553395448803466,4.164892674641783e-05,-0.00471485657945838,-0.009080948348530439,-0.07799004696982477,-0.0006399213337407166,-0.10833598043925895,-0.054146456740892926,-0.051696488204939314,0.012913492235267839,-0.04659202556212393,-0.014021971049016568,0.007221398603320321,0.008856644408019625,-0.04206744607942387,-0.01869159166277542,-0.06681766644568016,-0.0002934056262523821,-0.06833848891372517,0.13041472873271753,-0.026328977519998076,-0.05100392818271492,0.008695173916604425,0.028125358940281613,-0.06018675025310036,0.01185813671379209,-0.008950242695809412,-0.003530669204172373,-0.03764679018562382,-0.015076972825251342,0.08015000848430516,0.12612437315233863,-0.002276210163165697,-0.03756278192048997,-0.026194637057805364,-0.007982259497036608,-0.002448378714485232,-0.06518027303811412,-0.028403034870129462,-0.1748135506866665,0.03169452219833893,-0.004619007961558085,-0.005859252566276395,-0.048669071020048936,0.012297774200050772,-0.019301617505771355,-0.012594642421164743,0.0003063372730453012,-0.021168891725098237,0.08040066789936554,-0.05238757008597786,-0.022557467880675093,0.006847845153427409,-0.019615754932597252,-0.006668395989060169,-0.08546188276051105,-0.016956841952276716,0.007852137410675386,0.02561677907576909,-0.020507260689759714,-0.02328837903674717,-0.03985934832901468,-0.018344709026033634,-0.0598913541275527,-0.0038616572054508743,-0.003168261575149836,-0.016412711764770948,0.16724560749381928,-0.0028296107383476484,-0.005472885753169271,0.006227647768854845,-0.03996686911735548,0.15685442489457738,0.15685442489457738,-0.004980105669196721,0.010946046194501428,0.015573293379092674,0.12636600989899432,0.08449458893334884,0.08033345885632018,0.09961218388253842,-0.061538276275932335,0.006991964987659507,-0.004980105669196721,-0.006159570059972637,0.047902305527185704,-0.0065661483330700455,0.13884814893277014,0.004399237266044366,0.006389140156363069,-0.016668206224130278,0.05998764179147136,-0.030912420421514923,-0.00561148096760384,-0.05294499114883568,-0.07281249698366776,0.02268720825157459,-0.060089303388185855,-0.004980105669196721,-0.010133466279156546,0.030087475913999254,-0.011517810429011276,-0.022759118781400006,-0.013201318474378582,-0.055878641511007986,-0.05073445789094334,-0.041312620474956034,-0.06256980282286845,-0.007546696602858564,-0.06202301521461848,-0.06215918545212165,-0.06468649487181513,-0.06854395144980426,-0.06610921013983748,-0.007265793191306121,0.07921301109632747,0.0973093939364802,-0.013579497919680278,-0.11274660216653382,-0.0675219736062314,-0.02020949915359176,-0.02319618086973473,-0.00863781357280148,-0.01660451959770321,-0.06292307929489276,-0.05638538507389953,-0.17708062289021498,-0.0036324281680354675,-0.006042013099393575,-0.01017973720045515,0.10323739151564264,-0.011862802650193717,-0.04821650011207185,-0.15875535346904135,-0.004933092781381788,-0.0023013014341001794,-0.15859633925477581,-0.16029788157617458,-0.01688748588785255,-0.11471496602940524,0.01185813671379209,-0.037969773426960854,0.006973364478335823,-0.1711319503300433,-0.027735242969212964,-0.17996001347285362,-0.1770570048958517,0.06514704035187983,-0.2292313284861388,-0.2364199870933538,-0.22131759133766837,-0.17823442266025347,0.004324013227556,0.09902724264868419,-0.06444876594382762,-0.033930468833954244,-0.018207000840264914,-0.006159570059972637,-0.1793727892380619,-0.011246241437520213,-0.014989499250500943,-0.003993777469149,-0.14924680798876935,-0.1777125150077082,-0.17689988849482083,-0.18143629494579422,-0.17190623799414098,-0.17671656411526496,-0.2392708451693445,-0.21742775229334832,-0.024110613859691942,-0.005277908434983975,-0.17142144516866947,-0.18240205762783396,-0.16644111459922745,-0.15921778023700872,-0.002914548889737274,-0.1764233477576026,-0.021569932779277018,-0.01191034487179104,-0.1767201421866781,-0.2237606935681348,-0.17446354754682092,-0.17718630224309453,-0.10325793987400764,-0.006701710722945479,-0.1617726777339575,-0.026394908782451997,-0.15954921509052603,-0.1817728365289901,0.0005023357668719946,-0.16256311817043836,-0.17842301069834599,-0.03683709920600667,-0.011447325056395005,0.013177171648968823,-0.0024770851649055623,0.03954349263897927,0.0018190858830187697,-0.0033567527539063364,0.08596529825993642,-0.17223078620656762,0.15685442489457738,-0.170012857092161,-0.005473785607438395,0.14147286239757254,0.14147286239757254,0.14147286239757254,-0.0031617223742500798,-0.006159570059972637,-0.027226874627820804,0.0164535898080958,-0.0017408162118509982,-0.004980105669196721,-0.001069760239031896,-0.029869354441393662,-0.22293004604195693,-0.12251337469718343,0.15685442489457738,-0.020322913865639388,-0.004372197422602195,-0.0046859992002812444,-0.07941272741664747,0.00764881241254864,-0.008521157983062588,0.08828276009227114,-0.07071677907328203,0.0014775297110924956,-0.00380470332356711,-0.025838346063488463,-0.05607057571127338,-0.004037843953252247,-0.0083713204228583,-0.02100559207135012,0.0073952430862874955,-0.12232108127501515,-0.07410149750301903,-0.01654407166081436,0.011715842278570966,0.03508674457797934,-0.11165761648132153,-0.06618205782364213,-0.02671086826192568,-0.051508382692121976,-0.0023926834821226257,-0.007553768874073966,-0.01191034487179104,-0.0036141114627886244,-0.11342043317447784,-0.005955364840419723,0.10138167523764555,-0.007235228143863307,0.09272277758154666,0.016510735050307944,-0.175364746987805,-0.1665074070409433,-0.2652894809676857,-0.16826330858572017,0.0055658627341267945,0.009930324617912142,-0.005865684519075739,-0.006044155748057339,-0.024003808066276108,0.007271882489406828,-0.09210139576953276,0.01185813671379209,-0.00698951092041767,-0.004372331487877006,-0.15944551737988036,-0.004980105669196721,0.1234927345176779,-0.15701641440614758,-0.2688248013489328,-0.22060176426124847,-0.007258848478433775,-0.0009207122338306304,-0.22874976500269406,-0.005001230190182667,-0.22761268643464924,-0.11441597474332905,-0.1652977362189368,0.10926356262390527,-0.02311709168639685,-0.1394107660647894,-0.0854551868728736,-0.2312696352893991,-0.23010703648141664,-0.17175622280376876,-0.09131327238279074,-0.04810961783432141,-0.17672886996047266,-0.1547089076715868,-0.0808488946247889,-0.003138372836748397,-0.01452110378204531,-0.00821266683188236,-0.2169019822447896,-0.2362477746549925,-0.19341980333010292,-0.15304624284929463,-0.16884259764603957,-0.13844259891516453,-0.14514538036827382,-0.21831144225993537,-0.08173173935742908,-0.21606302870388291,-0.03674675469180206,-0.18882271054705246,-0.13621807880221073,-0.18219005620831422,-0.2279764846912011,-0.02355918125745752,-0.1203700519039244,-0.006806498166290059,-0.18678227163190322,-0.008125062133612372,-0.004739619706516848,-0.0007170445780338853,-0.21732917858202527,-0.023856615787346092,-0.23882125114426841,-0.03955851005831301,-0.10963565907360945,-0.11912942401990845,-0.30161614104318474,-0.021841665335264788,-0.014042135632963746,-0.0038772616829879196,-0.09833648997445708,-0.12024509409125732,-0.27230734727257006,-0.0007972116929758865,0.08924515899834441,-0.003084742821554735,-0.06814551039531132,-0.004980105669196721,-0.11537957179841547,0.07920015857690738,-0.16082352001186445,0.0005282464862939741,0.00016565838755131098,-0.006386171373829549,-0.0035309668104111782,0.021167055942139523,0.005009597572505248,-0.0020195104176780002,-0.2583659719031233,-0.11443812605722159,-0.03677186498511638,0.0016451870279883237,-0.0005381826420359269,-0.0068738231057840805,0.15685442489457738,0.0686714813351835,-0.003608506044917304,-0.04112837641486009,-0.01609718265088884,-0.19813926170629004,-0.008044700810938407,-0.09469801816043769,0.006722110138401885,-0.11877602184512791,-0.005188010084194331,-0.004858826889016534,5.951634006698798e-05,-0.005845638652023983,0.11914873831507773,-0.08267189433024483,-0.00434386917401135,0.11446241466218986,-0.07606408466073367,-0.08602482548141946,0.047753033318865996,0.052806918605154365,-0.005077468553707748,-0.09513964442745158,-0.0228142998406292,-0.07592885445547774,-0.15321209351470608,-0.0514521803697117,-0.26400915463259966,-0.33495198138551985,-0.006747658655682806,0.09591102914429081,0.004597714642462423,-0.007407406327263246,-0.030370914745568196,-0.01191034487179104,-0.27967297646122696,2.8427695574366935e-06,-0.019476901544796227,0.0005393586788490525,-0.279880321405002,-0.1663535119235413,-0.18999016247495298,-0.3865175616250837,-0.07676607152930918,-0.024989069652191505,-0.08477526910706287,-0.04971645724526068,-0.28515898887632685,-0.21630966306959173,-0.1657765759371141,0.004737234244610622,-0.2075402137289942,0.01750623841181031,-0.14540032572437356,0.0025530638628531895,-0.004074757485830915,0.005854191616999315,-0.01065167451531407,-0.010735832166118611,-0.08477526910706287,-0.20453749018518372,-0.012935648070374886,-0.2708945019271478,-0.41067923304041043,-0.08670256895361436,-0.007695944312512115,-0.023924783636349114,-0.2386286899937661,-0.28648166012107534,-0.28976854824301995,-0.2764548098193498,0.006398128307038673,-0.17886071228837092,-0.013639747530166155,-0.023821811578440353,-0.3689268706707486,-0.06661148843222939,0.0011282513950120784,-0.012126027920853842,-0.1279268599538982,-0.0031659440935092095,-0.001597255395705684,-0.002072098210535476,0.005009597572505248,-0.00867612438045009,0.01070503142869579,0.0044064672950740015,0.015170078506081644,-0.02015082311598933,-0.2803166804892561,-0.21756044718462939,0.036495331260203816,-0.25682463109185244,-0.040311018108960185,0.120988059567766,-0.015957669948357078,-0.07659840783413607,0.016982076921213556,-0.0030704416686818253,0.0024673484200851037,0.011234207108538789,0.004692007280173185,0.027671747130752156,0.15685442489457738,-0.005043872970737536,0.0031210653189029983,-0.0045772567819211876,-0.0026424279608605003,-0.03403165959247721,-0.006933643128706427,-0.05730212035744758,-0.015327025615987516,0.00560760537240206,0.013108444130755159,-0.008855321631138554,-0.014259372934142067,-0.02024732473970537,0.0019592518375092997,-0.00404264348783051,-0.13214430907732985,0.012336937683010758,-0.03732850187621458,-0.2048315622719003,0.17085993365111882,-0.05652352077239491,-0.006561465407058985,-0.003931194219779858,-0.06550465326469773,-0.00400256772364031,-0.26344438927344854,-0.023177305363113576,-0.03393590595099512,-0.004980105669196721,0.10538412465641436,-0.008847882625887258,-0.10439050364321271,-0.004208671614928814,0.06668704755026542,-0.13222716555001324,0.11788789331380821,0.09293236859990031,-0.004015088262942831,-0.033403290511723936,-0.017894767614149903,-0.01483205286123167,-0.017256698860935095,0.05143981464279234,0.005667489121817025,-0.06753207484746315,-0.05466281117463396,-0.04219723504458294,-0.020663167004571183,0.06639786663015897,0.007690261865939487,-0.008058207683481271,-0.17006244637933055,-0.00222362849852504,-0.018199684489975252,-0.09075864610903682,0.0036698559591669196,-0.017022644999570114,-0.1487581338228015,-0.002947305575377224,-0.017900684599359777,-0.0054020408978609205,-0.1448865149966065,0.00011300893864462646,-0.07979748471096505,-0.006159570059972637,-0.006159570059972637,-0.006159570059972637,-0.004973923932354774,-0.009835750749912397,-0.07018804158522685,-0.007701961250667592,-0.10034924213862256,-0.01566567861276902,-0.04006136063506314,-0.07888241147454128,-0.013666776090799696,0.02108366774641728,0.005489033324810932,-0.04163307413434669,-0.10953794511644838,-0.006424392469694858,-0.010582626373446122,-0.07575408080502322,0.01735508867362274,-0.07318551234450242,-0.00399110560265406,-0.14743534035591846,-0.003544738668187,0.0010657105374756303,-0.3879608966307504,-0.005353783203758957,-0.3689268706707486,0.0037178423211033937,0.008576762483222434,-0.00677900780027912,0.13395181981737023,0.1318576137018409,-0.020822054850115325,-0.007314427266860311,0.011037004523045868,-0.007443844929167082,-0.004110606397075901,0.12132556691922199,-0.005034617618852844,0.0036094179965693598,5.891068676216794e-05,-0.009092093703045324,-0.003245982182576441,-0.0037688724616911943,-0.006600209264010452,-0.002504453228442858,-0.004580455873054808,-0.013610512729020805,-0.013959375445712406,0.051999276823452054,0.0734297947429827,-0.052160436609235666,-0.07247741654810548,0.019575392589292948,-0.0052872731766974955,-0.03050370284868766,-0.008627036799318222,-0.03982695813021144,0.016473087302437957,-0.004980105669196721,-0.017223032503759176,-0.08975994685107809,-0.015210344829839921,-0.0823625277189848,-0.012777270739166135,0.0883328871586826,-0.010206866499753314,-0.013848824830088492,0.010252260560973064,-0.0031086970413058785,-0.13467174589745726,-0.01289888857048828,-0.0018255021265047413,-0.021990137111562794,-0.12073719469549547,-0.0663411367695827,-0.006927837479098873,-0.0708899968528667,0.10414500172328486,0.011930055679219023,0.035222333379742406,-0.007662966839745037,0.06505106668814283,-0.03054845019490027,-0.008576798583191936,-0.022057496979977918,-0.008348193551527975,-0.0085494437860794,-0.01625213749567138,0.0604105419705421,-0.15351238856149702,-0.06329209865789964,-0.036015638605765045,-0.004204307254255628,-0.11132183737752464,0.030470790303692766,-0.06382697822212911,0.0009015829899154989,-0.06329209865789964,0.13426794895007788,0.00575487499150679,0.0043109445087709765,-0.07339883501390788,0.1440084507465354,-0.003357568593927242,0.008779150507299145,-0.01505144837009033,0.01801239554542165,-0.0122198444621904,-0.02119865120571131,-0.027840552304253897,-0.02966401236870804,-0.014034321106345228,-0.006123678273904406,0.05021271215514884,0.006274981122501766,0.0008547132685285904,-0.041417271034762594,-0.060976509439251037,-0.029892642143125363,-0.001069760239031896,-0.010201407894029046,-0.04377073454725807,0.15685442489457738,0.15685442489457738,0.15685442489457738,-0.0010529113384998483,-0.006159570059972637,-0.006159570059972637,-0.006159570059972637,-0.006159570059972637,-0.0019478240052654765,-0.0063605992437416724,0.012366700289818955,0.010459025647980588,-0.015398559410080231,-0.005077468553707748,-0.008133488399202042,-0.007003153401208502,-0.005077468553707748,-0.003966188217748971,0.004923048619560125,-0.00468459508505928,-0.011534732156229266,-0.08520552404265412,-0.05956079205213824,-0.0026067829676763793,-0.005632816262148439,-0.005138964379889568,-0.039449453623804434,0.0831980804937144,0.0269888783927759,-0.0680583055512954,0.0847616578837861,-0.0042204522384523165,-0.0820009442354931,-0.03962044163319612,0.025451802282719094,0.009805060572088006,0.06086216225184009,0.0009076534941875149,0.002910871651364945,-0.023452049405493773,-0.0019209531211495355,-0.0025710323490193226,-0.0012126416846528936,-0.0952312907392467,-0.032545699984820514,-0.019137001402173656,-0.004980105669196721,-0.007621642725166825,-0.004012352281001388,-0.0791171569556363,0.007810288694973268,-0.02649550462503841,-0.007747342735409786,-0.0022385101472998056,-0.020088935453517247,-0.0026067829676763793,0.09650105886408557,0.10086309340491476,-0.08164242183909408,-0.06379990112266755,-0.07181665500462592,-0.07575820212155612,0.0005846083547557519,-0.0063799387231035275,0.0006596479203929351,-0.021725849443754802,-0.008253516615185719,-0.007147146731438922,-0.004814740481846048,-0.053873982924316714,-0.05343000260906699,-0.009358697416047525,-0.005218190171494725,-0.061078235309290775,0.011037004523045868,-0.12500061139720944,-0.007226950189764945,-0.013954645460983722,0.026044961776646964,0.08555673736083232,-0.003918220059075321,-0.016669330849604664,0.012371782513062477,-0.01396651529474202,-0.0010529113384998483,-0.04112837641486009,0.012371782513062477,0.03096475709199373,0.03436316929373821,-0.01762708359747154,0.06190772960796401,0.05659426634286907,-0.007734163847759942,0.02239521342711824,-0.009507760611661439,0.09325141251450533,-0.005594268375625998,-0.008906787573519134,-0.01077289011127447,-0.007838863718504473,0.00025462011747494974,0.06323018898273475,-0.011445842994069403,-0.34288012708469423,0.0004072482094068414,-0.0012960662713461476,-0.017659975889856083,-0.00927472815686534,0.0006256459310589805,-0.003677048009067282,-0.057240600664390455,-0.08672238941559522,-0.0040902590850835285,-0.01112408026364242,0.18095174764707117,0.10028218652427699,-0.0025236609349303806,-0.016004910942174395,-0.0014596792747563596,-0.004980105669196721,-0.019724796998845592,-0.082029201296549,-0.004536331699360776,-0.07250563992756891,-0.06361723541083876,-0.004980105669196721,0.020624077302926737,0.008127852384362989,-0.002597192096462979,0.014687229432864718,-0.013575228946330245,-0.009773394383160083,-0.004374687986405318,-0.13547914851049123,0.06301117671249848,0.16155109832730827,0.05741165453204543,0.03542517921252376,0.002382530030409404,-0.07004000607337967,-0.022545977308240484,0.13426794895007788,-0.012652804093371736,0.00978156085800509,-0.05889426608457151,-0.034948526051148,-0.094056014183408,-0.011010829905044869,-0.008089685520782411,-0.012073399896964272,-0.048913679778959426,-0.036948034897818664,-0.017280160237234412,0.001297934025636578,0.011478777718511968,0.12162437453041923,0.0059414998046088225,0.008688535807217911,-0.004980105669196721,0.13037998184736696,0.03542517921252376,-0.006144577716912118,0.08507362647509346,-0.013130299825458946,-0.04706056111863085,-0.004980105669196721,0.07925538823017224,-0.004980105669196721,-0.005031677055479095,-0.012557905823584273,-0.17576872672732913,0.1501887043249767,0.15946437044861533,0.0030698876917110056,-0.06828305250670798,0.09576708402550692,-0.11888189111278663,0.017301414813154677,-0.044888546145813245,0.0037221647120767596,-0.001169453083214997,-0.0068291759433185325,0.1277632730552013,-0.008744684806918795,-0.012452450568772212,-0.012232791126322608,-0.003162845801977884,0.0138724312278068,-0.004980105669196721,-0.003390612468208329,-0.00579507248517651,-0.002456579136989984,-0.05217511048279625,-0.02609705652818982,-0.006104299570460231,-0.010170414633544535,-0.014792684872763069,-0.047783605733721056,-0.016038685719607218,-0.004980105669196721,-0.0025742605812553313,0.011037004523045868,0.003372694128118108,-0.002571842626216031,-0.024699693800720943,0.1547448909697673,-0.01287628394528962,0.002394083760750318,0.014927494481410257,-0.004760489750405946,-0.0031405862493460034,-0.10118493636637634,-0.0954662234270116,-0.11371293099670368,-0.00984743309186098,0.013960678827282469,-0.09515595424266439,0.01902824004356542,-0.004980105669196721,-0.009155225173715845,-0.004574657292508781,-0.0025236609349303806,-0.0025236609349303806,-0.0013373079845075335,-0.008460656034267535,-0.01341415112241518,-0.012488688608655759,-0.04948384384038747,-0.0010617328446010817,0.0147071322868292,0.0051335832291626695,-0.0035994687335300394,-0.00703687674650247,-0.003310031410705632,0.007424685084607913,0.007592558612554969,-0.012775275108849852,0.0010556465789052821,0.004934225854409635,-0.1852279387621215,-0.004035042634632848,0.011037004523045868,-0.015774999444404924,-0.166296384746586,0.14788516113185393,-0.008761564303530893,-0.004249724007933636,-0.01077078284563615,-0.011029190299998968,-0.012305388688820421,-0.003673169032299322,-0.004980105669196721,0.07765954903528252,-0.006917046171398459,-0.004262364838709826,-0.046943681107069576,-0.007721014266336356,-0.021144082470351638,0.14609915459244674,-0.05530859458284546,-0.0020898785049884554,-0.09370075786505143,-0.05143191861381574,-0.006841156721680244,0.0604795816932926,-0.003195687588801191,-0.004980105669196721,-0.005228805483711834,-0.007549453632195958,0.1568499632118975,0.050784801830624934,-0.1588517832289989,-0.04147906433792043,-0.004145239059742638,-0.006819206586247665,-0.01764245714181858,-0.004107846203641848,-0.00925893292264427,-0.02480451632017776,-0.0035329749648410776,0.08650842240821661,-0.05796789488559557,0.06131490555875528,0.037465631366637664,0.05696700725477022,0.00014758958723260288,-0.008332892667727694,-5.8015133981982606e-05,-0.004952927044394963,0.010686332497425914,-0.009429834462246914,-0.05602914767240536,-0.00019693512114734102,0.047517440250677195,-0.008013215463085819,-0.00632994036506112,-0.03633447848493671,-0.055846469888123314,-0.16578847826964746,0.00669557718797867,0.14997435976392762,-0.002207012369392183,-0.0692244179199619,-0.05869462266499463,-0.02383019801822965,-0.007609578184369527,-0.41895633700735724,-0.04395757876235868,-0.0029511088187484952,-0.004459900787458121,-0.034424555157269665,0.027567371505909495,-0.01909878922562897,-0.024642117587102778,-0.15586946178234196,-0.15885714298624418,-0.02361878554932727,-0.14137152681989723,-0.16011787284471757,-0.0037901614586475845,-0.20153114353055648,-0.00802179240456578,-0.014693033165596323,-0.04797764692470986,-0.1905070691698363,-0.1893942518854446,-0.16513870415878404,0.03636700904686829,-0.10347536506700995,-0.003839981880153299,-0.20153114353055648,-0.031511829607254266,0.0749544275598329,0.023109707174186974,-0.00341873028017598,-0.06470255049978055,-0.02742674751618995,-0.20153114353055648,-0.1292491080681107,-0.054294755217067725,0.11263142961795028,-0.00242073654256868,0.15147670845873779,-0.01551636466282371,-0.18386010225206878,0.11912962368732787,0.12958083255244762,-0.20153114353055648,0.007383378846449579,0.0009671537750687139,0.08895244588596932,-0.18094057770911892,-0.11078484055397683,0.0030253865022387464,-0.002102035843754287,0.08364893244445995,0.006297377206724097,-0.0014916354559587305,-0.014559959096949139,0.04549510074950919,0.07403907914421223,-0.024378681964846296,-0.17212536221117236,-0.13399150032161666,-0.09716828298952171,-0.00323556711648814,0.05171564163675597,-0.012786073309147671,-0.006699026305431331,-0.005747578264052551,0.015614194342064427,-0.003311452514591884,-0.027240085527140186,0.06902511809736593,0.014304357875417305,-0.08640623426846804,-0.09770130513914634,0.023613973356869405,0.017301414813154677,0.0168408263194753,-0.0635841112570357,-0.3879608966307504,-0.013900352251868218,-0.027973174692198583,0.007362496330739049,0.058800786026570885,-0.002684650785115446,-0.029054141858200412,0.03169214936436233,-0.0316502356135741,0.10328181807917695,-0.11818199275831427,-0.002109253627265105,0.08140984651132804,-0.008515774519434038,0.148774361153946,0.004280673331682999,0.14035197674311417,-0.008474210088923139,-0.005247630893403094,0.0036646690777883384,0.03280019915459168,-0.0017800611777557963,0.016308317811703617,0.007234330633752631,-0.004679218095143408,-0.08498186219635376,-0.024425334400261213,-0.15317692711216374,0.16900550706475528,-0.011067991463386512,0.01859370669573981,-0.05419130911993094,-0.01184567593820378,0.016308317811703617,-0.054766490295280953,0.09383066288019046,0.02703196457892118,0.01787599819783662,-0.0055582807806083875,0.006671455180836872,-0.06080028507131238,-0.09091162733535597,-0.005077468553707748,0.023276683639148532,-0.00496964342638001,-0.0619254727897643,-0.004498614994618711,-0.0013046219122316604,-0.01924318613947492,-0.07841722964238647,-0.08498186219635376,0.0010524374172228214,0.042535080413428426,0.07138525523522324,-0.08727401021706066,0.056976057887027115,0.06977693496224306,-0.0364446156543808,-0.06637752914878028,0.07274933436112707,-0.00801714253139855,0.134963080028051,0.09633724205868736,0.07014532907929155,0.17949440929188892,-0.00616555901844384,-0.08038435243845429,-0.005153704572824115,0.010134315130143816,0.0010524374172228214,0.01644562431862498,-0.019133579614864588,0.12706513491827423,-0.0022958039189872868,0.11121459651095804,-0.06435112624700519,0.008197478476306214,0.0010524374172228214,-0.023695893841543053,0.0059151458019586,-0.011262316281273962,-0.02547553579121942,-0.032864229838574455,-0.026751275990857474,-0.05206074596159903,0.0010524374172228214,-0.03271592642199357,-0.004980105669196721,0.0010524374172228214,-0.05254610242440343,0.026342417879974985,-0.06250802686435361,-0.02027115376871172,-0.13643642917180443,0.0010524374172228214,0.0010524374172228214,0.000260515253782444,0.0010524374172228214,-0.018615350411545686,0.0010524374172228214,0.002494704699230166,0.0040159789607128555,0.0010524374172228214,-0.00733581965115712,0.0010524374172228214,-0.06774184807103999,0.04871466642721965,-0.018371731636854554,0.01849891938474093,0.07194098858892087,-0.05315634448123358,0.006514812795652224,-0.07461412725952861,-0.012278915756044737,-0.036399524656696436,0.006202515761613163,-0.037366784655989846,-0.03865764830326124,0.0010524374172228214,0.006514812795652224,0.02005933437760456,-0.007933001948877918,0.0010524374172228214,-0.005042611273019214,0.006032939274522631,0.044820584948329543,-0.07461412725952861,-0.026920807290307977,-0.006190659046111389,0.0010524374172228214,-0.03632097619707231,0.0036219946266193145,-0.014875951835760284,0.0070209171670350705,0.11105325035407342,-0.03423452626134669,-0.007434284091598776,0.043142732067138014,-0.07461412725952861,0.0015525026975972387,-0.012210969086156672,-0.02635452798922274,-0.050221647942898226,-0.012221479505038676,-0.19123126263826049,-0.010264239419710108,-0.006370557759968168,0.0010524374172228214,-0.011056226588477014,0.0011282279380213454,0.14242488762693134,0.0013615302535342562,-0.001488318054108747,-0.05312844260837775,-0.006125405279160807,-0.007208021154431203,0.0010524374172228214,-0.08265853432301014,0.02378621148669817,-0.002344694738292107,-0.15561040564078935,0.006252849763335256,0.0033574752065942213,-0.005272866627162397,0.0016623187756255081,0.04720730366308122,-0.012996193953282952,-0.011863443087308414,-0.0052033610177814795,-0.010264239419710108,-0.00854848137550275,-0.010103142971565547,0.014979471061739058,0.03552692463908397,-0.0025486468044069056,0.0052615265109699745,-0.05409241468561957,0.006117173336752314,-0.005791313258705355,0.09940473680222009,-0.005291340934807045,0.02306681288034946,-0.004699354242913185,-0.04652826865360888,-0.007552520591465997,-0.009344179216947052,-0.009344179216947052,0.019479045792778926,-0.010017055620832672,-0.02340253309387615,0.004305844617569351,-0.0062273055764431795,-0.1506729622419509,-0.015358127761064303,0.0738550130299736,-0.023632791578518775,-0.006493236979169036,-0.0046434486888936215,-0.025754782662268612,0.03324396816910433,-0.004980105669196721,-0.0053921536310262246,0.03213183302065362,0.0002601007383838572,-0.003665566522174966,-0.09098217435095485,-0.013297244806763604,-0.11601325848103601,-0.05438723247931206,-0.06542541592228886,0.008219744674278268,0.08937583790145753,-0.010088644416993095,0.0027045253864520016,-0.010264239419710108,-0.04618113014091232,-0.0025687687846354763,-0.015509923434592534,-0.08646846663975465,-0.08646846663975465,0.015606890766373806,0.12419713234315077,-0.004083921261053333,0.006514812795652224,0.12407929349603446,0.0021907902805743,-0.0034459759638715798,0.04052994442876011,-0.006910466166553689,-0.02755082227206117,-0.007550593031939956,-0.005025807930059192,-0.027089263378542706,-0.004112288076651738,-0.11601325848103601,0.03593447104375918,-0.027608983495686856,-0.03306692024643241,-0.0013819454539553107,-0.01193293081686694,-0.06460099249767949,-0.001967130675040848,0.04339013021866616,0.004679140507481143,0.007992890286726475,-0.007187056592064833,-0.005487282687284683,0.0020753664382566223,-0.11601325848103601,0.0021753109897467903,-0.0005969565518570681,0.006474833295457909,-0.02192627701521514,0.12162612357145218,-0.006980001131024762,-0.009521634501280617,0.004439189708772188,-0.010264239419710108,0.005621249932077265,-0.1042948789094508,-0.027317532794872222,-0.11601325848103601,-0.010017055620832672,-0.010264239419710108,0.013591149742707882,0.01087393709555049,0.019262572693446642,0.07476778776131329,-0.002341639393671967,0.0041769595570804174,0.013647587140347493,0.12179709022968423,0.10441525536548593,0.04320324658708948,-0.0315582573839704,-0.006877354086909632,-0.04738372495444985,-0.006980001131024762,-0.012634002762497038,-0.0005268994308856497,-0.02172961238215669,-0.017340555257718455,0.036575441388173084,-0.008913796508578818,0.07213577785293072,-0.014071323616217482,-0.002226590780118706,0.004610716004717605,0.005465754503856574,-0.09038955627278944,-0.013612552955361887,-0.028349936747785652,-0.0066540442569749374,0.018871504538612763,-0.027293880574451476,-0.0013893091836716651,-0.008347193414842064,0.008469082568017114,-0.06818657602096093,-0.004980105669196721,0.1448184482163829,-0.048274644864607245,0.010738090585295363,0.03324396816910433,-0.01193293081686694,-0.0027161071698475277,-0.01660808625519079,-0.004980105669196721,-0.006243542128714401,-0.004980105669196721,0.00019618985099111787,-0.029618699770529697,-0.002466721276709481,0.0011201705046725225,-0.0005616010741655406,-0.0013441553765248888,-0.0052716901509092,0.09769194892140624,-0.0041483302338870915,-0.001839438374127211,-0.01058192190753083,0.019882185981057815,-0.004185241074965553,0.00822657527079453,0.024791185188764678,-0.0692729403212037,0.09980382037828057,0.08779298902673999,-0.11837487014153808,-0.006645613847814759,-0.0052716901509092,-0.00546241085743685,0.03498373298539805,-0.005468702041988672,-0.004719049776320128,0.1466281855848158,-0.006235454972907161,-0.005566998749380621,-0.006645613847814759,-0.005636770851929035,0.017663649099301564,-0.005089673499327084,-0.009343888236240197,0.09769194892140624,-0.005089673499327084,-0.00794230794796714,-0.016721254050119164,-0.006685967717018908,-0.0134646640233895,0.010343598154306306,-0.004980105669196721,-0.03775647900807832,-0.0052716901509092,-0.009803432320616763,-0.004980105669196721,-0.005189124104869143,-0.0036295228314533285,-0.07765386454318596,-0.032720715807093584,0.04446793903800201,-0.08726729662245727,0.1276550119854824,-0.00546241085743685,-0.02959212839922022,-0.0052716901509092,-0.041812397772605855,-0.004144980490984595,0.16166185824588722,0.002076760523524228,-0.030409862927301603,0.0014247316508659875,-0.008297788571864001,-0.0453797397218443,0.014961804824232603,-0.005809422992038507,0.01713141876804167,-0.0266663730341907,-0.007252971558214126,0.005675972798471142,-0.01989428821664279,-0.009480699011675918,-0.004980105669196721,-0.005344540275102572,0.004515333732246526,-0.011059104740020632,0.005729753158849472,-0.0425593273313854,-0.0013993347083747193,0.027221575600048207,-0.005216097844893024,0.006289973144897058,-0.005349249404964818,0.011005937745303535,-0.007992988099824334,0.028461035119801897,0.00583578161386838,-0.0028919377599612153,0.10511990966947142,-0.008477189642508771,-0.005246550699809261,0.003265656045361444,-0.007251547533023344,-0.03315863461208468,-0.008500436633446564,-0.0030682394828845114,0.04124818580000107,7.936607556172157e-06,-0.032254562472155905,0.005542927557768529,-0.08527309976057183,0.10194319705389464,0.09146130963308492,-0.001546779850903357,-0.02997640298093355,0.07039090983616443,-0.0073191026813311,0.05001199098155851,0.09769194892140624,0.1461467876967664,-0.01902492196123913,-0.00401730644048818,0.07978760779658606,0.059591183205400466,-0.004337893509979909,-0.07554722468968118,-0.018717772407507414,0.03710502904734965,-0.013723528885306552,-0.015711092676048397,-2.3452314732877986e-05,-0.0035629760704023188,-0.0053337717614275505,-0.07057690352588145,-0.008545206021649343,-0.018959755799248947,-0.03750578569810009,-0.012877009114136877,0.051499307771939694,0.051499307771939694,-0.015622778349416928,-0.007509895297017838,-0.09672515129971594,-0.029363140617103135,-0.029363140617103135,-0.0033780587720323003,-0.0052432135589600744,-0.011554657627673022,0.08591252986166566,-0.004980105669196721,-0.005468702041988672,0.041110043058123255,-0.005302280250311082,0.021696157189485324,0.01840325872108845,-0.09501700866891764,0.013786153231140904,-0.027447700919405932,-0.017724884896532657,-0.0636574728740884,-0.004516139182290826,-0.02997640298093355,-0.006111512596183594,-0.029363140617103135,0.09125748258600043,-0.02997640298093355,-0.015538692719164264,-0.029363140617103135,-0.020039904661449823,-0.029363140617103135,-0.031838693059811435,-0.005468702041988672,-0.06962873835598442,0.016308317811703617,-0.00925156668357645,-0.02997640298093355,0.05639178471106673,-0.00341817270945304,-0.024206766954811436,-0.018023793959573466,-0.029363140617103135,-0.003746686808937839,-0.014998547194418324,-0.005452712356168368,0.019690269315143172,-0.02997640298093355,-0.029363140617103135,-0.0856152184143693,0.029905897404403314,-0.08181310194798673,-0.05825775748307209,-0.008760194551370228,0.04274671069574389,-0.13547914851049123,-0.005108783691285404,-0.007290364602899275,0.005015165455941457,-0.00699430505716358,0.15043372424251236,-0.0627626078380696,-0.03362201298275061,-0.010336070834919294,-0.028313264409437645,-0.007632054446065762,0.0986807155155587,0.07002027112661235,0.0019299545275951117,-0.0026005419749398954,-0.023752674038606952,-0.010182847030481253,-0.0022546380275465902,-0.041944382118968136,0.01154421317087625,0.04625524869694845,-0.005696289588932838,-0.007162198227747766,-0.01686148488924825,-0.10285473995251036,-0.0187494297627493,-0.008085612013192344,-0.01740422367756719,-0.059527477575926926,-0.006201779874764554,0.004500227050455614,-0.053639066306984215,0.0670208263107672,0.09205742512164593,-0.0037431339388121895,-0.008797414634255254,-0.008797414634255254,-0.06127095720844655,0.13355150978098448,-0.014752965895081962,-0.04178624098370872,-0.05649896532554605,-0.056770748861611424,0.0009814641134419171,-0.010212667073072544,0.0009814641134419171,0.00043556226128430475,0.038662905628431936,-0.007443844929167082,-0.00010811635958250676,-0.053431346391185824,0.15617497456689083,-0.004368100807279572,-0.05542984934141374,-0.000625442857736112,0.012653480224799589,-0.0003605582205159293,-0.0003605582205159293,-0.002639473686048676,0.004293332955833891,0.03346097637052651,0.020357541442220583,-0.011407475490290921,-0.004980105669196721,-0.003953102048778577,-0.002554958536037717,-0.007001309928351243,-0.008992600450910247,-0.00925156668357645,-0.010277269183688244,-0.0012617705115747207,-0.020737323887051025,-0.007740644667543024,0.004405032785853324,-0.000255374922062547,-0.013909767127080514,0.09583950424298526,0.028965026651059173,-0.00807925402945628,-0.004980105669196721,-0.0049851334374129965,-0.05542984934141374,-0.0003605582205159293,-0.03119750643409377,0.09116650495724866,-0.005327738499702073,-0.06078088424529785,0.00041153544022877665,-0.031630353701432565,-0.0020783388958936695,0.10245712870846851,-0.01004707902820393,-0.010301569816713894,0.004734159050596882,0.004291960120312909,0.018771306209369093,-0.004067120100006993,-0.0073333444680977735,-0.01166884999091292,-0.010182202343908972,0.005675972798471142,-0.004980105669196721,0.004734159050596882,0.010313403524374674,-0.004359420548319758,-0.009708198856200324,-0.01271320110615092,-0.007153049929897878,-0.004744396035172009,-0.05779582075120637,0.02767100543723574,-0.012709403714358067,-0.04573436895240013,0.0063542660525326665,-0.004783709196551847,0.019690269315143172,-0.0014839677931768678,0.019127865750438275,0.029905897404403314,-0.016364785990054982,-0.008630558165309428,-0.004980105669196721,-0.004835680195848831,-0.026079211909637717,-0.016215483849559606,-0.3879608966307504,-0.0034959688078659186,0.10604059518941503,0.0035620829173480585,0.0021241501947703513,-0.018390333787787958,-0.016308930163758763,-0.028219179790864725,-0.11028038342020151,-0.012356533397524754,-0.044113509231704505,-0.0034367437122680812,-0.008000984239912252,0.0318622790730922,-0.0031350942535442647,-0.004466564098825151,0.06983809184501451,-0.004049226452474774,0.0037650357077442433,-0.011416074877567755,-0.20416300735329979,-0.010349059905175935,0.027201519735871788,0.10140015330028582,-0.0025607375934889147,-0.006465767857718641,-0.02012287081702006,-0.027838616864940588,-0.007544839460778882,-0.007002569460224394,-0.004026567082952482,-0.10990534734136366,-0.017090856351165612,-0.029164325608101577,-0.0038226802548160604,-0.11509119442534849,-0.012133322099033984,0.09224718553972004,-0.02762015472887965,-0.0011267120958718011,-0.0022911886774279163,-0.006773317904756017,-0.015609448322995491,-0.07634444138133019,-0.00822255124738883,-0.03419052112901343,-0.007360691543308611,-0.013990732199889815,-0.005388857422307028,0.09769194892140624,-0.002925643981498666,-0.007717931221681007,0.0024200139895994483,-0.004980105669196721,-0.012319119842724916,0.006324176500810644,-0.1150574934066141,-0.009468465871997652,-0.016460773697030816,0.01646556288122557,-0.0011151725691095585,0.0037692412058911015,-0.06956784835604606,-0.027838616864940588,-0.0007695299436427184,0.009836080142741252,-0.0039176830263183094,0.12751455949793558,0.029905897404403314,0.029905897404403314,-0.030315481088737484,-0.010331862592233426,-0.08257368981584895,0.00812030998617222,-0.0020814173276825073,-0.0033773679628688784,0.0021007266688150435,0.16433691330934597,0.02042960263922614,0.00889763606055702,-0.0030085439667701477,-0.004980105669196721,-0.005295463520085783,-0.008179179762207181,-0.006305351273866569,-0.00979227841007755,-0.004227686452343586,-0.009928536712582842,-0.0010212367334730137,-0.0005969565518570681,-0.01644394225004754,-0.050354229579007495,-0.005524907569874623,0.00207668134065039,0.0007246339157308744,-0.00018182258628118966,-0.11109045354186915,-0.027838616864940588,-0.11720492770487816,-0.008926072905785398,-0.015123756343590528,-0.0003323487298823964,0.007540382660619442,0.009951177188192712,-0.04442090218053621,-0.007418156470050129,-0.004728176519504451,-0.0033736629378865505,-0.049597024099130714,-0.10053478010759086,-0.3879608966307504,-0.0026067883313462647,-0.004679218095143408,0.04424286982896493,0.06029037240697181,-0.009573167417770144,0.0025567533714616706,-0.04378695929650697,-0.004078397490896128,-0.006911779345993176,-0.0013054223909494465,-0.004980105669196721,-0.010198954674013215,0.010188656797006663,0.07644174768058588,0.162136986215289,-0.015711873905542954,-0.004980105669196721,0.06029037240697181,0.05844601412735193,-0.008797414634255254,-0.008797414634255254,-0.008797414634255254,0.025630733572704272,-0.02950221464619113,0.05810155626678404,-0.07487000237956086,-0.004980105669196721],\"type\":\"scatter3d\"},{\"hovertemplate\":\"color=Excellent<br>x=%{x}<br>y=%{y}<br>z=%{z}<extra></extra>\",\"legendgroup\":\"Excellent\",\"marker\":{\"color\":\"#EF553B\",\"symbol\":\"circle\"},\"mode\":\"markers\",\"name\":\"Excellent\",\"scene\":\"scene\",\"showlegend\":true,\"x\":[-0.04879133394269674,-0.05687862675069771,-0.0554792954842276,-0.04678465221895416,-0.04678465221895416,-0.04561426856711323,-0.04678465221895416,-0.04222836813489986,-0.06044103737807179,-0.037213096584437555,-0.06832343003239183,-0.06832343003239183,-0.05103723566850308,-0.07617958017426353,-0.07617958017426353,-0.04609384151137924,-0.056676477411089936,-0.0804237071299306,-0.05370885369947868,-0.06950286904542376,-0.07617958017426353,-0.06832343003239183,-0.05370885369947868,-0.053115743968065704,-0.042691175844032384,-0.04942569127997242,-0.05370885369947868,-0.04659732216826934,-0.04027054112965874,-0.04745279607932607,-0.04242601096921682,-0.04242601096921682,-0.04583525792278966,-0.05523042317395186,-0.06003810868228229,-0.04364720008021706,-0.0738539349171766,-0.06436445134074628,-0.05361497239074767,-0.08231450705334704,-0.05463428362889306,-0.05810414430486054,-0.058267270028297416,-0.046131025198461066,-0.04809344311143014,-0.04286910682829965,-0.06558952072078732,-0.050699873187010545,-0.06979008937753853,-0.03408687170878824,-0.05903735398698985,-0.05199920623822233,-0.04925974454190684,-0.05244735718237356,-0.05410029140692086,-0.05938958572791704,-0.05599392406832234,-0.05983607536894173,-0.04701607600243553,-0.05087209810719318,-0.07464389380468289,-0.06073194806529018,-0.08597584979297641,-0.053010179211092495,-0.0632449014447436,-0.05671518487966304,-0.07424791975664838,-0.0538846821436171,-0.05581639661332095,-0.058380328063356884,-0.053245788666012955,-0.0586684683847782,-0.07124781939510404,-0.0528164532317619,-0.05764855164841052,-0.0679081413228732,-0.05964590253043295,-0.07267579469936038,-0.06296278698629039,-0.04954374363607024,-0.06057021675754868,-0.06213233010487823,-0.05253466128402891,-0.06668468435158773,-0.053907931046660425,-0.06177026050321981,-0.04926330225046111,-0.05577083243257942,-0.056150439597908726,-0.0521046354603383,-0.06021883576427815,-0.058622272360045455,-0.06341967264049014,-0.05245221430741689,-0.0761238221036592,-0.059561346485706664,-0.0654927552882293,-0.06514673812263802,-0.05428943299246414,-0.06452143445851286,-0.0594280048083548,-0.051856271011259295,-0.04675711294131624,-0.054177712354076785,-0.050699873187010545,-0.05160276819775664,-0.06914757567066325,-0.06937199568924024,-0.058678076166138744,-0.0761238221036592,-0.05967960352129995,-0.07016182678233196,-0.06135384814032834,-0.06088732818864216,-0.053080660828489674,-0.04202502161369706,-0.07621445912881177,-0.06017313673161765,-0.05892554947090777,-0.056394468354648154,-0.06360993536536814,-0.0783826425039644,-0.05699732455615228,-0.06945730126779118,-0.07423045759384878,-0.06832343003239183,-0.06739020917233186,-0.05927404779333537,-0.035942222531082015,-0.04922164845224579,-0.03661475939041443,-0.05668070062452995,-0.06363140374420809,-0.05583961613577695,-0.053010179211092495,-0.060760262547228744,-0.0720119299062945,-0.057856381551197204,-0.0804237071299306,-0.05274428173782817,-0.0804237071299306,-0.06950451362474364,-0.06982886862391398,-0.08530077005326443,-0.048205643345153176,-0.05648317234208519,-0.049045936849750504,-0.06443947335238977,-0.042087116372440135,-0.0563257194234728,-0.05456622503570922,-0.07390794280156054,-0.0804237071299306,-0.06832343003239183,-0.04571288971632366,-0.05083123490480124,-0.05473281284525184,-0.07618654031701419,-0.06832343003239183,-0.06832343003239183,-0.06832343003239183,-0.059141645962026396,-0.05246440754235671,-0.05531805856827054,-0.0522152914805427,-0.05598279044279596,-0.04859410981318791,-0.05740835889306355,-0.053614808410136675,-0.05191958159491033,-0.07742118767515782,-0.052939983184257265,-0.06844880797752981,-0.055418570128767525,-0.053614808410136675,-0.07274898943941148,-0.04402971352429279,-0.04943920819506845,-0.07196981392417326,-0.05855888088305406,-0.0642113527501232,-0.07503537917642321,-0.049520092867262964,-0.0752123353875443,-0.0543014526780081,-0.053614808410136675,-0.07608767266927566,-0.05308717068988167,-0.08151010935527084,-0.07007486789755427,-0.04242114028294236,-0.045845615499057524,-0.07560789967274896,-0.053010179211092495,-0.05883497980948187,-0.0757929969142554,-0.0728463628760061,-0.07468718012375711,-0.06273528715061369,-0.0522152914805427,-0.07443423558591188,-0.054360658563917835,-0.053635643032818495,-0.07711344523350076,-0.04822916937125052,-0.05258013355741317,-0.08458718243803723,-0.06940436732790826,-0.05662256245433839,-0.05851478998036434,-0.058511515171548074,-0.08565343695427585,-0.07617958017426353,-0.05992623945746253,-0.04205563334226763,-0.05203986185176156,-0.053010179211092495,-0.08158349564344379,-0.06614370184710074,-0.07458001702152015,-0.05190384997747137,-0.07444501040327439,-0.0821655325572317,-0.04258855978137143,-0.04184820001476134,-0.0757776500918326,-0.07290632990044585,-0.04511171110759207,-0.0819285447613871,0.39412744774697833,-0.05978259341747275,-0.06887009094190133,-0.07805866016294627,-0.057324925931865695,-0.06491953759135509,-0.05501510620103529,-0.04683618082033479,-0.053559267117236756,-0.05097908931997933,-0.057365311220298386,-0.05708683159218578,-0.05185715355393501,-0.05605085363225152,-0.04936408373177874,-0.06631825884397044,-0.07933616635984879,-0.0772813467568167,-0.04817049643045346,-0.04817049643045346,-0.049832150298162396,-0.05810727850257628,-0.04184820001476134,-0.07612563406493017,-0.07051325781350576,-0.07100583793050089,-0.04980411524960201,-0.07585545136695822,-0.048585699937170504,-0.048585699937170504,-0.04315597683093021,-0.056140088725116936,-0.05337160432251662,-0.04442990495392909,-0.04937287793412932,-0.053790089194869474,-0.044286920741415964,-0.07530753134595498,-0.062323143411687994,-0.06598440073164753,-0.050776509418550164,-0.053010179211092495,-0.07955944096317812,-0.05338027311757431,-0.07091310833532596,-0.05505333030291815,-0.043227353325702274,-0.0574212887101395,-0.05133491451944134,-0.04105625157255378,-0.04511712484380096,-0.053010179211092495,-0.06899928829915114,-0.070615471437388,-0.07035487182842232,-0.07417499600140348,-0.07085200285282399,-0.06997084517517266,-0.06273732987636485,-0.055253701285329304,-0.07028908400079992,-0.07139991892793775,-0.07955944096317812,-0.07064711767565822,-0.07042781870703127,-0.07998332593870221,-0.07741436950112876,-0.072869152419681,-0.07013024234992844,-0.07234540457989876,-0.07016635252510713,-0.06808746257236661,-0.056384124106635264,-0.04570969480151856,-0.07022178844805137,-0.06994544656943921,-0.06999274856278302,-0.06570195098711276,-0.07399692504637005,-0.07504731506258147,-0.07597265694600465,-0.07007927123426778,-0.05752680506088541,-0.07941019222895096,-0.061353532453098644,-0.0462140680448418,-0.05705722973025073,-0.08530077005326443,-0.0775649115209868,-0.04586449066744802,-0.05776504988430626,-0.07010434951912389,-0.08398981370327943,-0.07576667952765331,-0.053753920329829605,-0.0720119299062945,-0.07544370635813395,-0.06094865133401283,-0.06994095247981018,-0.07687302674641955,-0.044659239438232815,-0.0403844254322934,-0.048184521096405114,-0.07586174310178323,-0.07104090253854566,-0.047525683760248794,-0.07582680709495958,-0.07670980591657907,-0.05161239886633482,-0.058065914043516964,-0.05702166631603264,-0.08214952477273427,-0.03929748832914991,-0.06950451362474364,-0.07063073373969835,-0.05048197339078543,-0.047260068786534375,-0.06111791090003151,-0.0720119299062945,-0.07917021666001421,-0.06902846727189219,-0.07039448653912218,-0.07355662901492628,-0.03728611728489203,-0.034214963657231576,-0.038683121243691214,-0.03702578412625683,-0.053010179211092495,-0.053010179211092495,-0.07130713019517843,-0.07130713019517843,-0.049805945672831094,-0.0761223211891887,-0.05352434629455916,-0.07166565997725446,-0.0670213226173066,-0.05134237568885441,-0.07092383185075866,-0.054332907112012316,-0.0761223211891887,-0.06343226393673676,-0.07604616717952808,-0.060928575239575136,-0.0761223211891887,-0.06563709410145493,-0.060853193687722185,-0.06000842299864177,-0.07130713019517843,-0.07092383185075866,-0.0652266555506059,-0.05569493635500726,-0.05665606732955419,-0.06032764800431074,-0.0779107961917517,-0.07095151092812854,-0.07154549990702326,-0.07092383185075866,-0.053010179211092495,-0.07132334752570778,-0.06494507256587748,-0.057494484645825655,-0.07678852069535144,-0.07617958017426353,-0.07154549990702326,-0.050010630732338635,-0.07617958017426353,-0.04531586625134734,-0.05863244411782545,-0.06443517754765077,-0.06443517754765077,-0.06443517754765077,-0.06443517754765077,-0.08530077005326443,-0.06443517754765077,-0.06508238292548764,-0.06443517754765077,-0.06443517754765077,-0.07617958017426353,-0.06520701632019014,-0.06443517754765077,-0.058726144834900275,-0.06443517754765077,-0.06443517754765077,-0.058726144834900275,-0.058726144834900275,-0.06032006384414737,-0.061177004197283516,-0.06422658584142357,-0.04105625157255378,-0.048000798194219464,0.3822819671653584,-0.050492540706731655,-0.07617958017426353,-0.0804237071299306,-0.059756673941529954,-0.04840665100221707,-0.04640575628196934,-0.05775471080357252,-0.08530077005326443,-0.04834652508796181,-0.059326232034299965,-0.03924377262241794,-0.05274965313555171,-0.07617958017426353,-0.0449797608033167,-0.06825553594738601,-0.06832343003239183,-0.08530077005326443,-0.06583062016826514,-0.057091258862893034,-0.06832343003239183,-0.040473008619495696,-0.04812186754859816,-0.04835753536395651,-0.07680603050291643,-0.06832343003239183,-0.0804237071299306,-0.037693283436744725,-0.05623338466193028,-0.06832343003239183,-0.06832343003239183,-0.04849069137106129,-0.04855175102161806,-0.07617958017426353,-0.0804237071299306,-0.053010179211092495,-0.0732752405240669,-0.06832343003239183,-0.07617958017426353,-0.042552206861719476,-0.053854623033225565,-0.05789831883414338,-0.03846149082791529,-0.04334707680751059,-0.057152700546645174],\"y\":[-0.10871077039708137,-0.10866516791307138,-0.12608303834776352,-0.10195740132590995,-0.10195740132590995,-0.06450313305934895,-0.10195740132590995,-0.053486482558208634,-0.1555016797924336,-0.044362083620817755,-0.19434724726303632,-0.19434724726303632,-0.03967598648999818,-0.2077795498629652,-0.2077795498629652,-0.07516595324768666,-0.15285661009175563,-0.1607306006385709,-0.10303652759397966,0.13882258917011628,-0.2077795498629652,-0.19434724726303632,-0.10303652759397966,-0.10658048750278318,-0.08777689898329452,-0.049213407789202114,-0.10303652759397966,-0.08670023605677486,-0.07417924128639948,-0.0670203387926645,-0.05472693111520713,-0.05472693111520713,-0.059084369673480554,-0.12202386607052086,-0.1673990269612443,-0.09301708409562723,-0.2030633685540461,-0.16431924997670444,-0.09761211442413617,-0.24199989178285658,-0.1444070254504833,-0.16097844846995912,-0.11465094533124932,-0.09112413760620447,-0.09323941111603593,-0.05496859179678471,-0.16755719849366607,-0.04707269932763881,-0.19232630876693652,-0.06323605281027252,-0.1485671088614118,-0.09007775249265716,-0.11008889504299889,-0.1159229997162724,-0.13748511616357253,-0.1574793634292836,-0.12553618691043536,-0.05936072214466981,-0.09740480120227059,-0.12056536996753638,-0.19522015383944996,-0.1570676888943245,-0.23571059501272124,-0.10329638512082358,-0.163100434531733,-0.15723922742540877,-0.21160873357368054,-0.13587937676910045,-0.14160252183611735,-0.1384721261101515,-0.13394884570888305,-0.1568753749178065,-0.17567563121148977,-0.13226261010612675,-0.1516541561399009,-0.18931689847567099,-0.14312758372915788,-0.20497973839325354,-0.15668011048123875,-0.11765204324237369,-0.06818801415756996,-0.1334230493762058,-0.1312576459792572,-0.18121867544143855,-0.13629851529011905,-0.15038513394732084,-0.04481754488080786,-0.12152064642065145,-0.14036154023021105,-0.11846484286216943,-0.12667851294066285,-0.14017929946064847,-0.15161917039043502,-0.10359031531296685,-0.202757649785301,-0.12573608650984466,-0.13389905669041813,-0.14956991329449107,-0.120568933349702,-0.16888738272819315,-0.12555012016483832,-0.09077364676535586,-0.10488289753406796,-0.12556188862532575,-0.04707269932763881,-0.10772185766074367,-0.17752061522446985,-0.1812449070253511,-0.15829416641092078,-0.202757649785301,-0.1304115647598776,-0.18375532947598477,-0.14555144486017363,-0.13569762246462402,-0.0974012869068221,-0.07176256291796546,-0.20652491375931512,-0.12672939854603743,-0.16145710095032095,-0.08662581535576197,-0.13954201227921978,-0.24026057431562226,-0.14613350644389597,-0.17868728844092763,-0.15315731197489071,-0.19434724726303632,-0.19277091017766898,-0.09760170540447417,-0.041279371118775894,-0.11681478118233864,-0.07382287452077678,-0.106100402174492,-0.13353648946147711,-0.14565355626957627,-0.10329638512082358,-0.15934274635298143,-0.22533687270297306,-0.1406661880806455,-0.1607306006385709,-0.12038853884550631,-0.1607306006385709,-0.20846662365762322,-0.19186642916131216,-0.2527312089234326,-0.11352153695049448,-0.11781386232546118,-0.09832533768154528,-0.18317730043720495,-0.053144453469367796,-0.1524188502669635,-0.12371491571631281,-0.21167356418280062,-0.1607306006385709,-0.19434724726303632,-0.06600536081925516,-0.10714133698276837,-0.11961176583358674,-0.20878851388306383,-0.19434724726303632,-0.19434724726303632,-0.19434724726303632,-0.10548661906207335,-0.09181332655173932,-0.1191033744594006,-0.11142736070788267,-0.1324075677397163,-0.0944380330450712,-0.13841195880218357,-0.1164194524245277,-0.11278784453292885,-0.23616653824080322,-0.09339924247486212,-0.20339296485355654,-0.11525023703327425,-0.1164194524245277,-0.21307225737657454,-0.10133387111821636,-0.11603161005532013,-0.21349251869423289,-0.12507183220540216,-0.1841874739884418,-0.13224673532521322,-0.12079996696000911,-0.20018848264340652,-0.11411397832293539,-0.1164194524245277,-0.23100492102931566,-0.092566312250062,-0.25430654138673436,-0.1574100341014074,-0.07518734042671456,-0.09889387098476951,-0.21548379866120307,-0.10329638512082358,-0.0969831893298903,-0.20613986854328292,-0.19414288714676026,-0.21369303440383272,0.04271562515511638,-0.11142736070788267,-0.22888937174410753,-0.10635999721095256,-0.11156345975201605,-0.21440086599311906,-0.09611543023421071,-0.10767242699773355,-0.2699585199876708,-0.18226653765495585,-0.12492128255420332,-0.13688026325791305,-0.12056535566207364,-0.24834534412676007,-0.2077795498629652,-0.1431767361856061,-0.08064264371028732,-0.09582426945106783,-0.10329638512082358,-0.2368502554872478,-0.18302025532239036,-0.2143638176098918,-0.1205362183079825,-0.2139131282232506,-0.2545536149924863,-0.03579707387898432,-0.07017095020762572,-0.21626443893046876,-0.21059031498552674,-0.09235451345430903,-0.11876215469873179,-0.06680577845108895,-0.16156399800050397,-0.19740314912836093,-0.23763036811990135,-0.139459362922727,-0.1871031011785314,-0.14436926116130808,-0.0830730752469701,-0.13107278747216564,-0.10507312942555166,-0.1391256620102846,-0.15743855031096937,-0.11807665927598858,-0.10054944300040702,-0.11195616201618135,-0.19076379549005987,-0.2508456294926868,-0.23452754605502762,-0.08614974963187615,-0.08614974963187615,-0.11618888785090235,-0.16174503276922392,-0.07017095020762572,-0.21041708130990613,-0.20757926936713925,-0.20800797292694068,-0.12007976200237157,-0.20283847337606736,-0.08581863617445241,-0.08581863617445241,-0.06765982840203998,-0.1341956280717252,-0.11978716103560394,-0.056744125955770705,-0.10790232008448493,-0.12492748239671411,-0.04546922164202916,-0.2283031129749653,-0.169678573597727,-0.19130076532344167,-0.1073873868758752,-0.10329638512082358,-0.24687076603784708,-0.011710184506798772,-0.2089875450963722,-0.12040499225443875,-0.10266820657305423,-0.15963640175093932,-0.11024451758193786,-0.05682504283123738,-0.08162195436738547,-0.10329638512082358,-0.16377680642117634,-0.20737831158227957,-0.2059223794270458,-0.2235514360510319,-0.20876140009340413,-0.20576642578600512,-0.16459546465168343,-0.12378780541953971,-0.20698742574025,-0.20980397159273914,-0.24687076603784708,-0.20800373885838544,-0.20698661259587225,-0.24656115288667588,-0.23692002832352982,-0.22400443096303693,-0.20609427985303175,-0.21141978855270807,-0.2061050782730211,-0.20345584695790903,-0.12038070754155555,-0.07632443396192905,-0.20693683896821818,-0.20311586907403312,-0.20559285716285644,-0.18077099375326872,-0.22795188106179226,-0.22746496853322498,-0.23073869545425185,-0.20304640362566043,-0.16076640317086607,-0.2439416044819101,-0.15812408987879573,-0.07103192575670075,-0.09824230601642094,-0.2527312089234326,-0.23615017522047516,-0.11385451289877975,-0.13720706055958987,-0.20581913213587055,-0.1297264770449487,-0.2299249652149226,-0.07709624677833642,-0.22533687270297306,-0.2247695850115815,-0.1115854909138071,-0.20940114465805013,-0.23358299430305574,-0.07784498617942016,-0.07356744777179847,-0.0804422340270773,-0.23126843630973715,-0.20776886044221118,-0.08471140638214805,-0.2293986061220659,-0.23373010735481659,-0.11937330078014403,-0.10434260520702449,-0.1516538633631814,-0.25517884144728953,-0.05513043887400027,-0.20846662365762322,0.07305728208161542,-0.12455122775694262,-0.11300607171700379,-0.14804392820624174,-0.22533687270297306,-0.2517898024333022,-0.1546467980795917,-0.20305609677455735,-0.1929968919889226,-0.04458374448343617,-0.04081999454833506,-0.048948400440309965,-0.040399652348592524,-0.10329638512082358,-0.10329638512082358,-0.19129220136037622,-0.19129220136037622,-0.08934423498005482,-0.2100789091359193,-0.11483392761834418,-0.19198140344072495,-0.17402244871722589,-0.10269483824419917,-0.19863998428845472,-0.12445138640914886,-0.2100789091359193,-0.16986037012063862,-0.21839618571572156,-0.1440002591256697,-0.2100789091359193,-0.17357952758135325,-0.1485084183824945,-0.14272538883853067,-0.19129220136037622,-0.19863998428845472,-0.1175642153414878,-0.11471391087558389,-0.11717430753868749,-0.12908238716165854,-0.21574135830400473,-0.14537212078935266,-0.1916730662538606,-0.19863998428845472,-0.10329638512082358,-0.19223046896134643,-0.1558966016059859,-0.1274005904534479,0.03796898630797862,-0.2077795498629652,-0.1916730662538606,-0.07710931432962033,-0.2077795498629652,-0.07046052474695164,-0.14173196065322552,-0.11370317150707321,-0.11370317150707321,-0.11370317150707321,-0.11370317150707321,-0.2527312089234326,-0.11370317150707321,-0.11863378755206154,-0.11370317150707321,-0.11370317150707321,-0.2077795498629652,-0.11940791488362001,-0.11370317150707321,-0.09370015156799397,-0.11370317150707321,-0.11370317150707321,-0.09370015156799397,-0.09370015156799397,-0.12582902496022078,-0.09144383300296799,-0.101360216798769,-0.05682504283123738,-0.06474817066738905,-0.06132483581385375,-0.038852600693263975,-0.2077795498629652,-0.1607306006385709,-0.07937938552660243,-0.07429277900216993,-0.08415464749766742,-0.14008188369037022,-0.2527312089234326,-0.10414909312927413,-0.06128225736359092,-0.058525964795575,-0.07100344165975324,-0.2077795498629652,-0.04157050654986636,-0.1645237406600664,-0.19434724726303632,-0.2527312089234326,-0.11713556086444334,-0.10130311766809148,-0.19434724726303632,-0.06978777877418671,-0.06092709539279705,-0.03917188388263,-0.18923010389873546,-0.19434724726303632,-0.1607306006385709,-0.049301705824611894,-0.1153966953134815,-0.19434724726303632,-0.19434724726303632,-0.0714990484614309,-0.0957772713175431,-0.2077795498629652,-0.1607306006385709,-0.10329638512082358,-0.19973089622617576,-0.19434724726303632,-0.2077795498629652,-0.06919314280804431,-0.08811992677783508,-0.1216643384395324,-0.0559509178257335,-0.05823449376591702,-0.07609672532068729],\"z\":[0.25645574479488836,0.292144235185763,0.39939881995770987,0.23268046469473191,0.23268046469473191,0.17838115147309377,0.23268046469473191,0.21753210782349577,0.16928166378276738,0.17165153778647121,0.4768391051021994,0.4768391051021994,0.2165630197285081,0.6988009813360938,0.6988009813360938,0.025498583789836157,0.05072146484212185,0.6226908109098951,0.32029662941120096,0.25977767753038894,0.6988009813360938,0.4768391051021994,0.32029662941120096,0.32888196772553674,0.13152223524786102,0.2671613214698569,0.32029662941120096,0.20480535884664322,0.1568277108961773,0.25682826859830327,0.09765101521846553,0.09765101521846553,0.11798679093918843,0.11938976606481856,0.14221949217039018,0.01365911356098742,-0.013135551907533224,0.1825507672600235,0.22047582527375537,0.4121586540875821,0.16111196920876555,0.21396201205168675,0.10943930995010363,0.018644869102365506,0.1732827421868818,0.19126413103449907,-0.016424909167444265,0.28791991089276586,-0.018916904249133757,0.17304198147830088,0.1689747085957152,0.2178964473598344,0.05798272795695213,0.2001231698429075,-0.011918427250602139,-0.029619751389700775,0.19654430795006342,0.2815613299769428,0.0924516173810679,0.13296329014496874,0.07503929388094582,0.235525059272718,0.5357606553760043,0.5111222897600781,0.17771373849253252,0.2056606167719444,0.2909950970218155,-0.010564660083419181,-0.01093506172280516,0.11392092536134776,-0.009830483202703444,-0.007629279807810271,0.3569084795000518,-0.00904622559455813,-0.01353518184133614,0.24451300107388768,0.10572863181174165,0.2638515974749543,0.09414321444180551,-0.004122628930709858,0.07788197081922493,0.14431256323628264,-0.006818827146685503,0.21548930776494563,-0.010090808201743347,0.07771674439102638,0.2617555403578424,0.12831728246862562,0.1132930761530877,0.11876499763533349,0.14563045056047788,0.13278485233117782,0.24458294584334359,0.11197901425523557,0.29156664095794865,-0.002014774256938715,0.09266145418621179,0.08123379116975583,0.07033370371899222,0.3842013057581894,0.12001129437450421,0.09223842192867392,0.11519606360121527,0.20809264942059974,0.28791991089276586,-0.0015643545425000193,0.2488157499160158,0.2457320167407522,0.17556012387471148,0.29156664095794865,0.11672936521121473,0.24803574632552447,0.17695744526064344,0.1531627275817112,0.10010886664451543,0.12797208623965264,0.28603156151668147,0.1118268303908759,0.17141705451769562,0.30229316369219783,0.13750352703683633,0.3770903993953798,0.21968088109777384,0.25164853472892634,0.5746418082506174,0.4768391051021994,0.18371854191619183,0.3298635546777228,0.15814840038962133,0.14086370237274162,0.16357558760768953,0.1170359792507122,0.3228581239544202,0.114767500511142,0.5111222897600781,0.2173777301056225,0.3140163833942746,0.24978392498494453,0.6226908109098951,0.1952633716816452,0.6226908109098951,0.24598883879775366,0.11725792773895807,0.5965147745268494,0.11950416281333397,0.06650811572473483,0.09786780328968094,-0.01305270503826462,0.22160505933813132,0.1797866907121666,-0.007325465075238567,-0.4451345789858516,0.6226908109098951,0.4768391051021994,0.22665912940205502,0.13510215195209802,0.11160204608409806,-0.3571234742972233,0.4768391051021994,0.4768391051021994,0.4768391051021994,0.2439231009658132,0.2369565997402463,0.008481602948757366,0.32755925299274113,0.2320252664023215,0.1942339189046546,0.24195400988581905,0.20070143616612837,0.17684280165971356,-0.5003698795785378,0.11295960256140249,-0.5376173961981198,0.14357035922568673,0.20070143616612837,-0.5201671270150315,0.23316412700728456,0.10489121886677316,-0.4589653889579476,0.06038287348156394,0.17372860439858148,0.49394775517821876,0.1512425134958511,-0.4782626395441923,0.1285573515442418,0.20070143616612837,-0.5381883795471065,0.09014724431623004,-0.5893552927263309,0.2403498203031186,0.1650927721649442,0.22017593759295573,-0.45827426514289565,0.5111222897600781,0.32782797511338246,-0.4830915898500678,-0.45508054086902494,-0.4505245840729364,0.14912891282874313,0.32755925299274113,-0.5075314059898861,0.10577835814150396,0.0773117867602756,-0.011650825948476828,0.2339173127297786,0.13891828721577443,-0.5702870949725284,-0.41539842778822594,0.18651199844772984,0.14564358451743561,0.09156936374073732,-0.008877439814450211,0.6988009813360938,0.15869799755810654,0.09073101804144802,0.16745997061438847,0.5111222897600781,-0.4635130068148876,-0.39442645762935846,-0.4500928579176817,0.13596845898371984,-0.4490496788522984,-0.5070630152607601,0.19895010586755177,0.1411566997476127,-0.45848494190300343,-0.42045078301781863,0.1620209371618834,0.41861370132647396,0.18721214902613456,0.17455679489184142,-0.4898253612057274,-0.5359240233056798,0.030941098251612217,0.17354704977036114,0.15977974086069083,0.10056538635337342,0.08785358680349956,0.17671591581399188,0.10103234653518565,0.2107509277478246,0.09352185412435127,0.21980337379882095,0.0931628514647559,0.1771773334049948,0.24348561631168997,-0.5281296526549432,0.2012750733368641,0.2012750733368641,-0.1471048841706064,0.21376272743751146,0.1411566997476127,-0.46121676412868584,-0.5545037158537754,-0.5578137859240236,0.1280147868436792,-0.44230459354899515,0.1619128351058542,0.1619128351058542,0.14740742104284063,0.14655572965551178,0.10242261397491365,0.1458763952219723,0.13030040562144557,0.09817365454095107,0.19365417819620992,-0.5319207088213089,0.13151832923776174,-0.498608969586246,0.005249939449044036,0.5111222897600781,-0.5791387723914183,0.2324899765864714,-0.559014471011563,0.16241738156688573,0.04201755386636481,0.21004534207902428,0.12426204705231217,0.2643017409635223,0.08461260995801169,0.5111222897600781,-0.3803772379002776,-0.5528763513347807,-0.5515121905173069,-0.601655188480185,-0.5554749653545508,-0.5495210192063565,0.15088675812721342,0.08382346457931086,-0.552491379081225,-0.5605068428033766,-0.5791387723914183,-0.5527559075668191,-0.5519850334407017,-0.34621758681376563,-0.5464256297868827,-0.5143228737748702,-0.5517169098683361,-0.5699507388306142,-0.5506325950399481,-0.5380909107638175,0.0956629180662262,0.09102121508280761,-0.5529767875686449,-0.4575158116629559,-0.550120817753132,-0.5027718671611344,-0.5160605025974957,-0.5308204479122207,-0.5316675086825389,-0.4917978131137183,0.20873690520383928,-0.3444069984955705,0.35955002420871157,0.15050215190798735,0.37781222813025594,0.5965147745268494,-0.549512027203859,0.18809485378827343,0.08652183938785517,-0.5509068632029568,0.401081800312472,-0.5294081193148865,0.28595360218309046,0.3140163833942746,-0.5073237206895103,0.1336100845816729,-0.45572335216562143,-0.5386715323522078,0.17231168644539777,0.15702352709042408,0.1832104766970573,-0.5356591613389423,-0.4696960623656233,0.2592084319351056,-0.530319712220658,-0.5347459135580032,0.11896744106251743,0.3933335672771289,0.13768376884108668,-0.3287682120872869,0.2298025701736198,0.24598883879775366,0.22068001065395865,0.15239923032269664,0.14024078754240862,0.060019249329145964,0.3140163833942746,-0.571772058444414,0.13720394230365934,-0.4491631610824047,-0.45462335994674585,0.18596427869944235,0.14916853753163095,0.224751697351984,0.172750026210014,0.5111222897600781,0.5111222897600781,-0.02917916222924969,-0.02917916222924969,-0.02247080425344776,-0.04568160192682853,0.023329301176759333,-0.04212701988170321,-0.02656639622567457,0.11669609155064213,-0.043001830851789484,-0.023686617706742803,-0.04568160192682853,-0.16840611314853682,-0.06043562793356497,-0.02764467545275084,-0.04568160192682853,-0.04961426185064346,-0.025505380366441684,0.11808164149984225,-0.02917916222924969,-0.043001830851789484,0.1405217557531607,0.3332267521038279,0.08940865021018399,0.17832157658746853,-0.059155804251096844,0.27113801689210154,-0.04156029247805902,-0.043001830851789484,0.5111222897600781,-0.04331754462549354,0.05562224230788132,0.4134358303561176,0.22360080269648716,0.6988009813360938,-0.04156029247805902,0.1087128520758242,0.6988009813360938,0.12887443170974636,0.17040595388764185,0.06316224016316278,0.06316224016316278,0.06316224016316278,0.06316224016316278,0.5965147745268494,0.06316224016316278,0.05274941499075997,0.06316224016316278,0.06316224016316278,0.6988009813360938,0.05205542078242953,0.06316224016316278,0.08102599654150298,0.06316224016316278,0.06316224016316278,0.08102599654150298,0.08102599654150298,0.0749226671291462,0.054041935076216796,0.059352845411632056,0.2643017409635223,0.159781684457733,0.173630894784271,0.20290936553334768,0.6988009813360938,0.6226908109098951,0.24481974867338058,0.129030794524609,0.23935880960542613,0.0334684924941526,0.5965147745268494,0.23786825660668354,0.19735779475385132,0.24798601555066005,0.24464850757255308,0.6988009813360938,0.22781848896968523,0.36922221743147876,0.4768391051021994,0.5965147745268494,0.43916856930265114,0.26362734350161715,0.4768391051021994,0.14290823039558398,0.17552148955037233,0.20525389553944237,0.5891423293517827,0.4768391051021994,0.6226908109098951,0.21228701633533895,0.37375990551984434,0.4768391051021994,0.4768391051021994,0.3325952634766972,0.20102949563612446,0.6988009813360938,0.6226908109098951,0.5111222897600781,0.05653418934532203,0.4768391051021994,0.6988009813360938,0.14482765302866768,0.2156091398914653,0.10414601721022135,0.21383194316971446,0.20772987476418858,0.1736887239416678],\"type\":\"scatter3d\"},{\"hovertemplate\":\"color=Good<br>x=%{x}<br>y=%{y}<br>z=%{z}<extra></extra>\",\"legendgroup\":\"Good\",\"marker\":{\"color\":\"#00cc96\",\"symbol\":\"circle\"},\"mode\":\"markers\",\"name\":\"Good\",\"scene\":\"scene\",\"showlegend\":true,\"x\":[-0.06447983692812885,-0.049545405453258584,-0.05432094823476003,-0.05639115236550515,-0.05129544048679888,-0.062064419223453085,-0.060006912247383457,-0.06724925360130533,-0.05971055386709249,-0.05334097233715471,-0.054985429659525305,-0.06102739187865398,-0.06540117284172478,-0.05074512111065911,-0.055792841174594744,-0.059242355272749715,-0.0690950312855673,-0.05304609078618374,-0.06007003961671989,-0.05232647285151148,-0.05973547601594142,-0.05992526948174753,-0.05363015972924488,-0.05909572310033353,-0.053391482456135834,-0.060006912247383457,-0.05993115453418635,-0.055251979645807414,-0.06886023159024388,-0.06202024132133876,-0.04991639342597075,-0.06513242333336251,-0.05292327438041907,-0.04887059558267351,-0.04887059558267351,-0.0466992204510357,-0.05555644760423092,-0.08815788066424095,-0.08551448512741111,-0.04929722568404334,-0.04929722568404334,-0.0632491545577809,-0.05685019430144478,-0.04898085213429403,-0.06718216510531803,-0.04976825968339204,-0.08202038681539649,-0.05850622855028821,-0.05850622855028821,-0.0637713113988108,-0.05101891888364076,-0.05685019430144478,-0.07251664710460255,-0.07031197992064366,-0.06601379953807168,-0.07697970863799462,-0.06073003701570458,-0.06340652713844475,-0.04965880201593847,-0.08945991852701403,-0.05803617690287803,-0.0709736181020867,-0.04394101734986831,-0.05229642067464125,-0.04523886331148657,-0.05929475529340581,-0.07987260875263728,-0.056646121372810436,-0.06176939118794557,-0.0589485679069699,-0.05747321949472815,-0.0677305558607204,-0.056646121372810436,-0.05147171399208748,-0.0696168944091972,-0.04404244033630227,-0.04887059558267351,-0.04599000154811432,-0.056646121372810436,-0.04583520417864929,-0.1058325918579932,-0.056646121372810436,-0.05551331845339142,-0.05507183710617588,-0.054851345492298434,-0.04812489444913213,-0.06295145766406533,-0.052182535210765636,-0.04620726813666977,-0.07374396929014986,-0.053425341767892015,-0.06956125980755347,-0.04887059558267351,-0.056646121372810436,-0.06903096703152208,-0.06903096703152208,-0.056646121372810436,-0.051462428495194106,-0.057503066926114836,-0.05090518154733609,-0.04887059558267351,-0.05507183710617588,-0.06852586877270288,-0.1058325918579932,-0.05592755732544984,-0.056646121372810436,-0.05495917248529665,-0.04887059558267351,-0.07880756948275812,-0.054738227487122704,-0.06762552103034197,-0.06346718086418643,-0.0770669205590477,-0.056646121372810436,-0.051462428495194106,-0.04666006737704069,-0.05715483565033078,-0.05971233914725413,-0.056646121372810436,-0.05507183710617588,-0.06250892883008234,-0.04887059558267351,-0.06418634046791916,-0.05868676555857767,-0.06670684044934207,-0.08194385496199504,-0.08614765542880437,-0.056646121372810436,-0.04887059558267351,-0.04887059558267351,-0.0531741137086607,-0.05764888277912207,-0.05362666999133667,-0.05198396271009649,-0.05768710912422128,-0.05768710912422128,-0.056646121372810436,-0.05507183710617588,-0.050781177208196394,-0.05364727762036008,-0.05343142379298169,-0.05425459392960261,-0.05363174965146805,-0.05803617690287803,-0.06829375531600082,-0.060006912247383457,-0.060006912247383457,-0.060006912247383457,-0.060006912247383457,-0.060006912247383457,-0.056646121372810436,-0.062165599022833126,-0.05914128719324369,-0.046448639499009514,-0.04887059558267351,-0.04887059558267351,-0.05386237997078887,-0.05507183710617588,-0.06815760372089981,-0.04887059558267351,-0.05215559608558462,-0.04887059558267351,-0.04887059558267351,-0.04887059558267351,-0.08551448512741111,-0.06037825257398528,-0.05252360936245564,-0.04887059558267351,-0.04887059558267351,-0.04887059558267351,-0.04887059558267351,-0.04991447408365058,-0.053716086150131064,-0.08551448512741111,-0.08551448512741111,-0.048931100957646,-0.054493651236601666,-0.04887059558267351,-0.04887059558267351,-0.04887059558267351,-0.04887059558267351,-0.073674396106,-0.10186483047441632,-0.08551448512741111,-0.09165806566691294,-0.05842184701118901,-0.04945527017535909,-0.04992264450524452,-0.05376249454210704,-0.05720753866249189,-0.053089613881636064,-0.04937960222023905,-0.04994189001434892,-0.04596921262377979,-0.05599838557950385,-0.04898463966273396,-0.053446231892230245,-0.05406775030565001,-0.04952137647849393,-0.053033339216915186,-0.06467528302706516,-0.054434507944412104,-0.057732373047462295,-0.05548138152977262,-0.05320940141014951,-0.06451137313162449,-0.05176031977137834,-0.05271901397499383,-0.058075113655913314,-0.04886045589464142,-0.05517644755654321,-0.05517644755654321,-0.05517644755654321,-0.05517644755654321,-0.05517644755654321,-0.05517644755654321,-0.05517644755654321,-0.05517644755654321,-0.06173612234684222,-0.05146019520714489,-0.083308971817242,-0.1058325918579932,-0.05442313632711178,-0.0655732960712482,-0.06768500730933914,-0.07547083596150289,-0.07692360518745883,-0.05202625578118126,-0.05186879437224994,-0.05867903407325533,-0.05066266821738901,-0.08829107477054145,-0.07409515811352345,-0.053601952883695916,-0.06350106887869622,-0.1058325918579932,-0.1058325918579932,-0.0694715477937255,-0.1058325918579932,-0.06345109202549878,-0.08099883899102703,-0.06301849573596356,-0.06301849573596356,-0.060617795869958635,-0.06301849573596356,-0.1058325918579932,-0.05091913288389201,-0.06301849573596356,-0.06301849573596356,-0.0570696608159798,-0.05734387835450903,-0.1058325918579932,-0.052099326844340654,-0.055267340894089814,-0.06944987264081276,-0.06112517463268289,-0.06301849573596356,-0.060894001693696534,-0.06962443516538747,-0.06091657774053389,-0.1058325918579932,-0.1058325918579932,-0.05167471867128812,-0.057419427472349946,-0.055229801464409645,-0.060210842593646986,-0.1058325918579932,-0.1058325918579932,-0.05648711544916895,-0.057160165685365666,-0.0850074233491899,-0.05996880342116326,-0.05884552558655361,-0.06198639478370226,-0.06649685364836273,-0.055569199564573755,-0.06649685364836273,-0.1058325918579932,-0.10094347805101882,-0.07306605895003135,-0.07107651130930721,-0.07306605895003135,-0.05944077749212013,-0.073674396106,-0.04485600598628706,-0.08551448512741111,-0.1058325918579932,-0.04914072256598166,-0.04689106333089386,-0.05399301918772593,-0.073674396106,-0.08551448512741111,-0.0783821079768666,-0.09262470505068535,-0.06823814936095483,-0.05602878831812494,-0.05935081713818932,-0.1058325918579932,-0.05550031709428888,-0.06397620957193269,-0.05427716751998044,-0.1058325918579932,-0.0563234764668283,-0.05069273042126836,-0.05349864070480349,-0.1058325918579932,-0.058058489247169165,-0.1058325918579932,-0.1058325918579932,-0.05721916257417345,-0.055639303969737326,-0.07377003740045594,-0.05507079869408569,-0.08378888484100451,-0.1058325918579932,-0.06002228617784539,-0.06433270165319321,-0.07018172903554393,-0.06360902483531426,-0.1058325918579932,-0.06335326856432977,-0.1058325918579932,-0.06198639478370226,-0.05905894202116621,-0.06423378378570566,-0.1058325918579932,-0.1058325918579932,-0.1058325918579932,-0.1058325918579932,-0.04590503463677087,-0.0582905950795883,-0.058058489247169165,-0.05410903712313439,-0.0700546256415948,-0.05124055645991373,-0.059295579123939776,-0.06423378378570566,-0.06873851556876649,-0.1058325918579932,-0.06198639478370226,-0.058003221376921626,-0.1058325918579932,-0.1058325918579932,-0.04799544579164059,-0.07199354825771301,-0.04876553135379785,-0.06198639478370226,-0.04876553135379785,-0.06433064237067158,-0.04566571362741727,-0.05587690375453308,-0.06493679256335169,-0.09254891438153133,-0.05663564750437359,-0.1058325918579932,-0.05066451180776837,-0.1058325918579932,-0.1058325918579932,-0.06280338932383737,-0.08006940818504059,-0.06193294816843377,-0.048171222361383596,-0.1058325918579932,-0.06678232588657133,-0.1058325918579932,-0.1058325918579932,-0.1058325918579932,-0.05578966268272203,-0.06541963454028703,-0.052336710931606543,-0.06768530053128073,-0.06494828072429674,-0.06198639478370226,-0.1058325918579932,-0.08944541879863203,-0.05587690375453308,-0.1058325918579932,-0.05480721096774529,-0.0622377501265579,-0.1058325918579932,-0.1058325918579932,-0.06411543624452873,-0.07620011645456379,-0.0520691872461702,-0.05250853497896767,-0.04909811100451624,-0.1058325918579932,-0.058925442791244634,-0.06169241001571811,-0.1058325918579932,-0.1058325918579932,-0.07850218774556429,-0.06005167290866715,-0.04876553135379785,-0.06840324514218045,-0.1058325918579932,-0.05066451180776837,-0.06080453537376784,-0.054582091371453804,-0.05493948266906644,-0.06537230226171273,-0.04876553135379785,-0.08049075162183716,-0.0618602351399941,-0.1058325918579932,-0.08944541879863203,-0.06046105273578964,-0.05119100577043337],\"y\":[0.3159984281604617,0.15682457753317508,0.08669443657482,0.2719218978184235,0.20890500506348408,0.2633157114502194,0.12648278695916534,0.29169780558526437,0.19454958483215556,0.2394617938278888,0.25530786745331885,0.2737395782505639,0.21377435117584878,0.14636106411300023,0.29592264615902514,0.16584964620563644,0.14853990379299425,0.21860368609765007,0.22836583620279244,0.214962722838926,0.3131282819548415,0.26547972066046616,0.22457207033472518,0.3013802701010844,0.18246069091998943,0.12648278695916534,0.15365739033689785,0.2323747495374712,0.25822130826400697,0.31215696488284794,0.21752664134815666,0.2996569312185479,0.19447094932803646,0.13582435547836802,0.13582435547836802,0.16816191240769973,0.17538661173533873,0.4895611176098144,0.5677012216369245,0.23042266866270006,0.23042266866270006,0.1732337576197191,0.2134623420937728,0.16213631657189692,0.25422509291985673,0.13143304587346505,0.4391549560040978,0.09884537711234047,0.09884537711234047,0.17408704153128074,0.23149043576861955,0.2134623420937728,0.22207011344797326,0.2016464257933178,0.12395041477150424,0.40562153494131387,0.3056234927076028,0.21152495867021515,0.16267734027407157,0.40949853377206097,0.27370144232168253,0.26990611970658374,0.13429147007081094,0.23249427678728365,0.16153940555679416,0.29400672814580403,0.445004975572211,-0.03694950243916079,0.2226286228737503,0.15112318550062587,0.21494265055299788,0.3253251885013425,-0.03694950243916079,0.1934839824389774,0.44476311240181704,0.150646633417471,0.13582435547836802,-0.008492768867373303,-0.03694950243916079,0.14473771142210448,0.8698227223847017,-0.03694950243916079,0.29499131713925847,-0.03588002234816548,0.19823557092706626,0.13813217122110305,0.2712759118659898,0.24885685389516807,0.19589088182572398,0.31483377097767257,0.18602589480429657,0.29847048141645727,0.13582435547836802,-0.03694950243916079,0.4429572324202909,0.4429572324202909,-0.03694950243916079,-0.029895340219935892,0.23611739123724482,0.19025411641541812,0.13582435547836802,-0.03588002234816548,0.16863583374782865,0.8698227223847017,0.274422934658031,-0.03694950243916079,0.23360559486407675,0.13582435547836802,0.3213368075282633,0.1770664157303392,0.25371372330448133,0.10400167245580044,0.5533174212900361,-0.03694950243916079,-0.029895340219935892,0.1836700895167125,0.12676748625997372,0.2526557546044318,-0.03694950243916079,-0.03588002234816548,0.26926924286323256,0.13582435547836802,0.10731789098146158,0.28844358955947763,0.3615745113551904,0.3009555001777518,0.3168711789576097,-0.03694950243916079,0.13582435547836802,0.13582435547836802,0.18669741930838085,0.20354056804838783,0.27847202612236766,0.19713082262295906,0.2545081246524389,0.2545081246524389,-0.03694950243916079,-0.03588002234816548,0.1401949768541827,0.2140990179718189,0.18758860482201084,0.181162597525626,0.1893059689895842,0.27370144232168253,0.1315233928719773,0.12648278695916534,0.12648278695916534,0.12648278695916534,0.12648278695916534,0.12648278695916534,-0.03694950243916079,0.1685261251182848,0.17426175755068501,0.19505577394951518,0.13582435547836802,0.13582435547836802,0.185687139190997,-0.03588002234816548,0.09768624460286475,0.13582435547836802,0.13104399393576865,0.13582435547836802,0.13582435547836802,0.13582435547836802,0.5677012216369245,0.2573293007925289,0.16373391573526058,0.13582435547836802,0.13582435547836802,0.13582435547836802,0.13582435547836802,0.13405910768637527,0.1056585600157779,0.5677012216369245,0.5677012216369245,0.1390663007438665,0.18267383052814695,0.13582435547836802,0.13582435547836802,0.13582435547836802,0.13582435547836802,0.4402811506048137,0.5402257486941752,0.5677012216369245,0.4437885112776075,0.20526076150923625,0.16005107121516438,0.13548461348941937,0.18850936190453005,0.13100448340658638,0.18695047888772054,0.14046298238059826,0.14857529613732848,0.12393315912381139,0.21085564853480707,0.13977259657355182,0.18716753251481755,0.16597447417888006,0.13529627528529992,0.1859162198338275,0.08720116064079714,0.18186506505237968,0.09880862397762089,0.09511719921814249,0.1859370934830561,0.3022158015759515,0.15263254323081854,0.18451281593963892,0.2898456943118033,0.13945529941965276,-0.034103332678359306,-0.034103332678359306,-0.034103332678359306,-0.034103332678359306,-0.034103332678359306,-0.034103332678359306,-0.034103332678359306,-0.034103332678359306,0.25376381579468266,0.17169333365336967,0.01963887446603002,0.8698227223847017,0.2694458872845529,0.1024928706388213,0.2710510092876047,0.33657863765057816,0.22936141018952005,0.21872217406035324,0.1740116761037909,0.19395866711206994,0.1847496411889551,0.4436973279908649,0.034120983361571086,0.18693388554620405,0.25236514995780845,0.8698227223847017,0.8698227223847017,0.2385554976176108,0.8698227223847017,0.24632892942610649,0.22920749851863073,0.17284664902557376,0.17284664902557376,0.16021846308002247,0.17284664902557376,0.8698227223847017,0.22951131549091633,0.17284664902557376,0.17284664902557376,0.25265275238716023,0.11311235914055216,0.8698227223847017,0.23022157296720622,0.15885264647348635,0.3166764993858285,0.16068718398547946,0.17284664902557376,0.16013168928364813,0.43619024348664726,0.09207111352758682,0.8698227223847017,0.8698227223847017,0.21076379036966322,0.16103991828354686,0.11422255622367841,0.2758739996104492,0.8698227223847017,0.8698227223847017,0.2841367348463622,0.17844958107085485,0.33785313436385206,0.14562109532725795,0.20081344713472485,0.38715623855302683,0.3382601141633519,0.2971036363637622,0.3382601141633519,0.8698227223847017,0.7583898427515633,0.3592161610485311,0.2333133816935547,0.3592161610485311,0.22278292873321995,0.4402811506048137,0.14576744727857338,0.5677012216369245,0.8698227223847017,0.20726499637936446,0.11390924534201886,0.2889934061652371,0.4402811506048137,0.5677012216369245,0.2561429059211844,0.4446143498200542,0.43359691352456453,0.14614562480237792,0.1952953747995061,0.8698227223847017,0.2999018353485393,0.19422766797359212,0.18335575864725157,0.8698227223847017,0.2860335924221439,0.15886505574238702,0.2735915053027066,0.8698227223847017,0.29819676017503927,0.8698227223847017,0.8698227223847017,0.23990233741764297,0.22355612571024852,0.35850295748716976,0.19865026476233738,0.5287115088311831,0.8698227223847017,0.31364224049502093,0.3250465144694149,0.26071904074740565,0.21430401137403327,0.8698227223847017,0.2410461558054196,0.8698227223847017,0.38715623855302683,0.32388958827472364,0.3935014166597787,0.8698227223847017,0.8698227223847017,0.8698227223847017,0.8698227223847017,0.17440124994848205,0.22344934315922993,0.29819676017503927,0.26074878196125517,0.24648963289495207,0.17242669277588754,0.237683106503975,0.3935014166597787,0.35722706739503945,0.8698227223847017,0.38715623855302683,0.2647231454304218,0.8698227223847017,0.8698227223847017,0.19330040677065038,0.11554582994725084,0.13825775948296629,0.38715623855302683,0.13825775948296629,0.21615164503256692,0.1734938195733316,0.3254969661665284,0.3263270819810512,0.572543008680889,0.3034429459258609,0.8698227223847017,0.234007107694263,0.8698227223847017,0.8698227223847017,0.1750643438948871,0.45225061912436887,0.28677813653618783,0.17785728008823137,0.8698227223847017,0.33594367214885756,0.8698227223847017,0.8698227223847017,0.8698227223847017,0.16414204615996214,0.3397226656959193,0.1504663816923328,0.3172208527221574,0.29399919363110255,0.38715623855302683,0.8698227223847017,0.550209043450579,0.3254969661665284,0.8698227223847017,0.1547696760220793,0.27391855137984666,0.8698227223847017,0.8698227223847017,0.20268549424837726,0.31092701575391946,0.23800178799638688,0.18959453995456788,0.154614625831433,0.8698227223847017,0.14997924301455806,0.10183440760773335,0.8698227223847017,0.8698227223847017,0.4789903079435561,0.21209560613445924,0.13825775948296629,0.23719543834354598,0.8698227223847017,0.234007107694263,0.31444459718835455,0.24071831526984172,0.24927535087676356,0.23017023917542553,0.13825775948296629,0.5853466779241243,0.2986470158924368,0.8698227223847017,0.550209043450579,0.3644682846556455,0.22204469925691128],\"z\":[-0.012829334996012982,-0.014819054056525022,0.1590831460237223,-0.030357181996748375,-0.024864101505607385,0.025254762306840466,0.08510253425799182,-0.0034041524973272897,0.01203814362609569,-0.008250244087858079,-0.01682120473925197,-0.03421432524215807,-0.04542813166028853,0.08896736465378915,-0.02021950179425353,-0.05444478642478771,-0.07183574343333658,-0.02133077059219126,-0.0451602130106005,-0.01963196972776646,-0.02088484683924851,-0.02210719220136845,-0.022568551656727793,-0.013804194654792303,-0.036214122487303844,0.08510253425799182,-0.06615884459376802,0.020089781074257025,-0.03254076336538433,-0.007050150871222684,-0.01284075033349913,-0.018439834895916486,-0.02105151200504097,0.002192535999297145,0.002192535999297145,-0.01569613560635893,0.019045710548676466,-0.05515455446716335,-0.012336389972240257,-0.020410446624535165,-0.020410446624535165,-0.04368978224362684,-0.00022341831783899524,-0.015623448759516592,-0.005694017897530798,0.01468487752110102,-0.08171230671771822,-0.04465687070786527,-0.04465687070786527,-0.04500949839724799,-0.014801875520954876,-0.00022341831783899524,0.0046429094988566805,-0.09560327926722063,-0.11828798823272793,-0.005223700332741481,-0.00987921430176216,0.0537653591134212,-0.007185802179381867,-0.0681928238838901,-0.00886509869994668,-0.08988233914721566,-0.016096110960157697,-0.01976156109504596,-0.01645328854531492,-0.00912267416082136,-0.006913911491306996,0.015841626299708055,0.13053536787018152,0.10938123437318811,-0.009962628434548334,-0.03242213670337183,0.015841626299708055,-0.012069525879258334,-0.03355925360689706,-0.016498664739603385,0.002192535999297145,0.03139586584420347,0.015841626299708055,-0.015435422261572438,-0.05011220481879302,0.015841626299708055,-0.02469518643112356,0.014831524244791986,-0.04655964044240441,-0.008151959199550158,0.012224184084041032,-0.019508477482241725,-0.017170764621631397,0.027868013344884257,-0.05971228932024705,-0.04132567445235076,0.002192535999297145,0.015841626299708055,-0.027517642793554998,-0.027517642793554998,0.015841626299708055,0.018842054881333486,-0.08247968762099832,-0.013482877050543421,0.002192535999297145,0.014831524244791986,0.13158338031656602,-0.05011220481879302,-0.01044479186361801,0.015841626299708055,-0.013917316673222213,0.002192535999297145,-0.012426825780531834,-0.09025540669424707,-0.0023791464517165747,-0.027359895651192193,-0.0318677616183313,0.015841626299708055,0.018842054881333486,-0.017287572109434768,-0.0709600334819266,-0.01051024801974696,0.015841626299708055,0.014831524244791986,0.022656475247326,0.002192535999297145,0.08238494942516031,-0.014690507596447258,-0.014198385292264802,0.21564867901308266,0.21159152125098085,0.015841626299708055,0.002192535999297145,0.002192535999297145,-0.028524497022904913,-0.060242702385976,-0.019877328434667666,-0.02052302086848979,-0.026009541093959143,-0.026009541093959143,0.015841626299708055,0.014831524244791986,0.08983997628769855,-0.021120440656591997,-0.0644257794213973,-0.027880279412677657,-0.02616463286841185,-0.00886509869994668,0.06574705924140276,0.08510253425799182,0.08510253425799182,0.08510253425799182,0.08510253425799182,0.08510253425799182,0.015841626299708055,0.12049945304953966,-0.11897196737834535,-0.010327614480361019,0.002192535999297145,0.002192535999297145,0.11529134521553983,0.014831524244791986,0.10195704982518344,0.002192535999297145,0.07302761620810472,0.002192535999297145,0.002192535999297145,0.002192535999297145,-0.012336389972240257,-0.0033945013445772694,-0.010474907131390996,0.002192535999297145,0.002192535999297145,0.002192535999297145,0.002192535999297145,-0.0222584174641055,-0.07417567512747658,-0.012336389972240257,-0.012336389972240257,-0.024062992929433338,-0.014456558614059534,0.002192535999297145,0.002192535999297145,0.002192535999297145,0.002192535999297145,-0.05155281304112587,0.3321795390892944,-0.012336389972240257,0.2479361820207894,-0.006514018585331191,-0.022103481956247187,-0.023501752717490675,-0.02944919565620059,-0.010590570644748462,-0.027853435957030978,-0.02352604524895337,-0.02370844280958199,-0.018134420106407704,-0.02834784624179314,-0.023353821817504044,-0.02878560015677273,-0.004434862943411293,-0.024148975958258857,-0.02784081574449035,0.0917909942425853,-0.027427309474594794,-0.04569756256814869,0.059677637769788024,-0.024435991927365803,-0.032168484188438665,-0.028026063628580913,-0.02840052875368909,-0.0123095067438783,-0.023771403831559634,0.015443145046358277,0.015443145046358277,0.015443145046358277,0.015443145046358277,0.015443145046358277,0.015443145046358277,0.015443145046358277,0.015443145046358277,0.0013950289409972929,-0.06831712615375715,-0.4543189840695779,-0.05011220481879302,-0.02140553038241776,0.08331446906525328,-0.003283396567476952,0.205507326213856,0.14027077002725094,-0.02118360149134269,0.1100488381329507,0.01520012640970849,-0.008867190167348054,0.013349496233855597,-0.3544357894331718,-0.02571996099364843,-0.04428961823053824,-0.05011220481879302,-0.05011220481879302,-0.04232744780765708,-0.05011220481879302,0.012991103737628802,0.10320185554454726,0.03963103278573912,0.03963103278573912,0.03627139452918219,0.03963103278573912,-0.05011220481879302,-0.0070896106771917485,0.03963103278573912,0.03963103278573912,-0.010110401705615316,0.03184728273936668,-0.05011220481879302,-0.006363184147004204,0.09112640321052565,0.0034020318518671686,0.03664095696263874,0.03963103278573912,0.0360449922209059,-0.02563995861340616,-0.11991009941111758,-0.05011220481879302,-0.05011220481879302,-0.01699330382618519,-0.002219545191069276,-0.04345456023901341,-0.013783560299327157,-0.05011220481879302,-0.05011220481879302,-0.026967038816094455,-0.02877776873051666,-0.05621293106468893,-0.05164795819281151,0.004650354920414266,-0.026369389003633992,-0.015387972056811493,-0.021427053801012896,-0.015387972056811493,-0.05011220481879302,-0.028509755300895858,-0.007210839964906777,-0.09760481591403852,-0.007210839964906777,-0.042697770263407285,-0.05155281304112587,-0.007953949947110602,-0.012336389972240257,-0.05011220481879302,-0.014583018614600405,-0.016947758497697866,-0.02096367363128062,-0.05155281304112587,-0.012336389972240257,0.1882819921142022,0.16818846121607373,-0.023984031582457214,-0.04505192610924853,-0.07947104666123041,-0.05011220481879302,-0.022943201926480854,-0.041803606967972334,-0.042176864837762014,-0.05011220481879302,-0.02423835502974464,0.00946190913955285,-0.018112410544304212,-0.05011220481879302,-0.025493004838591272,-0.05011220481879302,-0.05011220481879302,-0.028464046496484444,-0.019937373885310965,-0.03964091669997193,0.008397157898494382,-0.020991787514751756,-0.05011220481879302,-0.025161861527015522,-0.020699896075433245,-0.008887606358534928,-0.025059458633826744,-0.05011220481879302,-0.07602957168619165,-0.05011220481879302,-0.026369389003633992,-0.030585653981355734,-0.026662289028218426,-0.05011220481879302,-0.05011220481879302,-0.05011220481879302,-0.05011220481879302,-0.012539059313939036,-0.018445685924591507,-0.025493004838591272,-0.026287504948346238,-0.08324548987906145,-0.02206124458919695,0.02494102884904868,-0.026662289028218426,0.00551141201065154,-0.05011220481879302,-0.026369389003633992,-0.0058707901014480686,-0.05011220481879302,-0.05011220481879302,-0.020734646154524264,0.0603316894938216,0.015091238594737037,-0.026369389003633992,0.015091238594737037,-0.04812156231435729,-0.01615944670512745,-0.022477244265480062,-0.008554716491647355,-0.025807311831068803,-0.022182766745569217,-0.05011220481879302,-0.013647979523435464,-0.05011220481879302,-0.05011220481879302,-0.03906610130564883,-0.004975131888187721,-0.0316466651218894,-0.010665628764786465,-0.05011220481879302,-0.016694705940294735,-0.05011220481879302,-0.05011220481879302,-0.05011220481879302,0.00422253950441012,-0.027534611332767186,-0.049986577668481365,0.0002639440090587752,-0.016088668473384932,-0.026369389003633992,-0.05011220481879302,-0.02925492651846829,-0.022477244265480062,-0.05011220481879302,0.09151012787906931,-0.013368696983903841,-0.05011220481879302,-0.05011220481879302,-0.006773579096278513,-0.09746540278278505,-0.0250210622926751,-0.07166814540426836,-0.011571196201699174,-0.05011220481879302,-0.06126885071200219,-0.20786999780707827,-0.05011220481879302,-0.05011220481879302,-0.028279827886750437,0.004503439665858789,0.015091238594737037,-0.08204130352380477,-0.05011220481879302,-0.013647979523435464,-0.06362281198100687,-0.015485848343210222,-0.020130424713205173,-0.03081336033645565,0.015091238594737037,-0.03491213327445441,-0.02374442849395157,-0.05011220481879302,-0.029254926518468286,-0.025136371845483778,-0.013727007329147042],\"type\":\"scatter3d\"},{\"hovertemplate\":\"color=Very Poor<br>x=%{x}<br>y=%{y}<br>z=%{z}<extra></extra>\",\"legendgroup\":\"Very Poor\",\"marker\":{\"color\":\"#ab63fa\",\"symbol\":\"circle\"},\"mode\":\"markers\",\"name\":\"Very Poor\",\"scene\":\"scene\",\"showlegend\":true,\"x\":[-0.043139210600091814,-0.07746558135132382,-0.04340229503684248,-0.03987063504733393,-0.040510842597482846,-0.06726684326187048,-0.04069871832644455,-0.032469822788650834,-0.1071310048238449,-0.09767894338488502,-0.07068825946986684,-0.06955369717892187,-0.0654959651779789,-0.05225773606941849,-0.07036774488902672,-0.06505590856555475,-0.06632346901406676,-0.06576018592199659,-0.060630473776329574,-0.0475571035943767,-0.10529526438153078,-0.06265688384805586,-0.09169466858600507,-0.08365189400592438,-0.04548122613255269,-0.03940177859072082,-0.045727990027655235,-0.06641295120544695,-0.04922700558947724,-0.05215473789079199,-0.05434101423276721,-0.050421728474545915,-0.05304830146864515,-0.03934967549425021,-0.0574878812283656,-0.040405199152233305,-0.05880102874320993,-0.04391749606532404,-0.042546930177223365,-0.04158487535443998,-0.04134342015214198,-0.040423174014745815,-0.03596891432080665,-0.05499509179257869,-0.04278840725071712,0.19930488652623432,-0.05964941849933305,-0.06787855087845923,-0.03601914485760586,-0.05504334749462497,-0.04489602703478791,-0.05075929688299471,-0.05986535363932842,-0.03659967400671361,-0.050675610124904125,-0.06450822831485278,-0.05281353215522787,-0.0409702157993431,-0.0566859910238504,-0.049618294424217876,-0.0482486171595007,-0.05569325168605094,-0.07169988262708571,-0.04098840166447156,-0.04583637590564556,-0.06573607728319035,-0.06619989529676157,-0.07558973228534827,-0.05091983181922943,-0.037535592060959744,-0.04342608255745422,-0.10529526438153078,-0.04217090432026059,-0.042582380468693976,-0.03683287751614026,-0.09182008533666837,-0.042325364846551555,-0.07161105497418505,-0.04315934601444735,0.39569318713978274,-0.06002978888939535,-0.05705134063469654,-0.05068744958625536,-0.05507120818823938,-0.038551726469253936,-0.06575892350866577,-0.03917048207799411,-0.055621268386746525,-0.0475571035943767,-0.04278109305522116,-0.04178133431411722,-0.04046489513341285,-0.04550189081166014,-0.041695175714197605,-0.037386567344542425,-0.03836584718651891,-0.049379971906579195,-0.04592982243169685,-0.05880102874320993,-0.03782129244085477,-0.044849930567271386,-0.039800730882341026,-0.05467324034499294,-0.05873314228590562,-0.04999866262269849,-0.0483567563688421,-0.04783337817885177,-0.036187899142533037,-0.05474297262247636,-0.03584358578852316,-0.04927386672135024,-0.05880102874320993,-0.0433750142009276,-0.04156066573775682,-0.0478931361297215,-0.03871133797357268,-0.06374023847069706,-0.035336126688733295,-0.059115332998507075,-0.04497103096058831,-0.05963191840007765,-0.04706575717722657,-0.0528526587722198,-0.054087959298835385,-0.07027489523444884,-0.04577975674664078,-0.051117179550552005,-0.04480044479559461,-0.04086273700352574,-0.07042036773348677,-0.10529526438153078,-0.0526262258027065,-0.04842811151665261,-0.06071783875748814,-0.04374230839842757,-0.03952313698191976,-0.040648559885592773,-0.04209691523505789,-0.05880102874320993,-0.05701797440690438,-0.04115458736916259,-0.039248674265411274,-0.03292320212662694,-0.04762581526847865,-0.06309068832569768,-0.04942894953996279,-0.0414556381790507,-0.041659066898186534,-0.040491398846347455,-0.04052682242031658,-0.04489557696677213,-0.04459947161772304,-0.0380300242355775,-0.10529526438153078,-0.05121350497975074,-0.03700367523496623,-0.04038597026776541,-0.047016602558686484,-0.03505248392678822,-0.04798133490716128,-0.04050712939906613,-0.05311021113120638,-0.04409789672713689,-0.049773895181054365,-0.05298378495432648,-0.05423853890185887,-0.05539831382212513,-0.038557340450171895,-0.050266041644982606,-0.060328828976416456,-0.04734267279626919,0.3204585531469502,-0.03625187449536056,-0.03948299823733583,-0.04644908738166841,-0.03658200314072315,-0.051733926783608296,-0.04331623289832492,-0.03734468083389026,-0.03940177859072082,-0.10529526438153078,-0.061975580354744084,-0.04988014582582423,-0.04988014582582423,-0.04730128792310107,-0.04940815099266609,-0.03945443810635609,-0.03945443810635609,-0.05923779712048937,-0.047954336923719046,-0.05134527827689604,-0.04578710790136876,-0.04354580671907428,-0.05836477194910451,-0.04428312882668348,-0.05682208335967468,-0.04340160971565095,-0.04714548155690816,-0.054038493955488424,-0.051840265867053856,-0.039244129084057285,-0.049341086376894654,-0.04590475018397623,-0.05358069581388613,-0.05122355404836051,-0.06045888158080426,-0.055586461221372514,-0.055531849207223226,-0.041445442774247325,-0.06182922555648058,-0.0501137957118774,-0.04856303618250029,-0.03566959668090879,-0.04795441871439442,-0.04554095632601082,-0.045608652958822375,-0.0597063764756245,-0.0475571035943767,-0.03917048207799411,-0.0475571035943767,-0.05109208733363534,-0.038031801957776,-0.055978675454531106,-0.0508984168951192,-0.05971711105756555,-0.033843649217073134,-0.04374368448707159,-0.04313790411556467,-0.050875300305002556,-0.04903690635744876,-0.04267099768734443,-0.05689812753253605,-0.03752974354841429,-0.059678270015075564,-0.05258358708431031,-0.04241937865204558,-0.0475571035943767,-0.05666519572189106,-0.041782501525506,-0.08008242127009078,-0.04597946279704095,-0.07724862438359346,-0.0475571035943767,-0.06808823889732517,-0.060104339027598506,-0.06593753658499793,-0.03625187449536056,-0.060102315287076026,-0.06175144311689186,-0.040384435245171345,-0.0349697077477272,-0.03540557371250955,-0.06226772374106087,-0.05365491636127319,-0.062463442839359604,-0.048700620597875305,-0.062463442839359604,-0.045230835203603534,-0.03917048207799411,-0.06679906859889953,-0.05617359709727114,-0.045837529357674885,-0.057996679466231,-0.061010200403996795,-0.046184022772101985,-0.04843694524787766,-0.06852945217834748,-0.04267099768734443,-0.053899799540056546,-0.04441314658672298,-0.04649391237375403,-0.038508246545803045,-0.03477016978884956,0.3105742747658685,-0.034840361552617855,-0.06658392815499523,-0.036702904318087384,-0.04563565560866377,-0.04563565560866377,-0.07445017677623793,-0.04457693855772767,-0.04167046388796579,-0.04563565560866377,-0.05557345397872145,-0.04844860198525991,-0.07302238990538007,-0.04603522463298496,-0.06282916235077672,-0.03716377317898073,-0.05193047992384652,-0.08567305938016101,-0.053552692686268756,-0.057678472261292586,-0.08719533771121696,-0.04450730624524097,-0.050664456048340856,-0.04562968048880719,-0.03589043628205817,-0.045807094125007206,-0.045807094125007206,-0.06592774617961408,-0.04799030419304044,-0.037123081669473854,-0.0473835232993669,-0.05615195893963346,-0.0442111234308101,-0.054665777020476876,-0.05216304937700905,-0.06219624380925608,-0.0566859910238504,-0.05779248844131634,-0.04624833938231508,-0.045807094125007206,-0.0615311761977242,-0.03530670567793868,-0.06051893388550051,-0.03708933325403878,-0.05159107073974979,-0.04801797713638555,-0.036548052506569326,-0.03947994920080193,-0.05172279850313686,-0.0380491539449104,-0.07005190136526794,-0.04214267249691431,-0.04312722531611454,-0.060682138057373006,-0.10529526438153078,-0.04875286452171971,-0.04882210983823691,-0.05010882872264496,-0.04536032185429233,-0.04157028902403165],\"y\":[-0.00019860759127227458,0.36794911348190246,-0.0095046168726637,0.018090602497245704,0.009248144607805651,0.3270628823659388,0.015419513679738445,0.0032271137673210515,0.5119404488815827,0.531814791569391,0.3293857653570902,0.22793465476419214,0.0594366541285948,0.05466035426442354,0.05201677912629996,0.16094794495934406,0.0375238083432628,0.0707671790093233,0.0026332745246323,0.0724040847147268,0.6907434126035101,0.23789530709161064,0.3607497817664043,0.4658147005044292,-0.005982181957948176,0.043831427358704884,0.010935526548535808,0.03235046390200862,0.04391510439771243,0.03131091766748028,0.02180909057433581,0.037339064029588226,0.030902377210584545,0.009756132537426356,0.04550784283183206,0.019225101551714963,0.12275236513768638,0.03332688873848745,0.05574918891047378,0.02522985067297047,0.05215133796854078,0.017749882810989423,0.007785383713634492,0.013279499249812967,0.01950859825262623,-0.009694684687031135,0.18050574222668997,0.11979037626131565,0.019092077845716506,0.04373395980613675,-0.003157961143573781,-0.02695245236471945,0.022834342027898025,0.012960845475891932,0.009061669011190704,-0.00610363737241942,0.01397720347811779,0.03555836492337716,0.08791273495348281,0.028342293033502306,0.054584574161608404,0.16979453800799876,0.3850148051332012,-0.003574786204527227,-0.013444499154435715,0.3452783166417654,0.2404726868803365,0.36286263667895313,0.06458197617442005,0.016018612941868293,0.03119340344599868,0.6907434126035101,0.022832019155309177,0.02523846300355768,-0.010427708593876183,0.4478065451594291,0.034436678892169836,0.24680254188824355,0.03128670311709466,0.03928428135752141,0.18824048247525788,0.1778238261794923,-0.013831141130045872,-0.04162519076476802,0.01752031883486515,0.08522968855572995,0.012611828141273899,0.22376907616431257,0.0724040847147268,0.03465935604025481,0.009550519908986296,-0.0009930359237140822,-0.007006008973163184,0.00029071934502339933,0.02491915111542682,0.019453610283870795,0.05750086116983151,-0.00027455913712547163,0.12275236513768638,0.011750613140874062,0.0022677073167329197,0.023886952634694564,0.10873252202209761,0.126663677248255,-0.00041478070062159547,-4.132293252091983e-05,0.14382503558130694,0.02488539769784131,-0.0411017564626253,0.021208297461180574,-0.0010520378579835534,0.12275236513768638,0.004544959334974594,0.008750545773963654,0.02910727539973918,0.005802696784891794,0.2050341552446636,0.013703634893280723,0.2064398439945972,-0.006057394985602708,0.1430475557221142,0.02316914865063985,-0.0347349249509846,-0.005502660409496661,-0.05806021696297285,0.029811443907232196,0.021671447425010208,0.03539397628581926,0.006316203597012444,0.2821733507265515,0.6907434126035101,0.0411623198277861,0.04085186466056105,0.014505083033301927,0.03057502432024381,0.017458480094552524,0.05317495392224945,0.048190003779378876,0.12275236513768638,-0.01324609487890041,0.03677360843062297,-0.0025139444401226533,0.016349320261197633,-0.008091601224827029,0.20893980201610057,0.01797246242490334,0.0188028061603202,0.04341352311613929,0.011389753689072036,0.020359959461138923,-0.0008343587886115547,0.048873426753548437,0.034153291904883476,0.6907434126035101,0.1484926751546458,0.006088290093704764,0.0367664812110984,-0.0029994596335549697,0.025247292551854737,0.016697109239848636,0.020576027890682053,0.06056999626793888,0.03565267100911406,0.03628957289996798,-0.04393247742154157,0.15120465015552575,0.11918109575313193,0.005726820927861595,0.05982016850414666,0.1376299361088449,0.04729239300510639,-0.0015624304998825883,0.007194927001845723,0.03295931891154302,0.02127730045039861,0.014264805921481818,0.01324313411488522,0.014722303582206712,0.01720608117967454,0.043831427358704884,0.6907434126035101,-0.03818304425591057,0.007060064927854813,0.007060064927854813,0.003742894491543977,-0.046922384608732194,0.005320407734328065,0.005320407734328065,0.08894568737303656,0.025311911245635144,0.014696571228312489,0.0190462799293577,-0.0078088098852105515,0.029875815848229577,-0.0031242802123555785,0.09219400160079254,-0.027144165247436357,0.034326775913693784,0.19106024528976925,0.044325802493703874,0.006774077222932033,-0.025653605359677995,0.013663422963995317,0.00998425508393787,0.17112428790004652,0.09571910538156254,0.13198031058418078,0.06393852593434818,0.030885621542808536,0.1492093009872378,-0.02022522522844926,0.024342953254285746,0.02203047991141988,0.007606177121727168,0.012605400536816242,-0.00028987891539516584,0.03221401620391567,0.0724040847147268,0.012611828141273899,0.0724040847147268,-0.018230482887733,-0.02595583509790589,0.24128179452130208,0.13806589434437577,0.12200458331909833,3.873256355441615e-05,0.03202149370470835,0.01878905586755552,0.18806583661218923,0.0004994822351566134,0.029271170160533835,-0.03667962699754481,0.0159758092888126,0.28365427129469284,-0.03249900674098078,0.012007281749833976,0.0724040847147268,-0.025567150619576963,-0.014794356394160763,0.28494407355146006,0.021722462053897627,0.31660629484195174,0.0724040847147268,0.2797689845400159,0.23786920257688365,0.201298076517024,0.007194927001845723,0.024723468078600357,0.06150891396096707,0.02453599503368308,0.013170631548626858,0.005926560343617626,0.21142348934414507,0.053659479943294244,0.1989463951080156,-0.0001381316899818286,0.1989463951080156,0.02991154561728842,0.012611828141273899,0.2669634887935146,0.18102028452317853,0.024724565174237045,0.1121115361938285,0.051748540511120905,-0.013682306628649863,0.03269304915849927,0.2080229925186487,0.029271170160533835,0.050805370954813966,-0.0022321636578371486,0.03729908932578837,0.0320115452781155,0.0151312542834818,0.035681725159971554,0.021796172684515763,0.09505689133326255,0.031606995384135986,-0.024056780656476196,-0.024056780656476196,0.16677765054843693,-0.011088452816292262,0.011591736952876507,-0.024056780656476196,0.03114094985314065,-0.0031143163577655683,0.2341212761754301,0.029272821988193917,0.032216912718615744,0.0016888965187894119,0.20846966575743586,0.3183235555077109,0.02414679325998,-0.01426464521424464,0.4238472813310461,0.052812380024258955,0.015564493038647143,0.03514696431530852,0.020747122505248038,0.055301602142349936,0.055301602142349936,0.1595203286097525,0.0010695573732274445,0.018618449825483597,0.008676191154373361,-0.021575569471530692,-0.019951693297996568,0.1440177390589606,0.16377578729775835,0.023393369238187172,0.08791273495348281,0.05864767952419266,0.014421143900844733,0.055301602142349936,0.12676510556466455,0.019609216184855654,0.14361814613359553,0.013594438536203863,0.0923904370087691,0.03921777990856674,0.013111351038535224,0.013311790465429667,0.009775425219032647,0.014870840463682342,0.29937144267018917,0.011923186357651815,0.037474614783471215,0.08894983792323455,0.6907434126035101,0.1700510857616211,0.000155093595507442,0.019948291401830267,0.0009949401480719602,0.01933408161984453],\"z\":[-0.0038278384853769314,-0.009911371495155811,-0.054630339589136566,-0.0027344133436816758,0.006943202695483625,-0.006962487684225298,0.012236824211812885,0.0030299060639680147,0.2866071123786384,-0.00576906692379919,-0.00399076920586657,-0.07068451627996349,0.09801297360724215,0.014211321373864017,-0.05545935809485871,0.0009373986510873375,-0.010014130111591238,0.002624773218637617,0.08174850664172195,0.02586743315822326,-0.010169943149334981,-0.008509159585909006,-0.0751184176913622,-0.01608213960180717,0.026066955589297506,0.012922072315990732,0.0014871443454272507,-0.021513910041808526,0.005316224264898479,0.020641412431672758,-0.00319643626769423,0.038950841471643786,0.010363720521559603,0.009479832783488542,-0.03814574776870881,0.003657107591572814,0.030338736235702272,0.039304685590748935,0.011377934062704554,0.010448014973481298,0.009582038515370572,0.009735256906340656,0.00881899821975031,0.07838419549926233,-0.016935432182897055,-0.03074039997812313,-0.00831813158986118,-0.0053746112308233965,0.006146433873171196,0.02076326158067737,-0.07130719434643382,0.18877836322101066,-0.014193951979623452,-7.191709020787284e-05,0.0022645217125400676,-0.15777212025868073,0.07369648691810436,0.014630754421941294,0.033107552283618794,0.027114682751176417,0.012958127685345173,-0.003581279444687108,-0.0003666070987114511,0.1100378678168662,-0.02867536328803774,-0.008648432857300856,0.040199908396745206,-0.004342808033202439,0.01289555488943109,-9.287974186572497e-05,0.0033600063811190044,-0.010169943149334981,0.007706217583842655,0.010331072402808698,-0.054766957187732036,-0.07391028147965908,0.016641417284771445,0.1346755518875934,0.00943855652708226,0.02509341316288618,-0.039439990656827864,-0.0029026877207792004,0.021242039765880547,0.11801574754625004,0.006566372879894251,0.10588242127339319,0.016365787396880768,-0.0012679948890000406,0.02586743315822326,0.013798706587686548,0.017013313563025313,-0.05034665240765261,-0.01277966921700586,0.10731154761501514,0.008953592005640009,-0.007557528016531781,0.015912418167931455,-0.04089702853219124,0.030338736235702272,0.00295153894029242,0.009035596614801538,0.007931738386478569,0.06439184975891385,-0.06918737722361931,0.1451967776197521,0.06422901867649786,-0.003852943712530912,0.007933347624441133,-0.07954558459692963,0.005062264245607199,0.09934941769945162,0.030338736235702272,-0.007981433118924621,0.0012813608318131757,0.011549277130831013,0.02147319650446162,0.01384721398659067,-0.0020357228294893785,-0.008279103883289826,-0.05439938086534915,0.01739809493845394,0.014268390976477434,0.02923190268066471,-0.0124384955110133,0.17741288304747183,0.015708153708686584,0.03169370165609527,0.011934161938460329,-0.011794654692024736,0.006188602685799169,-0.010169943149334981,0.01025149070886199,0.020725713808663646,0.21047645317109498,0.01694955344712349,0.003262124107690794,0.010955234641124651,0.01802344706806478,0.030338736235702272,0.04327759733644015,0.004028152949891415,0.09061920218017899,0.0037797102746274704,0.08872661450780363,-0.009085625303728088,0.043228133175141424,0.006438866152525915,0.01945042375967763,-0.042361191194650344,-0.0189702720225217,-0.022407876888659202,0.01855797308964766,0.012916268692948246,-0.010169943149334981,0.0022379572631519326,-0.0003389508018158422,0.013599178402558485,0.13394005575615528,0.008106237209216887,-0.01862301393386589,0.011651117180798842,0.019894631966282248,0.007283888014969506,0.0068030984925324285,0.30932523599733547,-0.05602197055260282,0.06788823815286642,-0.011816231945252354,0.02319934662686303,0.07339555426174295,0.022955335627162232,0.15787579622110948,0.008438935097135508,0.009635565254819232,0.027844728637302443,0.004300109774834619,0.15369696126106205,0.008803689419383826,0.00224168866866735,0.012922072315990732,-0.010169943149334981,0.2721503629457729,0.13735272903047843,0.13735272903047843,0.12026326639134854,-0.1467799170430042,0.005718373000534066,0.005718373000534066,0.024608014809877198,0.0542641725321345,-0.007372393823283692,0.04546226889754064,0.0035424412894527572,0.17326747769351292,0.011790956197864973,0.0236968292881532,-0.04057685064789877,-0.0015118744643430003,-0.01255838195325198,0.027361109619150722,0.006897506600383517,0.03180354030044342,-0.0035948522787356517,0.045990835285330024,-0.005467957556665204,-0.0683972184945995,-0.0016038763228062988,0.14478582069125312,-0.004114444685484788,0.023957756687377506,-0.04719558122980393,0.016881575844785533,0.007094798447390837,0.016941476370988008,0.026391357390907276,0.035961192732608636,0.1255826478195479,0.02586743315822326,0.016365787396880768,0.02586743315822326,-0.06354750594563247,0.1259094362009616,-0.007794536433040971,-0.0016824609208975323,-0.0231263855607255,0.008053623033143468,0.006019948098035783,0.007657885724732145,-0.00786034241385248,0.12173088242076167,0.00622764250362766,-0.005419188491921884,0.003289626357905773,-0.005584900606740573,0.03751775844700634,0.02964042871986938,0.02586743315822326,0.1062130579583906,-0.0010115735694626342,0.046615103808395716,0.025176164624275167,0.03889685289648842,0.02586743315822326,-0.01624173182991616,-0.008885020932432656,0.026221543954631367,0.008438935097135508,-0.010918250756910679,0.07529318579966879,0.004880250271235507,0.000810820955126206,0.013551633918757074,0.0027319306116734454,0.047734366764891095,0.013864846125302548,-0.06004250579220039,0.013864846125302548,0.008086816397001116,0.016365787396880768,-0.003582674826056861,-0.009104659713325006,-0.007433555089537527,0.02393682193837247,0.11660946353696013,0.14160268022507103,0.05095838807434921,0.049417128258054346,0.00622764250362766,0.0070336431516396574,0.12146814462237426,0.014909138335701023,0.008316259256989728,0.004126571967143872,0.008473019536445634,0.005859231011072154,0.05978706140353419,0.008115421515118541,0.14297366442198872,0.14297366442198872,0.081849376157868,0.10909678567396627,0.014298868568061446,0.14297366442198872,0.1347550002634403,0.09028406839324224,-0.04557631301666418,0.07965611917037511,0.15071490730426637,-0.019810890384216188,-0.01241841417532174,-0.061945218693163794,-0.035414810459889805,0.05715119128445418,0.0014742890869905133,0.015074365595675413,-0.009482784205409557,-0.0013100681914070707,0.007387907777193061,0.01593385460386016,0.01593385460386016,-0.05440526804952651,0.016241323269987906,0.0023491316201253287,0.016451528314588005,0.06346197359348468,0.10256352883793886,-0.013504770651966733,-0.006700192146720544,0.103685888663211,0.033107552283618794,0.07662309816716914,-0.037161593718227845,0.01593385460386016,0.05188182171356898,0.0035655447311444175,-0.06037381407462893,0.011447475925208273,0.018962287091173098,0.013620605290852843,0.007919320221773388,0.008572886037640892,-0.07050841542160928,0.005755469578910739,-0.016372901284325343,0.02381393390724983,0.010434195400845964,0.021451024769415624,-0.010169943149334981,-0.010406391836534183,0.017022553056817272,0.05755077442676821,0.10479346187368156,0.006913437476836855],\"type\":\"scatter3d\"},{\"hovertemplate\":\"color=Neutral<br>x=%{x}<br>y=%{y}<br>z=%{z}<extra></extra>\",\"legendgroup\":\"Neutral\",\"marker\":{\"color\":\"#FFA15A\",\"symbol\":\"circle\"},\"mode\":\"markers\",\"name\":\"Neutral\",\"scene\":\"scene\",\"showlegend\":true,\"x\":[0.9619809649845946,0.9619809649845946,0.9619809649845946,0.9619809649845946,0.9619809649845946,0.9619809649845946,0.9619809649845946,0.9619809649845946,0.536586016558297,0.42378301444937744,0.9619809649845946,0.9619809649845946,0.9619809649845946,0.4406383204322344,0.9619809649845946,0.9619809649845946,0.9619809649845946,0.9619809649845946,0.9619809649845946,0.9619809649845946,0.9619809649845946,0.9619809649845946,0.9619809649845946,0.9619809649845946,0.9619809649845946,0.9619809649845946,0.5172269491922078,0.9619809649845946,0.4669415984810792,0.9619809649845946,0.9619809649845946,0.9619809649845946,0.9619809649845946,0.9619809649845946,0.9619809649845946,0.9619809649845946,0.9619809649845946,0.9619809649845946,0.9619809649845946,0.9619809649845946,0.9619809649845946,0.9619809649845946,0.9619809649845946,0.9619809649845946,0.9619809649845946,0.9619809649845946,0.9619809649845946,0.9619809649845946,0.536586016558297,0.42447095226014586,0.9619809649845946,0.9619809649845946,0.9619809649845946,0.9619809649845946,0.9619809649845946,0.9619809649845946,0.9619809649845946,0.9619809649845946,0.9619809649845946,0.9619809649845946,0.9619809649845946,0.6263053140413446,0.9619809649845946,0.9619809649845946,0.9619809649845946,0.9619809649845946,0.9619809649845946,0.9619809649845946,0.9619809649845946,0.9619809649845946,0.9619809649845946,0.9619809649845946,0.9619809649845946,0.9619809649845946,0.9619809649845946,0.9619809649845946,0.9619809649845946,0.9619809649845946,0.9619809649845946,0.9619809649845946,0.9619809649845946,0.9619809649845946,0.9619809649845946,0.9619809649845946,0.9619809649845946,0.6599198298522116,0.7353979104507871,0.9619809649845946,0.9619809649845946,0.9619809649845946,0.45580360174232715,0.9619809649845946,0.9619809649845946,0.4597136942340843,0.9619809649845946,0.9619809649845946,0.9619809649845946,0.9619809649845946,0.9619809649845946,0.9619809649845946,0.9619809649845946,0.5464687546263054,0.9619809649845946,0.9619809649845946,0.9619809649845946,0.9619809649845946,0.9619809649845946,0.9619809649845946,0.6137718900930919,0.9619809649845946,0.9619809649845946,0.9619809649845946,0.9619809649845946,0.9619809649845946,0.9619809649845946,0.9619809649845946,0.9619809649845946,0.7353979104507871,0.9619809649845946,0.9619809649845946,0.9619809649845946,0.9619809649845946,0.9619809649845946,0.9619809649845946,0.9619809649845946,0.9619809649845946,0.9619809649845946,0.9619809649845946,0.9619809649845946,0.9619809649845946,0.9619809649845946,0.9619809649845946,0.9619809649845946,0.9619809649845946,0.9619809649845946,0.9619809649845946,0.9619809649845946,0.9619809649845946,0.9619809649845946,0.9619809649845946,0.9619809649845946,0.9619809649845946,0.9619809649845946,0.9619809649845946,0.9619809649845946,0.9619809649845946,0.9619809649845946,0.9619809649845946,0.9619809649845946,0.9619809649845946,0.9619809649845946,0.9619809649845946,0.9619809649845946,0.9619809649845946,0.9619809649845946,0.9619809649845946,0.9619809649845946,0.7126310257222378,0.4405182035556331,0.9619809649845946,0.9619809649845946,0.9619809649845946,0.5754140009148749,0.9619809649845946,0.9619809649845946,0.9619809649845946],\"y\":[0.025268308360538578,0.025268308360538578,0.025268308360538578,0.025268308360538578,0.025268308360538578,0.025268308360538578,0.025268308360538578,0.025268308360538578,-0.05421422138756956,-0.04148834536063765,0.025268308360538578,0.025268308360538578,0.025268308360538578,-0.026620008653815006,0.025268308360538578,0.025268308360538578,0.025268308360538578,0.025268308360538578,0.025268308360538578,0.025268308360538578,0.025268308360538578,0.025268308360538578,0.025268308360538578,0.025268308360538578,0.025268308360538578,0.025268308360538578,-0.00962630789288463,0.025268308360538578,0.0037046970079609477,0.025268308360538578,0.025268308360538578,0.025268308360538578,0.025268308360538578,0.025268308360538578,0.025268308360538578,0.025268308360538578,0.025268308360538578,0.025268308360538578,0.025268308360538578,0.025268308360538578,0.025268308360538578,0.025268308360538578,0.025268308360538578,0.025268308360538578,0.025268308360538578,0.02526830836053858,0.025268308360538578,0.025268308360538578,-0.05421422138756956,-0.007836595287245413,0.025268308360538578,0.025268308360538578,0.025268308360538578,0.025268308360538578,0.025268308360538578,0.025268308360538578,0.025268308360538578,0.025268308360538578,0.025268308360538578,0.025268308360538578,0.025268308360538578,-0.037251706654138704,0.025268308360538578,0.025268308360538578,0.025268308360538578,0.025268308360538578,0.025268308360538578,0.025268308360538578,0.025268308360538578,0.025268308360538578,0.025268308360538578,0.025268308360538578,0.025268308360538578,0.025268308360538578,0.025268308360538578,0.025268308360538578,0.025268308360538578,0.025268308360538578,0.025268308360538578,0.025268308360538578,0.025268308360538578,0.025268308360538578,0.025268308360538578,0.025268308360538578,0.025268308360538578,-0.003747010302898087,-0.038356430012331015,0.025268308360538578,0.025268308360538578,0.025268308360538578,0.004740083757395946,0.025268308360538578,0.025268308360538578,0.007480364079323061,0.025268308360538578,0.025268308360538578,0.025268308360538578,0.025268308360538578,0.025268308360538578,0.025268308360538578,0.025268308360538578,0.010084605848809273,0.025268308360538578,0.025268308360538578,0.025268308360538578,0.025268308360538578,0.025268308360538578,0.025268308360538578,-0.003120348883391824,0.025268308360538578,0.025268308360538578,0.025268308360538578,0.025268308360538578,0.025268308360538578,0.025268308360538578,0.025268308360538578,0.025268308360538578,-0.038356430012331015,0.025268308360538578,0.025268308360538578,0.025268308360538578,0.025268308360538578,0.025268308360538578,0.025268308360538578,0.025268308360538578,0.025268308360538578,0.025268308360538578,0.025268308360538578,0.025268308360538578,0.025268308360538578,0.025268308360538578,0.025268308360538578,0.025268308360538578,0.025268308360538578,0.025268308360538578,0.025268308360538578,0.025268308360538578,0.025268308360538578,0.025268308360538578,0.025268308360538578,0.025268308360538578,0.025268308360538578,0.025268308360538578,0.025268308360538578,0.025268308360538578,0.025268308360538578,0.025268308360538578,0.025268308360538578,0.025268308360538578,0.025268308360538578,0.025268308360538578,0.025268308360538578,0.025268308360538578,0.025268308360538578,0.025268308360538578,0.025268308360538578,0.025268308360538578,-0.005461010389397799,0.005377175650593004,0.025268308360538578,0.025268308360538578,0.025268308360538578,-0.09654328327358896,0.025268308360538578,0.025268308360538578,0.025268308360538578],\"z\":[-0.007236922269234947,-0.007236922269234947,-0.007236922269234947,-0.007236922269234947,-0.007236922269234947,-0.007236922269234947,-0.007236922269234947,-0.007236922269234947,0.22027719564987158,-0.18589116535364283,-0.007236922269234947,-0.007236922269234947,-0.007236922269234947,-0.050166424477932854,-0.007236922269234947,-0.007236922269234947,-0.007236922269234947,-0.007236922269234947,-0.007236922269234947,-0.007236922269234947,-0.007236922269234947,-0.007236922269234947,-0.007236922269234947,-0.007236922269234947,-0.007236922269234947,-0.007236922269234947,-0.009931198703715224,-0.007236922269234947,-0.0062409105226454275,-0.007236922269234947,-0.007236922269234947,-0.007236922269234947,-0.007236922269234947,-0.007236922269234947,-0.007236922269234947,-0.007236922269234947,-0.007236922269234947,-0.007236922269234947,-0.007236922269234947,-0.007236922269234947,-0.007236922269234947,-0.007236922269234947,-0.007236922269234947,-0.007236922269234947,-0.007236922269234947,-0.007236922269234951,-0.007236922269234947,-0.007236922269234947,0.22027719564987158,-0.005705424978207467,-0.007236922269234947,-0.007236922269234947,-0.007236922269234947,-0.007236922269234947,-0.007236922269234947,-0.007236922269234947,-0.007236922269234947,-0.007236922269234947,-0.007236922269234947,-0.007236922269234947,-0.007236922269234947,0.03568485687502927,-0.007236922269234947,-0.007236922269234947,-0.007236922269234947,-0.007236922269234947,-0.007236922269234947,-0.007236922269234947,-0.007236922269234947,-0.007236922269234947,-0.007236922269234947,-0.007236922269234947,-0.007236922269234947,-0.007236922269234947,-0.007236922269234947,-0.007236922269234947,-0.007236922269234947,-0.007236922269234947,-0.007236922269234947,-0.007236922269234947,-0.007236922269234947,-0.007236922269234947,-0.007236922269234947,-0.007236922269234947,-0.007236922269234947,-0.0052212583751625255,0.31086925673615246,-0.007236922269234947,-0.007236922269234947,-0.007236922269234947,-0.007208789256403208,-0.007236922269234947,-0.007236922269234947,-0.006791554768207433,-0.007236922269234947,-0.007236922269234947,-0.007236922269234947,-0.007236922269234947,-0.007236922269234947,-0.007236922269234947,-0.007236922269234947,-0.008697963199481865,-0.007236922269234947,-0.007236922269234947,-0.007236922269234947,-0.007236922269234947,-0.007236922269234947,-0.007236922269234947,-0.01905207473699114,-0.007236922269234947,-0.007236922269234947,-0.007236922269234947,-0.007236922269234947,-0.007236922269234947,-0.007236922269234947,-0.007236922269234947,-0.007236922269234947,0.31086925673615246,-0.007236922269234947,-0.007236922269234947,-0.007236922269234947,-0.007236922269234947,-0.007236922269234947,-0.007236922269234947,-0.007236922269234947,-0.007236922269234947,-0.007236922269234947,-0.007236922269234947,-0.007236922269234947,-0.007236922269234947,-0.007236922269234947,-0.007236922269234947,-0.007236922269234947,-0.007236922269234947,-0.007236922269234947,-0.007236922269234947,-0.007236922269234947,-0.007236922269234947,-0.007236922269234947,-0.007236922269234947,-0.007236922269234947,-0.007236922269234947,-0.007236922269234947,-0.007236922269234947,-0.007236922269234947,-0.007236922269234947,-0.007236922269234947,-0.007236922269234947,-0.007236922269234947,-0.007236922269234947,-0.007236922269234947,-0.007236922269234947,-0.007236922269234947,-0.007236922269234947,-0.007236922269234947,-0.007236922269234947,-0.007236922269234947,0.024371810120108188,-0.014042640063025002,-0.007236922269234947,-0.007236922269234947,-0.007236922269234947,-0.18833201815251097,-0.007236922269234947,-0.007236922269234947,-0.007236922269234947],\"type\":\"scatter3d\"}],                        {\"template\":{\"data\":{\"bar\":[{\"error_x\":{\"color\":\"#2a3f5f\"},\"error_y\":{\"color\":\"#2a3f5f\"},\"marker\":{\"line\":{\"color\":\"#E5ECF6\",\"width\":0.5},\"pattern\":{\"fillmode\":\"overlay\",\"size\":10,\"solidity\":0.2}},\"type\":\"bar\"}],\"barpolar\":[{\"marker\":{\"line\":{\"color\":\"#E5ECF6\",\"width\":0.5},\"pattern\":{\"fillmode\":\"overlay\",\"size\":10,\"solidity\":0.2}},\"type\":\"barpolar\"}],\"carpet\":[{\"aaxis\":{\"endlinecolor\":\"#2a3f5f\",\"gridcolor\":\"white\",\"linecolor\":\"white\",\"minorgridcolor\":\"white\",\"startlinecolor\":\"#2a3f5f\"},\"baxis\":{\"endlinecolor\":\"#2a3f5f\",\"gridcolor\":\"white\",\"linecolor\":\"white\",\"minorgridcolor\":\"white\",\"startlinecolor\":\"#2a3f5f\"},\"type\":\"carpet\"}],\"choropleth\":[{\"colorbar\":{\"outlinewidth\":0,\"ticks\":\"\"},\"type\":\"choropleth\"}],\"contour\":[{\"colorbar\":{\"outlinewidth\":0,\"ticks\":\"\"},\"colorscale\":[[0.0,\"#0d0887\"],[0.1111111111111111,\"#46039f\"],[0.2222222222222222,\"#7201a8\"],[0.3333333333333333,\"#9c179e\"],[0.4444444444444444,\"#bd3786\"],[0.5555555555555556,\"#d8576b\"],[0.6666666666666666,\"#ed7953\"],[0.7777777777777778,\"#fb9f3a\"],[0.8888888888888888,\"#fdca26\"],[1.0,\"#f0f921\"]],\"type\":\"contour\"}],\"contourcarpet\":[{\"colorbar\":{\"outlinewidth\":0,\"ticks\":\"\"},\"type\":\"contourcarpet\"}],\"heatmap\":[{\"colorbar\":{\"outlinewidth\":0,\"ticks\":\"\"},\"colorscale\":[[0.0,\"#0d0887\"],[0.1111111111111111,\"#46039f\"],[0.2222222222222222,\"#7201a8\"],[0.3333333333333333,\"#9c179e\"],[0.4444444444444444,\"#bd3786\"],[0.5555555555555556,\"#d8576b\"],[0.6666666666666666,\"#ed7953\"],[0.7777777777777778,\"#fb9f3a\"],[0.8888888888888888,\"#fdca26\"],[1.0,\"#f0f921\"]],\"type\":\"heatmap\"}],\"heatmapgl\":[{\"colorbar\":{\"outlinewidth\":0,\"ticks\":\"\"},\"colorscale\":[[0.0,\"#0d0887\"],[0.1111111111111111,\"#46039f\"],[0.2222222222222222,\"#7201a8\"],[0.3333333333333333,\"#9c179e\"],[0.4444444444444444,\"#bd3786\"],[0.5555555555555556,\"#d8576b\"],[0.6666666666666666,\"#ed7953\"],[0.7777777777777778,\"#fb9f3a\"],[0.8888888888888888,\"#fdca26\"],[1.0,\"#f0f921\"]],\"type\":\"heatmapgl\"}],\"histogram\":[{\"marker\":{\"pattern\":{\"fillmode\":\"overlay\",\"size\":10,\"solidity\":0.2}},\"type\":\"histogram\"}],\"histogram2d\":[{\"colorbar\":{\"outlinewidth\":0,\"ticks\":\"\"},\"colorscale\":[[0.0,\"#0d0887\"],[0.1111111111111111,\"#46039f\"],[0.2222222222222222,\"#7201a8\"],[0.3333333333333333,\"#9c179e\"],[0.4444444444444444,\"#bd3786\"],[0.5555555555555556,\"#d8576b\"],[0.6666666666666666,\"#ed7953\"],[0.7777777777777778,\"#fb9f3a\"],[0.8888888888888888,\"#fdca26\"],[1.0,\"#f0f921\"]],\"type\":\"histogram2d\"}],\"histogram2dcontour\":[{\"colorbar\":{\"outlinewidth\":0,\"ticks\":\"\"},\"colorscale\":[[0.0,\"#0d0887\"],[0.1111111111111111,\"#46039f\"],[0.2222222222222222,\"#7201a8\"],[0.3333333333333333,\"#9c179e\"],[0.4444444444444444,\"#bd3786\"],[0.5555555555555556,\"#d8576b\"],[0.6666666666666666,\"#ed7953\"],[0.7777777777777778,\"#fb9f3a\"],[0.8888888888888888,\"#fdca26\"],[1.0,\"#f0f921\"]],\"type\":\"histogram2dcontour\"}],\"mesh3d\":[{\"colorbar\":{\"outlinewidth\":0,\"ticks\":\"\"},\"type\":\"mesh3d\"}],\"parcoords\":[{\"line\":{\"colorbar\":{\"outlinewidth\":0,\"ticks\":\"\"}},\"type\":\"parcoords\"}],\"pie\":[{\"automargin\":true,\"type\":\"pie\"}],\"scatter\":[{\"marker\":{\"colorbar\":{\"outlinewidth\":0,\"ticks\":\"\"}},\"type\":\"scatter\"}],\"scatter3d\":[{\"line\":{\"colorbar\":{\"outlinewidth\":0,\"ticks\":\"\"}},\"marker\":{\"colorbar\":{\"outlinewidth\":0,\"ticks\":\"\"}},\"type\":\"scatter3d\"}],\"scattercarpet\":[{\"marker\":{\"colorbar\":{\"outlinewidth\":0,\"ticks\":\"\"}},\"type\":\"scattercarpet\"}],\"scattergeo\":[{\"marker\":{\"colorbar\":{\"outlinewidth\":0,\"ticks\":\"\"}},\"type\":\"scattergeo\"}],\"scattergl\":[{\"marker\":{\"colorbar\":{\"outlinewidth\":0,\"ticks\":\"\"}},\"type\":\"scattergl\"}],\"scattermapbox\":[{\"marker\":{\"colorbar\":{\"outlinewidth\":0,\"ticks\":\"\"}},\"type\":\"scattermapbox\"}],\"scatterpolar\":[{\"marker\":{\"colorbar\":{\"outlinewidth\":0,\"ticks\":\"\"}},\"type\":\"scatterpolar\"}],\"scatterpolargl\":[{\"marker\":{\"colorbar\":{\"outlinewidth\":0,\"ticks\":\"\"}},\"type\":\"scatterpolargl\"}],\"scatterternary\":[{\"marker\":{\"colorbar\":{\"outlinewidth\":0,\"ticks\":\"\"}},\"type\":\"scatterternary\"}],\"surface\":[{\"colorbar\":{\"outlinewidth\":0,\"ticks\":\"\"},\"colorscale\":[[0.0,\"#0d0887\"],[0.1111111111111111,\"#46039f\"],[0.2222222222222222,\"#7201a8\"],[0.3333333333333333,\"#9c179e\"],[0.4444444444444444,\"#bd3786\"],[0.5555555555555556,\"#d8576b\"],[0.6666666666666666,\"#ed7953\"],[0.7777777777777778,\"#fb9f3a\"],[0.8888888888888888,\"#fdca26\"],[1.0,\"#f0f921\"]],\"type\":\"surface\"}],\"table\":[{\"cells\":{\"fill\":{\"color\":\"#EBF0F8\"},\"line\":{\"color\":\"white\"}},\"header\":{\"fill\":{\"color\":\"#C8D4E3\"},\"line\":{\"color\":\"white\"}},\"type\":\"table\"}]},\"layout\":{\"annotationdefaults\":{\"arrowcolor\":\"#2a3f5f\",\"arrowhead\":0,\"arrowwidth\":1},\"autotypenumbers\":\"strict\",\"coloraxis\":{\"colorbar\":{\"outlinewidth\":0,\"ticks\":\"\"}},\"colorscale\":{\"diverging\":[[0,\"#8e0152\"],[0.1,\"#c51b7d\"],[0.2,\"#de77ae\"],[0.3,\"#f1b6da\"],[0.4,\"#fde0ef\"],[0.5,\"#f7f7f7\"],[0.6,\"#e6f5d0\"],[0.7,\"#b8e186\"],[0.8,\"#7fbc41\"],[0.9,\"#4d9221\"],[1,\"#276419\"]],\"sequential\":[[0.0,\"#0d0887\"],[0.1111111111111111,\"#46039f\"],[0.2222222222222222,\"#7201a8\"],[0.3333333333333333,\"#9c179e\"],[0.4444444444444444,\"#bd3786\"],[0.5555555555555556,\"#d8576b\"],[0.6666666666666666,\"#ed7953\"],[0.7777777777777778,\"#fb9f3a\"],[0.8888888888888888,\"#fdca26\"],[1.0,\"#f0f921\"]],\"sequentialminus\":[[0.0,\"#0d0887\"],[0.1111111111111111,\"#46039f\"],[0.2222222222222222,\"#7201a8\"],[0.3333333333333333,\"#9c179e\"],[0.4444444444444444,\"#bd3786\"],[0.5555555555555556,\"#d8576b\"],[0.6666666666666666,\"#ed7953\"],[0.7777777777777778,\"#fb9f3a\"],[0.8888888888888888,\"#fdca26\"],[1.0,\"#f0f921\"]]},\"colorway\":[\"#636efa\",\"#EF553B\",\"#00cc96\",\"#ab63fa\",\"#FFA15A\",\"#19d3f3\",\"#FF6692\",\"#B6E880\",\"#FF97FF\",\"#FECB52\"],\"font\":{\"color\":\"#2a3f5f\"},\"geo\":{\"bgcolor\":\"white\",\"lakecolor\":\"white\",\"landcolor\":\"#E5ECF6\",\"showlakes\":true,\"showland\":true,\"subunitcolor\":\"white\"},\"hoverlabel\":{\"align\":\"left\"},\"hovermode\":\"closest\",\"mapbox\":{\"style\":\"light\"},\"paper_bgcolor\":\"white\",\"plot_bgcolor\":\"#E5ECF6\",\"polar\":{\"angularaxis\":{\"gridcolor\":\"white\",\"linecolor\":\"white\",\"ticks\":\"\"},\"bgcolor\":\"#E5ECF6\",\"radialaxis\":{\"gridcolor\":\"white\",\"linecolor\":\"white\",\"ticks\":\"\"}},\"scene\":{\"xaxis\":{\"backgroundcolor\":\"#E5ECF6\",\"gridcolor\":\"white\",\"gridwidth\":2,\"linecolor\":\"white\",\"showbackground\":true,\"ticks\":\"\",\"zerolinecolor\":\"white\"},\"yaxis\":{\"backgroundcolor\":\"#E5ECF6\",\"gridcolor\":\"white\",\"gridwidth\":2,\"linecolor\":\"white\",\"showbackground\":true,\"ticks\":\"\",\"zerolinecolor\":\"white\"},\"zaxis\":{\"backgroundcolor\":\"#E5ECF6\",\"gridcolor\":\"white\",\"gridwidth\":2,\"linecolor\":\"white\",\"showbackground\":true,\"ticks\":\"\",\"zerolinecolor\":\"white\"}},\"shapedefaults\":{\"line\":{\"color\":\"#2a3f5f\"}},\"ternary\":{\"aaxis\":{\"gridcolor\":\"white\",\"linecolor\":\"white\",\"ticks\":\"\"},\"baxis\":{\"gridcolor\":\"white\",\"linecolor\":\"white\",\"ticks\":\"\"},\"bgcolor\":\"#E5ECF6\",\"caxis\":{\"gridcolor\":\"white\",\"linecolor\":\"white\",\"ticks\":\"\"}},\"title\":{\"x\":0.05},\"xaxis\":{\"automargin\":true,\"gridcolor\":\"white\",\"linecolor\":\"white\",\"ticks\":\"\",\"title\":{\"standoff\":15},\"zerolinecolor\":\"white\",\"zerolinewidth\":2},\"yaxis\":{\"automargin\":true,\"gridcolor\":\"white\",\"linecolor\":\"white\",\"ticks\":\"\",\"title\":{\"standoff\":15},\"zerolinecolor\":\"white\",\"zerolinewidth\":2}}},\"scene\":{\"domain\":{\"x\":[0.0,1.0],\"y\":[0.0,1.0]},\"xaxis\":{\"title\":{\"text\":\"x\"}},\"yaxis\":{\"title\":{\"text\":\"y\"}},\"zaxis\":{\"title\":{\"text\":\"z\"}}},\"legend\":{\"title\":{\"text\":\"color\"},\"tracegroupgap\":0},\"margin\":{\"t\":60}},                        {\"responsive\": true}                    ).then(function(){\n",
              "                            \n",
              "var gd = document.getElementById('d711e9aa-ee48-4f45-ac83-62396e1c1ba2');\n",
              "var x = new MutationObserver(function (mutations, observer) {{\n",
              "        var display = window.getComputedStyle(gd).display;\n",
              "        if (!display || display === 'none') {{\n",
              "            console.log([gd, 'removed!']);\n",
              "            Plotly.purge(gd);\n",
              "            observer.disconnect();\n",
              "        }}\n",
              "}});\n",
              "\n",
              "// Listen for the removal of the full notebook cells\n",
              "var notebookContainer = gd.closest('#notebook-container');\n",
              "if (notebookContainer) {{\n",
              "    x.observe(notebookContainer, {childList: true});\n",
              "}}\n",
              "\n",
              "// Listen for the clearing of the current output cell\n",
              "var outputEl = gd.closest('.output');\n",
              "if (outputEl) {{\n",
              "    x.observe(outputEl, {childList: true});\n",
              "}}\n",
              "\n",
              "                        })                };                            </script>        </div>\n",
              "</body>\n",
              "</html>"
            ]
          },
          "metadata": {}
        }
      ]
    },
    {
      "cell_type": "code",
      "source": [
        "km.head()"
      ],
      "metadata": {
        "colab": {
          "base_uri": "https://localhost:8080/",
          "height": 206
        },
        "id": "dK6tlqIyWm-E",
        "outputId": "99c4198c-cf32-4259-b93e-a409ae85ecae"
      },
      "execution_count": 42,
      "outputs": [
        {
          "output_type": "execute_result",
          "data": {
            "text/plain": [
              "                                             Comment Categories\n",
              "0                            djfjkdfjkjkffdk edited        Poor\n",
              "1  faith exhibited enthusiasm taking project hand...       Poor\n",
              "2  understood structure grail different component...       Poor\n",
              "3  intern oriented ict setup infrastructure sorot...       Poor\n",
              "4  student oriented organization structure develo...       Poor"
            ],
            "text/html": [
              "\n",
              "  <div id=\"df-989f8aeb-a445-42ad-9986-da65ed7771f6\">\n",
              "    <div class=\"colab-df-container\">\n",
              "      <div>\n",
              "<style scoped>\n",
              "    .dataframe tbody tr th:only-of-type {\n",
              "        vertical-align: middle;\n",
              "    }\n",
              "\n",
              "    .dataframe tbody tr th {\n",
              "        vertical-align: top;\n",
              "    }\n",
              "\n",
              "    .dataframe thead th {\n",
              "        text-align: right;\n",
              "    }\n",
              "</style>\n",
              "<table border=\"1\" class=\"dataframe\">\n",
              "  <thead>\n",
              "    <tr style=\"text-align: right;\">\n",
              "      <th></th>\n",
              "      <th>Comment</th>\n",
              "      <th>Categories</th>\n",
              "    </tr>\n",
              "  </thead>\n",
              "  <tbody>\n",
              "    <tr>\n",
              "      <th>0</th>\n",
              "      <td>djfjkdfjkjkffdk edited</td>\n",
              "      <td>Poor</td>\n",
              "    </tr>\n",
              "    <tr>\n",
              "      <th>1</th>\n",
              "      <td>faith exhibited enthusiasm taking project hand...</td>\n",
              "      <td>Poor</td>\n",
              "    </tr>\n",
              "    <tr>\n",
              "      <th>2</th>\n",
              "      <td>understood structure grail different component...</td>\n",
              "      <td>Poor</td>\n",
              "    </tr>\n",
              "    <tr>\n",
              "      <th>3</th>\n",
              "      <td>intern oriented ict setup infrastructure sorot...</td>\n",
              "      <td>Poor</td>\n",
              "    </tr>\n",
              "    <tr>\n",
              "      <th>4</th>\n",
              "      <td>student oriented organization structure develo...</td>\n",
              "      <td>Poor</td>\n",
              "    </tr>\n",
              "  </tbody>\n",
              "</table>\n",
              "</div>\n",
              "      <button class=\"colab-df-convert\" onclick=\"convertToInteractive('df-989f8aeb-a445-42ad-9986-da65ed7771f6')\"\n",
              "              title=\"Convert this dataframe to an interactive table.\"\n",
              "              style=\"display:none;\">\n",
              "        \n",
              "  <svg xmlns=\"http://www.w3.org/2000/svg\" height=\"24px\"viewBox=\"0 0 24 24\"\n",
              "       width=\"24px\">\n",
              "    <path d=\"M0 0h24v24H0V0z\" fill=\"none\"/>\n",
              "    <path d=\"M18.56 5.44l.94 2.06.94-2.06 2.06-.94-2.06-.94-.94-2.06-.94 2.06-2.06.94zm-11 1L8.5 8.5l.94-2.06 2.06-.94-2.06-.94L8.5 2.5l-.94 2.06-2.06.94zm10 10l.94 2.06.94-2.06 2.06-.94-2.06-.94-.94-2.06-.94 2.06-2.06.94z\"/><path d=\"M17.41 7.96l-1.37-1.37c-.4-.4-.92-.59-1.43-.59-.52 0-1.04.2-1.43.59L10.3 9.45l-7.72 7.72c-.78.78-.78 2.05 0 2.83L4 21.41c.39.39.9.59 1.41.59.51 0 1.02-.2 1.41-.59l7.78-7.78 2.81-2.81c.8-.78.8-2.07 0-2.86zM5.41 20L4 18.59l7.72-7.72 1.47 1.35L5.41 20z\"/>\n",
              "  </svg>\n",
              "      </button>\n",
              "      \n",
              "  <style>\n",
              "    .colab-df-container {\n",
              "      display:flex;\n",
              "      flex-wrap:wrap;\n",
              "      gap: 12px;\n",
              "    }\n",
              "\n",
              "    .colab-df-convert {\n",
              "      background-color: #E8F0FE;\n",
              "      border: none;\n",
              "      border-radius: 50%;\n",
              "      cursor: pointer;\n",
              "      display: none;\n",
              "      fill: #1967D2;\n",
              "      height: 32px;\n",
              "      padding: 0 0 0 0;\n",
              "      width: 32px;\n",
              "    }\n",
              "\n",
              "    .colab-df-convert:hover {\n",
              "      background-color: #E2EBFA;\n",
              "      box-shadow: 0px 1px 2px rgba(60, 64, 67, 0.3), 0px 1px 3px 1px rgba(60, 64, 67, 0.15);\n",
              "      fill: #174EA6;\n",
              "    }\n",
              "\n",
              "    [theme=dark] .colab-df-convert {\n",
              "      background-color: #3B4455;\n",
              "      fill: #D2E3FC;\n",
              "    }\n",
              "\n",
              "    [theme=dark] .colab-df-convert:hover {\n",
              "      background-color: #434B5C;\n",
              "      box-shadow: 0px 1px 3px 1px rgba(0, 0, 0, 0.15);\n",
              "      filter: drop-shadow(0px 1px 2px rgba(0, 0, 0, 0.3));\n",
              "      fill: #FFFFFF;\n",
              "    }\n",
              "  </style>\n",
              "\n",
              "      <script>\n",
              "        const buttonEl =\n",
              "          document.querySelector('#df-989f8aeb-a445-42ad-9986-da65ed7771f6 button.colab-df-convert');\n",
              "        buttonEl.style.display =\n",
              "          google.colab.kernel.accessAllowed ? 'block' : 'none';\n",
              "\n",
              "        async function convertToInteractive(key) {\n",
              "          const element = document.querySelector('#df-989f8aeb-a445-42ad-9986-da65ed7771f6');\n",
              "          const dataTable =\n",
              "            await google.colab.kernel.invokeFunction('convertToInteractive',\n",
              "                                                     [key], {});\n",
              "          if (!dataTable) return;\n",
              "\n",
              "          const docLinkHtml = 'Like what you see? Visit the ' +\n",
              "            '<a target=\"_blank\" href=https://colab.research.google.com/notebooks/data_table.ipynb>data table notebook</a>'\n",
              "            + ' to learn more about interactive tables.';\n",
              "          element.innerHTML = '';\n",
              "          dataTable['output_type'] = 'display_data';\n",
              "          await google.colab.output.renderOutput(dataTable, element);\n",
              "          const docLink = document.createElement('div');\n",
              "          docLink.innerHTML = docLinkHtml;\n",
              "          element.appendChild(docLink);\n",
              "        }\n",
              "      </script>\n",
              "    </div>\n",
              "  </div>\n",
              "  "
            ]
          },
          "metadata": {},
          "execution_count": 42
        }
      ]
    },
    {
      "cell_type": "code",
      "source": [
        "# km.to_csv(r'/content/drive/MyDrive/Colab Notebooks/MSC/Analytics/Corpus_Files/categorised_corpus.csv', index = False)"
      ],
      "metadata": {
        "id": "xXv6tGkpt_vl"
      },
      "execution_count": 43,
      "outputs": []
    }
  ]
}